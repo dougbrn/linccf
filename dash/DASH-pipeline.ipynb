{
 "cells": [
  {
   "cell_type": "markdown",
   "id": "8e5a49bb-9251-4b4a-b347-fbef01b945eb",
   "metadata": {},
   "source": [
    "# DRP Afterburner for Super HATS (DASH) pipeline"
   ]
  },
  {
   "cell_type": "code",
   "execution_count": 3,
   "id": "4ab38dd4-ec6d-4d45-9b0d-f41652e9779b",
   "metadata": {
    "execution": {
     "iopub.execute_input": "2025-01-24T16:29:01.568896Z",
     "iopub.status.busy": "2025-01-24T16:29:01.568548Z",
     "iopub.status.idle": "2025-01-24T16:29:02.805052Z",
     "shell.execute_reply": "2025-01-24T16:29:02.804606Z",
     "shell.execute_reply.started": "2025-01-24T16:29:01.568876Z"
    }
   },
   "outputs": [],
   "source": [
    "# Generic python packages\n",
    "import os\n",
    "import numpy as np\n",
    "import pandas as pd\n",
    "import astropy.units as u\n",
    "\n",
    "# LSST Science Pipelines (Stack) packages\n",
    "import lsst.daf.butler as dafButler\n",
    "\n",
    "# HATS import\n",
    "import hats_import.pipeline as runner\n",
    "from hats_import.catalog.arguments import ImportArguments"
   ]
  },
  {
   "cell_type": "markdown",
   "id": "f59eeb7e-9f1f-45ef-99c7-6b8b6c1a398d",
   "metadata": {},
   "source": [
    "### Configure Butler"
   ]
  },
  {
   "cell_type": "code",
   "execution_count": 4,
   "id": "4e1a52d8-29d2-46f9-874d-239050c25cf4",
   "metadata": {
    "execution": {
     "iopub.execute_input": "2025-01-24T16:29:02.806187Z",
     "iopub.status.busy": "2025-01-24T16:29:02.805766Z",
     "iopub.status.idle": "2025-01-24T16:29:03.339458Z",
     "shell.execute_reply": "2025-01-24T16:29:03.338990Z",
     "shell.execute_reply.started": "2025-01-24T16:29:02.806172Z"
    }
   },
   "outputs": [],
   "source": [
    "config = '/repo/main'\n",
    "collections = 'LSSTComCam/runs/DRP/DP1/w_2025_03/DM-48478'\n",
    "butler = dafButler.Butler(config, collections=collections)"
   ]
  },
  {
   "cell_type": "code",
   "execution_count": 5,
   "id": "d860e7b9-0230-41da-9d5f-aebcb925bb61",
   "metadata": {
    "execution": {
     "iopub.execute_input": "2025-01-24T16:29:03.562160Z",
     "iopub.status.busy": "2025-01-24T16:29:03.561548Z",
     "iopub.status.idle": "2025-01-24T16:29:03.564705Z",
     "shell.execute_reply": "2025-01-24T16:29:03.564327Z",
     "shell.execute_reply.started": "2025-01-24T16:29:03.562137Z"
    }
   },
   "outputs": [],
   "source": [
    "out_dir = \"/sdf/data/rubin/shared/lsdb_commissioning/DASH\"\n",
    "raw_dir = os.path.join(out_dir, \"raw\")\n",
    "hats_dir = os.path.join(out_dir, \"hats\")"
   ]
  },
  {
   "cell_type": "markdown",
   "id": "aeb1ed0e-7ce5-4f62-8683-204cddce9281",
   "metadata": {},
   "source": [
    "### Helper methods"
   ]
  },
  {
   "cell_type": "code",
   "execution_count": 6,
   "id": "d70d1a98-e5ed-4c05-a279-1c7ac4e99775",
   "metadata": {
    "execution": {
     "iopub.execute_input": "2025-01-24T16:29:05.050170Z",
     "iopub.status.busy": "2025-01-24T16:29:05.049578Z",
     "iopub.status.idle": "2025-01-24T16:29:05.055638Z",
     "shell.execute_reply": "2025-01-24T16:29:05.055264Z",
     "shell.execute_reply.started": "2025-01-24T16:29:05.050153Z"
    }
   },
   "outputs": [],
   "source": [
    "def download_from_butler(dataset_type, out_dir):\n",
    "    \"\"\"Downloads dataset from butler\"\"\"\n",
    "    count = 0\n",
    "    out_path = os.path.join(out_dir, dataset_type)\n",
    "    os.makedirs(out_path)\n",
    "    # TODO: Remove slicing\n",
    "    refs = butler.query_datasets(dataset_type)\n",
    "    for i, ref in enumerate(refs):\n",
    "        table = butler.get(dataset_type, dataId=ref.dataId)\n",
    "        parquet_path = os.path.join(out_path, f\"{i}.parquet\")\n",
    "        table.to_parquet(parquet_path)\n",
    "        count += len(table)\n",
    "    print(f\"Saved {count} rows to {out_path}\")\n",
    "    \n",
    "def download_visits(out_dir):\n",
    "    \"\"\"Downloads the visitTable for LSSTComCam\"\"\"\n",
    "    visits = butler.get(\"visitTable\", dataId={'instrument': 'LSSTComCam'})\n",
    "    parquet_path = os.path.join(out_dir, \"visits.parquet\")\n",
    "    visits.to_parquet(parquet_path)\n",
    "    print(f\"Saved {len(visits)} visits rows to {parquet_path}\")\n",
    "    return visits\n",
    "\n",
    "def append_mag_and_magerr(df, flux_col_prefixes):\n",
    "    \"\"\"Calculate magnitudes and their errors for flux columns.\"\"\"\n",
    "    mag_cols = {}\n",
    "    \n",
    "    for prefix in flux_col_prefixes:\n",
    "        # Magnitude\n",
    "        flux = df[f\"{prefix}Flux\"]\n",
    "        mag = u.nJy.to(u.ABmag, flux)\n",
    "        mag_cols[f\"{prefix}Mag\"] = mag\n",
    "\n",
    "        # Magnitude error, if flux error exists\n",
    "        fluxErr_col = f\"{prefix}FluxErr\"\n",
    "        if fluxErr_col in df.columns:\n",
    "            fluxErr = df[fluxErr_col]\n",
    "            upper_mag = u.nJy.to(u.ABmag, flux+fluxErr)\n",
    "            lower_mag = u.nJy.to(u.ABmag, flux-fluxErr)\n",
    "            magErr = -(upper_mag-lower_mag)/2\n",
    "            mag_cols[f\"{prefix}MagErr\"] = magErr\n",
    "        \n",
    "    mag_df = pd.DataFrame(mag_cols, dtype=np.float64, index=df.index)\n",
    "    return pd.concat([df, mag_df], axis=1)"
   ]
  },
  {
   "cell_type": "markdown",
   "id": "e2519023-4a48-481b-aa6a-3130524376c0",
   "metadata": {},
   "source": [
    "### DIA Object"
   ]
  },
  {
   "cell_type": "code",
   "execution_count": null,
   "id": "8082b642-2666-4165-8c65-2bc382fdac2a",
   "metadata": {},
   "outputs": [],
   "source": [
    "download_from_butler('diaObjectTable_tract', raw_dir)"
   ]
  },
  {
   "cell_type": "markdown",
   "id": "4628dbc1-856d-40ed-873d-799dacb66975",
   "metadata": {
    "execution": {
     "iopub.execute_input": "2025-01-23T17:39:06.714646Z",
     "iopub.status.busy": "2025-01-23T17:39:06.714324Z",
     "iopub.status.idle": "2025-01-23T17:39:06.717039Z",
     "shell.execute_reply": "2025-01-23T17:39:06.716684Z",
     "shell.execute_reply.started": "2025-01-23T17:39:06.714630Z"
    }
   },
   "source": [
    "### DIA Source"
   ]
  },
  {
   "cell_type": "code",
   "execution_count": null,
   "id": "ecd23b9b-5064-47fc-8299-5581d5590fd7",
   "metadata": {},
   "outputs": [],
   "source": [
    "download_from_butler('diaSourceTable_tract', raw_dir)"
   ]
  },
  {
   "cell_type": "markdown",
   "id": "2a9e0183-d3af-44c7-b82a-fe348a335208",
   "metadata": {},
   "source": [
    "### DIA Forced Source"
   ]
  },
  {
   "cell_type": "code",
   "execution_count": null,
   "id": "5ce1f3d2-9c71-4ce7-83e1-4743656d6e0e",
   "metadata": {},
   "outputs": [],
   "source": [
    "download_from_butler('forcedSourceOnDiaObjectTable', raw_dir)"
   ]
  },
  {
   "cell_type": "markdown",
   "id": "8f749e69-b761-4853-9ca6-22c7cb6f4a65",
   "metadata": {},
   "source": [
    "### Object"
   ]
  },
  {
   "cell_type": "code",
   "execution_count": null,
   "id": "108b399c-0397-49e0-87ec-e028aa8f2475",
   "metadata": {},
   "outputs": [],
   "source": [
    "download_from_butler('objectTable', raw_dir)"
   ]
  },
  {
   "cell_type": "markdown",
   "id": "5cea1e1d-7a2b-4352-bfec-cff403c2e02d",
   "metadata": {},
   "source": [
    "### Source"
   ]
  },
  {
   "cell_type": "code",
   "execution_count": null,
   "id": "d9c06037-415f-4a09-991a-fb80d84b387d",
   "metadata": {},
   "outputs": [],
   "source": [
    "download_from_butler('sourceTable', raw_dir)"
   ]
  },
  {
   "cell_type": "markdown",
   "id": "6a973dc4-57db-4ac7-bd79-b4a1af88948c",
   "metadata": {
    "execution": {
     "iopub.execute_input": "2025-01-22T20:51:11.941156Z",
     "iopub.status.busy": "2025-01-22T20:51:11.940908Z",
     "iopub.status.idle": "2025-01-22T20:51:11.943647Z",
     "shell.execute_reply": "2025-01-22T20:51:11.943208Z",
     "shell.execute_reply.started": "2025-01-22T20:51:11.941142Z"
    }
   },
   "source": [
    "### Forced Source"
   ]
  },
  {
   "cell_type": "code",
   "execution_count": null,
   "id": "bf035c70-7d2b-4327-9977-d8f8a3274c86",
   "metadata": {
    "execution": {
     "iopub.execute_input": "2025-01-24T16:20:34.657353Z",
     "iopub.status.busy": "2025-01-24T16:20:34.656886Z",
     "iopub.status.idle": "2025-01-24T16:20:34.775633Z",
     "shell.execute_reply": "2025-01-24T16:20:34.775242Z",
     "shell.execute_reply.started": "2025-01-24T16:20:34.657339Z"
    }
   },
   "outputs": [],
   "source": [
    "download_from_butler('forcedSourceTable', raw_dir)"
   ]
  },
  {
   "cell_type": "markdown",
   "id": "bac1cc55-0705-4109-a2b0-cc51cb6d848f",
   "metadata": {},
   "source": [
    "### Import data to HATS"
   ]
  },
  {
   "cell_type": "code",
   "execution_count": null,
   "id": "fd4edfd1-e485-4f4d-b65b-fa46bb472909",
   "metadata": {},
   "outputs": [],
   "source": [
    "%pip install -q git+https://github.com/astronomy-commons/hats-import.git@main"
   ]
  },
  {
   "cell_type": "code",
   "execution_count": 7,
   "id": "6e5670c1-cc29-4cb7-9bdf-205f308a5cea",
   "metadata": {
    "execution": {
     "iopub.execute_input": "2025-01-24T16:29:07.517278Z",
     "iopub.status.busy": "2025-01-24T16:29:07.516637Z",
     "iopub.status.idle": "2025-01-24T16:29:07.519357Z",
     "shell.execute_reply": "2025-01-24T16:29:07.519001Z",
     "shell.execute_reply.started": "2025-01-24T16:29:07.517262Z"
    }
   },
   "outputs": [],
   "source": [
    "from rubin_reader import RubinParquetReader"
   ]
  },
  {
   "cell_type": "code",
   "execution_count": null,
   "id": "364c9060-d650-4f51-b43a-264aee21c3a8",
   "metadata": {
    "execution": {
     "iopub.execute_input": "2025-01-24T15:09:22.470584Z",
     "iopub.status.busy": "2025-01-24T15:09:22.469970Z",
     "iopub.status.idle": "2025-01-24T15:09:34.496487Z",
     "shell.execute_reply": "2025-01-24T15:09:34.496007Z",
     "shell.execute_reply.started": "2025-01-24T15:09:22.470568Z"
    }
   },
   "outputs": [],
   "source": [
    "dataset_type = \"diaObjectTable_tract\"\n",
    "\n",
    "args = ImportArguments(\n",
    "    output_path=hats_dir,\n",
    "    output_artifact_name=\"diaObject\",\n",
    "    input_path=os.path.join(raw_dir, dataset_type),\n",
    "    file_reader=RubinParquetReader(dataset_type=dataset_type),\n",
    "    ra_column=\"ra\",\n",
    "    dec_column=\"dec\",\n",
    "    catalog_type=\"object\",\n",
    "    resume=False,\n",
    "    pixel_threshold=300_000,\n",
    "    dask_n_workers=1,\n",
    "    dask_threads_per_worker=1,\n",
    ")\n",
    "runner.pipeline(args)"
   ]
  },
  {
   "cell_type": "code",
   "execution_count": null,
   "id": "1d909565-2e74-4f7c-9ca4-6dd7f7abd6ca",
   "metadata": {
    "execution": {
     "iopub.execute_input": "2025-01-24T15:18:31.116790Z",
     "iopub.status.busy": "2025-01-24T15:18:31.116506Z",
     "iopub.status.idle": "2025-01-24T15:18:57.894922Z",
     "shell.execute_reply": "2025-01-24T15:18:57.894460Z",
     "shell.execute_reply.started": "2025-01-24T15:18:31.116775Z"
    }
   },
   "outputs": [],
   "source": [
    "dataset_type = \"diaSourceTable_tract\"\n",
    "\n",
    "args = ImportArguments(\n",
    "    output_path=hats_dir,\n",
    "    output_artifact_name=\"diaSource\",\n",
    "    input_path=os.path.join(raw_dir, dataset_type),\n",
    "    file_reader=RubinParquetReader(dataset_type=dataset_type),\n",
    "    ra_column=\"ra\",\n",
    "    dec_column=\"dec\",\n",
    "    catalog_type=\"source\",\n",
    "    resume=False,\n",
    "    pixel_threshold=300_000,\n",
    "    dask_n_workers=4,\n",
    "    dask_threads_per_worker=1,\n",
    ")\n",
    "runner.pipeline(args)"
   ]
  },
  {
   "cell_type": "code",
   "execution_count": null,
   "id": "1ab1a876-2466-4c8c-9b06-f24ea4e4eae5",
   "metadata": {
    "execution": {
     "iopub.execute_input": "2025-01-24T15:33:14.744293Z",
     "iopub.status.busy": "2025-01-24T15:33:14.743967Z",
     "iopub.status.idle": "2025-01-24T15:33:28.969962Z",
     "shell.execute_reply": "2025-01-24T15:33:28.969505Z",
     "shell.execute_reply.started": "2025-01-24T15:33:14.744279Z"
    }
   },
   "outputs": [],
   "source": [
    "dataset_type = \"forcedSourceOnDiaObjectTable\"\n",
    "\n",
    "args = ImportArguments(\n",
    "    output_path=hats_dir,\n",
    "    output_artifact_name=\"diaForcedSource\",\n",
    "    input_path=os.path.join(raw_dir, dataset_type),\n",
    "    file_reader=RubinParquetReader(dataset_type=dataset_type),\n",
    "    ra_column=\"coord_ra\",\n",
    "    dec_column=\"coord_dec\",\n",
    "    catalog_type=\"source\",\n",
    "    resume=False,\n",
    "    pixel_threshold=300_000,\n",
    "    dask_n_workers=4,\n",
    "    dask_threads_per_worker=1,\n",
    ")\n",
    "runner.pipeline(args)"
   ]
  },
  {
   "cell_type": "code",
   "execution_count": null,
   "id": "d4292007-30bd-4822-991c-300e0a3ff017",
   "metadata": {
    "execution": {
     "iopub.execute_input": "2025-01-24T15:46:21.771714Z",
     "iopub.status.busy": "2025-01-24T15:46:21.771115Z",
     "iopub.status.idle": "2025-01-24T15:46:46.095799Z",
     "shell.execute_reply": "2025-01-24T15:46:46.095237Z",
     "shell.execute_reply.started": "2025-01-24T15:46:21.771699Z"
    }
   },
   "outputs": [],
   "source": [
    "cols_per_band = []\n",
    "for band in list(\"ugrizy\"):\n",
    "    for flux_type in [\"psf\",\"kron\"]:\n",
    "        prefix = f\"{band}_{flux_type}\"\n",
    "        cols_per_band.extend([f\"{prefix}Flux\", f\"{prefix}FluxErr\"])\n",
    "    cols_per_band.append(f\"{band}_kronRad\")\n",
    "    \n",
    "obj_default_columns = [\n",
    "    \"refFwhm\",\n",
    "    \"shape_flag\",\n",
    "    \"sky_object\",\n",
    "    \"parentObjectId\",\n",
    "    \"detect_isPrimary\",\n",
    "    \"x\",\n",
    "    \"y\",\n",
    "    \"xErr\",\n",
    "    \"yErr\",\n",
    "    \"shape_yy\", \n",
    "    \"shape_xx\", \n",
    "    \"shape_xy\", \n",
    "    \"coord_ra\",\n",
    "    \"coord_dec\", \n",
    "    \"coord_raErr\", \n",
    "    \"coord_decErr\",\n",
    "    \"tract\", \n",
    "    \"patch\",\n",
    "    \"detect_isIsolated\"\n",
    "] + cols_per_band\n",
    "\n",
    "dataset_type = \"objectTable\"\n",
    "\n",
    "# TODO: read_columns isn't working\n",
    "\n",
    "args = ImportArguments(\n",
    "    output_path=hats_dir,\n",
    "    output_artifact_name=\"object\",\n",
    "    input_path=os.path.join(raw_dir, dataset_type),\n",
    "    file_reader=RubinParquetReader(dataset_type=dataset_type, read_columns=obj_default_columns),\n",
    "    ra_column=\"coord_ra\",\n",
    "    dec_column=\"coord_dec\",\n",
    "    catalog_type=\"object\",\n",
    "    resume=False,\n",
    "    pixel_threshold=300_000,\n",
    "    dask_n_workers=4,\n",
    "    dask_threads_per_worker=1,\n",
    ")\n",
    "runner.pipeline(args)"
   ]
  },
  {
   "cell_type": "code",
   "execution_count": null,
   "id": "3ab3ef3e-e426-4282-92e8-897bd11c87e1",
   "metadata": {
    "execution": {
     "iopub.execute_input": "2025-01-24T16:01:13.475187Z",
     "iopub.status.busy": "2025-01-24T16:01:13.474899Z",
     "iopub.status.idle": "2025-01-24T16:01:32.056441Z",
     "shell.execute_reply": "2025-01-24T16:01:32.055938Z",
     "shell.execute_reply.started": "2025-01-24T16:01:13.475173Z"
    }
   },
   "outputs": [],
   "source": [
    "dataset_type = \"sourceTable\"\n",
    "\n",
    "args = ImportArguments(\n",
    "    output_path=hats_dir,\n",
    "    output_artifact_name=\"source\",\n",
    "    input_path=os.path.join(raw_dir, dataset_type),\n",
    "    file_reader=RubinParquetReader(dataset_type=dataset_type),\n",
    "    ra_column=\"ra\",\n",
    "    dec_column=\"dec\",\n",
    "    catalog_type=\"source\",\n",
    "    resume=False,\n",
    "    pixel_threshold=300_000,\n",
    "    dask_n_workers=4,\n",
    "    dask_threads_per_worker=1,\n",
    ")\n",
    "runner.pipeline(args)"
   ]
  },
  {
   "cell_type": "code",
   "execution_count": null,
   "id": "04d8864b-4af7-4a57-b87e-07a9cecdc673",
   "metadata": {
    "execution": {
     "iopub.execute_input": "2025-01-24T16:29:14.750258Z",
     "iopub.status.busy": "2025-01-24T16:29:14.749974Z",
     "iopub.status.idle": "2025-01-24T16:29:15.008182Z",
     "shell.execute_reply": "2025-01-24T16:29:15.007773Z",
     "shell.execute_reply.started": "2025-01-24T16:29:14.750243Z"
    }
   },
   "outputs": [],
   "source": [
    "visits = download_visits(raw_dir)\n",
    "visit_map = visits[[\"expMidptMJD\"]].T.to_dict('records')[0]"
   ]
  },
  {
   "cell_type": "code",
   "execution_count": null,
   "id": "7519309d-509c-4074-965f-aef6e239ac5a",
   "metadata": {
    "execution": {
     "iopub.execute_input": "2025-01-24T16:29:15.552361Z",
     "iopub.status.busy": "2025-01-24T16:29:15.552087Z",
     "iopub.status.idle": "2025-01-24T16:29:40.120591Z",
     "shell.execute_reply": "2025-01-24T16:29:40.120006Z",
     "shell.execute_reply.started": "2025-01-24T16:29:15.552346Z"
    }
   },
   "outputs": [],
   "source": [
    "dataset_type = \"forcedSourceTable\"\n",
    "\n",
    "args = ImportArguments(\n",
    "    output_path=hats_dir,\n",
    "    output_artifact_name=\"forcedSource\",\n",
    "    input_path=os.path.join(raw_dir, dataset_type),\n",
    "    file_reader=RubinParquetReader(dataset_type=dataset_type, visit_map=visit_map),\n",
    "    ra_column=\"coord_ra\",\n",
    "    dec_column=\"coord_dec\",\n",
    "    catalog_type=\"source\",\n",
    "    resume=False,\n",
    "    pixel_threshold=300_000,\n",
    "    dask_n_workers=4,\n",
    "    dask_threads_per_worker=1,\n",
    ")\n",
    "runner.pipeline(args)"
   ]
  },
  {
   "cell_type": "code",
   "execution_count": null,
   "id": "fbe9a9f2-9bc2-4b71-814d-43ed39becd7b",
   "metadata": {},
   "outputs": [],
   "source": []
  }
 ],
 "metadata": {
  "kernelspec": {
   "display_name": "LSST",
   "language": "python",
   "name": "lsst"
  },
  "language_info": {
   "codemirror_mode": {
    "name": "ipython",
    "version": 3
   },
   "file_extension": ".py",
   "mimetype": "text/x-python",
   "name": "python",
   "nbconvert_exporter": "python",
   "pygments_lexer": "ipython3",
   "version": "3.11.9"
  }
 },
 "nbformat": 4,
 "nbformat_minor": 5
}
