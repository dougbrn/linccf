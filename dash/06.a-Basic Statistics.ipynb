{
 "cells": [
  {
   "cell_type": "markdown",
   "id": "d5060a38-77e8-44d6-8e0d-877edaa7268b",
   "metadata": {},
   "source": [
    "# Catalog Verification - Basic Statistics\n",
    "\n",
    "Perform some basic verification on the datasets.\n",
    "\n",
    "- confirm the number of nulls (NaNs) in the dataset is within expectations\n",
    "- for fields with predictable limits, confirm min/max values in dataset"
   ]
  },
  {
   "cell_type": "code",
   "execution_count": 12,
   "id": "4e490de7-923f-4870-83b1-302075eabfb8",
   "metadata": {
    "execution": {
     "iopub.execute_input": "2025-02-27T16:06:22.346431Z",
     "iopub.status.busy": "2025-02-27T16:06:22.346156Z",
     "iopub.status.idle": "2025-02-27T16:06:22.349012Z",
     "shell.execute_reply": "2025-02-27T16:06:22.348645Z",
     "shell.execute_reply.started": "2025-02-27T16:06:22.346417Z"
    }
   },
   "outputs": [],
   "source": [
    "import os\n",
    "import hats\n",
    "import numpy as np\n",
    "import pandas as pd\n",
    "\n",
    "from hats.io.validation import is_valid_catalog\n",
    "from pathlib import Path"
   ]
  },
  {
   "cell_type": "code",
   "execution_count": 14,
   "id": "bb02c256-f540-462d-90ce-50e1f02f193b",
   "metadata": {
    "execution": {
     "iopub.execute_input": "2025-02-27T16:06:23.445127Z",
     "iopub.status.busy": "2025-02-27T16:06:23.444854Z",
     "iopub.status.idle": "2025-02-27T16:06:23.447824Z",
     "shell.execute_reply": "2025-02-27T16:06:23.447511Z",
     "shell.execute_reply.started": "2025-02-27T16:06:23.445114Z"
    }
   },
   "outputs": [
    {
     "name": "stdout",
     "output_type": "stream",
     "text": [
      "DRP_VERSION: w_2025_07\n"
     ]
    }
   ],
   "source": [
    "DRP_VERSION = os.environ[\"DRP_VERSION\"]\n",
    "print(f\"DRP_VERSION: {DRP_VERSION}\")\n",
    "base_output_dir = Path(f\"/sdf/data/rubin/shared/lsdb_commissioning\")\n",
    "raw_dir = base_output_dir / \"raw\" / DRP_VERSION\n",
    "hats_dir = base_output_dir / \"hats\" / DRP_VERSION"
   ]
  },
  {
   "cell_type": "markdown",
   "id": "e3e3f73a-afde-4108-a4b0-d68f16edacb8",
   "metadata": {},
   "source": [
    "## Convenience methods\n",
    "\n",
    "We define a few convenience methods to load catalog metadata, check for known value types and their ranges, and output the number of nulls found in each column.\n",
    "\n",
    "This ensures we're performing the same kinds of checks against each table type."
   ]
  },
  {
   "cell_type": "code",
   "execution_count": 19,
   "id": "4d884905-b9fb-42ec-a2fd-49068f3abcaf",
   "metadata": {
    "execution": {
     "iopub.execute_input": "2025-02-27T16:47:37.793325Z",
     "iopub.status.busy": "2025-02-27T16:47:37.793000Z",
     "iopub.status.idle": "2025-02-27T16:47:37.799476Z",
     "shell.execute_reply": "2025-02-27T16:47:37.799081Z",
     "shell.execute_reply.started": "2025-02-27T16:47:37.793311Z"
    }
   },
   "outputs": [],
   "source": [
    "def min_max_floats_in_range(stats, columns, exp_min_value, exp_max_value, value_type):\n",
    "    \"\"\"Convenience method to check all columns (rows) of a value type, using the `min_value` and `max_value`\n",
    "    on the stats dataframe.\"\"\"\n",
    "    if columns:\n",
    "        anything_bad = False\n",
    "        for col in columns:\n",
    "            if (\n",
    "                float(stats[\"min_value\"][col]) < exp_min_value\n",
    "                or float(stats[\"max_value\"][col]) > exp_max_value\n",
    "            ):\n",
    "                print(\n",
    "                    f\"**** {col} has values outside acceptable range for {value_type} (min:{stats['min_value'][col]}, max:{stats['max_value'][col]})\"\n",
    "                )\n",
    "                anything_bad = True\n",
    "        if not anything_bad:\n",
    "            print(f\"  All {value_type} columns within acceptable ranges ({columns})\")\n",
    "\n",
    "\n",
    "def verify_catalog(\n",
    "    catalog_name,\n",
    "    ra_cols=None,\n",
    "    dec_cols=None,\n",
    "    flux_cols=None,\n",
    "    flux_err_cols=None,\n",
    "    mjd_cols=None,\n",
    "):\n",
    "    print(catalog_name)\n",
    "    cat = hats.read_hats(hats_dir / catalog_name)\n",
    "    print(\"  is valid catalog\", is_valid_catalog(hats_dir / catalog_name, strict=True))\n",
    "    print(\"  num partitions:\", len(cat.get_healpix_pixels()))\n",
    "    print(\"  num rows:\", cat.catalog_info.total_rows)\n",
    "    stats = cat.aggregate_column_statistics()\n",
    "    print(\"  num columns:\", len(stats))\n",
    "    ## Remove columns with \"Mag\" as these are created for HATS\n",
    "    stats = stats.iloc[~stats.index.str.contains(\"Mag\")]\n",
    "    # print(stats)\n",
    "\n",
    "    min_max_floats_in_range(stats, ra_cols, 0.0, 360.0, \"RIGHT ASCENSION\")\n",
    "    min_max_floats_in_range(stats, dec_cols, -90.0, 90.0, \"DECLINATION\")\n",
    "    min_max_floats_in_range(stats, flux_cols, -100_000_000.0, 100_000_000.0, \"FLUX\")\n",
    "    min_max_floats_in_range(stats, flux_err_cols, 0.0, 100_000_000.0, \"FLUX ERROR\")\n",
    "    min_max_floats_in_range(stats, mjd_cols, 60600.0, 60700.0, \"MJD\")\n",
    "\n",
    "    np_null_count = stats[\"null_count\"].to_numpy(copy=False, dtype=np.int64)\n",
    "    with_null_index = np.where(np_null_count > 0)\n",
    "    with_nulls = stats.iloc[with_null_index]\n",
    "\n",
    "    if len(with_nulls):\n",
    "        print(f\"  columns with nulls: {len(with_nulls)}\")\n",
    "        with_nulls = with_nulls[[\"null_count\"]]\n",
    "        with_nulls[\"percent\"] = [\n",
    "            null_count / cat.catalog_info.total_rows * 100\n",
    "            for null_count in with_nulls[\"null_count\"].to_numpy(\n",
    "                copy=False, dtype=np.int64\n",
    "            )\n",
    "        ]\n",
    "        with_nulls = with_nulls.sort_values(by=\"percent\", ascending=False)\n",
    "        print(with_nulls)\n",
    "    else:\n",
    "        print(\"  columns with nulls: 0\")"
   ]
  },
  {
   "cell_type": "code",
   "execution_count": 20,
   "id": "005c1241-5cf0-42db-afe9-a27a0cd10ff7",
   "metadata": {
    "execution": {
     "iopub.execute_input": "2025-02-27T16:47:39.288664Z",
     "iopub.status.busy": "2025-02-27T16:47:39.288391Z",
     "iopub.status.idle": "2025-02-27T16:47:39.734261Z",
     "shell.execute_reply": "2025-02-27T16:47:39.733815Z",
     "shell.execute_reply.started": "2025-02-27T16:47:39.288642Z"
    }
   },
   "outputs": [
    {
     "name": "stdout",
     "output_type": "stream",
     "text": [
      "diaObject\n",
      "Validating catalog at path /sdf/data/rubin/shared/lsdb_commissioning/hats/w_2025_07/diaObject ... \n",
      "Found 4 partitions.\n",
      "Approximate coverage is 33.33 % of the sky.\n",
      "  is valid catalog True\n",
      "  num partitions: 4\n",
      "  num rows: 1914697\n",
      "  md 1914697\n",
      "  num columns: 6\n",
      "  All RIGHT ASCENSION columns within acceptable ranges (['ra'])\n",
      "  All DECLINATION columns within acceptable ranges (['dec'])\n",
      "  All MJD columns within acceptable ranges (['radecMjdTai'])\n",
      "  columns with nulls: 0\n"
     ]
    }
   ],
   "source": [
    "verify_catalog(\"diaObject\", ra_cols=[\"ra\"], dec_cols=[\"dec\"], mjd_cols=[\"radecMjdTai\"])"
   ]
  },
  {
   "cell_type": "code",
   "execution_count": 21,
   "id": "86413d0d-1a3d-4a42-ad2f-dcc907ed6acb",
   "metadata": {
    "execution": {
     "iopub.execute_input": "2025-02-27T16:47:48.923936Z",
     "iopub.status.busy": "2025-02-27T16:47:48.923730Z",
     "iopub.status.idle": "2025-02-27T16:47:49.362002Z",
     "shell.execute_reply": "2025-02-27T16:47:49.361574Z",
     "shell.execute_reply.started": "2025-02-27T16:47:48.923923Z"
    }
   },
   "outputs": [
    {
     "name": "stdout",
     "output_type": "stream",
     "text": [
      "diaSource\n",
      "Validating catalog at path /sdf/data/rubin/shared/lsdb_commissioning/hats/w_2025_07/diaSource ... \n",
      "Found 4 partitions.\n",
      "Approximate coverage is 33.33 % of the sky.\n",
      "  is valid catalog True\n",
      "  num partitions: 4\n",
      "  num rows: 3593618\n",
      "  md 3593618\n",
      "  num columns: 90\n",
      "  All RIGHT ASCENSION columns within acceptable ranges (['ra', 'coord_ra', 'trailRa'])\n",
      "  All DECLINATION columns within acceptable ranges (['dec', 'coord_dec', 'trailDec'])\n",
      "  All FLUX columns within acceptable ranges (['apFlux', 'psfFlux', 'trailFlux', 'dipoleMeanFlux', 'dipoleFluxDiff', 'scienceFlux', 'ixxPSF', 'iyyPSF', 'ixyPSF'])\n",
      "  All FLUX ERROR columns within acceptable ranges (['apFluxErr', 'psfFluxErr', 'dipoleMeanFluxErr', 'dipoleFluxDiffErr', 'scienceFluxErr'])\n",
      "  All MJD columns within acceptable ranges (['midpointMjdTai'])\n",
      "  columns with nulls: 31\n",
      "                  null_count    percent\n",
      "column_names                           \n",
      "dipoleMeanFlux       2616251  72.802702\n",
      "dipoleMeanFluxErr    2616251  72.802702\n",
      "dipoleChi2           2616251  72.802702\n",
      "dipoleAngle          2616251  72.802702\n",
      "dipoleLength         2616251  72.802702\n",
      "dipoleFluxDiffErr    2616251  72.802702\n",
      "dipoleFluxDiff       2616251  72.802702\n",
      "extendedness         2281208  63.479424\n",
      "trailFlux            2278129  63.393744\n",
      "trailRa              2278129  63.393744\n",
      "trailDec             2278129  63.393744\n",
      "trailLength          2278129  63.393744\n",
      "trailAngle           2278129  63.393744\n",
      "yErr                 2237700  62.268722\n",
      "xErr                 2237700  62.268722\n",
      "ra_dec_Cov           2237700  62.268722\n",
      "raErr                2237700  62.268722\n",
      "decErr               2237700  62.268722\n",
      "ixx                  1109891  30.885058\n",
      "iyy                  1109891  30.885058\n",
      "ixy                  1109891  30.885058\n",
      "ixxPSF                 25339   0.705111\n",
      "iyyPSF                 25339   0.705111\n",
      "ixyPSF                 25339   0.705111\n",
      "apFluxErr               1233   0.034311\n",
      "psfChi2                 1101   0.030638\n",
      "psfFlux                 1101   0.030638\n",
      "psfFluxErr              1101   0.030638\n",
      "scienceFlux              866   0.024098\n",
      "scienceFluxErr           866   0.024098\n",
      "apFlux                   795   0.022123\n"
     ]
    }
   ],
   "source": [
    "verify_catalog(\n",
    "    \"diaSource\",\n",
    "    ra_cols=[\"ra\", \"coord_ra\", \"trailRa\"],\n",
    "    dec_cols=[\"dec\", \"coord_dec\", \"trailDec\"],\n",
    "    flux_cols=[\n",
    "        \"apFlux\",\n",
    "        \"psfFlux\",\n",
    "        \"trailFlux\",\n",
    "        \"dipoleMeanFlux\",\n",
    "        \"dipoleFluxDiff\",\n",
    "        \"scienceFlux\",\n",
    "        \"ixxPSF\",\n",
    "        \"iyyPSF\",\n",
    "        \"ixyPSF\",\n",
    "    ],\n",
    "    flux_err_cols=[\n",
    "        \"apFluxErr\",\n",
    "        \"psfFluxErr\",\n",
    "        \"dipoleMeanFluxErr\",\n",
    "        \"dipoleFluxDiffErr\",\n",
    "        \"scienceFluxErr\",\n",
    "    ],\n",
    "    mjd_cols=[\"midpointMjdTai\"],\n",
    ")"
   ]
  },
  {
   "cell_type": "code",
   "execution_count": 22,
   "id": "c87133e7-feda-4dbd-b125-619e3d646121",
   "metadata": {
    "execution": {
     "iopub.execute_input": "2025-02-27T16:47:51.950062Z",
     "iopub.status.busy": "2025-02-27T16:47:51.949585Z",
     "iopub.status.idle": "2025-02-27T16:47:58.902395Z",
     "shell.execute_reply": "2025-02-27T16:47:58.901973Z",
     "shell.execute_reply.started": "2025-02-27T16:47:51.950047Z"
    }
   },
   "outputs": [
    {
     "name": "stdout",
     "output_type": "stream",
     "text": [
      "diaForcedSource\n",
      "Validating catalog at path /sdf/data/rubin/shared/lsdb_commissioning/hats/w_2025_07/diaForcedSource ... \n",
      "Found 225 partitions.\n",
      "Approximate coverage is 19.60 % of the sky.\n",
      "  is valid catalog True\n",
      "  num partitions: 225\n",
      "  num rows: 426871848\n",
      "  md 426871848\n",
      "  num columns: 40\n",
      "  All RIGHT ASCENSION columns within acceptable ranges (['coord_ra'])\n",
      "  All DECLINATION columns within acceptable ranges (['coord_dec'])\n",
      "  All FLUX columns within acceptable ranges (['psfFlux', 'psfDiffFlux', 'localBackground_instFlux'])\n",
      "  All FLUX ERROR columns within acceptable ranges (['psfFluxErr', 'psfDiffFluxErr', 'localBackground_instFluxErr'])\n",
      "  All MJD columns within acceptable ranges (['midpointMjdTai'])\n",
      "  columns with nulls: 6\n",
      "                            null_count   percent\n",
      "column_names                                    \n",
      "localBackground_instFluxErr    5200680  1.218323\n",
      "localBackground_instFlux       5200490  1.218279\n",
      "psfDiffFlux                     441129  0.103340\n",
      "psfDiffFluxErr                  441129  0.103340\n",
      "psfFlux                         300876  0.070484\n",
      "psfFluxErr                      300876  0.070484\n"
     ]
    }
   ],
   "source": [
    "verify_catalog(\n",
    "    \"diaForcedSource\",\n",
    "    ra_cols=[\"coord_ra\"],\n",
    "    dec_cols=[\"coord_dec\"],\n",
    "    flux_cols=[\"psfFlux\", \"psfDiffFlux\", \"localBackground_instFlux\"],\n",
    "    flux_err_cols=[\"psfFluxErr\", \"psfDiffFluxErr\", \"localBackground_instFluxErr\"],\n",
    "    mjd_cols=[\"midpointMjdTai\"],\n",
    ")"
   ]
  },
  {
   "cell_type": "code",
   "execution_count": 23,
   "id": "3a8c14ba-2a04-4129-a334-4f08d07524a2",
   "metadata": {
    "execution": {
     "iopub.execute_input": "2025-02-27T16:48:01.602011Z",
     "iopub.status.busy": "2025-02-27T16:48:01.601734Z",
     "iopub.status.idle": "2025-02-27T16:48:02.258184Z",
     "shell.execute_reply": "2025-02-27T16:48:02.257751Z",
     "shell.execute_reply.started": "2025-02-27T16:48:01.601998Z"
    }
   },
   "outputs": [
    {
     "name": "stdout",
     "output_type": "stream",
     "text": [
      "object\n",
      "Validating catalog at path /sdf/data/rubin/shared/lsdb_commissioning/hats/w_2025_07/object ... \n",
      "Found 54 partitions.\n",
      "Approximate coverage is 11.94 % of the sky.\n",
      "  is valid catalog True\n",
      "  num partitions: 54\n",
      "  num rows: 5439433\n",
      "  md 5439433\n",
      "  num columns: 74\n",
      "  All RIGHT ASCENSION columns within acceptable ranges (['coord_ra'])\n",
      "  All DECLINATION columns within acceptable ranges (['coord_dec'])\n",
      "**** y_kronFlux has values outside acceptable range for FLUX (min:-1944109.982704437, max:125572292.77500014)\n",
      "**** u_kronFluxErr has values outside acceptable range for FLUX ERROR (min:53.52109122681252, max:inf)\n",
      "**** g_kronFluxErr has values outside acceptable range for FLUX ERROR (min:12.33349069970275, max:inf)\n",
      "**** r_kronFluxErr has values outside acceptable range for FLUX ERROR (min:16.246293495025153, max:inf)\n",
      "**** i_kronFluxErr has values outside acceptable range for FLUX ERROR (min:26.825956194337333, max:inf)\n",
      "**** z_kronFluxErr has values outside acceptable range for FLUX ERROR (min:57.81073546934563, max:inf)\n",
      "**** y_kronFluxErr has values outside acceptable range for FLUX ERROR (min:322.5640724572533, max:inf)\n",
      "  columns with nulls: 38\n",
      "               null_count    percent\n",
      "column_names                        \n",
      "u_kronFluxErr   3895712.0  71.619818\n",
      "u_kronFlux      3895712.0  71.619818\n",
      "u_kronRad       3895426.0  71.614560\n",
      "y_kronFluxErr   3804395.0  69.941021\n",
      "y_kronFlux      3804395.0  69.941021\n",
      "y_kronRad       3804141.0  69.936352\n",
      "u_psfFlux       3368125.0  61.920516\n",
      "u_psfFluxErr    3368125.0  61.920516\n",
      "y_psfFlux       3105778.0  57.097459\n",
      "y_psfFluxErr    3105778.0  57.097459\n",
      "z_kronFluxErr   2224717.0  40.899796\n",
      "z_kronFlux      2224717.0  40.899796\n",
      "z_kronRad       2224382.0  40.893637\n",
      "z_psfFluxErr    1491757.0  27.424862\n",
      "z_psfFlux       1491757.0  27.424862\n",
      "i_kronFlux      1309049.0  24.065909\n",
      "i_kronFluxErr   1309049.0  24.065909\n",
      "i_kronRad       1308683.0  24.059180\n",
      "g_kronFlux      1162330.0  21.368587\n",
      "g_kronFluxErr   1162330.0  21.368587\n",
      "g_kronRad       1162000.0  21.362521\n",
      "r_kronFluxErr    800912.0  14.724182\n",
      "r_kronFlux       800912.0  14.724182\n",
      "r_kronRad        800629.0  14.718979\n",
      "i_psfFlux        767630.0  14.112316\n",
      "i_psfFluxErr     767630.0  14.112316\n",
      "g_psfFlux        624729.0  11.485186\n",
      "g_psfFluxErr     624729.0  11.485186\n",
      "shape_yy         617592.0  11.353978\n",
      "shape_xx         617592.0  11.353978\n",
      "shape_xy         617592.0  11.353978\n",
      "r_psfFluxErr     386442.0   7.104454\n",
      "r_psfFlux        386442.0   7.104454\n",
      "coord_decErr     254188.0   4.673061\n",
      "coord_raErr      254188.0   4.673061\n",
      "xErr             253798.0   4.665891\n",
      "yErr             253796.0   4.665854\n",
      "refFwhm           21706.0   0.399049\n"
     ]
    }
   ],
   "source": [
    "verify_catalog(\n",
    "    \"object\",\n",
    "    ra_cols=[\"coord_ra\"],\n",
    "    dec_cols=[\"coord_dec\"],\n",
    "    flux_cols=[\n",
    "        \"u_psfFlux\",\n",
    "        \"u_kronFlux\",\n",
    "        \"g_psfFlux\",\n",
    "        \"g_kronFlux\",\n",
    "        \"r_psfFlux\",\n",
    "        \"r_kronFlux\",\n",
    "        \"i_psfFlux\",\n",
    "        \"i_kronFlux\",\n",
    "        \"z_psfFlux\",\n",
    "        \"z_kronFlux\",\n",
    "        \"y_psfFlux\",\n",
    "        \"y_kronFlux\",\n",
    "    ],\n",
    "    flux_err_cols=[\n",
    "        \"u_psfFluxErr\",\n",
    "        \"u_kronFluxErr\",\n",
    "        \"g_psfFluxErr\",\n",
    "        \"g_kronFluxErr\",\n",
    "        \"r_psfFluxErr\",\n",
    "        \"r_kronFluxErr\",\n",
    "        \"i_psfFluxErr\",\n",
    "        \"i_kronFluxErr\",\n",
    "        \"z_psfFluxErr\",\n",
    "        \"z_kronFluxErr\",\n",
    "        \"y_psfFluxErr\",\n",
    "        \"y_kronFluxErr\",\n",
    "    ],\n",
    ")"
   ]
  },
  {
   "cell_type": "code",
   "execution_count": 24,
   "id": "73fafefb-f18f-4145-a5da-d6b2e8482a9c",
   "metadata": {
    "execution": {
     "iopub.execute_input": "2025-02-27T16:48:08.399215Z",
     "iopub.status.busy": "2025-02-27T16:48:08.398959Z",
     "iopub.status.idle": "2025-02-27T16:48:09.966853Z",
     "shell.execute_reply": "2025-02-27T16:48:09.966437Z",
     "shell.execute_reply.started": "2025-02-27T16:48:08.399202Z"
    }
   },
   "outputs": [
    {
     "name": "stdout",
     "output_type": "stream",
     "text": [
      "source\n",
      "Validating catalog at path /sdf/data/rubin/shared/lsdb_commissioning/hats/w_2025_07/source ... \n",
      "Found 117 partitions.\n",
      "Approximate coverage is 9.19 % of the sky.\n",
      "  is valid catalog True\n",
      "  num partitions: 117\n",
      "  num rows: 43826352\n",
      "  md 43826352\n",
      "  num columns: 169\n",
      "  All RIGHT ASCENSION columns within acceptable ranges (['coord_ra', 'ra'])\n",
      "  All DECLINATION columns within acceptable ranges (['coord_dec', 'dec'])\n",
      "  All FLUX columns within acceptable ranges (['calibFlux', 'ap03Flux', 'ap06Flux', 'ap09Flux', 'ap12Flux', 'ap17Flux', 'ap25Flux', 'ap35Flux', 'ap50Flux', 'ap70Flux', 'psfFlux', 'gaussianFlux', 'apFlux_12_0_instFlux', 'apFlux_17_0_instFlux', 'apFlux_35_0_instFlux', 'apFlux_50_0_instFlux', 'normCompTophatFlux_instFlux', 'localBackground_instFlux'])\n",
      "  All FLUX ERROR columns within acceptable ranges (['calibFluxErr', 'ap03FluxErr', 'ap06FluxErr', 'ap09FluxErr', 'ap12FluxErr', 'ap17FluxErr', 'ap25FluxErr', 'ap35FluxErr', 'ap50FluxErr', 'ap70FluxErr', 'psfFluxErr', 'gaussianFluxErr', 'apFlux_12_0_instFluxErr', 'apFlux_17_0_instFluxErr', 'apFlux_35_0_instFluxErr', 'apFlux_50_0_instFluxErr', 'normCompTophatFlux_instFluxErr', 'localBackground_instFluxErr'])\n",
      "  All MJD columns within acceptable ranges (['midpointMjdTai'])\n",
      "  columns with nulls: 44\n",
      "                               null_count    percent\n",
      "column_names                                        \n",
      "variance_value                   11120320  25.373593\n",
      "ixyDebiasedPSF                    3421244   7.806363\n",
      "iyyDebiasedPSF                    3421244   7.806363\n",
      "ixxDebiasedPSF                    3421244   7.806363\n",
      "extendedness                      2859158   6.523833\n",
      "sizeExtendedness                  2858536   6.522414\n",
      "blendedness_abs                   2581351   5.889952\n",
      "gaussianFluxErr                   2581332   5.889908\n",
      "gaussianFlux                      2581332   5.889908\n",
      "ixy                               2581332   5.889908\n",
      "iyy                               2581332   5.889908\n",
      "ixx                               2581332   5.889908\n",
      "ap70Flux                          1772798   4.045050\n",
      "ap70FluxErr                       1772798   4.045050\n",
      "yErr                              1277611   2.915166\n",
      "xErr                              1277611   2.915166\n",
      "ra_dec_Cov                        1277611   2.915166\n",
      "decErr                            1277611   2.915166\n",
      "raErr                             1277611   2.915166\n",
      "apFlux_50_0_instFluxErr            929861   2.121694\n",
      "apFlux_50_0_instFlux               929861   2.121694\n",
      "ap50FluxErr                        929861   2.121694\n",
      "ap50Flux                           929861   2.121694\n",
      "apFlux_35_0_instFluxErr            384805   0.878022\n",
      "ap35Flux                           384805   0.878022\n",
      "ap35FluxErr                        384805   0.878022\n",
      "apFlux_35_0_instFlux               384805   0.878022\n",
      "ap25FluxErr                         83177   0.189788\n",
      "ap25Flux                            83177   0.189788\n",
      "normCompTophatFlux_instFluxErr       8921   0.020355\n",
      "normCompTophatFlux_instFlux          8921   0.020355\n",
      "calibFluxErr                         8921   0.020355\n",
      "calibFlux                            8921   0.020355\n",
      "apFlux_17_0_instFluxErr              2795   0.006377\n",
      "apFlux_17_0_instFlux                 2795   0.006377\n",
      "ap17Flux                             2795   0.006377\n",
      "ap17FluxErr                          2795   0.006377\n",
      "skyErr                                  6   0.000014\n",
      "localBackground_instFluxErr             6   0.000014\n",
      "sky                                     2   0.000005\n",
      "localBackground_instFlux                2   0.000005\n",
      "iyyPSF                                  1   0.000002\n",
      "ixyPSF                                  1   0.000002\n",
      "ixxPSF                                  1   0.000002\n"
     ]
    }
   ],
   "source": [
    "# pd.set_option('display.max_rows', None)\n",
    "\n",
    "verify_catalog(\n",
    "    \"source\",\n",
    "    ra_cols=[\"coord_ra\", \"ra\"],\n",
    "    dec_cols=[\"coord_dec\", \"dec\"],\n",
    "    flux_cols=[\n",
    "        \"calibFlux\",\n",
    "        \"ap03Flux\",\n",
    "        \"ap06Flux\",\n",
    "        \"ap09Flux\",\n",
    "        \"ap12Flux\",\n",
    "        \"ap17Flux\",\n",
    "        \"ap25Flux\",\n",
    "        \"ap35Flux\",\n",
    "        \"ap50Flux\",\n",
    "        \"ap70Flux\",\n",
    "        \"psfFlux\",\n",
    "        \"gaussianFlux\",\n",
    "        \"apFlux_12_0_instFlux\",\n",
    "        \"apFlux_17_0_instFlux\",\n",
    "        \"apFlux_35_0_instFlux\",\n",
    "        \"apFlux_50_0_instFlux\",\n",
    "        \"normCompTophatFlux_instFlux\",\n",
    "        \"localBackground_instFlux\",\n",
    "    ],\n",
    "    flux_err_cols=[\n",
    "        \"calibFluxErr\",\n",
    "        \"ap03FluxErr\",\n",
    "        \"ap06FluxErr\",\n",
    "        \"ap09FluxErr\",\n",
    "        \"ap12FluxErr\",\n",
    "        \"ap17FluxErr\",\n",
    "        \"ap25FluxErr\",\n",
    "        \"ap35FluxErr\",\n",
    "        \"ap50FluxErr\",\n",
    "        \"ap70FluxErr\",\n",
    "        \"psfFluxErr\",\n",
    "        \"gaussianFluxErr\",\n",
    "        \"apFlux_12_0_instFluxErr\",\n",
    "        \"apFlux_17_0_instFluxErr\",\n",
    "        \"apFlux_35_0_instFluxErr\",\n",
    "        \"apFlux_50_0_instFluxErr\",\n",
    "        \"normCompTophatFlux_instFluxErr\",\n",
    "        \"localBackground_instFluxErr\",\n",
    "    ],\n",
    "    mjd_cols=[\"midpointMjdTai\"],\n",
    ")"
   ]
  },
  {
   "cell_type": "code",
   "execution_count": 25,
   "id": "ff23b69d-431b-4777-b244-1607d47d6a2d",
   "metadata": {
    "execution": {
     "iopub.execute_input": "2025-02-27T16:48:15.349372Z",
     "iopub.status.busy": "2025-02-27T16:48:15.349105Z",
     "iopub.status.idle": "2025-02-27T16:48:17.606463Z",
     "shell.execute_reply": "2025-02-27T16:48:17.606016Z",
     "shell.execute_reply.started": "2025-02-27T16:48:15.349360Z"
    }
   },
   "outputs": [
    {
     "name": "stdout",
     "output_type": "stream",
     "text": [
      "forcedSource\n",
      "Validating catalog at path /sdf/data/rubin/shared/lsdb_commissioning/hats/w_2025_07/forcedSource ... \n",
      "Found 196 partitions.\n",
      "Approximate coverage is 11.22 % of the sky.\n",
      "  is valid catalog True\n",
      "  num partitions: 196\n",
      "  num rows: 579119668\n",
      "  md 579119668\n",
      "  num columns: 43\n",
      "  All RIGHT ASCENSION columns within acceptable ranges (['coord_ra'])\n",
      "  All DECLINATION columns within acceptable ranges (['coord_dec'])\n",
      "  All FLUX columns within acceptable ranges (['psfFlux', 'psfDiffFlux', 'localBackground_instFlux'])\n",
      "  All FLUX ERROR columns within acceptable ranges (['psfFluxErr', 'psfDiffFluxErr', 'localBackground_instFluxErr'])\n",
      "  All MJD columns within acceptable ranges (['midpointMjdTai'])\n",
      "  columns with nulls: 6\n",
      "                            null_count   percent\n",
      "column_names                                    \n",
      "localBackground_instFluxErr    5544788  0.957451\n",
      "localBackground_instFlux       5544586  0.957416\n",
      "psfDiffFlux                     920847  0.159008\n",
      "psfDiffFluxErr                  920847  0.159008\n",
      "psfFlux                         431613  0.074529\n",
      "psfFluxErr                      431613  0.074529\n"
     ]
    }
   ],
   "source": [
    "verify_catalog(\n",
    "    \"forcedSource\",\n",
    "    ra_cols=[\"coord_ra\"],\n",
    "    dec_cols=[\"coord_dec\"],\n",
    "    flux_cols=[\"psfFlux\", \"psfDiffFlux\", \"localBackground_instFlux\"],\n",
    "    flux_err_cols=[\"psfFluxErr\", \"psfDiffFluxErr\", \"localBackground_instFluxErr\"],\n",
    "    mjd_cols=[\"midpointMjdTai\"],\n",
    ")"
   ]
  },
  {
   "cell_type": "code",
   "execution_count": null,
   "id": "6a631517-f72d-41f1-851f-40d35830d5d4",
   "metadata": {},
   "outputs": [],
   "source": []
  }
 ],
 "metadata": {
  "kernelspec": {
   "display_name": "Python 3 (ipykernel)",
   "language": "python",
   "name": "python3"
  },
  "language_info": {
   "codemirror_mode": {
    "name": "ipython",
    "version": 3
   },
   "file_extension": ".py",
   "mimetype": "text/x-python",
   "name": "python",
   "nbconvert_exporter": "python",
   "pygments_lexer": "ipython3",
   "version": "3.11.9"
  }
 },
 "nbformat": 4,
 "nbformat_minor": 5
}
