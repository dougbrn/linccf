{
 "cells": [
  {
   "cell_type": "markdown",
   "id": "d5060a38-77e8-44d6-8e0d-877edaa7268b",
   "metadata": {},
   "source": [
    "# Catalog Verification - Basic Statistics\n",
    "\n",
    "Perform some basic verification on the datasets.\n",
    "\n",
    "- confirm the number of nulls (NaNs) in the dataset is within expectations\n",
    "- for fields with predictable limits, confirm min/max values in dataset"
   ]
  },
  {
   "cell_type": "code",
   "execution_count": 1,
   "id": "4e490de7-923f-4870-83b1-302075eabfb8",
   "metadata": {
    "execution": {
     "iopub.execute_input": "2025-02-27T16:06:22.346431Z",
     "iopub.status.busy": "2025-02-27T16:06:22.346156Z",
     "iopub.status.idle": "2025-02-27T16:06:22.349012Z",
     "shell.execute_reply": "2025-02-27T16:06:22.348645Z",
     "shell.execute_reply.started": "2025-02-27T16:06:22.346417Z"
    }
   },
   "outputs": [],
   "source": [
    "import os\n",
    "import hats\n",
    "import numpy as np\n",
    "import pandas as pd\n",
    "\n",
    "from hats.io.validation import is_valid_catalog\n",
    "from pathlib import Path"
   ]
  },
  {
   "cell_type": "code",
   "execution_count": 2,
   "id": "bb02c256-f540-462d-90ce-50e1f02f193b",
   "metadata": {
    "execution": {
     "iopub.execute_input": "2025-02-27T16:06:23.445127Z",
     "iopub.status.busy": "2025-02-27T16:06:23.444854Z",
     "iopub.status.idle": "2025-02-27T16:06:23.447824Z",
     "shell.execute_reply": "2025-02-27T16:06:23.447511Z",
     "shell.execute_reply.started": "2025-02-27T16:06:23.445114Z"
    }
   },
   "outputs": [
    {
     "name": "stdout",
     "output_type": "stream",
     "text": [
      "DRP_VERSION: w_2025_09\n"
     ]
    }
   ],
   "source": [
    "DRP_VERSION = os.environ[\"DRP_VERSION\"]\n",
    "print(f\"DRP_VERSION: {DRP_VERSION}\")\n",
    "base_output_dir = Path(f\"/sdf/data/rubin/shared/lsdb_commissioning\")\n",
    "hats_dir = base_output_dir / \"hats\" / DRP_VERSION"
   ]
  },
  {
   "cell_type": "markdown",
   "id": "e3e3f73a-afde-4108-a4b0-d68f16edacb8",
   "metadata": {},
   "source": [
    "## Convenience methods\n",
    "\n",
    "We define a few convenience methods to load catalog metadata, check for known value types and their ranges, and output the number of nulls found in each column.\n",
    "\n",
    "This ensures we're performing the same kinds of checks against each table type."
   ]
  },
  {
   "cell_type": "code",
   "execution_count": null,
   "id": "4d884905-b9fb-42ec-a2fd-49068f3abcaf",
   "metadata": {
    "execution": {
     "iopub.execute_input": "2025-02-27T16:47:37.793325Z",
     "iopub.status.busy": "2025-02-27T16:47:37.793000Z",
     "iopub.status.idle": "2025-02-27T16:47:37.799476Z",
     "shell.execute_reply": "2025-02-27T16:47:37.799081Z",
     "shell.execute_reply.started": "2025-02-27T16:47:37.793311Z"
    }
   },
   "outputs": [],
   "source": [
    "def min_max_floats_in_range(stats, columns, exp_min_value, exp_max_value, value_type):\n",
    "    \"\"\"Convenience method to check all columns (rows) of a value type, using the `min_value` and `max_value`\n",
    "    on the stats dataframe.\"\"\"\n",
    "    if columns:\n",
    "        anything_bad = False\n",
    "        for col in columns:\n",
    "            if (\n",
    "                float(stats[\"min_value\"][col]) < exp_min_value\n",
    "                or float(stats[\"max_value\"][col]) > exp_max_value\n",
    "            ):\n",
    "                print(\n",
    "                    f\"**** {col} has values outside acceptable range for {value_type} (min:{stats['min_value'][col]}, max:{stats['max_value'][col]})\"\n",
    "                )\n",
    "                anything_bad = True\n",
    "        if not anything_bad:\n",
    "            print(f\"  All {value_type} columns within acceptable ranges ({columns})\")\n",
    "\n",
    "\n",
    "def verify_catalog(\n",
    "    catalog_name,\n",
    "    ra_cols=None,\n",
    "    dec_cols=None,\n",
    "    flux_cols=None,\n",
    "    flux_err_cols=None,\n",
    "    mjd_cols=None,\n",
    "):\n",
    "    print(catalog_name)\n",
    "    cat = hats.read_hats(hats_dir / catalog_name)\n",
    "    print(\"  is valid catalog\", is_valid_catalog(hats_dir / catalog_name, strict=True, verbose=False))\n",
    "    print(\"  num partitions:\", len(cat.get_healpix_pixels()))\n",
    "    print(\"  num rows:\", cat.catalog_info.total_rows)\n",
    "    stats = cat.aggregate_column_statistics()\n",
    "    print(\"  num columns:\", len(stats))\n",
    "    ## Remove columns with \"Mag\" as these are created for HATS\n",
    "    stats = stats.iloc[~stats.index.str.contains(\"Mag\")]\n",
    "    # print(stats)\n",
    "\n",
    "    min_max_floats_in_range(stats, ra_cols, 0.0, 360.0, \"RIGHT ASCENSION\")\n",
    "    min_max_floats_in_range(stats, dec_cols, -90.0, 90.0, \"DECLINATION\")\n",
    "    min_max_floats_in_range(stats, flux_cols, -100_000_000.0, 100_000_000.0, \"FLUX\")\n",
    "    min_max_floats_in_range(stats, flux_err_cols, 0.0, 100_000_000.0, \"FLUX ERROR\")\n",
    "    min_max_floats_in_range(stats, mjd_cols, 60600.0, 60700.0, \"MJD\")\n",
    "\n",
    "    np_null_count = stats[\"null_count\"].to_numpy(copy=False, dtype=np.int64)\n",
    "    with_null_index = np.where(np_null_count > 0)\n",
    "    with_nulls = stats.iloc[with_null_index]\n",
    "\n",
    "    if len(with_nulls):\n",
    "        print(f\"  columns with nulls: {len(with_nulls)}\")\n",
    "        with_nulls = with_nulls[[\"null_count\"]]\n",
    "        with_nulls[\"percent\"] = [\n",
    "            null_count / cat.catalog_info.total_rows * 100\n",
    "            for null_count in with_nulls[\"null_count\"].to_numpy(\n",
    "                copy=False, dtype=np.int64\n",
    "            )\n",
    "        ]\n",
    "        with_nulls = with_nulls.sort_values(by=\"percent\", ascending=False)\n",
    "        print(with_nulls)\n",
    "    else:\n",
    "        print(\"  columns with nulls: 0\")"
   ]
  },
  {
   "cell_type": "code",
   "execution_count": 4,
   "id": "005c1241-5cf0-42db-afe9-a27a0cd10ff7",
   "metadata": {
    "execution": {
     "iopub.execute_input": "2025-02-27T16:47:39.288664Z",
     "iopub.status.busy": "2025-02-27T16:47:39.288391Z",
     "iopub.status.idle": "2025-02-27T16:47:39.734261Z",
     "shell.execute_reply": "2025-02-27T16:47:39.733815Z",
     "shell.execute_reply.started": "2025-02-27T16:47:39.288642Z"
    }
   },
   "outputs": [
    {
     "name": "stdout",
     "output_type": "stream",
     "text": [
      "diaObject\n",
      "Validating catalog at path /sdf/data/rubin/shared/lsdb_commissioning/hats/w_2025_09/diaObject ... \n",
      "Found 4 partitions.\n",
      "Approximate coverage is 33.33 % of the sky.\n",
      "  is valid catalog True\n",
      "  num partitions: 4\n",
      "  num rows: 2276883\n",
      "  num columns: 6\n",
      "  All RIGHT ASCENSION columns within acceptable ranges (['ra'])\n",
      "  All DECLINATION columns within acceptable ranges (['dec'])\n",
      "  All MJD columns within acceptable ranges (['radecMjdTai'])\n",
      "  columns with nulls: 0\n"
     ]
    }
   ],
   "source": [
    "verify_catalog(\"diaObject\", ra_cols=[\"ra\"], dec_cols=[\"dec\"], mjd_cols=[\"radecMjdTai\"])"
   ]
  },
  {
   "cell_type": "code",
   "execution_count": 5,
   "id": "86413d0d-1a3d-4a42-ad2f-dcc907ed6acb",
   "metadata": {
    "execution": {
     "iopub.execute_input": "2025-02-27T16:47:48.923936Z",
     "iopub.status.busy": "2025-02-27T16:47:48.923730Z",
     "iopub.status.idle": "2025-02-27T16:47:49.362002Z",
     "shell.execute_reply": "2025-02-27T16:47:49.361574Z",
     "shell.execute_reply.started": "2025-02-27T16:47:48.923923Z"
    }
   },
   "outputs": [
    {
     "name": "stdout",
     "output_type": "stream",
     "text": [
      "diaSource\n",
      "Validating catalog at path /sdf/data/rubin/shared/lsdb_commissioning/hats/w_2025_09/diaSource ... \n",
      "Found 6 partitions.\n",
      "Approximate coverage is 31.25 % of the sky.\n",
      "  is valid catalog True\n",
      "  num partitions: 6\n",
      "  num rows: 4159577\n",
      "  num columns: 92\n",
      "  All RIGHT ASCENSION columns within acceptable ranges (['ra', 'coord_ra', 'trailRa'])\n",
      "  All DECLINATION columns within acceptable ranges (['dec', 'coord_dec', 'trailDec'])\n",
      "  All FLUX columns within acceptable ranges (['apFlux', 'psfFlux', 'trailFlux', 'dipoleMeanFlux', 'dipoleFluxDiff', 'scienceFlux', 'ixxPSF', 'iyyPSF', 'ixyPSF'])\n",
      "  All FLUX ERROR columns within acceptable ranges (['apFluxErr', 'psfFluxErr', 'dipoleMeanFluxErr', 'dipoleFluxDiffErr', 'scienceFluxErr'])\n",
      "  All MJD columns within acceptable ranges (['midpointMjdTai'])\n",
      "  columns with nulls: 31\n",
      "                  null_count    percent\n",
      "column_names                           \n",
      "dipoleChi2           3082123  74.097030\n",
      "dipoleAngle          3082123  74.097030\n",
      "dipoleLength         3082123  74.097030\n",
      "dipoleFluxDiffErr    3082123  74.097030\n",
      "dipoleFluxDiff       3082123  74.097030\n",
      "dipoleMeanFluxErr    3082123  74.097030\n",
      "dipoleMeanFlux       3082123  74.097030\n",
      "extendedness         2048347  49.244118\n",
      "trailDec             2041366  49.076288\n",
      "trailLength          2041366  49.076288\n",
      "trailAngle           2041366  49.076288\n",
      "trailRa              2041366  49.076288\n",
      "trailFlux            2041366  49.076288\n",
      "decErr               1843665  44.323377\n",
      "raErr                1843665  44.323377\n",
      "xErr                 1843665  44.323377\n",
      "yErr                 1843665  44.323377\n",
      "ra_dec_Cov           1843665  44.323377\n",
      "ixy                  1214232  29.191237\n",
      "iyy                  1214232  29.191237\n",
      "ixx                  1214232  29.191237\n",
      "ixyPSF                 58370   1.403268\n",
      "iyyPSF                 58370   1.403268\n",
      "ixxPSF                 58370   1.403268\n",
      "apFluxErr               1559   0.037480\n",
      "psfChi2                 1466   0.035244\n",
      "psfFlux                 1466   0.035244\n",
      "psfFluxErr              1466   0.035244\n",
      "scienceFlux             1141   0.027431\n",
      "scienceFluxErr          1141   0.027431\n",
      "apFlux                   999   0.024017\n"
     ]
    }
   ],
   "source": [
    "verify_catalog(\n",
    "    \"diaSource\",\n",
    "    ra_cols=[\"ra\", \"coord_ra\", \"trailRa\"],\n",
    "    dec_cols=[\"dec\", \"coord_dec\", \"trailDec\"],\n",
    "    flux_cols=[\n",
    "        \"apFlux\",\n",
    "        \"psfFlux\",\n",
    "        \"trailFlux\",\n",
    "        \"dipoleMeanFlux\",\n",
    "        \"dipoleFluxDiff\",\n",
    "        \"scienceFlux\",\n",
    "        \"ixxPSF\",\n",
    "        \"iyyPSF\",\n",
    "        \"ixyPSF\",\n",
    "    ],\n",
    "    flux_err_cols=[\n",
    "        \"apFluxErr\",\n",
    "        \"psfFluxErr\",\n",
    "        \"dipoleMeanFluxErr\",\n",
    "        \"dipoleFluxDiffErr\",\n",
    "        \"scienceFluxErr\",\n",
    "    ],\n",
    "    mjd_cols=[\"midpointMjdTai\"],\n",
    ")"
   ]
  },
  {
   "cell_type": "code",
   "execution_count": 6,
   "id": "c87133e7-feda-4dbd-b125-619e3d646121",
   "metadata": {
    "execution": {
     "iopub.execute_input": "2025-02-27T16:47:51.950062Z",
     "iopub.status.busy": "2025-02-27T16:47:51.949585Z",
     "iopub.status.idle": "2025-02-27T16:47:58.902395Z",
     "shell.execute_reply": "2025-02-27T16:47:58.901973Z",
     "shell.execute_reply.started": "2025-02-27T16:47:51.950047Z"
    }
   },
   "outputs": [
    {
     "name": "stdout",
     "output_type": "stream",
     "text": [
      "diaForcedSource\n",
      "Validating catalog at path /sdf/data/rubin/shared/lsdb_commissioning/hats/w_2025_09/diaForcedSource ... \n",
      "Found 245 partitions.\n",
      "Approximate coverage is 17.54 % of the sky.\n",
      "  is valid catalog True\n",
      "  num partitions: 245\n",
      "  num rows: 467053711\n",
      "  num columns: 40\n",
      "  All RIGHT ASCENSION columns within acceptable ranges (['coord_ra'])\n",
      "  All DECLINATION columns within acceptable ranges (['coord_dec'])\n",
      "  All FLUX columns within acceptable ranges (['psfFlux', 'psfDiffFlux', 'localBackground_instFlux'])\n",
      "  All FLUX ERROR columns within acceptable ranges (['psfFluxErr', 'psfDiffFluxErr', 'localBackground_instFluxErr'])\n",
      "  All MJD columns within acceptable ranges (['midpointMjdTai'])\n",
      "  columns with nulls: 6\n",
      "                            null_count   percent\n",
      "column_names                                    \n",
      "localBackground_instFluxErr    6101071  1.306289\n",
      "localBackground_instFlux       6100739  1.306218\n",
      "psfDiffFluxErr                  364594  0.078063\n",
      "psfDiffFlux                     364594  0.078063\n",
      "psfFluxErr                      324381  0.069453\n",
      "psfFlux                         324381  0.069453\n"
     ]
    }
   ],
   "source": [
    "verify_catalog(\n",
    "    \"diaForcedSource\",\n",
    "    ra_cols=[\"coord_ra\"],\n",
    "    dec_cols=[\"coord_dec\"],\n",
    "    flux_cols=[\"psfFlux\", \"psfDiffFlux\", \"localBackground_instFlux\"],\n",
    "    flux_err_cols=[\"psfFluxErr\", \"psfDiffFluxErr\", \"localBackground_instFluxErr\"],\n",
    "    mjd_cols=[\"midpointMjdTai\"],\n",
    ")"
   ]
  },
  {
   "cell_type": "code",
   "execution_count": 7,
   "id": "3a8c14ba-2a04-4129-a334-4f08d07524a2",
   "metadata": {
    "execution": {
     "iopub.execute_input": "2025-02-27T16:48:01.602011Z",
     "iopub.status.busy": "2025-02-27T16:48:01.601734Z",
     "iopub.status.idle": "2025-02-27T16:48:02.258184Z",
     "shell.execute_reply": "2025-02-27T16:48:02.257751Z",
     "shell.execute_reply.started": "2025-02-27T16:48:01.601998Z"
    }
   },
   "outputs": [
    {
     "name": "stdout",
     "output_type": "stream",
     "text": [
      "object\n",
      "Validating catalog at path /sdf/data/rubin/shared/lsdb_commissioning/hats/w_2025_09/object ... \n",
      "Found 80 partitions.\n",
      "Approximate coverage is 9.74 % of the sky.\n",
      "  is valid catalog True\n",
      "  num partitions: 80\n",
      "  num rows: 5366707\n",
      "  num columns: 74\n",
      "  All RIGHT ASCENSION columns within acceptable ranges (['coord_ra'])\n",
      "  All DECLINATION columns within acceptable ranges (['coord_dec'])\n",
      "**** r_kronFlux has values outside acceptable range for FLUX (min:-1871823.198986211, max:254366473.42652225)\n",
      "**** u_kronFluxErr has values outside acceptable range for FLUX ERROR (min:10.335923840071157, max:inf)\n",
      "**** g_kronFluxErr has values outside acceptable range for FLUX ERROR (min:12.028468044159634, max:inf)\n",
      "**** r_kronFluxErr has values outside acceptable range for FLUX ERROR (min:10.141821398611642, max:inf)\n",
      "**** i_kronFluxErr has values outside acceptable range for FLUX ERROR (min:25.241087956430487, max:inf)\n",
      "**** z_kronFluxErr has values outside acceptable range for FLUX ERROR (min:53.313838526705716, max:inf)\n",
      "**** y_kronFluxErr has values outside acceptable range for FLUX ERROR (min:126.92085995357859, max:inf)\n",
      "  columns with nulls: 38\n",
      "               null_count    percent\n",
      "column_names                        \n",
      "y_kronFlux      3697773.0  68.902085\n",
      "y_kronFluxErr   3697773.0  68.902085\n",
      "y_kronRad       3697527.0  68.897501\n",
      "u_kronFlux      3565092.0  66.429786\n",
      "u_kronFluxErr   3564893.0  66.426078\n",
      "u_kronRad       3564570.0  66.420060\n",
      "y_psfFlux       3028848.0  56.437737\n",
      "y_psfFluxErr    3028848.0  56.437737\n",
      "u_psfFlux       2973655.0  55.409304\n",
      "u_psfFluxErr    2973655.0  55.409304\n",
      "z_kronFlux      2144440.0  39.958209\n",
      "z_kronFluxErr   2144440.0  39.958209\n",
      "z_kronRad       2144148.0  39.952768\n",
      "z_psfFluxErr    1437468.0  26.784917\n",
      "z_psfFlux       1437468.0  26.784917\n",
      "g_kronFlux      1229157.0  22.903374\n",
      "g_kronFluxErr   1229157.0  22.903374\n",
      "g_kronRad       1228842.0  22.897505\n",
      "i_kronFlux      1156976.0  21.558397\n",
      "i_kronFluxErr   1156969.0  21.558267\n",
      "i_kronRad       1156589.0  21.551186\n",
      "r_kronFlux       739063.0  13.771257\n",
      "r_kronFluxErr    739063.0  13.771257\n",
      "r_kronRad        738811.0  13.766561\n",
      "g_psfFluxErr     715043.0  13.323682\n",
      "g_psfFlux        715043.0  13.323682\n",
      "i_psfFlux        640284.0  11.930668\n",
      "i_psfFluxErr     640284.0  11.930668\n",
      "shape_yy         596666.0  11.117916\n",
      "shape_xx         596666.0  11.117916\n",
      "shape_xy         596666.0  11.117916\n",
      "r_psfFlux        333660.0   6.217220\n",
      "r_psfFluxErr     333660.0   6.217220\n",
      "coord_raErr      276251.0   5.147495\n",
      "coord_decErr     276251.0   5.147495\n",
      "xErr             275830.0   5.139651\n",
      "yErr             275829.0   5.139632\n",
      "refFwhm           18826.0   0.350792\n"
     ]
    }
   ],
   "source": [
    "verify_catalog(\n",
    "    \"object\",\n",
    "    ra_cols=[\"coord_ra\"],\n",
    "    dec_cols=[\"coord_dec\"],\n",
    "    flux_cols=[\n",
    "        \"u_psfFlux\",\n",
    "        \"u_kronFlux\",\n",
    "        \"g_psfFlux\",\n",
    "        \"g_kronFlux\",\n",
    "        \"r_psfFlux\",\n",
    "        \"r_kronFlux\",\n",
    "        \"i_psfFlux\",\n",
    "        \"i_kronFlux\",\n",
    "        \"z_psfFlux\",\n",
    "        \"z_kronFlux\",\n",
    "        \"y_psfFlux\",\n",
    "        \"y_kronFlux\",\n",
    "    ],\n",
    "    flux_err_cols=[\n",
    "        \"u_psfFluxErr\",\n",
    "        \"u_kronFluxErr\",\n",
    "        \"g_psfFluxErr\",\n",
    "        \"g_kronFluxErr\",\n",
    "        \"r_psfFluxErr\",\n",
    "        \"r_kronFluxErr\",\n",
    "        \"i_psfFluxErr\",\n",
    "        \"i_kronFluxErr\",\n",
    "        \"z_psfFluxErr\",\n",
    "        \"z_kronFluxErr\",\n",
    "        \"y_psfFluxErr\",\n",
    "        \"y_kronFluxErr\",\n",
    "    ],\n",
    ")"
   ]
  },
  {
   "cell_type": "code",
   "execution_count": 8,
   "id": "73fafefb-f18f-4145-a5da-d6b2e8482a9c",
   "metadata": {
    "execution": {
     "iopub.execute_input": "2025-02-27T16:48:08.399215Z",
     "iopub.status.busy": "2025-02-27T16:48:08.398959Z",
     "iopub.status.idle": "2025-02-27T16:48:09.966853Z",
     "shell.execute_reply": "2025-02-27T16:48:09.966437Z",
     "shell.execute_reply.started": "2025-02-27T16:48:08.399202Z"
    }
   },
   "outputs": [
    {
     "name": "stdout",
     "output_type": "stream",
     "text": [
      "source\n",
      "Validating catalog at path /sdf/data/rubin/shared/lsdb_commissioning/hats/w_2025_09/source ... \n",
      "Found 117 partitions.\n",
      "Approximate coverage is 9.19 % of the sky.\n",
      "  is valid catalog True\n",
      "  num partitions: 117\n",
      "  num rows: 44360726\n",
      "  num columns: 169\n",
      "  All RIGHT ASCENSION columns within acceptable ranges (['coord_ra', 'ra'])\n",
      "  All DECLINATION columns within acceptable ranges (['coord_dec', 'dec'])\n",
      "  All FLUX columns within acceptable ranges (['calibFlux', 'ap03Flux', 'ap06Flux', 'ap09Flux', 'ap12Flux', 'ap17Flux', 'ap25Flux', 'ap35Flux', 'ap50Flux', 'ap70Flux', 'psfFlux', 'gaussianFlux', 'apFlux_12_0_instFlux', 'apFlux_17_0_instFlux', 'apFlux_35_0_instFlux', 'apFlux_50_0_instFlux', 'normCompTophatFlux_instFlux', 'localBackground_instFlux'])\n",
      "  All FLUX ERROR columns within acceptable ranges (['calibFluxErr', 'ap03FluxErr', 'ap06FluxErr', 'ap09FluxErr', 'ap12FluxErr', 'ap17FluxErr', 'ap25FluxErr', 'ap35FluxErr', 'ap50FluxErr', 'ap70FluxErr', 'psfFluxErr', 'gaussianFluxErr', 'apFlux_12_0_instFluxErr', 'apFlux_17_0_instFluxErr', 'apFlux_35_0_instFluxErr', 'apFlux_50_0_instFluxErr', 'normCompTophatFlux_instFluxErr', 'localBackground_instFluxErr'])\n",
      "  All MJD columns within acceptable ranges (['midpointMjdTai'])\n",
      "  columns with nulls: 53\n",
      "                               null_count    percent\n",
      "column_names                                        \n",
      "variance_value                   11305303  25.484937\n",
      "ixyDebiasedPSF                    3356778   7.567004\n",
      "ixxDebiasedPSF                    3356778   7.567004\n",
      "iyyDebiasedPSF                    3356778   7.567004\n",
      "extendedness                      2828833   6.376886\n",
      "sizeExtendedness                  2828833   6.376886\n",
      "gaussianFluxErr                   2545995   5.739300\n",
      "gaussianFlux                      2545995   5.739300\n",
      "blendedness_abs                   2545750   5.738747\n",
      "ixx                               2545734   5.738711\n",
      "ixy                               2545734   5.738711\n",
      "iyy                               2545734   5.738711\n",
      "ap70Flux                          1817286   4.096610\n",
      "ap70FluxErr                       1817286   4.096610\n",
      "raErr                             1283559   2.893458\n",
      "yErr                              1283559   2.893458\n",
      "xErr                              1283559   2.893458\n",
      "decErr                            1283559   2.893458\n",
      "ra_dec_Cov                        1283559   2.893458\n",
      "ap50FluxErr                        955534   2.154009\n",
      "ap50Flux                           955534   2.154009\n",
      "apFlux_50_0_instFlux               954999   2.152803\n",
      "apFlux_50_0_instFluxErr            954999   2.152803\n",
      "ap35Flux                           395719   0.892048\n",
      "ap35FluxErr                        395719   0.892048\n",
      "apFlux_35_0_instFluxErr            395178   0.890829\n",
      "apFlux_35_0_instFlux               395178   0.890829\n",
      "ap25Flux                            85384   0.192477\n",
      "ap25FluxErr                         85384   0.192477\n",
      "calibFluxErr                         9509   0.021436\n",
      "calibFlux                            9509   0.021436\n",
      "normCompTophatFlux_instFlux          8962   0.020203\n",
      "normCompTophatFlux_instFluxErr       8962   0.020203\n",
      "ap17Flux                             3358   0.007570\n",
      "ap17FluxErr                          3358   0.007570\n",
      "apFlux_17_0_instFluxErr              2811   0.006337\n",
      "apFlux_17_0_instFlux                 2811   0.006337\n",
      "sky                                   567   0.001278\n",
      "skyErr                                567   0.001278\n",
      "ap03Flux                              548   0.001235\n",
      "ap03FluxErr                           548   0.001235\n",
      "ap06Flux                              548   0.001235\n",
      "ap06FluxErr                           548   0.001235\n",
      "ap09Flux                              548   0.001235\n",
      "ap09FluxErr                           548   0.001235\n",
      "ap12FluxErr                           548   0.001235\n",
      "ap12Flux                              548   0.001235\n",
      "psfFlux                               548   0.001235\n",
      "psfFluxErr                            548   0.001235\n",
      "localPhotoCalib                       548   0.001235\n",
      "localPhotoCalibErr                    548   0.001235\n",
      "localBackground_instFlux               19   0.000043\n",
      "localBackground_instFluxErr            19   0.000043\n"
     ]
    }
   ],
   "source": [
    "# pd.set_option('display.max_rows', None)\n",
    "\n",
    "verify_catalog(\n",
    "    \"source\",\n",
    "    ra_cols=[\"coord_ra\", \"ra\"],\n",
    "    dec_cols=[\"coord_dec\", \"dec\"],\n",
    "    flux_cols=[\n",
    "        \"calibFlux\",\n",
    "        \"ap03Flux\",\n",
    "        \"ap06Flux\",\n",
    "        \"ap09Flux\",\n",
    "        \"ap12Flux\",\n",
    "        \"ap17Flux\",\n",
    "        \"ap25Flux\",\n",
    "        \"ap35Flux\",\n",
    "        \"ap50Flux\",\n",
    "        \"ap70Flux\",\n",
    "        \"psfFlux\",\n",
    "        \"gaussianFlux\",\n",
    "        \"apFlux_12_0_instFlux\",\n",
    "        \"apFlux_17_0_instFlux\",\n",
    "        \"apFlux_35_0_instFlux\",\n",
    "        \"apFlux_50_0_instFlux\",\n",
    "        \"normCompTophatFlux_instFlux\",\n",
    "        \"localBackground_instFlux\",\n",
    "    ],\n",
    "    flux_err_cols=[\n",
    "        \"calibFluxErr\",\n",
    "        \"ap03FluxErr\",\n",
    "        \"ap06FluxErr\",\n",
    "        \"ap09FluxErr\",\n",
    "        \"ap12FluxErr\",\n",
    "        \"ap17FluxErr\",\n",
    "        \"ap25FluxErr\",\n",
    "        \"ap35FluxErr\",\n",
    "        \"ap50FluxErr\",\n",
    "        \"ap70FluxErr\",\n",
    "        \"psfFluxErr\",\n",
    "        \"gaussianFluxErr\",\n",
    "        \"apFlux_12_0_instFluxErr\",\n",
    "        \"apFlux_17_0_instFluxErr\",\n",
    "        \"apFlux_35_0_instFluxErr\",\n",
    "        \"apFlux_50_0_instFluxErr\",\n",
    "        \"normCompTophatFlux_instFluxErr\",\n",
    "        \"localBackground_instFluxErr\",\n",
    "    ],\n",
    "    mjd_cols=[\"midpointMjdTai\"],\n",
    ")"
   ]
  },
  {
   "cell_type": "code",
   "execution_count": 9,
   "id": "ff23b69d-431b-4777-b244-1607d47d6a2d",
   "metadata": {
    "execution": {
     "iopub.execute_input": "2025-02-27T16:48:15.349372Z",
     "iopub.status.busy": "2025-02-27T16:48:15.349105Z",
     "iopub.status.idle": "2025-02-27T16:48:17.606463Z",
     "shell.execute_reply": "2025-02-27T16:48:17.606016Z",
     "shell.execute_reply.started": "2025-02-27T16:48:15.349360Z"
    }
   },
   "outputs": [
    {
     "name": "stdout",
     "output_type": "stream",
     "text": [
      "forcedSource\n",
      "Validating catalog at path /sdf/data/rubin/shared/lsdb_commissioning/hats/w_2025_09/forcedSource ... \n",
      "Found 201 partitions.\n",
      "Approximate coverage is 11.22 % of the sky.\n",
      "  is valid catalog True\n",
      "  num partitions: 201\n",
      "  num rows: 576158429\n",
      "  num columns: 43\n",
      "  All RIGHT ASCENSION columns within acceptable ranges (['coord_ra'])\n",
      "  All DECLINATION columns within acceptable ranges (['coord_dec'])\n",
      "  All FLUX columns within acceptable ranges (['psfFlux', 'psfDiffFlux', 'localBackground_instFlux'])\n",
      "  All FLUX ERROR columns within acceptable ranges (['psfFluxErr', 'psfDiffFluxErr', 'localBackground_instFluxErr'])\n",
      "  All MJD columns within acceptable ranges (['midpointMjdTai'])\n",
      "  columns with nulls: 6\n",
      "                            null_count   percent\n",
      "column_names                                    \n",
      "localBackground_instFluxErr    5303257  0.920451\n",
      "localBackground_instFlux       5303077  0.920420\n",
      "psfDiffFluxErr                  500156  0.086809\n",
      "psfDiffFlux                     500156  0.086809\n",
      "psfFluxErr                      428186  0.074317\n",
      "psfFlux                         428186  0.074317\n"
     ]
    }
   ],
   "source": [
    "verify_catalog(\n",
    "    \"forcedSource\",\n",
    "    ra_cols=[\"coord_ra\"],\n",
    "    dec_cols=[\"coord_dec\"],\n",
    "    flux_cols=[\"psfFlux\", \"psfDiffFlux\", \"localBackground_instFlux\"],\n",
    "    flux_err_cols=[\"psfFluxErr\", \"psfDiffFluxErr\", \"localBackground_instFluxErr\"],\n",
    "    mjd_cols=[\"midpointMjdTai\"],\n",
    ")"
   ]
  }
 ],
 "metadata": {
  "kernelspec": {
   "display_name": "Python 3 (ipykernel)",
   "language": "python",
   "name": "python3"
  },
  "language_info": {
   "codemirror_mode": {
    "name": "ipython",
    "version": 3
   },
   "file_extension": ".py",
   "mimetype": "text/x-python",
   "name": "python",
   "nbconvert_exporter": "python",
   "pygments_lexer": "ipython3",
   "version": "3.12.9"
  }
 },
 "nbformat": 4,
 "nbformat_minor": 5
}
