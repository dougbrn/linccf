{
 "cells": [
  {
   "cell_type": "markdown",
   "id": "d5060a38-77e8-44d6-8e0d-877edaa7268b",
   "metadata": {},
   "source": [
    "# Catalog Verification - Basic Statistics\n",
    "\n",
    "Perform some basic verification on the datasets.\n",
    "\n",
    "- confirm the number of nulls (NaNs) in the dataset is within expectations\n",
    "- for fields with predictable limits, confirm min/max values in dataset"
   ]
  },
  {
   "cell_type": "code",
   "execution_count": null,
   "id": "4e490de7-923f-4870-83b1-302075eabfb8",
   "metadata": {},
   "outputs": [],
   "source": [
    "import os\n",
    "import hats\n",
    "import numpy as np\n",
    "import pandas as pd\n",
    "import pyarrow.parquet as pq\n",
    "\n",
    "from pathlib import Path"
   ]
  },
  {
   "cell_type": "code",
   "execution_count": null,
   "id": "30932d06-3b61-434c-b8f5-031c18763391",
   "metadata": {},
   "outputs": [],
   "source": [
    "%env DRP_VERSION=w_2025_07"
   ]
  },
  {
   "cell_type": "code",
   "execution_count": null,
   "id": "bb02c256-f540-462d-90ce-50e1f02f193b",
   "metadata": {},
   "outputs": [],
   "source": [
    "DRP_VERSION = os.environ[\"DRP_VERSION\"]\n",
    "print(f\"DRP_VERSION: {DRP_VERSION}\")\n",
    "base_output_dir = Path(f\"/sdf/data/rubin/shared/lsdb_commissioning\")\n",
    "raw_dir = base_output_dir / \"raw\" / DRP_VERSION\n",
    "hats_dir = base_output_dir / \"hats\" / DRP_VERSION"
   ]
  },
  {
   "cell_type": "code",
   "execution_count": null,
   "id": "a7bb4e0d",
   "metadata": {},
   "outputs": [],
   "source": [
    "fields_dir = raw_dir / \"field_sizes\"\n",
    "fields_dir.mkdir(parents=True, exist_ok=True)"
   ]
  },
  {
   "cell_type": "code",
   "execution_count": null,
   "id": "50174cbe",
   "metadata": {},
   "outputs": [],
   "source": [
    "fresh_catalogs = [\n",
    "    \"diaObject\",\n",
    "    \"diaSource\",\n",
    "    \"diaForcedSource\",\n",
    "    \"object\",\n",
    "    \"source\",\n",
    "    \"forcedSource\",\n",
    "]\n",
    "\n",
    "for catalog_name in fresh_catalogs[4:5]:\n",
    "    cat = hats.read_hats(hats_dir / catalog_name)\n",
    "    print(catalog_name)\n",
    "    print(\"  num partitions:\", len(cat.get_healpix_pixels()))\n",
    "    print(\"  num rows:\", cat.catalog_info.total_rows)\n",
    "    stats = cat.aggregate_column_statistics()\n",
    "    print(\"  num columns:\", len(stats))\n",
    "    ## Remove columns with \"Mag\" as these are created for HATS\n",
    "    stats = stats.iloc[~stats.index.str.contains(\"Mag\")]\n",
    "    np_null_count = stats[\"null_count\"].to_numpy(copy=False, dtype=np.int64)\n",
    "    with_null_index = np.where(np_null_count >0)\n",
    "    with_nulls = stats.iloc[with_null_index]\n",
    "    \n",
    "    if len(with_nulls):\n",
    "        print(f\"  columns with nulls: {len(with_nulls)}\")\n",
    "        with_nulls = with_nulls[[\"null_count\"]]\n",
    "        with_nulls[\"percent\"] = [null_count/cat.catalog_info.total_rows*100 for null_count in with_nulls[\"null_count\"].to_numpy(copy=False, dtype=np.int64)]\n",
    "        with_nulls = with_nulls.sort_values(by='percent', ascending=False)\n",
    "        print(with_nulls)\n",
    "    else:\n",
    "        print(\"  columns with nulls: 0\")"
   ]
  },
  {
   "cell_type": "code",
   "execution_count": null,
   "id": "005c1241-5cf0-42db-afe9-a27a0cd10ff7",
   "metadata": {},
   "outputs": [],
   "source": []
  }
 ],
 "metadata": {
  "kernelspec": {
   "display_name": "Python 3 (ipykernel)",
   "language": "python",
   "name": "python3"
  },
  "language_info": {
   "codemirror_mode": {
    "name": "ipython",
    "version": 3
   },
   "file_extension": ".py",
   "mimetype": "text/x-python",
   "name": "python",
   "nbconvert_exporter": "python",
   "pygments_lexer": "ipython3",
   "version": "3.12.9"
  }
 },
 "nbformat": 4,
 "nbformat_minor": 5
}
