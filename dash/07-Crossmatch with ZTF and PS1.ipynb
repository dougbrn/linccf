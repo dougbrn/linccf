{
 "cells": [
  {
   "cell_type": "markdown",
   "metadata": {},
   "source": [
    "# Crossmatch with ZTF and PanSTARRS\n",
    "\n",
    "Crossmatch the ComCam data with ZTF and PanSTARRS and store the results as HATS catalogs on disk."
   ]
  },
  {
   "cell_type": "code",
   "execution_count": null,
   "metadata": {},
   "outputs": [],
   "source": [
    "import os\n",
    "import lsdb\n",
    "import tempfile\n",
    "\n",
    "from upath import UPath\n",
    "from dask.distributed import Client\n",
    "from nested_pandas import NestedDtype"
   ]
  },
  {
   "cell_type": "code",
   "execution_count": null,
   "metadata": {},
   "outputs": [],
   "source": [
    "DRP_VERSION = os.environ[\"DRP_VERSION\"]\n",
    "print(f\"DRP_VERSION: {DRP_VERSION}\")\n",
    "base_output_dir = UPath(f\"/sdf/data/rubin/shared/lsdb_commissioning\")\n",
    "hats_dir = base_output_dir / \"hats\" / DRP_VERSION"
   ]
  },
  {
   "cell_type": "code",
   "execution_count": null,
   "metadata": {},
   "outputs": [],
   "source": [
    "tmp_path = tempfile.TemporaryDirectory()\n",
    "tmp_dir = tmp_path.name\n",
    "client = Client(n_workers=16, threads_per_worker=1, local_directory=tmp_dir)"
   ]
  },
  {
   "cell_type": "markdown",
   "metadata": {},
   "source": [
    "Let's load ZTF DR22 with lightcurves and PanSTARRS:"
   ]
  },
  {
   "cell_type": "code",
   "execution_count": null,
   "metadata": {},
   "outputs": [],
   "source": [
    "ztf_dr22_lc = lsdb.read_hats(\n",
    "    \"https://data.lsdb.io/hats/ztf_dr22/ztf_lc\",\n",
    "    margin_cache=\"https://data.lsdb.io/hats/ztf_dr22/ztf_lc_10arcs\",\n",
    ")\n",
    "ztf_dr22_lc"
   ]
  },
  {
   "cell_type": "code",
   "execution_count": null,
   "metadata": {},
   "outputs": [],
   "source": [
    "panstarrs = lsdb.read_hats(\n",
    "    UPath(\"s3://stpubdata/panstarrs/ps1/public/hats/otmo\", anon=True),\n",
    "    margin_cache=UPath(\n",
    "        \"s3://stpubdata/panstarrs/ps1/public/hats/otmo_10arcs\", anon=True\n",
    "    ),\n",
    ")\n",
    "panstarrs"
   ]
  },
  {
   "cell_type": "markdown",
   "metadata": {},
   "source": [
    "And define a crossmatching radius:"
   ]
  },
  {
   "cell_type": "code",
   "execution_count": null,
   "metadata": {},
   "outputs": [],
   "source": [
    "xmatch_radius_arcsec = 1"
   ]
  },
  {
   "cell_type": "markdown",
   "metadata": {},
   "source": [
    "### Crossmatch DIA objects"
   ]
  },
  {
   "cell_type": "code",
   "execution_count": null,
   "metadata": {},
   "outputs": [],
   "source": [
    "diaObject_lc = lsdb.read_hats(hats_dir / \"diaObject_lc\").map_partitions(\n",
    "    lambda df: df.assign(\n",
    "        **{\n",
    "            lc_column: df[lc_column].astype(\n",
    "                NestedDtype.from_pandas_arrow_dtype(df.dtypes[lc_column])\n",
    "            )\n",
    "            for lc_column in [\"diaSource\", \"diaForcedSource\"]\n",
    "        }\n",
    "    )\n",
    ")\n",
    "diaObject_lc"
   ]
  },
  {
   "cell_type": "code",
   "execution_count": null,
   "metadata": {},
   "outputs": [],
   "source": [
    "diaObject_lc_x_ztf_dr22 = diaObject_lc.crossmatch(\n",
    "    ztf_dr22_lc, radius_arcsec=xmatch_radius_arcsec, suffixes=(\"\", \"_ztf\")\n",
    ")\n",
    "diaObject_lc_x_ztf_dr22.to_hats(hats_dir / \"diaObject_lc_x_ztf_dr22\")"
   ]
  },
  {
   "cell_type": "code",
   "execution_count": null,
   "metadata": {},
   "outputs": [],
   "source": [
    "diaObject_lc_x_ps1 = diaObject_lc.crossmatch(\n",
    "    panstarrs, radius_arcsec=xmatch_radius_arcsec, suffixes=(\"\", \"_ps1\")\n",
    ")\n",
    "diaObject_lc_x_ps1.to_hats(hats_dir / \"diaObject_lc_x_ps1\")"
   ]
  },
  {
   "cell_type": "markdown",
   "metadata": {},
   "source": [
    "### Crossmatch objects"
   ]
  },
  {
   "cell_type": "code",
   "execution_count": null,
   "metadata": {},
   "outputs": [],
   "source": [
    "object_lc = lsdb.read_hats(hats_dir / \"object_lc\").map_partitions(\n",
    "    lambda df: df.assign(\n",
    "        **{\n",
    "            \"forcedSource\": df[\"forcedSource\"].astype(\n",
    "                NestedDtype.from_pandas_arrow_dtype(df.dtypes[\"forcedSource\"])\n",
    "            )\n",
    "        }\n",
    "    )\n",
    ")\n",
    "object_lc"
   ]
  },
  {
   "cell_type": "code",
   "execution_count": null,
   "metadata": {},
   "outputs": [],
   "source": [
    "object_lc_x_ztf_dr22 = object_lc.crossmatch(\n",
    "    ztf_dr22_lc, radius_arcsec=xmatch_radius_arcsec, suffixes=(\"\", \"_ztf\")\n",
    ")\n",
    "object_lc_x_ztf_dr22.to_hats(hats_dir / \"object_lc_x_ztf_dr22\")"
   ]
  },
  {
   "cell_type": "code",
   "execution_count": null,
   "metadata": {},
   "outputs": [],
   "source": [
    "object_lc_x_ps1 = object_lc.crossmatch(\n",
    "    panstarrs, radius_arcsec=xmatch_radius_arcsec, suffixes=(\"\", \"_ps1\")\n",
    ")\n",
    "object_lc_x_ps1.to_hats(hats_dir / \"object_lc_x_ps1\")"
   ]
  },
  {
   "cell_type": "code",
   "execution_count": null,
   "metadata": {},
   "outputs": [],
   "source": [
    "client.close()\n",
    "tmp_path.cleanup()"
   ]
  }
 ],
 "metadata": {
  "kernelspec": {
   "display_name": "Python 3 (ipykernel)",
   "language": "python",
   "name": "python3"
  },
  "language_info": {
   "codemirror_mode": {
    "name": "ipython",
    "version": 3
   },
   "file_extension": ".py",
   "mimetype": "text/x-python",
   "name": "python",
   "nbconvert_exporter": "python",
   "pygments_lexer": "ipython3",
   "version": "3.11.9"
  }
 },
 "nbformat": 4,
 "nbformat_minor": 2
}
