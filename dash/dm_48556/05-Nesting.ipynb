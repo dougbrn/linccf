{
 "cells": [
  {
   "cell_type": "markdown",
   "id": "8e5a49bb-9251-4b4a-b347-fbef01b945eb",
   "metadata": {},
   "source": [
    "# Nesting\n",
    "\n",
    "Create catalogs for `diaObject` and `object` with nested sources and forced sources."
   ]
  },
  {
   "cell_type": "code",
   "execution_count": null,
   "id": "c5123781",
   "metadata": {},
   "outputs": [],
   "source": [
    "#%pip install lsdb --upgrade\n",
    "#%pip install nested-dask --upgrade\n",
    "#%pip install nested-pandas --upgrade"
   ]
  },
  {
   "cell_type": "code",
   "execution_count": 1,
   "id": "4d3a6b07-f916-4e26-8862-ed50f2e669d8",
   "metadata": {
    "execution": {
     "iopub.execute_input": "2025-01-30T14:28:36.544536Z",
     "iopub.status.busy": "2025-01-30T14:28:36.544039Z",
     "iopub.status.idle": "2025-01-30T14:28:36.546721Z",
     "shell.execute_reply": "2025-01-30T14:28:36.546389Z",
     "shell.execute_reply.started": "2025-01-30T14:28:36.544519Z"
    }
   },
   "outputs": [],
   "source": [
    "import os\n",
    "import lsdb\n",
    "import tempfile\n",
    "\n",
    "from pathlib import Path\n",
    "from dask.distributed import Client\n",
    "from nested_pandas import NestedDtype"
   ]
  },
  {
   "cell_type": "code",
   "execution_count": 2,
   "id": "9fda8024-983e-44e7-8c06-58159498f200",
   "metadata": {
    "execution": {
     "iopub.execute_input": "2025-01-30T14:28:37.876082Z",
     "iopub.status.busy": "2025-01-30T14:28:37.875831Z",
     "iopub.status.idle": "2025-01-30T14:28:37.878403Z",
     "shell.execute_reply": "2025-01-30T14:28:37.878038Z",
     "shell.execute_reply.started": "2025-01-30T14:28:37.876067Z"
    }
   },
   "outputs": [],
   "source": [
    "base_output_dir = Path(\"/sdf/data/rubin/shared/lsdb_commissioning/dm_48556_new\")\n",
    "raw_dir = base_output_dir / \"raw\"\n",
    "hats_dir = base_output_dir / \"hats\""
   ]
  },
  {
   "cell_type": "code",
   "execution_count": 3,
   "id": "93bb4491",
   "metadata": {},
   "outputs": [],
   "source": [
    "tmp_path = tempfile.TemporaryDirectory()\n",
    "tmp_dir = tmp_path.name\n",
    "client = Client(n_workers=16, threads_per_worker=1, local_directory=tmp_dir)"
   ]
  },
  {
   "cell_type": "code",
   "execution_count": 4,
   "id": "f6a550ce",
   "metadata": {},
   "outputs": [],
   "source": [
    "def sort_nested_sources(df, source_cols):\n",
    "    mjd_col = \"midpointMjdTai\"\n",
    "    for source_col in source_cols:\n",
    "        flat_sources = df[source_col].nest.to_flat()\n",
    "        df = df.drop(columns=[source_col])\n",
    "        df = df.add_nested(flat_sources.sort_values([flat_sources.index.name, mjd_col]), source_col)\n",
    "    return df"
   ]
  },
  {
   "cell_type": "markdown",
   "id": "79e3e6ee",
   "metadata": {},
   "source": [
    "### DiaObject with nested sources"
   ]
  },
  {
   "cell_type": "code",
   "execution_count": 5,
   "id": "79fe9f8f",
   "metadata": {},
   "outputs": [],
   "source": [
    "diaObject_cat = lsdb.read_hats(os.path.join(hats_dir, \"diaObject\"))\n",
    "diaSource_cat = lsdb.read_hats(os.path.join(hats_dir, \"diaSource\"))\n",
    "diaForcedSource_cat = lsdb.read_hats(os.path.join(hats_dir, \"diaForcedSource\"))"
   ]
  },
  {
   "cell_type": "code",
   "execution_count": null,
   "id": "e820f5f0",
   "metadata": {},
   "outputs": [],
   "source": [
    "diaObject_cat_nested = diaObject_cat.join_nested(\n",
    "    diaSource_cat, left_on=\"diaObjectId\", right_on=\"diaObjectId\", nested_column_name=\"diaSource\").join_nested(\n",
    "    diaForcedSource_cat, left_on=\"diaObjectId\", right_on=\"diaObjectId\", nested_column_name=\"diaForcedSource\")\n",
    "diaObject_cat_nested"
   ]
  },
  {
   "cell_type": "markdown",
   "id": "653e3688",
   "metadata": {},
   "source": [
    "Also, for each object, sort sources by timestamp:"
   ]
  },
  {
   "cell_type": "code",
   "execution_count": 7,
   "id": "361a4bb3",
   "metadata": {},
   "outputs": [],
   "source": [
    "diaObject_cat_nested = diaObject_cat_nested.map_partitions(lambda x: sort_nested_sources(x, source_cols=[\"diaSource\", \"diaForcedSource\"]))"
   ]
  },
  {
   "cell_type": "markdown",
   "id": "82fe6778",
   "metadata": {},
   "source": [
    "Save resulting catalog to disk:"
   ]
  },
  {
   "cell_type": "code",
   "execution_count": null,
   "id": "8652d118",
   "metadata": {},
   "outputs": [],
   "source": [
    "diaObject_cat_nested.to_hats(hats_dir / \"diaObject_lc\")"
   ]
  },
  {
   "cell_type": "markdown",
   "id": "e6260fb7",
   "metadata": {},
   "source": [
    "Reading with LSDB currently requires a bit of manipulation:"
   ]
  },
  {
   "cell_type": "code",
   "execution_count": null,
   "id": "a2f2ae93",
   "metadata": {},
   "outputs": [],
   "source": [
    "diaObject_lc = lsdb.read_hats(\n",
    "    hats_dir / \"diaObject_lc\"   \n",
    ").map_partitions(\n",
    "    lambda df: df.assign(\n",
    "        **{ \n",
    "            lc_column: df[lc_column].astype(NestedDtype.from_pandas_arrow_dtype(df.dtypes[lc_column])) \n",
    "            for lc_column in [\"diaSource\", \"diaForcedSource\"]\n",
    "        }\n",
    "    )\n",
    ")\n",
    "diaObject_lc"
   ]
  },
  {
   "cell_type": "markdown",
   "id": "a48904bd",
   "metadata": {},
   "source": [
    "### Object with nested sources"
   ]
  },
  {
   "cell_type": "code",
   "execution_count": 25,
   "id": "71361cf3",
   "metadata": {},
   "outputs": [],
   "source": [
    "object_cat = lsdb.read_hats(os.path.join(hats_dir, \"object\"))\n",
    "forcedSource_cat = lsdb.read_hats(os.path.join(hats_dir, \"forcedSource\"))"
   ]
  },
  {
   "cell_type": "code",
   "execution_count": null,
   "id": "d37e4d8e",
   "metadata": {},
   "outputs": [],
   "source": [
    "object_cat_nested = object_cat.join_nested(forcedSource_cat, left_on=\"objectId\", right_on=\"objectId\", nested_column_name=\"forcedSource\")\n",
    "object_cat_nested"
   ]
  },
  {
   "cell_type": "markdown",
   "id": "b85b5f74",
   "metadata": {},
   "source": [
    "Also, for each object, sort sources by timestamp:"
   ]
  },
  {
   "cell_type": "code",
   "execution_count": 27,
   "id": "9ec168b6",
   "metadata": {},
   "outputs": [],
   "source": [
    "object_cat_nested = object_cat_nested.map_partitions(lambda x: sort_nested_sources(x, source_cols=[\"forcedSource\"]))"
   ]
  },
  {
   "cell_type": "markdown",
   "id": "e03ee70e",
   "metadata": {},
   "source": [
    "Save resulting catalog to disk:"
   ]
  },
  {
   "cell_type": "code",
   "execution_count": 28,
   "id": "9f485952",
   "metadata": {},
   "outputs": [],
   "source": [
    "object_cat_nested.to_hats(os.path.join(hats_dir, \"object_lc\"))"
   ]
  },
  {
   "cell_type": "code",
   "execution_count": null,
   "id": "39bac872",
   "metadata": {},
   "outputs": [],
   "source": [
    "object_lc = lsdb.read_hats(\n",
    "    hats_dir / \"object_lc\"\n",
    ").map_partitions(\n",
    "    lambda df: df.assign(\n",
    "        **{ \"forcedSource\": df[\"forcedSource\"].astype(NestedDtype.from_pandas_arrow_dtype(df.dtypes[\"forcedSource\"])) }\n",
    "    )\n",
    ")\n",
    "object_lc"
   ]
  },
  {
   "cell_type": "code",
   "execution_count": null,
   "id": "7ae463ab-2e2e-4aec-8e2e-4bcb21a8c3c5",
   "metadata": {
    "execution": {
     "iopub.execute_input": "2025-01-30T14:48:17.090895Z",
     "iopub.status.busy": "2025-01-30T14:48:17.090607Z",
     "iopub.status.idle": "2025-01-30T14:48:17.472416Z",
     "shell.execute_reply": "2025-01-30T14:48:17.472035Z",
     "shell.execute_reply.started": "2025-01-30T14:48:17.090881Z"
    }
   },
   "outputs": [],
   "source": [
    "client.close()\n",
    "tmp_path.cleanup()"
   ]
  }
 ],
 "metadata": {
  "kernelspec": {
   "display_name": "Python 3 (ipykernel)",
   "language": "python",
   "name": "python3"
  },
  "language_info": {
   "codemirror_mode": {
    "name": "ipython",
    "version": 3
   },
   "file_extension": ".py",
   "mimetype": "text/x-python",
   "name": "python",
   "nbconvert_exporter": "python",
   "pygments_lexer": "ipython3",
   "version": "3.11.9"
  }
 },
 "nbformat": 4,
 "nbformat_minor": 5
}
