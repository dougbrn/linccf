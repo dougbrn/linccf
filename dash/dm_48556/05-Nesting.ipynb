{
 "cells": [
  {
   "cell_type": "markdown",
   "id": "8e5a49bb-9251-4b4a-b347-fbef01b945eb",
   "metadata": {},
   "source": [
    "# DASH on a large instance\n",
    "\n",
    "Execution for [2025_04](https://rubinobs.atlassian.net/browse/DM-48556)\n",
    "\n",
    "This notebook uses the butler only to fetch the tracts/patches, and to fetch the URIs of backing parquet files. Those files are read into the hats-import pipeline directly.\n",
    "\n",
    "This is done because many `butler.get` results are too large to fit in the memory of a medium or large RSP notebook instance.\n",
    "\n",
    "Beyond the butler issues, there were additional problems with running the importer on a smaller instance. While these can largely be avoided by running on the dev machines that are available outside notebooks, I think it's a good lesson for how the Rubin data is structured and how we can more efficiently import with our existing tools.\n",
    "\n",
    "Useful material:\n",
    "- LINCC notebooks: https://github.com/lsst-sitcom/linccf\n",
    "- https://github.com/LSSTScienceCollaborations/StackClub/tree/master"
   ]
  },
  {
   "cell_type": "code",
   "execution_count": 1,
   "id": "4d3a6b07-f916-4e26-8862-ed50f2e669d8",
   "metadata": {
    "execution": {
     "iopub.execute_input": "2025-01-30T14:28:36.544536Z",
     "iopub.status.busy": "2025-01-30T14:28:36.544039Z",
     "iopub.status.idle": "2025-01-30T14:28:36.546721Z",
     "shell.execute_reply": "2025-01-30T14:28:36.546389Z",
     "shell.execute_reply.started": "2025-01-30T14:28:36.544519Z"
    }
   },
   "outputs": [],
   "source": [
    "from pathlib import Path\n",
    "# HATS/LSDB\n",
    "import lsdb\n",
    "import hats_import.pipeline as runner\n",
    "from hats_import.catalog.arguments import ImportArguments\n",
    "\n",
    "from tqdm import tqdm\n",
    "import pandas as pd"
   ]
  },
  {
   "cell_type": "code",
   "execution_count": 2,
   "id": "9fda8024-983e-44e7-8c06-58159498f200",
   "metadata": {
    "execution": {
     "iopub.execute_input": "2025-01-30T14:28:37.876082Z",
     "iopub.status.busy": "2025-01-30T14:28:37.875831Z",
     "iopub.status.idle": "2025-01-30T14:28:37.878403Z",
     "shell.execute_reply": "2025-01-30T14:28:37.878038Z",
     "shell.execute_reply.started": "2025-01-30T14:28:37.876067Z"
    }
   },
   "outputs": [],
   "source": [
    "# %pip install -q lsdb hats-import"
   ]
  },
  {
   "cell_type": "code",
   "execution_count": 4,
   "id": "d860e7b9-0230-41da-9d5f-aebcb925bb61",
   "metadata": {
    "execution": {
     "iopub.execute_input": "2025-01-30T14:28:45.239901Z",
     "iopub.status.busy": "2025-01-30T14:28:45.239652Z",
     "iopub.status.idle": "2025-01-30T14:28:45.243165Z",
     "shell.execute_reply": "2025-01-30T14:28:45.242792Z",
     "shell.execute_reply.started": "2025-01-30T14:28:45.239887Z"
    }
   },
   "outputs": [],
   "source": [
    "raw_dir = base_output_dir / \"raw\"\n",
    "hats_dir = base_output_dir /  \"hats\"\n",
    "\n",
    "raw_dir.mkdir(parents=True, exist_ok=True)\n",
    "hats_dir.mkdir(parents=True, exist_ok=True)"
   ]
  },
  {
   "cell_type": "markdown",
   "id": "c3e637d5",
   "metadata": {},
   "source": [
    "## nest sources in object catalogs"
   ]
  },
  {
   "cell_type": "code",
   "execution_count": null,
   "id": "12643241",
   "metadata": {},
   "outputs": [],
   "source": [
    "diaObject_cat = lsdb.read_hats(os.path.join(hats_dir, \"diaObject\"))\n",
    "diaSource_cat = lsdb.read_hats(os.path.join(hats_dir, \"diaSource\"))\n",
    "diaForcedSource_cat = lsdb.read_hats(os.path.join(hats_dir, \"diaForcedSource\"))"
   ]
  },
  {
   "cell_type": "code",
   "execution_count": null,
   "id": "900787e3",
   "metadata": {},
   "outputs": [],
   "source": [
    "diaObject_cat_nested = diaObject_cat.join_nested(\n",
    "    diaSource_cat, left_on=\"diaObjectId\", right_on=\"diaObjectId\", nested_column_name=\"diaSource\").join_nested(\n",
    "    diaForcedSource_cat, left_on=\"diaObjectId\", right_on=\"diaObjectId\", nested_column_name=\"diaForcedSource\")\n",
    "diaObject_cat_nested"
   ]
  },
  {
   "cell_type": "code",
   "execution_count": null,
   "id": "c91df5da",
   "metadata": {},
   "outputs": [],
   "source": [
    "# diaObject_cat_nested.to_hats(os.path.join(hats_dir, \"diaObject_lc\"))"
   ]
  },
  {
   "cell_type": "code",
   "execution_count": null,
   "id": "71361cf3",
   "metadata": {},
   "outputs": [],
   "source": [
    "object_cat = lsdb.read_hats(os.path.join(hats_dir, \"object\"))\n",
    "source_cat = lsdb.read_hats(os.path.join(hats_dir, \"source\"))\n",
    "forcedSource_cat = lsdb.read_hats(os.path.join(hats_dir, \"forcedSource\"))"
   ]
  },
  {
   "cell_type": "code",
   "execution_count": null,
   "id": "d37e4d8e",
   "metadata": {},
   "outputs": [],
   "source": [
    "object_cat_nested = object_cat.join_nested(\n",
    "    #source_cat, left_on=\"objectId\", right_on=\"objectId\", nested_column_name=\"source\").join_nested(\n",
    "    forcedSource_cat, left_on=\"objectId\", right_on=\"objectId\", nested_column_name=\"forcedSource\")\n",
    "object_cat_nested"
   ]
  },
  {
   "cell_type": "code",
   "execution_count": null,
   "id": "9f485952",
   "metadata": {},
   "outputs": [],
   "source": [
    "# object_cat_nested.to_hats(os.path.join(hats_dir, \"object_lc\"))"
   ]
  },
  {
   "cell_type": "code",
   "execution_count": 8,
   "id": "7ae463ab-2e2e-4aec-8e2e-4bcb21a8c3c5",
   "metadata": {
    "execution": {
     "iopub.execute_input": "2025-01-30T14:48:17.090895Z",
     "iopub.status.busy": "2025-01-30T14:48:17.090607Z",
     "iopub.status.idle": "2025-01-30T14:48:17.472416Z",
     "shell.execute_reply": "2025-01-30T14:48:17.472035Z",
     "shell.execute_reply.started": "2025-01-30T14:48:17.090881Z"
    }
   },
   "outputs": [
    {
     "data": {
      "text/html": [
       "<pre style=\"margin: 0.1em;\n",
       "padding-left: 0.25em;\n",
       "border-left-style: solid;\n",
       "font-family: var(--jp-code-font-family);\n",
       "font-size: var(--jp-code-font-size);\n",
       "line-height: var(--jp-code-line-height);\n",
       "\"><span style=\"color: var(--jp-warn-color2)\">distributed.scheduler</span> <span style=\"color: var(--jp-info-color0)\">INFO</span>: Remove client Client-85c93bee-df16-11ef-b50d-5e9e76ef93db</pre>"
      ],
      "text/plain": [
       "<IPython.core.display.HTML object>"
      ]
     },
     "metadata": {},
     "output_type": "display_data"
    },
    {
     "data": {
      "text/html": [
       "<pre style=\"margin: 0.1em;\n",
       "padding-left: 0.25em;\n",
       "border-left-style: solid;\n",
       "font-family: var(--jp-code-font-family);\n",
       "font-size: var(--jp-code-font-size);\n",
       "line-height: var(--jp-code-line-height);\n",
       "\"><span style=\"color: var(--jp-warn-color2)\">distributed.core</span> <span style=\"color: var(--jp-info-color0)\">INFO</span>: Received &#x27;close-stream&#x27; from tcp://127.0.0.1:54202; closing.</pre>"
      ],
      "text/plain": [
       "<IPython.core.display.HTML object>"
      ]
     },
     "metadata": {},
     "output_type": "display_data"
    },
    {
     "data": {
      "text/html": [
       "<pre style=\"margin: 0.1em;\n",
       "padding-left: 0.25em;\n",
       "border-left-style: solid;\n",
       "font-family: var(--jp-code-font-family);\n",
       "font-size: var(--jp-code-font-size);\n",
       "line-height: var(--jp-code-line-height);\n",
       "\"><span style=\"color: var(--jp-warn-color2)\">distributed.scheduler</span> <span style=\"color: var(--jp-info-color0)\">INFO</span>: Remove client Client-85c93bee-df16-11ef-b50d-5e9e76ef93db</pre>"
      ],
      "text/plain": [
       "<IPython.core.display.HTML object>"
      ]
     },
     "metadata": {},
     "output_type": "display_data"
    },
    {
     "data": {
      "text/html": [
       "<pre style=\"margin: 0.1em;\n",
       "padding-left: 0.25em;\n",
       "border-left-style: solid;\n",
       "font-family: var(--jp-code-font-family);\n",
       "font-size: var(--jp-code-font-size);\n",
       "line-height: var(--jp-code-line-height);\n",
       "\"><span style=\"color: var(--jp-warn-color2)\">distributed.scheduler</span> <span style=\"color: var(--jp-info-color0)\">INFO</span>: Close client connection: Client-85c93bee-df16-11ef-b50d-5e9e76ef93db</pre>"
      ],
      "text/plain": [
       "<IPython.core.display.HTML object>"
      ]
     },
     "metadata": {},
     "output_type": "display_data"
    },
    {
     "data": {
      "text/html": [
       "<pre style=\"margin: 0.1em;\n",
       "padding-left: 0.25em;\n",
       "border-left-style: solid;\n",
       "font-family: var(--jp-code-font-family);\n",
       "font-size: var(--jp-code-font-size);\n",
       "line-height: var(--jp-code-line-height);\n",
       "\"><span style=\"color: var(--jp-warn-color2)\">distributed.scheduler</span> <span style=\"color: var(--jp-info-color0)\">INFO</span>: Retire worker addresses (stimulus_id=&#x27;retire-workers-1738248497.096658&#x27;) (0, 1, 2, 3)</pre>"
      ],
      "text/plain": [
       "<IPython.core.display.HTML object>"
      ]
     },
     "metadata": {},
     "output_type": "display_data"
    },
    {
     "data": {
      "text/html": [
       "<pre style=\"margin: 0.1em;\n",
       "padding-left: 0.25em;\n",
       "border-left-style: solid;\n",
       "font-family: var(--jp-code-font-family);\n",
       "font-size: var(--jp-code-font-size);\n",
       "line-height: var(--jp-code-line-height);\n",
       "\"><span style=\"color: var(--jp-warn-color2)\">distributed.nanny</span> <span style=\"color: var(--jp-info-color0)\">INFO</span>: Closing Nanny at &#x27;tcp://127.0.0.1:44465&#x27;. Reason: nanny-close</pre>"
      ],
      "text/plain": [
       "<IPython.core.display.HTML object>"
      ]
     },
     "metadata": {},
     "output_type": "display_data"
    },
    {
     "data": {
      "text/html": [
       "<pre style=\"margin: 0.1em;\n",
       "padding-left: 0.25em;\n",
       "border-left-style: solid;\n",
       "font-family: var(--jp-code-font-family);\n",
       "font-size: var(--jp-code-font-size);\n",
       "line-height: var(--jp-code-line-height);\n",
       "\"><span style=\"color: var(--jp-warn-color2)\">distributed.nanny</span> <span style=\"color: var(--jp-info-color0)\">INFO</span>: Nanny asking worker to close. Reason: nanny-close</pre>"
      ],
      "text/plain": [
       "<IPython.core.display.HTML object>"
      ]
     },
     "metadata": {},
     "output_type": "display_data"
    },
    {
     "data": {
      "text/html": [
       "<pre style=\"margin: 0.1em;\n",
       "padding-left: 0.25em;\n",
       "border-left-style: solid;\n",
       "font-family: var(--jp-code-font-family);\n",
       "font-size: var(--jp-code-font-size);\n",
       "line-height: var(--jp-code-line-height);\n",
       "\"><span style=\"color: var(--jp-warn-color2)\">distributed.nanny</span> <span style=\"color: var(--jp-info-color0)\">INFO</span>: Closing Nanny at &#x27;tcp://127.0.0.1:33945&#x27;. Reason: nanny-close</pre>"
      ],
      "text/plain": [
       "<IPython.core.display.HTML object>"
      ]
     },
     "metadata": {},
     "output_type": "display_data"
    },
    {
     "data": {
      "text/html": [
       "<pre style=\"margin: 0.1em;\n",
       "padding-left: 0.25em;\n",
       "border-left-style: solid;\n",
       "font-family: var(--jp-code-font-family);\n",
       "font-size: var(--jp-code-font-size);\n",
       "line-height: var(--jp-code-line-height);\n",
       "\"><span style=\"color: var(--jp-warn-color2)\">distributed.nanny</span> <span style=\"color: var(--jp-info-color0)\">INFO</span>: Nanny asking worker to close. Reason: nanny-close</pre>"
      ],
      "text/plain": [
       "<IPython.core.display.HTML object>"
      ]
     },
     "metadata": {},
     "output_type": "display_data"
    },
    {
     "data": {
      "text/html": [
       "<pre style=\"margin: 0.1em;\n",
       "padding-left: 0.25em;\n",
       "border-left-style: solid;\n",
       "font-family: var(--jp-code-font-family);\n",
       "font-size: var(--jp-code-font-size);\n",
       "line-height: var(--jp-code-line-height);\n",
       "\"><span style=\"color: var(--jp-warn-color2)\">distributed.nanny</span> <span style=\"color: var(--jp-info-color0)\">INFO</span>: Closing Nanny at &#x27;tcp://127.0.0.1:36933&#x27;. Reason: nanny-close</pre>"
      ],
      "text/plain": [
       "<IPython.core.display.HTML object>"
      ]
     },
     "metadata": {},
     "output_type": "display_data"
    },
    {
     "data": {
      "text/html": [
       "<pre style=\"margin: 0.1em;\n",
       "padding-left: 0.25em;\n",
       "border-left-style: solid;\n",
       "font-family: var(--jp-code-font-family);\n",
       "font-size: var(--jp-code-font-size);\n",
       "line-height: var(--jp-code-line-height);\n",
       "\"><span style=\"color: var(--jp-warn-color2)\">distributed.nanny</span> <span style=\"color: var(--jp-info-color0)\">INFO</span>: Nanny asking worker to close. Reason: nanny-close</pre>"
      ],
      "text/plain": [
       "<IPython.core.display.HTML object>"
      ]
     },
     "metadata": {},
     "output_type": "display_data"
    },
    {
     "data": {
      "text/html": [
       "<pre style=\"margin: 0.1em;\n",
       "padding-left: 0.25em;\n",
       "border-left-style: solid;\n",
       "font-family: var(--jp-code-font-family);\n",
       "font-size: var(--jp-code-font-size);\n",
       "line-height: var(--jp-code-line-height);\n",
       "\"><span style=\"color: var(--jp-warn-color2)\">distributed.nanny</span> <span style=\"color: var(--jp-info-color0)\">INFO</span>: Closing Nanny at &#x27;tcp://127.0.0.1:45183&#x27;. Reason: nanny-close</pre>"
      ],
      "text/plain": [
       "<IPython.core.display.HTML object>"
      ]
     },
     "metadata": {},
     "output_type": "display_data"
    },
    {
     "data": {
      "text/html": [
       "<pre style=\"margin: 0.1em;\n",
       "padding-left: 0.25em;\n",
       "border-left-style: solid;\n",
       "font-family: var(--jp-code-font-family);\n",
       "font-size: var(--jp-code-font-size);\n",
       "line-height: var(--jp-code-line-height);\n",
       "\"><span style=\"color: var(--jp-warn-color2)\">distributed.nanny</span> <span style=\"color: var(--jp-info-color0)\">INFO</span>: Nanny asking worker to close. Reason: nanny-close</pre>"
      ],
      "text/plain": [
       "<IPython.core.display.HTML object>"
      ]
     },
     "metadata": {},
     "output_type": "display_data"
    },
    {
     "data": {
      "text/html": [
       "<pre style=\"margin: 0.1em;\n",
       "padding-left: 0.25em;\n",
       "border-left-style: solid;\n",
       "font-family: var(--jp-code-font-family);\n",
       "font-size: var(--jp-code-font-size);\n",
       "line-height: var(--jp-code-line-height);\n",
       "\"><span style=\"color: var(--jp-warn-color2)\">distributed.core</span> <span style=\"color: var(--jp-info-color0)\">INFO</span>: Received &#x27;close-stream&#x27; from tcp://127.0.0.1:54170; closing.</pre>"
      ],
      "text/plain": [
       "<IPython.core.display.HTML object>"
      ]
     },
     "metadata": {},
     "output_type": "display_data"
    },
    {
     "data": {
      "text/html": [
       "<pre style=\"margin: 0.1em;\n",
       "padding-left: 0.25em;\n",
       "border-left-style: solid;\n",
       "font-family: var(--jp-code-font-family);\n",
       "font-size: var(--jp-code-font-size);\n",
       "line-height: var(--jp-code-line-height);\n",
       "\"><span style=\"color: var(--jp-warn-color2)\">distributed.core</span> <span style=\"color: var(--jp-info-color0)\">INFO</span>: Received &#x27;close-stream&#x27; from tcp://127.0.0.1:54184; closing.</pre>"
      ],
      "text/plain": [
       "<IPython.core.display.HTML object>"
      ]
     },
     "metadata": {},
     "output_type": "display_data"
    },
    {
     "data": {
      "text/html": [
       "<pre style=\"margin: 0.1em;\n",
       "padding-left: 0.25em;\n",
       "border-left-style: solid;\n",
       "font-family: var(--jp-code-font-family);\n",
       "font-size: var(--jp-code-font-size);\n",
       "line-height: var(--jp-code-line-height);\n",
       "\"><span style=\"color: var(--jp-warn-color2)\">distributed.core</span> <span style=\"color: var(--jp-info-color0)\">INFO</span>: Received &#x27;close-stream&#x27; from tcp://127.0.0.1:54186; closing.</pre>"
      ],
      "text/plain": [
       "<IPython.core.display.HTML object>"
      ]
     },
     "metadata": {},
     "output_type": "display_data"
    },
    {
     "data": {
      "text/html": [
       "<pre style=\"margin: 0.1em;\n",
       "padding-left: 0.25em;\n",
       "border-left-style: solid;\n",
       "font-family: var(--jp-code-font-family);\n",
       "font-size: var(--jp-code-font-size);\n",
       "line-height: var(--jp-code-line-height);\n",
       "\"><span style=\"color: var(--jp-warn-color2)\">distributed.scheduler</span> <span style=\"color: var(--jp-info-color0)\">INFO</span>: Remove worker addr: tcp://127.0.0.1:42657 name: 0 (stimulus_id=&#x27;handle-worker-cleanup-1738248497.1072443&#x27;)</pre>"
      ],
      "text/plain": [
       "<IPython.core.display.HTML object>"
      ]
     },
     "metadata": {},
     "output_type": "display_data"
    },
    {
     "data": {
      "text/html": [
       "<pre style=\"margin: 0.1em;\n",
       "padding-left: 0.25em;\n",
       "border-left-style: solid;\n",
       "font-family: var(--jp-code-font-family);\n",
       "font-size: var(--jp-code-font-size);\n",
       "line-height: var(--jp-code-line-height);\n",
       "\"><span style=\"color: var(--jp-warn-color2)\">distributed.scheduler</span> <span style=\"color: var(--jp-info-color0)\">INFO</span>: Remove worker addr: tcp://127.0.0.1:42083 name: 1 (stimulus_id=&#x27;handle-worker-cleanup-1738248497.1082754&#x27;)</pre>"
      ],
      "text/plain": [
       "<IPython.core.display.HTML object>"
      ]
     },
     "metadata": {},
     "output_type": "display_data"
    },
    {
     "data": {
      "text/html": [
       "<pre style=\"margin: 0.1em;\n",
       "padding-left: 0.25em;\n",
       "border-left-style: solid;\n",
       "font-family: var(--jp-code-font-family);\n",
       "font-size: var(--jp-code-font-size);\n",
       "line-height: var(--jp-code-line-height);\n",
       "\"><span style=\"color: var(--jp-warn-color2)\">distributed.scheduler</span> <span style=\"color: var(--jp-info-color0)\">INFO</span>: Remove worker addr: tcp://127.0.0.1:37159 name: 2 (stimulus_id=&#x27;handle-worker-cleanup-1738248497.1093347&#x27;)</pre>"
      ],
      "text/plain": [
       "<IPython.core.display.HTML object>"
      ]
     },
     "metadata": {},
     "output_type": "display_data"
    },
    {
     "data": {
      "text/html": [
       "<pre style=\"margin: 0.1em;\n",
       "padding-left: 0.25em;\n",
       "border-left-style: solid;\n",
       "font-family: var(--jp-code-font-family);\n",
       "font-size: var(--jp-code-font-size);\n",
       "line-height: var(--jp-code-line-height);\n",
       "\"><span style=\"color: var(--jp-warn-color2)\">distributed.core</span> <span style=\"color: var(--jp-info-color0)\">INFO</span>: Received &#x27;close-stream&#x27; from tcp://127.0.0.1:54166; closing.</pre>"
      ],
      "text/plain": [
       "<IPython.core.display.HTML object>"
      ]
     },
     "metadata": {},
     "output_type": "display_data"
    },
    {
     "data": {
      "text/html": [
       "<pre style=\"margin: 0.1em;\n",
       "padding-left: 0.25em;\n",
       "border-left-style: solid;\n",
       "font-family: var(--jp-code-font-family);\n",
       "font-size: var(--jp-code-font-size);\n",
       "line-height: var(--jp-code-line-height);\n",
       "\"><span style=\"color: var(--jp-warn-color2)\">distributed.scheduler</span> <span style=\"color: var(--jp-info-color0)\">INFO</span>: Remove worker addr: tcp://127.0.0.1:34623 name: 3 (stimulus_id=&#x27;handle-worker-cleanup-1738248497.1156788&#x27;)</pre>"
      ],
      "text/plain": [
       "<IPython.core.display.HTML object>"
      ]
     },
     "metadata": {},
     "output_type": "display_data"
    },
    {
     "data": {
      "text/html": [
       "<pre style=\"margin: 0.1em;\n",
       "padding-left: 0.25em;\n",
       "border-left-style: solid;\n",
       "font-family: var(--jp-code-font-family);\n",
       "font-size: var(--jp-code-font-size);\n",
       "line-height: var(--jp-code-line-height);\n",
       "\"><span style=\"color: var(--jp-warn-color2)\">distributed.scheduler</span> <span style=\"color: var(--jp-info-color0)\">INFO</span>: Lost all workers</pre>"
      ],
      "text/plain": [
       "<IPython.core.display.HTML object>"
      ]
     },
     "metadata": {},
     "output_type": "display_data"
    },
    {
     "data": {
      "text/html": [
       "<pre style=\"margin: 0.1em;\n",
       "padding-left: 0.25em;\n",
       "border-left-style: solid;\n",
       "font-family: var(--jp-code-font-family);\n",
       "font-size: var(--jp-code-font-size);\n",
       "line-height: var(--jp-code-line-height);\n",
       "\"><span style=\"color: var(--jp-warn-color2)\">distributed.nanny</span> <span style=\"color: var(--jp-info-color0)\">INFO</span>: Nanny at &#x27;tcp://127.0.0.1:45183&#x27; closed.</pre>"
      ],
      "text/plain": [
       "<IPython.core.display.HTML object>"
      ]
     },
     "metadata": {},
     "output_type": "display_data"
    },
    {
     "data": {
      "text/html": [
       "<pre style=\"margin: 0.1em;\n",
       "padding-left: 0.25em;\n",
       "border-left-style: solid;\n",
       "font-family: var(--jp-code-font-family);\n",
       "font-size: var(--jp-code-font-size);\n",
       "line-height: var(--jp-code-line-height);\n",
       "\"><span style=\"color: var(--jp-warn-color2)\">distributed.nanny</span> <span style=\"color: var(--jp-info-color0)\">INFO</span>: Nanny at &#x27;tcp://127.0.0.1:33945&#x27; closed.</pre>"
      ],
      "text/plain": [
       "<IPython.core.display.HTML object>"
      ]
     },
     "metadata": {},
     "output_type": "display_data"
    },
    {
     "data": {
      "text/html": [
       "<pre style=\"margin: 0.1em;\n",
       "padding-left: 0.25em;\n",
       "border-left-style: solid;\n",
       "font-family: var(--jp-code-font-family);\n",
       "font-size: var(--jp-code-font-size);\n",
       "line-height: var(--jp-code-line-height);\n",
       "\"><span style=\"color: var(--jp-warn-color2)\">distributed.nanny</span> <span style=\"color: var(--jp-info-color0)\">INFO</span>: Nanny at &#x27;tcp://127.0.0.1:36933&#x27; closed.</pre>"
      ],
      "text/plain": [
       "<IPython.core.display.HTML object>"
      ]
     },
     "metadata": {},
     "output_type": "display_data"
    },
    {
     "data": {
      "text/html": [
       "<pre style=\"margin: 0.1em;\n",
       "padding-left: 0.25em;\n",
       "border-left-style: solid;\n",
       "font-family: var(--jp-code-font-family);\n",
       "font-size: var(--jp-code-font-size);\n",
       "line-height: var(--jp-code-line-height);\n",
       "\"><span style=\"color: var(--jp-warn-color2)\">distributed.nanny</span> <span style=\"color: var(--jp-info-color0)\">INFO</span>: Nanny at &#x27;tcp://127.0.0.1:44465&#x27; closed.</pre>"
      ],
      "text/plain": [
       "<IPython.core.display.HTML object>"
      ]
     },
     "metadata": {},
     "output_type": "display_data"
    },
    {
     "data": {
      "text/html": [
       "<pre style=\"margin: 0.1em;\n",
       "padding-left: 0.25em;\n",
       "border-left-style: solid;\n",
       "font-family: var(--jp-code-font-family);\n",
       "font-size: var(--jp-code-font-size);\n",
       "line-height: var(--jp-code-line-height);\n",
       "\"><span style=\"color: var(--jp-warn-color2)\">distributed.scheduler</span> <span style=\"color: var(--jp-info-color0)\">INFO</span>: Closing scheduler. Reason: unknown</pre>"
      ],
      "text/plain": [
       "<IPython.core.display.HTML object>"
      ]
     },
     "metadata": {},
     "output_type": "display_data"
    },
    {
     "data": {
      "text/html": [
       "<pre style=\"margin: 0.1em;\n",
       "padding-left: 0.25em;\n",
       "border-left-style: solid;\n",
       "font-family: var(--jp-code-font-family);\n",
       "font-size: var(--jp-code-font-size);\n",
       "line-height: var(--jp-code-line-height);\n",
       "\"><span style=\"color: var(--jp-warn-color2)\">distributed.scheduler</span> <span style=\"color: var(--jp-info-color0)\">INFO</span>: Scheduler closing all comms</pre>"
      ],
      "text/plain": [
       "<IPython.core.display.HTML object>"
      ]
     },
     "metadata": {},
     "output_type": "display_data"
    }
   ],
   "source": [
    "client.close()\n",
    "tmp_path.cleanup()"
   ]
  },
  {
   "cell_type": "code",
   "execution_count": null,
   "id": "204e11ce-4afb-49cf-9ef0-be95888f4834",
   "metadata": {},
   "outputs": [],
   "source": []
  }
 ],
 "metadata": {
  "kernelspec": {
   "display_name": "LSST",
   "language": "python",
   "name": "lsst"
  },
  "language_info": {
   "codemirror_mode": {
    "name": "ipython",
    "version": 3
   },
   "file_extension": ".py",
   "mimetype": "text/x-python",
   "name": "python",
   "nbconvert_exporter": "python",
   "pygments_lexer": "ipython3",
   "version": "3.11.11"
  }
 },
 "nbformat": 4,
 "nbformat_minor": 5
}
