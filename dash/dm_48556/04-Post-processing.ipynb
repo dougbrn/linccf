{
 "cells": [
  {
   "cell_type": "markdown",
   "id": "77e2eca1-88a2-493c-8901-98828d0faae1",
   "metadata": {},
   "source": [
    "# Post-processing\n",
    "\n",
    "We will modify each parquet file in place. This seems like a good idea today, but could be crap tomorrow.\n",
    "\n",
    "If we use LSDB, we will need to use additional disk storage, both for fresh and post-processed data.\n",
    "\n",
    "Elements of post-processing to be accomplished in this notebook:\n",
    "\n",
    "* brightness in magnitude (e.g. convert ALL flux to magnitude)\n",
    "* join to visit table, where necessary\n",
    "* de-duplicate object and source tables (report shrinkage)\n",
    "* reduce number of columns of object tables?\n",
    "* order source tables by object id, then timestamp"
   ]
  },
  {
   "cell_type": "code",
   "execution_count": 24,
   "id": "440e22ef-a3a2-4bfb-9f84-d6f1cfc17fd4",
   "metadata": {
    "execution": {
     "iopub.execute_input": "2025-01-30T17:18:58.192856Z",
     "iopub.status.busy": "2025-01-30T17:18:58.192617Z",
     "iopub.status.idle": "2025-01-30T17:18:58.195383Z",
     "shell.execute_reply": "2025-01-30T17:18:58.195045Z",
     "shell.execute_reply.started": "2025-01-30T17:18:58.192842Z"
    }
   },
   "outputs": [],
   "source": [
    "from pathlib import Path\n",
    "import astropy.units as u\n",
    "from tqdm import tqdm\n",
    "import pandas as pd\n",
    "import numpy as np\n",
    "import pyarrow as pa\n",
    "import pyarrow.parquet as pq\n",
    "\n",
    "# HATS/LSDB\n",
    "import lsdb\n",
    "import hats\n",
    "from hats.io import file_io, paths"
   ]
  },
  {
   "cell_type": "code",
   "execution_count": 3,
   "id": "f115eabf-76c8-4fde-88d6-20b2d22a0756",
   "metadata": {
    "execution": {
     "iopub.execute_input": "2025-01-30T16:57:46.730208Z",
     "iopub.status.busy": "2025-01-30T16:57:46.729335Z",
     "iopub.status.idle": "2025-01-30T16:57:46.732664Z",
     "shell.execute_reply": "2025-01-30T16:57:46.732233Z",
     "shell.execute_reply.started": "2025-01-30T16:57:46.730188Z"
    }
   },
   "outputs": [],
   "source": [
    "base_output_dir = Path(\"/sdf/data/rubin/shared/lsdb_commissioning/dm_48556\")\n",
    "hats_dir = base_output_dir /  \"hats\""
   ]
  },
  {
   "cell_type": "code",
   "execution_count": 13,
   "id": "be00fecb-5855-4c54-9abc-351028548271",
   "metadata": {
    "execution": {
     "iopub.execute_input": "2025-01-30T17:16:41.036786Z",
     "iopub.status.busy": "2025-01-30T17:16:41.036458Z",
     "iopub.status.idle": "2025-01-30T17:16:41.040076Z",
     "shell.execute_reply": "2025-01-30T17:16:41.039765Z",
     "shell.execute_reply.started": "2025-01-30T17:16:41.036772Z"
    }
   },
   "outputs": [],
   "source": [
    "def append_mag_and_magerr(table, flux_col_prefixes):\n",
    "    \"\"\"Calculate magnitudes and their errors for flux columns.\"\"\"\n",
    "    mag_cols = {}\n",
    "    \n",
    "    for prefix in flux_col_prefixes:\n",
    "        # Magnitude\n",
    "        flux = table[f\"{prefix}Flux\"]\n",
    "        mag = u.nJy.to(u.ABmag, flux)\n",
    "        mag_cols[f\"{prefix}Mag\"] = mag\n",
    "\n",
    "        # Magnitude error, if flux error exists\n",
    "        fluxErr_col = f\"{prefix}FluxErr\"\n",
    "        if fluxErr_col in table.columns:\n",
    "            fluxErr = table[fluxErr_col]\n",
    "            upper_mag = u.nJy.to(u.ABmag, flux+fluxErr)\n",
    "            lower_mag = u.nJy.to(u.ABmag, flux-fluxErr)\n",
    "            magErr = -(upper_mag-lower_mag)/2\n",
    "            mag_cols[f\"{prefix}MagErr\"] = magErr\n",
    "        \n",
    "    mag_table = pd.DataFrame(mag_cols, dtype=np.float64, index=table.index)\n",
    "    return pd.concat([table, mag_table], axis=1)"
   ]
  },
  {
   "cell_type": "markdown",
   "id": "ecd17a8c-01cd-4caf-9a5c-b61cd44de04e",
   "metadata": {},
   "source": [
    "## diaObject\n",
    "\n",
    "This one is the easiest because it doesn't require ANY post-processing!!!"
   ]
  },
  {
   "cell_type": "markdown",
   "id": "c22c9c76-f6c2-441f-9fcb-278766fd3c4c",
   "metadata": {},
   "source": [
    "## diaSource"
   ]
  },
  {
   "cell_type": "code",
   "execution_count": 34,
   "id": "f8735fb9-cb7a-4911-ab8e-4f799efc2e7d",
   "metadata": {
    "execution": {
     "iopub.execute_input": "2025-01-30T17:25:43.410316Z",
     "iopub.status.busy": "2025-01-30T17:25:43.410010Z",
     "iopub.status.idle": "2025-01-30T17:25:43.597367Z",
     "shell.execute_reply": "2025-01-30T17:25:43.596906Z",
     "shell.execute_reply.started": "2025-01-30T17:25:43.410303Z"
    }
   },
   "outputs": [],
   "source": [
    "cat = hats.read_hats(hats_dir / \"diaSource\")\n",
    "# cat.schema"
   ]
  },
  {
   "cell_type": "code",
   "execution_count": 21,
   "id": "c403dea6-a76f-427d-b313-fcc6044e3b0d",
   "metadata": {
    "execution": {
     "iopub.execute_input": "2025-01-30T17:18:49.683758Z",
     "iopub.status.busy": "2025-01-30T17:18:49.683324Z",
     "iopub.status.idle": "2025-01-30T17:18:49.759094Z",
     "shell.execute_reply": "2025-01-30T17:18:49.758707Z",
     "shell.execute_reply.started": "2025-01-30T17:18:49.683741Z"
    }
   },
   "outputs": [],
   "source": [
    "file_path = paths.pixel_catalog_file(cat.catalog_path, cat.get_healpix_pixels()[0])\n",
    "table = pd.read_parquet(file_path)"
   ]
  },
  {
   "cell_type": "code",
   "execution_count": 33,
   "id": "51064c5e-c078-4621-9a0c-13614705647f",
   "metadata": {
    "execution": {
     "iopub.execute_input": "2025-01-30T17:24:06.987443Z",
     "iopub.status.busy": "2025-01-30T17:24:06.987055Z",
     "iopub.status.idle": "2025-01-30T17:24:06.990529Z",
     "shell.execute_reply": "2025-01-30T17:24:06.990176Z",
     "shell.execute_reply.started": "2025-01-30T17:24:06.987424Z"
    }
   },
   "outputs": [
    {
     "data": {
      "text/plain": [
       "304641"
      ]
     },
     "execution_count": 33,
     "metadata": {},
     "output_type": "execute_result"
    }
   ],
   "source": [
    "len(table[\"diaSourceId\"])"
   ]
  },
  {
   "cell_type": "code",
   "execution_count": 36,
   "id": "29fb236a-ec85-42ae-8cff-426761fdc1d5",
   "metadata": {
    "execution": {
     "iopub.execute_input": "2025-01-30T17:27:46.729191Z",
     "iopub.status.busy": "2025-01-30T17:27:46.728875Z",
     "iopub.status.idle": "2025-01-30T17:27:46.747275Z",
     "shell.execute_reply": "2025-01-30T17:27:46.746860Z",
     "shell.execute_reply.started": "2025-01-30T17:27:46.729177Z"
    }
   },
   "outputs": [],
   "source": [
    "values, index, counts = np.unique(table[\"diaSourceId\"], return_index=True, return_counts=True)\n"
   ]
  },
  {
   "cell_type": "code",
   "execution_count": 39,
   "id": "6d50ce98-8214-4082-887a-595411090982",
   "metadata": {
    "execution": {
     "iopub.execute_input": "2025-01-30T17:29:32.882494Z",
     "iopub.status.busy": "2025-01-30T17:29:32.881956Z",
     "iopub.status.idle": "2025-01-30T17:29:32.885425Z",
     "shell.execute_reply": "2025-01-30T17:29:32.885041Z",
     "shell.execute_reply.started": "2025-01-30T17:29:32.882474Z"
    }
   },
   "outputs": [
    {
     "data": {
      "text/plain": [
       "191403211800707126"
      ]
     },
     "execution_count": 39,
     "metadata": {},
     "output_type": "execute_result"
    }
   ],
   "source": [
    "# np.argmax(counts)\n",
    "values[193]\n"
   ]
  },
  {
   "cell_type": "code",
   "execution_count": 42,
   "id": "2559ee47-38f2-471a-916d-16819a4d1b2a",
   "metadata": {
    "execution": {
     "iopub.execute_input": "2025-01-30T17:33:51.159395Z",
     "iopub.status.busy": "2025-01-30T17:33:51.159059Z",
     "iopub.status.idle": "2025-01-30T17:33:51.174268Z",
     "shell.execute_reply": "2025-01-30T17:33:51.173894Z",
     "shell.execute_reply.started": "2025-01-30T17:33:51.159381Z"
    }
   },
   "outputs": [],
   "source": [
    "table.query(\"diaSourceId == 191403211800707126\").to_csv(\"duplicate_diaSource.csv\")"
   ]
  },
  {
   "cell_type": "code",
   "execution_count": 22,
   "id": "6992be51-842b-4681-9c59-1c6ba0d4da0d",
   "metadata": {
    "execution": {
     "iopub.execute_input": "2025-01-30T17:18:50.535150Z",
     "iopub.status.busy": "2025-01-30T17:18:50.534718Z",
     "iopub.status.idle": "2025-01-30T17:18:50.573614Z",
     "shell.execute_reply": "2025-01-30T17:18:50.573248Z",
     "shell.execute_reply.started": "2025-01-30T17:18:50.535134Z"
    }
   },
   "outputs": [
    {
     "name": "stderr",
     "output_type": "stream",
     "text": [
      "/opt/lsst/software/stack/conda/envs/lsst-scipipe-9.0.0/lib/python3.11/site-packages/astropy/units/function/logarithmic.py:67: RuntimeWarning: invalid value encountered in log10\n",
      "  return dex.to(self._function_unit, np.log10(x))\n"
     ]
    }
   ],
   "source": [
    "flux_col_prefixes = []\n",
    "for flux_name in [\"psf\",\"science\"]:\n",
    "    if f\"{flux_name}Flux\" in table.columns:\n",
    "        flux_col_prefixes.append(flux_name)\n",
    "print(flux_col_prefixes)\n",
    "if len(flux_col_prefixes) > 0:\n",
    "    table = append_mag_and_magerr(table, flux_col_prefixes)\n"
   ]
  },
  {
   "cell_type": "code",
   "execution_count": 25,
   "id": "c2a6c134-d46d-4386-a541-91d4f63d130e",
   "metadata": {
    "execution": {
     "iopub.execute_input": "2025-01-30T17:19:00.943321Z",
     "iopub.status.busy": "2025-01-30T17:19:00.942915Z",
     "iopub.status.idle": "2025-01-30T17:19:01.590679Z",
     "shell.execute_reply": "2025-01-30T17:19:01.590230Z",
     "shell.execute_reply.started": "2025-01-30T17:19:00.943305Z"
    }
   },
   "outputs": [],
   "source": [
    "pq.write_table(pa.Table.from_pandas(\n",
    "                        table, preserve_index=False\n",
    "                    ).replace_schema_metadata(), file_path.path)"
   ]
  },
  {
   "cell_type": "code",
   "execution_count": null,
   "id": "720262be-d054-402b-adf1-5859f4be273d",
   "metadata": {},
   "outputs": [],
   "source": []
  }
 ],
 "metadata": {
  "kernelspec": {
   "display_name": "LSST",
   "language": "python",
   "name": "lsst"
  },
  "language_info": {
   "codemirror_mode": {
    "name": "ipython",
    "version": 3
   },
   "file_extension": ".py",
   "mimetype": "text/x-python",
   "name": "python",
   "nbconvert_exporter": "python",
   "pygments_lexer": "ipython3",
   "version": "3.11.11"
  }
 },
 "nbformat": 4,
 "nbformat_minor": 5
}
