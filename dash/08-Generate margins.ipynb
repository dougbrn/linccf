{
 "cells": [
  {
   "cell_type": "markdown",
   "metadata": {},
   "source": [
    "# Generate margin caches\n",
    "\n",
    "Let's generate margin cache catalogs for our nested data products, `diaObject_lc` and `object_lc`."
   ]
  },
  {
   "cell_type": "code",
   "execution_count": 1,
   "metadata": {},
   "outputs": [],
   "source": [
    "import os\n",
    "import tempfile\n",
    "import hats_import.pipeline as runner\n",
    "\n",
    "from dask.distributed import Client\n",
    "from hats_import.margin_cache.margin_cache_arguments import MarginCacheArguments\n",
    "from pathlib import Path"
   ]
  },
  {
   "cell_type": "code",
   "execution_count": 2,
   "metadata": {},
   "outputs": [],
   "source": [
    "margin_radius_arcsec = 5"
   ]
  },
  {
   "cell_type": "code",
   "execution_count": 3,
   "metadata": {},
   "outputs": [
    {
     "name": "stdout",
     "output_type": "stream",
     "text": [
      "DRP_VERSION: w_2025_09\n"
     ]
    }
   ],
   "source": [
    "DRP_VERSION = os.environ[\"DRP_VERSION\"]\n",
    "print(f\"DRP_VERSION: {DRP_VERSION}\")\n",
    "base_output_dir = Path(f\"/sdf/data/rubin/shared/lsdb_commissioning\")\n",
    "hats_dir = base_output_dir / \"hats\" / DRP_VERSION"
   ]
  },
  {
   "cell_type": "code",
   "execution_count": 4,
   "metadata": {},
   "outputs": [],
   "source": [
    "tmp_path = tempfile.TemporaryDirectory()\n",
    "tmp_dir = tmp_path.name\n",
    "client = Client(n_workers=4, threads_per_worker=1, local_directory=tmp_dir)"
   ]
  },
  {
   "cell_type": "code",
   "execution_count": 5,
   "metadata": {},
   "outputs": [
    {
     "data": {
      "application/vnd.jupyter.widget-view+json": {
       "model_id": "c3582b7e16064cbaa4798432de882042",
       "version_major": 2,
       "version_minor": 0
      },
      "text/plain": [
       "Planning  :   0%|          | 0/3 [00:00<?, ?it/s]"
      ]
     },
     "metadata": {},
     "output_type": "display_data"
    },
    {
     "data": {
      "application/vnd.jupyter.widget-view+json": {
       "model_id": "b2b8f88326054d4d8fb667d0aa33b9ee",
       "version_major": 2,
       "version_minor": 0
      },
      "text/plain": [
       "Mapping   :   0%|          | 0/245 [00:00<?, ?it/s]"
      ]
     },
     "metadata": {},
     "output_type": "display_data"
    },
    {
     "data": {
      "application/vnd.jupyter.widget-view+json": {
       "model_id": "b478f0119da34ef582b9759bd966181c",
       "version_major": 2,
       "version_minor": 0
      },
      "text/plain": [
       "Binning   :   0%|          | 0/1 [00:00<?, ?it/s]"
      ]
     },
     "metadata": {},
     "output_type": "display_data"
    },
    {
     "data": {
      "application/vnd.jupyter.widget-view+json": {
       "model_id": "bce224da5e514cfab15534b1bc57f529",
       "version_major": 2,
       "version_minor": 0
      },
      "text/plain": [
       "Reducing  :   0%|          | 0/336 [00:00<?, ?it/s]"
      ]
     },
     "metadata": {},
     "output_type": "display_data"
    },
    {
     "data": {
      "application/vnd.jupyter.widget-view+json": {
       "model_id": "0da8a19c9be74d378e3bd491b815ac11",
       "version_major": 2,
       "version_minor": 0
      },
      "text/plain": [
       "Finishing :   0%|          | 0/4 [00:00<?, ?it/s]"
      ]
     },
     "metadata": {},
     "output_type": "display_data"
    }
   ],
   "source": [
    "args = MarginCacheArguments(\n",
    "    input_catalog_path=hats_dir / \"diaObject_lc\",\n",
    "    output_path=hats_dir,\n",
    "    margin_threshold=margin_radius_arcsec,\n",
    "    output_artifact_name=f\"diaObject_lc_{margin_radius_arcsec}arcs\",\n",
    ")\n",
    "runner.pipeline_with_client(args, client)"
   ]
  },
  {
   "cell_type": "code",
   "execution_count": 6,
   "metadata": {},
   "outputs": [
    {
     "data": {
      "application/vnd.jupyter.widget-view+json": {
       "model_id": "7e0f7513b700437995feded6f7e9daf2",
       "version_major": 2,
       "version_minor": 0
      },
      "text/plain": [
       "Planning  :   0%|          | 0/3 [00:00<?, ?it/s]"
      ]
     },
     "metadata": {},
     "output_type": "display_data"
    },
    {
     "data": {
      "application/vnd.jupyter.widget-view+json": {
       "model_id": "59ab3046a3db4a90a12255d2248fb09e",
       "version_major": 2,
       "version_minor": 0
      },
      "text/plain": [
       "Mapping   :   0%|          | 0/213 [00:00<?, ?it/s]"
      ]
     },
     "metadata": {},
     "output_type": "display_data"
    },
    {
     "data": {
      "application/vnd.jupyter.widget-view+json": {
       "model_id": "69d78629e0c843ebad0dc7b675c8149c",
       "version_major": 2,
       "version_minor": 0
      },
      "text/plain": [
       "Binning   :   0%|          | 0/1 [00:00<?, ?it/s]"
      ]
     },
     "metadata": {},
     "output_type": "display_data"
    },
    {
     "data": {
      "application/vnd.jupyter.widget-view+json": {
       "model_id": "41783c98fe244a0daa7b509788b3193c",
       "version_major": 2,
       "version_minor": 0
      },
      "text/plain": [
       "Reducing  :   0%|          | 0/318 [00:00<?, ?it/s]"
      ]
     },
     "metadata": {},
     "output_type": "display_data"
    },
    {
     "data": {
      "application/vnd.jupyter.widget-view+json": {
       "model_id": "c56314ed88c54991abdb2f47c5aba98c",
       "version_major": 2,
       "version_minor": 0
      },
      "text/plain": [
       "Finishing :   0%|          | 0/4 [00:00<?, ?it/s]"
      ]
     },
     "metadata": {},
     "output_type": "display_data"
    }
   ],
   "source": [
    "args = MarginCacheArguments(\n",
    "    input_catalog_path=hats_dir / \"object_lc\",\n",
    "    output_path=hats_dir,\n",
    "    margin_threshold=margin_radius_arcsec,\n",
    "    output_artifact_name=f\"object_lc_{margin_radius_arcsec}arcs\",\n",
    ")\n",
    "runner.pipeline_with_client(args, client)"
   ]
  },
  {
   "cell_type": "code",
   "execution_count": 7,
   "metadata": {},
   "outputs": [],
   "source": [
    "client.close()\n",
    "tmp_path.cleanup()"
   ]
  }
 ],
 "metadata": {
  "kernelspec": {
   "display_name": "Python 3 (ipykernel)",
   "language": "python",
   "name": "python3"
  },
  "language_info": {
   "codemirror_mode": {
    "name": "ipython",
    "version": 3
   },
   "file_extension": ".py",
   "mimetype": "text/x-python",
   "name": "python",
   "nbconvert_exporter": "python",
   "pygments_lexer": "ipython3",
   "version": "3.12.9"
  }
 },
 "nbformat": 4,
 "nbformat_minor": 2
}
