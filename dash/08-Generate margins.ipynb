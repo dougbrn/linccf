{
 "cells": [
  {
   "cell_type": "markdown",
   "metadata": {},
   "source": [
    "# Generate margin caches\n",
    "\n",
    "Let's generate margin cache catalogs for our nested data products, `diaObject_lc` and `object_lc`."
   ]
  },
  {
   "cell_type": "code",
   "execution_count": null,
   "metadata": {},
   "outputs": [],
   "source": [
    "%pip uninstall hats-import -y\n",
    "%pip install git+https://github.com/astronomy-commons/hats-import.git@issue/465/margin-cache-nested-catalogs"
   ]
  },
  {
   "cell_type": "code",
   "execution_count": 1,
   "metadata": {},
   "outputs": [
    {
     "name": "stdout",
     "output_type": "stream",
     "text": [
      "0.4.5.dev3+gb736809\n"
     ]
    }
   ],
   "source": [
    "import hats_import\n",
    "print(hats_import.__version__)"
   ]
  },
  {
   "cell_type": "code",
   "execution_count": 2,
   "metadata": {},
   "outputs": [],
   "source": [
    "import os\n",
    "import tempfile\n",
    "import hats_import.pipeline as runner\n",
    "\n",
    "from dask.distributed import Client\n",
    "from hats_import.margin_cache.margin_cache_arguments import MarginCacheArguments\n",
    "from pathlib import Path"
   ]
  },
  {
   "cell_type": "code",
   "execution_count": 3,
   "metadata": {},
   "outputs": [],
   "source": [
    "margin_radius_arcsec = 5"
   ]
  },
  {
   "cell_type": "code",
   "execution_count": null,
   "metadata": {},
   "outputs": [
    {
     "name": "stdout",
     "output_type": "stream",
     "text": [
      "DRP_VERSION: w_2025_07\n"
     ]
    }
   ],
   "source": [
    "DRP_VERSION = os.environ[\"DRP_VERSION\"]\n",
    "print(f\"DRP_VERSION: {DRP_VERSION}\")\n",
    "base_output_dir = Path(f\"/sdf/data/rubin/shared/lsdb_commissioning\")\n",
    "hats_dir = base_output_dir / \"hats\" / DRP_VERSION"
   ]
  },
  {
   "cell_type": "code",
   "execution_count": 5,
   "metadata": {},
   "outputs": [],
   "source": [
    "tmp_path = tempfile.TemporaryDirectory()\n",
    "tmp_dir = tmp_path.name\n",
    "client = Client(n_workers=4, threads_per_worker=1, local_directory=tmp_dir)"
   ]
  },
  {
   "cell_type": "code",
   "execution_count": 6,
   "metadata": {},
   "outputs": [
    {
     "data": {
      "application/vnd.jupyter.widget-view+json": {
       "model_id": "b20f7513582d416d922fca7e5744826e",
       "version_major": 2,
       "version_minor": 0
      },
      "text/plain": [
       "Planning  :   0%|          | 0/3 [00:00<?, ?it/s]"
      ]
     },
     "metadata": {},
     "output_type": "display_data"
    },
    {
     "data": {
      "application/vnd.jupyter.widget-view+json": {
       "model_id": "df7aec013e2a403d89446b1ce0b1cc4c",
       "version_major": 2,
       "version_minor": 0
      },
      "text/plain": [
       "Mapping   :   0%|          | 0/225 [00:00<?, ?it/s]"
      ]
     },
     "metadata": {},
     "output_type": "display_data"
    },
    {
     "data": {
      "application/vnd.jupyter.widget-view+json": {
       "model_id": "873119ee580441edbeb39a9ba5c53442",
       "version_major": 2,
       "version_minor": 0
      },
      "text/plain": [
       "Binning   :   0%|          | 0/1 [00:00<?, ?it/s]"
      ]
     },
     "metadata": {},
     "output_type": "display_data"
    },
    {
     "data": {
      "application/vnd.jupyter.widget-view+json": {
       "model_id": "66986484da93463cb07c9fc55b095f96",
       "version_major": 2,
       "version_minor": 0
      },
      "text/plain": [
       "Reducing  :   0%|          | 0/303 [00:00<?, ?it/s]"
      ]
     },
     "metadata": {},
     "output_type": "display_data"
    },
    {
     "data": {
      "application/vnd.jupyter.widget-view+json": {
       "model_id": "46245d05b90d4f0296d7a9efb5a69274",
       "version_major": 2,
       "version_minor": 0
      },
      "text/plain": [
       "Finishing :   0%|          | 0/4 [00:00<?, ?it/s]"
      ]
     },
     "metadata": {},
     "output_type": "display_data"
    }
   ],
   "source": [
    "args = MarginCacheArguments(\n",
    "    input_catalog_path=hats_dir / \"diaObject_lc\",\n",
    "    output_path=hats_dir,\n",
    "    margin_threshold=margin_radius_arcsec,\n",
    "    output_artifact_name=f\"diaObject_lc_{margin_radius_arcsec}arcs\",\n",
    ")\n",
    "runner.pipeline_with_client(args, client)"
   ]
  },
  {
   "cell_type": "code",
   "execution_count": 7,
   "metadata": {},
   "outputs": [
    {
     "data": {
      "application/vnd.jupyter.widget-view+json": {
       "model_id": "b93a2229b58244aa8fb158943a6238bb",
       "version_major": 2,
       "version_minor": 0
      },
      "text/plain": [
       "Planning  :   0%|          | 0/3 [00:00<?, ?it/s]"
      ]
     },
     "metadata": {},
     "output_type": "display_data"
    },
    {
     "data": {
      "application/vnd.jupyter.widget-view+json": {
       "model_id": "bc9f4e245e9643b5b2c9a219ff52d0c4",
       "version_major": 2,
       "version_minor": 0
      },
      "text/plain": [
       "Mapping   :   0%|          | 0/196 [00:00<?, ?it/s]"
      ]
     },
     "metadata": {},
     "output_type": "display_data"
    },
    {
     "data": {
      "application/vnd.jupyter.widget-view+json": {
       "model_id": "400803106a7849d5908267bdabde8f19",
       "version_major": 2,
       "version_minor": 0
      },
      "text/plain": [
       "Binning   :   0%|          | 0/1 [00:00<?, ?it/s]"
      ]
     },
     "metadata": {},
     "output_type": "display_data"
    },
    {
     "data": {
      "application/vnd.jupyter.widget-view+json": {
       "model_id": "ec2bd168ccc8490c9f0514129c21fd15",
       "version_major": 2,
       "version_minor": 0
      },
      "text/plain": [
       "Reducing  :   0%|          | 0/291 [00:00<?, ?it/s]"
      ]
     },
     "metadata": {},
     "output_type": "display_data"
    },
    {
     "data": {
      "application/vnd.jupyter.widget-view+json": {
       "model_id": "16aec3a30e1941abbaaac704edc4905f",
       "version_major": 2,
       "version_minor": 0
      },
      "text/plain": [
       "Finishing :   0%|          | 0/4 [00:00<?, ?it/s]"
      ]
     },
     "metadata": {},
     "output_type": "display_data"
    }
   ],
   "source": [
    "args = MarginCacheArguments(\n",
    "    input_catalog_path=hats_dir / \"object_lc\",\n",
    "    output_path=hats_dir,\n",
    "    margin_threshold=margin_radius_arcsec,\n",
    "    output_artifact_name=f\"object_lc_{margin_radius_arcsec}arcs\",\n",
    ")\n",
    "runner.pipeline_with_client(args, client)"
   ]
  },
  {
   "cell_type": "code",
   "execution_count": 8,
   "metadata": {},
   "outputs": [],
   "source": [
    "client.close()\n",
    "tmp_path.cleanup()"
   ]
  }
 ],
 "metadata": {
  "kernelspec": {
   "display_name": "Python 3 (ipykernel)",
   "language": "python",
   "name": "python3"
  },
  "language_info": {
   "codemirror_mode": {
    "name": "ipython",
    "version": 3
   },
   "file_extension": ".py",
   "mimetype": "text/x-python",
   "name": "python",
   "nbconvert_exporter": "python",
   "pygments_lexer": "ipython3",
   "version": "3.12.9"
  }
 },
 "nbformat": 4,
 "nbformat_minor": 2
}
