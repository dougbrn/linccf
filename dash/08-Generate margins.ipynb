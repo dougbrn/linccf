{
 "cells": [
  {
   "cell_type": "markdown",
   "metadata": {},
   "source": [
    "# Generate margin caches\n",
    "\n",
    "Let's generate margin cache catalogs for our nested data products, `diaObject_lc` and `object_lc`."
   ]
  },
  {
   "cell_type": "code",
   "execution_count": 1,
   "metadata": {},
   "outputs": [
    {
     "name": "stdout",
     "output_type": "stream",
     "text": [
      "Found existing installation: hats-import 0.4.5.dev4+g222830b\n",
      "Uninstalling hats-import-0.4.5.dev4+g222830b:\n",
      "  Successfully uninstalled hats-import-0.4.5.dev4+g222830b\n",
      "Note: you may need to restart the kernel to use updated packages.\n",
      "Defaulting to user installation because normal site-packages is not writeable\n",
      "Collecting git+https://github.com/astronomy-commons/hats-import.git@issue/465/margin-cache-nested-catalogs\n",
      "  Cloning https://github.com/astronomy-commons/hats-import.git (to revision issue/465/margin-cache-nested-catalogs) to /lscratch/stavar/tmp/pip-req-build-whl0nla_\n",
      "  Running command git clone --filter=blob:none --quiet https://github.com/astronomy-commons/hats-import.git /lscratch/stavar/tmp/pip-req-build-whl0nla_\n",
      "  Running command git checkout -b issue/465/margin-cache-nested-catalogs --track origin/issue/465/margin-cache-nested-catalogs\n",
      "  Switched to a new branch 'issue/465/margin-cache-nested-catalogs'\n",
      "  branch 'issue/465/margin-cache-nested-catalogs' set up to track 'origin/issue/465/margin-cache-nested-catalogs'.\n",
      "  Resolved https://github.com/astronomy-commons/hats-import.git to commit 222830bf9fdc1195699060e660c66d660a391189\n",
      "  Installing build dependencies ... \u001b[?25ldone\n",
      "\u001b[?25h  Getting requirements to build wheel ... \u001b[?25ldone\n",
      "\u001b[?25h  Preparing metadata (pyproject.toml) ... \u001b[?25ldone\n",
      "\u001b[?25hRequirement already satisfied: dask>=2024.3.0 in /sdf/group/rubin/sw/conda/envs/lsst-scipipe-10.0.0/lib/python3.12/site-packages (from dask[complete]>=2024.3.0->hats-import==0.4.5.dev4+g222830b) (2025.2.0)\n",
      "Requirement already satisfied: deprecated in /sdf/group/rubin/sw/conda/envs/lsst-scipipe-10.0.0/lib/python3.12/site-packages (from hats-import==0.4.5.dev4+g222830b) (1.2.18)\n",
      "Requirement already satisfied: hats>=0.4.6 in /sdf/home/s/stavar/.local/lib/python3.12/site-packages (from hats-import==0.4.5.dev4+g222830b) (0.4.7.dev6+gaf79a37)\n",
      "Requirement already satisfied: numpy in /sdf/group/rubin/sw/conda/envs/lsst-scipipe-10.0.0/lib/python3.12/site-packages (from hats-import==0.4.5.dev4+g222830b) (2.0.2)\n",
      "Requirement already satisfied: pandas in /sdf/group/rubin/sw/conda/envs/lsst-scipipe-10.0.0/lib/python3.12/site-packages (from hats-import==0.4.5.dev4+g222830b) (2.2.3)\n",
      "Requirement already satisfied: pyarrow in /sdf/group/rubin/sw/conda/envs/lsst-scipipe-10.0.0/lib/python3.12/site-packages (from hats-import==0.4.5.dev4+g222830b) (19.0.1)\n",
      "Requirement already satisfied: tqdm in /sdf/group/rubin/sw/conda/envs/lsst-scipipe-10.0.0/lib/python3.12/site-packages (from hats-import==0.4.5.dev4+g222830b) (4.67.1)\n",
      "Requirement already satisfied: universal_pathlib in /sdf/home/s/stavar/.local/lib/python3.12/site-packages (from hats-import==0.4.5.dev4+g222830b) (0.2.6)\n",
      "Requirement already satisfied: click>=8.1 in /sdf/group/rubin/sw/conda/envs/lsst-scipipe-10.0.0/lib/python3.12/site-packages (from dask>=2024.3.0->dask[complete]>=2024.3.0->hats-import==0.4.5.dev4+g222830b) (8.1.8)\n",
      "Requirement already satisfied: cloudpickle>=3.0.0 in /sdf/group/rubin/sw/conda/envs/lsst-scipipe-10.0.0/lib/python3.12/site-packages (from dask>=2024.3.0->dask[complete]>=2024.3.0->hats-import==0.4.5.dev4+g222830b) (3.1.1)\n",
      "Requirement already satisfied: fsspec>=2021.09.0 in /sdf/group/rubin/sw/conda/envs/lsst-scipipe-10.0.0/lib/python3.12/site-packages (from dask>=2024.3.0->dask[complete]>=2024.3.0->hats-import==0.4.5.dev4+g222830b) (2025.2.0)\n",
      "Requirement already satisfied: packaging>=20.0 in /sdf/group/rubin/sw/conda/envs/lsst-scipipe-10.0.0/lib/python3.12/site-packages (from dask>=2024.3.0->dask[complete]>=2024.3.0->hats-import==0.4.5.dev4+g222830b) (24.2)\n",
      "Requirement already satisfied: partd>=1.4.0 in /sdf/group/rubin/sw/conda/envs/lsst-scipipe-10.0.0/lib/python3.12/site-packages (from dask>=2024.3.0->dask[complete]>=2024.3.0->hats-import==0.4.5.dev4+g222830b) (1.4.2)\n",
      "Requirement already satisfied: pyyaml>=5.3.1 in /sdf/group/rubin/sw/conda/envs/lsst-scipipe-10.0.0/lib/python3.12/site-packages (from dask>=2024.3.0->dask[complete]>=2024.3.0->hats-import==0.4.5.dev4+g222830b) (6.0.2)\n",
      "Requirement already satisfied: toolz>=0.10.0 in /sdf/group/rubin/sw/conda/envs/lsst-scipipe-10.0.0/lib/python3.12/site-packages (from dask>=2024.3.0->dask[complete]>=2024.3.0->hats-import==0.4.5.dev4+g222830b) (1.0.0)\n",
      "Requirement already satisfied: lz4>=4.3.2 in /sdf/home/s/stavar/.local/lib/python3.12/site-packages (from dask[complete]>=2024.3.0->hats-import==0.4.5.dev4+g222830b) (4.4.3)\n",
      "Requirement already satisfied: aiohttp in /sdf/group/rubin/sw/conda/envs/lsst-scipipe-10.0.0/lib/python3.12/site-packages (from hats>=0.4.6->hats-import==0.4.5.dev4+g222830b) (3.11.12)\n",
      "Requirement already satisfied: astropy in /sdf/group/rubin/sw/conda/envs/lsst-scipipe-10.0.0/lib/python3.12/site-packages (from hats>=0.4.6->hats-import==0.4.5.dev4+g222830b) (7.0.1)\n",
      "Requirement already satisfied: jproperties in /sdf/home/s/stavar/.local/lib/python3.12/site-packages (from hats>=0.4.6->hats-import==0.4.5.dev4+g222830b) (2.1.2)\n",
      "Requirement already satisfied: matplotlib<3.9,>=3.3 in /sdf/home/s/stavar/.local/lib/python3.12/site-packages (from hats>=0.4.6->hats-import==0.4.5.dev4+g222830b) (3.8.4)\n",
      "Requirement already satisfied: mocpy>=0.17.1 in /sdf/home/s/stavar/.local/lib/python3.12/site-packages (from hats>=0.4.6->hats-import==0.4.5.dev4+g222830b) (0.17.1)\n",
      "Requirement already satisfied: numba>=0.58 in /sdf/group/rubin/sw/conda/envs/lsst-scipipe-10.0.0/lib/python3.12/site-packages (from hats>=0.4.6->hats-import==0.4.5.dev4+g222830b) (0.61.0)\n",
      "Requirement already satisfied: pydantic in /sdf/group/rubin/sw/conda/envs/lsst-scipipe-10.0.0/lib/python3.12/site-packages (from hats>=0.4.6->hats-import==0.4.5.dev4+g222830b) (2.10.6)\n",
      "Requirement already satisfied: scipy in /sdf/group/rubin/sw/conda/envs/lsst-scipipe-10.0.0/lib/python3.12/site-packages (from hats>=0.4.6->hats-import==0.4.5.dev4+g222830b) (1.13.1)\n",
      "Requirement already satisfied: typing-extensions>=4.3.0 in /sdf/group/rubin/sw/conda/envs/lsst-scipipe-10.0.0/lib/python3.12/site-packages (from hats>=0.4.6->hats-import==0.4.5.dev4+g222830b) (4.12.2)\n",
      "Requirement already satisfied: wrapt<2,>=1.10 in /sdf/group/rubin/sw/conda/envs/lsst-scipipe-10.0.0/lib/python3.12/site-packages (from deprecated->hats-import==0.4.5.dev4+g222830b) (1.17.2)\n",
      "Requirement already satisfied: python-dateutil>=2.8.2 in /sdf/group/rubin/sw/conda/envs/lsst-scipipe-10.0.0/lib/python3.12/site-packages (from pandas->hats-import==0.4.5.dev4+g222830b) (2.9.0.post0)\n",
      "Requirement already satisfied: pytz>=2020.1 in /sdf/group/rubin/sw/conda/envs/lsst-scipipe-10.0.0/lib/python3.12/site-packages (from pandas->hats-import==0.4.5.dev4+g222830b) (2024.1)\n",
      "Requirement already satisfied: tzdata>=2022.7 in /sdf/group/rubin/sw/conda/envs/lsst-scipipe-10.0.0/lib/python3.12/site-packages (from pandas->hats-import==0.4.5.dev4+g222830b) (2025.1)\n",
      "Requirement already satisfied: contourpy>=1.0.1 in /sdf/group/rubin/sw/conda/envs/lsst-scipipe-10.0.0/lib/python3.12/site-packages (from matplotlib<3.9,>=3.3->hats>=0.4.6->hats-import==0.4.5.dev4+g222830b) (1.3.1)\n",
      "Requirement already satisfied: cycler>=0.10 in /sdf/group/rubin/sw/conda/envs/lsst-scipipe-10.0.0/lib/python3.12/site-packages (from matplotlib<3.9,>=3.3->hats>=0.4.6->hats-import==0.4.5.dev4+g222830b) (0.12.1)\n",
      "Requirement already satisfied: fonttools>=4.22.0 in /sdf/group/rubin/sw/conda/envs/lsst-scipipe-10.0.0/lib/python3.12/site-packages (from matplotlib<3.9,>=3.3->hats>=0.4.6->hats-import==0.4.5.dev4+g222830b) (4.56.0)\n",
      "Requirement already satisfied: kiwisolver>=1.3.1 in /sdf/group/rubin/sw/conda/envs/lsst-scipipe-10.0.0/lib/python3.12/site-packages (from matplotlib<3.9,>=3.3->hats>=0.4.6->hats-import==0.4.5.dev4+g222830b) (1.4.8)\n",
      "Requirement already satisfied: pillow>=8 in /sdf/group/rubin/sw/conda/envs/lsst-scipipe-10.0.0/lib/python3.12/site-packages (from matplotlib<3.9,>=3.3->hats>=0.4.6->hats-import==0.4.5.dev4+g222830b) (11.1.0)\n",
      "Requirement already satisfied: pyparsing>=2.3.1 in /sdf/group/rubin/sw/conda/envs/lsst-scipipe-10.0.0/lib/python3.12/site-packages (from matplotlib<3.9,>=3.3->hats>=0.4.6->hats-import==0.4.5.dev4+g222830b) (3.2.1)\n",
      "Requirement already satisfied: cdshealpix>=0.6.4 in /sdf/home/s/stavar/.local/lib/python3.12/site-packages (from mocpy>=0.17.1->hats>=0.4.6->hats-import==0.4.5.dev4+g222830b) (0.7.1)\n",
      "Requirement already satisfied: networkx>=2.5 in /sdf/group/rubin/sw/conda/envs/lsst-scipipe-10.0.0/lib/python3.12/site-packages (from mocpy>=0.17.1->hats>=0.4.6->hats-import==0.4.5.dev4+g222830b) (3.4.2)\n",
      "Requirement already satisfied: llvmlite<0.45,>=0.44.0dev0 in /sdf/group/rubin/sw/conda/envs/lsst-scipipe-10.0.0/lib/python3.12/site-packages (from numba>=0.58->hats>=0.4.6->hats-import==0.4.5.dev4+g222830b) (0.44.0)\n",
      "Requirement already satisfied: locket in /sdf/group/rubin/sw/conda/envs/lsst-scipipe-10.0.0/lib/python3.12/site-packages (from partd>=1.4.0->dask>=2024.3.0->dask[complete]>=2024.3.0->hats-import==0.4.5.dev4+g222830b) (1.0.0)\n",
      "Requirement already satisfied: six>=1.5 in /sdf/group/rubin/sw/conda/envs/lsst-scipipe-10.0.0/lib/python3.12/site-packages (from python-dateutil>=2.8.2->pandas->hats-import==0.4.5.dev4+g222830b) (1.17.0)\n",
      "Requirement already satisfied: aiohappyeyeballs>=2.3.0 in /sdf/group/rubin/sw/conda/envs/lsst-scipipe-10.0.0/lib/python3.12/site-packages (from aiohttp->hats>=0.4.6->hats-import==0.4.5.dev4+g222830b) (2.4.6)\n",
      "Requirement already satisfied: aiosignal>=1.1.2 in /sdf/group/rubin/sw/conda/envs/lsst-scipipe-10.0.0/lib/python3.12/site-packages (from aiohttp->hats>=0.4.6->hats-import==0.4.5.dev4+g222830b) (1.3.2)\n",
      "Requirement already satisfied: attrs>=17.3.0 in /sdf/group/rubin/sw/conda/envs/lsst-scipipe-10.0.0/lib/python3.12/site-packages (from aiohttp->hats>=0.4.6->hats-import==0.4.5.dev4+g222830b) (25.1.0)\n",
      "Requirement already satisfied: frozenlist>=1.1.1 in /sdf/group/rubin/sw/conda/envs/lsst-scipipe-10.0.0/lib/python3.12/site-packages (from aiohttp->hats>=0.4.6->hats-import==0.4.5.dev4+g222830b) (1.5.0)\n",
      "Requirement already satisfied: multidict<7.0,>=4.5 in /sdf/group/rubin/sw/conda/envs/lsst-scipipe-10.0.0/lib/python3.12/site-packages (from aiohttp->hats>=0.4.6->hats-import==0.4.5.dev4+g222830b) (6.1.0)\n",
      "Requirement already satisfied: propcache>=0.2.0 in /sdf/group/rubin/sw/conda/envs/lsst-scipipe-10.0.0/lib/python3.12/site-packages (from aiohttp->hats>=0.4.6->hats-import==0.4.5.dev4+g222830b) (0.2.1)\n",
      "Requirement already satisfied: yarl<2.0,>=1.17.0 in /sdf/group/rubin/sw/conda/envs/lsst-scipipe-10.0.0/lib/python3.12/site-packages (from aiohttp->hats>=0.4.6->hats-import==0.4.5.dev4+g222830b) (1.18.3)\n",
      "Requirement already satisfied: pyerfa>=2.0.1.1 in /sdf/group/rubin/sw/conda/envs/lsst-scipipe-10.0.0/lib/python3.12/site-packages (from astropy->hats>=0.4.6->hats-import==0.4.5.dev4+g222830b) (2.0.1.5)\n",
      "Requirement already satisfied: astropy-iers-data>=0.2025.1.31.12.41.4 in /sdf/group/rubin/sw/conda/envs/lsst-scipipe-10.0.0/lib/python3.12/site-packages (from astropy->hats>=0.4.6->hats-import==0.4.5.dev4+g222830b) (0.2025.2.17.0.34.13)\n",
      "Requirement already satisfied: distributed==2025.2.0 in /sdf/group/rubin/sw/conda/envs/lsst-scipipe-10.0.0/lib/python3.12/site-packages (from dask>=2024.3.0->dask[complete]>=2024.3.0->hats-import==0.4.5.dev4+g222830b) (2025.2.0)\n",
      "Requirement already satisfied: bokeh>=3.1.0 in /sdf/group/rubin/sw/conda/envs/lsst-scipipe-10.0.0/lib/python3.12/site-packages (from dask>=2024.3.0->dask[complete]>=2024.3.0->hats-import==0.4.5.dev4+g222830b) (3.6.3)\n",
      "Requirement already satisfied: jinja2>=2.10.3 in /sdf/group/rubin/sw/conda/envs/lsst-scipipe-10.0.0/lib/python3.12/site-packages (from dask>=2024.3.0->dask[complete]>=2024.3.0->hats-import==0.4.5.dev4+g222830b) (3.1.5)\n",
      "Requirement already satisfied: msgpack>=1.0.2 in /sdf/group/rubin/sw/conda/envs/lsst-scipipe-10.0.0/lib/python3.12/site-packages (from distributed==2025.2.0->dask>=2024.3.0->dask[complete]>=2024.3.0->hats-import==0.4.5.dev4+g222830b) (1.1.0)\n",
      "Requirement already satisfied: psutil>=5.8.0 in /sdf/group/rubin/sw/conda/envs/lsst-scipipe-10.0.0/lib/python3.12/site-packages (from distributed==2025.2.0->dask>=2024.3.0->dask[complete]>=2024.3.0->hats-import==0.4.5.dev4+g222830b) (6.1.1)\n",
      "Requirement already satisfied: sortedcontainers>=2.0.5 in /sdf/group/rubin/sw/conda/envs/lsst-scipipe-10.0.0/lib/python3.12/site-packages (from distributed==2025.2.0->dask>=2024.3.0->dask[complete]>=2024.3.0->hats-import==0.4.5.dev4+g222830b) (2.4.0)\n",
      "Requirement already satisfied: tblib>=1.6.0 in /sdf/group/rubin/sw/conda/envs/lsst-scipipe-10.0.0/lib/python3.12/site-packages (from distributed==2025.2.0->dask>=2024.3.0->dask[complete]>=2024.3.0->hats-import==0.4.5.dev4+g222830b) (3.0.0)\n",
      "Requirement already satisfied: tornado>=6.2.0 in /sdf/group/rubin/sw/conda/envs/lsst-scipipe-10.0.0/lib/python3.12/site-packages (from distributed==2025.2.0->dask>=2024.3.0->dask[complete]>=2024.3.0->hats-import==0.4.5.dev4+g222830b) (6.4.2)\n",
      "Requirement already satisfied: urllib3>=1.26.5 in /sdf/group/rubin/sw/conda/envs/lsst-scipipe-10.0.0/lib/python3.12/site-packages (from distributed==2025.2.0->dask>=2024.3.0->dask[complete]>=2024.3.0->hats-import==0.4.5.dev4+g222830b) (2.3.0)\n",
      "Requirement already satisfied: zict>=3.0.0 in /sdf/group/rubin/sw/conda/envs/lsst-scipipe-10.0.0/lib/python3.12/site-packages (from distributed==2025.2.0->dask>=2024.3.0->dask[complete]>=2024.3.0->hats-import==0.4.5.dev4+g222830b) (3.0.0)\n",
      "Requirement already satisfied: annotated-types>=0.6.0 in /sdf/group/rubin/sw/conda/envs/lsst-scipipe-10.0.0/lib/python3.12/site-packages (from pydantic->hats>=0.4.6->hats-import==0.4.5.dev4+g222830b) (0.7.0)\n",
      "Requirement already satisfied: pydantic-core==2.27.2 in /sdf/group/rubin/sw/conda/envs/lsst-scipipe-10.0.0/lib/python3.12/site-packages (from pydantic->hats>=0.4.6->hats-import==0.4.5.dev4+g222830b) (2.27.2)\n",
      "Requirement already satisfied: xyzservices>=2021.09.1 in /sdf/group/rubin/sw/conda/envs/lsst-scipipe-10.0.0/lib/python3.12/site-packages (from bokeh>=3.1.0->dask>=2024.3.0->dask[complete]>=2024.3.0->hats-import==0.4.5.dev4+g222830b) (2025.1.0)\n",
      "Requirement already satisfied: MarkupSafe>=2.0 in /sdf/group/rubin/sw/conda/envs/lsst-scipipe-10.0.0/lib/python3.12/site-packages (from jinja2>=2.10.3->dask>=2024.3.0->dask[complete]>=2024.3.0->hats-import==0.4.5.dev4+g222830b) (3.0.2)\n",
      "Requirement already satisfied: idna>=2.0 in /sdf/group/rubin/sw/conda/envs/lsst-scipipe-10.0.0/lib/python3.12/site-packages (from yarl<2.0,>=1.17.0->aiohttp->hats>=0.4.6->hats-import==0.4.5.dev4+g222830b) (3.10)\n",
      "Building wheels for collected packages: hats-import\n",
      "  Building wheel for hats-import (pyproject.toml) ... \u001b[?25ldone\n",
      "\u001b[?25h  Created wheel for hats-import: filename=hats_import-0.4.5.dev4+g222830b-py3-none-any.whl size=59287 sha256=4590483245a8f9128a359917e4209b8105ffe3b74ccb2011f495dbc05cb22d1d\n",
      "  Stored in directory: /lscratch/stavar/tmp/pip-ephem-wheel-cache-h1xaa4px/wheels/c3/73/b8/e62b5a85e9ea4f1be4bdadca49224d971c430d6284f01303ab\n",
      "Successfully built hats-import\n",
      "\u001b[33mWARNING: Error parsing dependencies of lsst-dax-images-cutout: Invalid version: 'gbef2fa0fcc+af6e2b411f'\u001b[0m\u001b[33m\n",
      "\u001b[0m\u001b[33mWARNING: Error parsing dependencies of lsst-analysis-ap: Invalid version: 'g7299995a7b+8332d9a031'\u001b[0m\u001b[33m\n",
      "\u001b[0m\u001b[33mWARNING: Error parsing dependencies of lsst-display-astrowidgets: Invalid version: 'g07dc498a13+80b84b0d75'\u001b[0m\u001b[33m\n",
      "\u001b[0m\u001b[33mWARNING: Error parsing dependencies of lsst-drp-pipe: Invalid version: 'g301646735b+1e2362d11c'\u001b[0m\u001b[33m\n",
      "\u001b[0m\u001b[33mWARNING: Error parsing dependencies of lsst-atmospec: Invalid version: 'g3c80eed8fa+f0c72b96cc'\u001b[0m\u001b[33m\n",
      "\u001b[0m\u001b[33mWARNING: Error parsing dependencies of lsst-cp-verify: Invalid version: 'gaea975da16+feea33db11'\u001b[0m\u001b[33m\n",
      "\u001b[0m\u001b[33mWARNING: Error parsing dependencies of lsst-faro: Invalid version: 'gd4712f2518+384bd48d96'\u001b[0m\u001b[33m\n",
      "\u001b[0m\u001b[33mWARNING: Error parsing dependencies of lsst-display-matplotlib: Invalid version: 'gaaedd4e678+80b84b0d75'\u001b[0m\u001b[33m\n",
      "\u001b[0m\u001b[33mWARNING: Error parsing dependencies of lsst-display-firefly: Invalid version: 'g1a7e361dbc+80b84b0d75'\u001b[0m\u001b[33m\n",
      "\u001b[0m\u001b[33mWARNING: Error parsing dependencies of lsst-ap-verify: Invalid version: 'g331b20b0e8+7f63661bdf'\u001b[0m\u001b[33m\n",
      "\u001b[0m\u001b[33mWARNING: Error parsing dependencies of lsst-jointcal: Invalid version: 'gde0f65d7ad+e67ac685b1'\u001b[0m\u001b[33m\n",
      "\u001b[0m\u001b[33mWARNING: Error parsing dependencies of lsst-cbp: Invalid version: 'g7a6b8c32e4+80b84b0d75'\u001b[0m\u001b[33m\n",
      "\u001b[0m\u001b[33mWARNING: Error parsing dependencies of lsst-obs-fiberspectrograph: Invalid version: 'g49223bffc5+03d477d235'\u001b[0m\u001b[33m\n",
      "\u001b[0m\u001b[33mWARNING: Error parsing dependencies of lsst-obs-rubingenericcamera: Invalid version: 'gedca799cae+03d477d235'\u001b[0m\u001b[33m\n",
      "\u001b[0m\u001b[33mWARNING: Error parsing dependencies of lsst-obs-cfht: Invalid version: 'g8219804093+87a92a7dbc'\u001b[0m\u001b[33m\n",
      "\u001b[0m\u001b[33mWARNING: Error parsing dependencies of lsst-multiprofit: Invalid version: 'gb1c7dd4777+01f17fbcab'\u001b[0m\u001b[33m\n",
      "\u001b[0m\u001b[33mWARNING: Error parsing dependencies of lsst-meas-extensions-multiprofit: Invalid version: 'g14bc3e0acb+e4c14f70ca'\u001b[0m\u001b[33m\n",
      "\u001b[0m\u001b[33mWARNING: Error parsing dependencies of lsst-rucio-register: Invalid version: 'g695499c308+da0fb088da'\u001b[0m\u001b[33m\n",
      "\u001b[0m\u001b[33mWARNING: Error parsing dependencies of lsst-ctrl-bps-parsl: Invalid version: 'g9b6de28e10+0ce64a17fd'\u001b[0m\u001b[33m\n",
      "\u001b[0m\u001b[33mWARNING: Error parsing dependencies of lsst-ctrl-bps-panda: Invalid version: 'g676d6cc87a+0ce64a17fd'\u001b[0m\u001b[33m\n",
      "\u001b[0m\u001b[33mWARNING: Error parsing dependencies of lsst-lsst-bps-plugins: Invalid version: 'g7de033f5be+6935404fea'\u001b[0m\u001b[33m\n",
      "\u001b[0m\u001b[33mWARNING: Error parsing dependencies of lsst-ctrl-platform-s3df: Invalid version: 'ge69077b642+4de82aecbc'\u001b[0m\u001b[33m\n",
      "\u001b[0m\u001b[33mWARNING: Error parsing dependencies of lsst-ctrl-bps: Invalid version: 'g991da81913+92487a8df5'\u001b[0m\u001b[33m\n",
      "\u001b[0m\u001b[33mWARNING: Error parsing dependencies of lsst-ctrl-bps-htcondor: Invalid version: 'geb99b16e0a+0ce64a17fd'\u001b[0m\u001b[33m\n",
      "\u001b[0m\u001b[33mWARNING: Error parsing dependencies of lsst-ctrl-execute: Invalid version: 'ga8b749554a+c57cb01047'\u001b[0m\u001b[33m\n",
      "\u001b[0m\u001b[33mWARNING: Error parsing dependencies of lsst-display-ds9: Invalid version: 'g1409bbee79+80b84b0d75'\u001b[0m\u001b[33m\n",
      "\u001b[0m\u001b[33mWARNING: Error parsing dependencies of lsst-meas-extensions-simpleshape: Invalid version: 'gcf25f946ba+7873239873'\u001b[0m\u001b[33m\n",
      "\u001b[0m\u001b[33mWARNING: Error parsing dependencies of lsst-meas-transinet: Invalid version: 'gd42b450c19+7873239873'\u001b[0m\u001b[33m\n",
      "\u001b[0m\u001b[33mWARNING: Error parsing dependencies of lsst-source-injection: Invalid version: 'g221a484de7+feea33db11'\u001b[0m\u001b[33m\n",
      "\u001b[0m\u001b[33mWARNING: Error parsing dependencies of lsst-cell-coadds: Invalid version: 'g2f0d04db28+714df0e0d8'\u001b[0m\u001b[33m\n",
      "\u001b[0m\u001b[33mWARNING: Error parsing dependencies of lsst-drp-tasks: Invalid version: 'gcd6326cd01+264560f360'\u001b[0m\u001b[33m\n",
      "\u001b[0m\u001b[33mWARNING: Error parsing dependencies of lsst-fgcmcal: Invalid version: 'g21d47ad084+632b13585d'\u001b[0m\u001b[33m\n",
      "\u001b[0m\u001b[33mWARNING: Error parsing dependencies of lsst-obs-lsst: Invalid version: 'g21c7c11745+b9579dcb92'\u001b[0m\u001b[33m\n",
      "\u001b[0m\u001b[33mWARNING: Error parsing dependencies of lsst-ctrl-mpexec: Invalid version: 'gfe75ee3db0+f238237573'\u001b[0m\u001b[33m\n",
      "\u001b[0m\u001b[33mWARNING: Error parsing dependencies of lsst-obs-decam: Invalid version: 'g0fba68d861+a26a980d89'\u001b[0m\u001b[33m\n",
      "\u001b[0m\u001b[33mWARNING: Error parsing dependencies of lsst-obs-subaru: Invalid version: 'g5ecc13b329+72babb2c14'\u001b[0m\u001b[33m\n",
      "\u001b[0m\u001b[33mWARNING: Error parsing dependencies of lsst-cp-pipe: Invalid version: 'g00ef13ee25+2f9a6ac84d'\u001b[0m\u001b[33m\n",
      "\u001b[0m\u001b[33mWARNING: Error parsing dependencies of lsst-analysis-tools: Invalid version: 'g60084578b0+5d631872fb'\u001b[0m\u001b[33m\n",
      "\u001b[0m\u001b[33mWARNING: Error parsing dependencies of lsst-ap-association: Invalid version: 'g2be7de0535+df2f8cc972'\u001b[0m\u001b[33m\n",
      "\u001b[0m\u001b[33mWARNING: Error parsing dependencies of lsst-ap-pipe: Invalid version: 'gf4de327013+cef8bf7362'\u001b[0m\u001b[33m\n",
      "\u001b[0m\u001b[33mWARNING: Error parsing dependencies of lsst-scarlet-lite: Invalid version: 'gd9a9a58781+fcb1d3bbc8'\u001b[0m\u001b[33m\n",
      "\u001b[0m\u001b[33mWARNING: Error parsing dependencies of lsst-meas-extensions-scarlet: Invalid version: 'g4381c4bf55+26fc5db800'\u001b[0m\u001b[33m\n",
      "\u001b[0m\u001b[33mWARNING: Error parsing dependencies of lsst-meas-extensions-psfex: Invalid version: 'g04a91732dc+947087dcbc'\u001b[0m\u001b[33m\n",
      "\u001b[0m\u001b[33mWARNING: Error parsing dependencies of lsst-meas-extensions-piff: Invalid version: 'g8d6b6b353c+fd725c9d16'\u001b[0m\u001b[33m\n",
      "\u001b[0m\u001b[33mWARNING: Error parsing dependencies of lsst-meas-extensions-gaap: Invalid version: 'ga95acd0462+aac26a3590'\u001b[0m\u001b[33m\n",
      "\u001b[0m\u001b[33mWARNING: Error parsing dependencies of lsst-meas-extensions-photometrykron: Invalid version: 'g60b5630c4e+fd725c9d16'\u001b[0m\u001b[33m\n",
      "\u001b[0m\u001b[33mWARNING: Error parsing dependencies of lsst-meas-extensions-convolved: Invalid version: 'g7da95dfc27+2b9d802c0c'\u001b[0m\u001b[33m\n",
      "\u001b[0m\u001b[33mWARNING: Error parsing dependencies of lsst-ip-isr: Invalid version: 'gf0ff2d8333+fd725c9d16'\u001b[0m\u001b[33m\n",
      "\u001b[0m\u001b[33mWARNING: Error parsing dependencies of lsst-verify-metrics: Invalid version: 'g05f563eca1+fcb1d3bbc8'\u001b[0m\u001b[33m\n",
      "\u001b[0m\u001b[33mWARNING: Error parsing dependencies of lsst-sdm-tools: Invalid version: 'g313cd81ece+11bafa983c'\u001b[0m\u001b[33m\n",
      "\u001b[0m\u001b[33mWARNING: Error parsing dependencies of lsst-sdm-schemas: Invalid version: 'g463462e185+107b87d6c0'\u001b[0m\u001b[33m\n",
      "\u001b[0m\u001b[33mWARNING: Error parsing dependencies of lsst-felis: Invalid version: 'gc5a10cf263+cc5a1041c3'\u001b[0m\u001b[33m\n",
      "\u001b[0m\u001b[33mWARNING: Error parsing dependencies of lsst-dax-apdb: Invalid version: 'ga9e4eb89a6+77c085a8dc'\u001b[0m\u001b[33m\n",
      "\u001b[0m\u001b[33mWARNING: Error parsing dependencies of lsst-verify: Invalid version: 'g34ae5fe508+a05dc598d4'\u001b[0m\u001b[33m\n",
      "\u001b[0m\u001b[33mWARNING: Error parsing dependencies of lsst-meas-extensions-shapehsm: Invalid version: 'gfcd60083fb+fd725c9d16'\u001b[0m\u001b[33m\n",
      "\u001b[0m\u001b[33mWARNING: Error parsing dependencies of lsst-meas-extensions-trailedsources: Invalid version: 'g8852436030+7873239873'\u001b[0m\u001b[33m\n",
      "\u001b[0m\u001b[33mWARNING: Error parsing dependencies of lsst-meas-astrom: Invalid version: 'ga9baa6287d+fd725c9d16'\u001b[0m\u001b[33m\n",
      "\u001b[0m\u001b[33mWARNING: Error parsing dependencies of lsst-ip-diffim: Invalid version: 'g7c8978a71e+355b33a9a3'\u001b[0m\u001b[33m\n",
      "\u001b[0m\u001b[33mWARNING: Error parsing dependencies of lsst-coadd-utils: Invalid version: 'g89139ef638+80b84b0d75'\u001b[0m\u001b[33m\n",
      "\u001b[0m\u001b[33mWARNING: Error parsing dependencies of lsst-pipe-tasks: Invalid version: 'g51f2318141+1948851dd1'\u001b[0m\u001b[33m\n",
      "\u001b[0m\u001b[33mWARNING: Error parsing dependencies of lsst-shapelet: Invalid version: 'g989de1cb63+80b84b0d75'\u001b[0m\u001b[33m\n",
      "\u001b[0m\u001b[33mWARNING: Error parsing dependencies of lsst-meas-modelfit: Invalid version: 'g9f33ca652e+6bac20c5b8'\u001b[0m\u001b[33m\n",
      "\u001b[0m\u001b[33mWARNING: Error parsing dependencies of astro-metadata-translator: Invalid version: 'g8cbe06beb2+76d20ab76d'\u001b[0m\u001b[33m\n",
      "\u001b[0m\u001b[33mWARNING: Error parsing dependencies of lsst-obs-base: Invalid version: 'gf86609b639+43c2a34cc1'\u001b[0m\u001b[33m\n",
      "\u001b[0m\u001b[33mWARNING: Error parsing dependencies of lsst-pipe-base: Invalid version: 'g529622f9b4+b539f4ded7'\u001b[0m\u001b[33m\n",
      "\u001b[0m\u001b[33mWARNING: Error parsing dependencies of lsst-daf-relation: Invalid version: 'g46a8c529b8+932305ba37'\u001b[0m\u001b[33m\n",
      "\u001b[0m\u001b[33mWARNING: Error parsing dependencies of lsst-resources: Invalid version: 'g2cf0f8f226+932305ba37'\u001b[0m\u001b[33m\n",
      "\u001b[0m\u001b[33mWARNING: Error parsing dependencies of lsst-daf-butler: Invalid version: 'ge74e7f7d77+82e1983394'\u001b[0m\u001b[33m\n",
      "\u001b[0m\u001b[33mWARNING: Error parsing dependencies of lsst-skymap: Invalid version: 'g1fd858c14a+03b042d3d6'\u001b[0m\u001b[33m\n",
      "\u001b[0m\u001b[33mWARNING: Error parsing dependencies of lsst-meas-base: Invalid version: 'gd315a588df+027f18374d'\u001b[0m\u001b[33m\n",
      "\u001b[0m\u001b[33mWARNING: Error parsing dependencies of lsst-meas-algorithms: Invalid version: 'gb90eeb9370+a6b07a1956'\u001b[0m\u001b[33m\n",
      "\u001b[0m\u001b[33mWARNING: Error parsing dependencies of astshim: Invalid version: 'g78460c75b0+2f9a1b4bcd'\u001b[0m\u001b[33m\n",
      "\u001b[0m\u001b[33mWARNING: Error parsing dependencies of lsst-log: Invalid version: 'ge278dab8ac+932305ba37'\u001b[0m\u001b[33m\n",
      "\u001b[0m\u001b[33mWARNING: Error parsing dependencies of lsst-sphgeom: Invalid version: 'g7b71ed6315+fcb1d3bbc8'\u001b[0m\u001b[33m\n",
      "\u001b[0m\u001b[33mWARNING: Error parsing dependencies of lsst-geom: Invalid version: 'gd6cbbdb0b4+c8606af20c'\u001b[0m\u001b[33m\n",
      "\u001b[0m\u001b[33mWARNING: Error parsing dependencies of lsst-pex-config: Invalid version: 'ge82c20c137+76d20ab76d'\u001b[0m\u001b[33m\n",
      "\u001b[0m\u001b[33mWARNING: Error parsing dependencies of lsst-pex-exceptions: Invalid version: 'g786e29fd12+cf7ec2a62a'\u001b[0m\u001b[33m\n",
      "\u001b[0m\u001b[33mWARNING: Error parsing dependencies of lsst-base: Invalid version: 'g53246c7159+fcb1d3bbc8'\u001b[0m\u001b[33m\n",
      "\u001b[0m\u001b[33mWARNING: Error parsing dependencies of lsst-cpputils: Invalid version: 'gabe3b4be73+1e0a283bba'\u001b[0m\u001b[33m\n",
      "\u001b[0m\u001b[33mWARNING: Error parsing dependencies of lsst-sconsutils: Invalid version: 'ga067d4dfce'\u001b[0m\u001b[33m\n",
      "\u001b[0m\u001b[33mWARNING: Error parsing dependencies of lsst-utils: Invalid version: 'ge8ea38501a+fcb1d3bbc8'\u001b[0m\u001b[33m\n",
      "\u001b[0m\u001b[33mWARNING: Error parsing dependencies of lsst-daf-base: Invalid version: 'g4e0f332c67+5d362be553'\u001b[0m\u001b[33m\n",
      "\u001b[0m\u001b[33mWARNING: Error parsing dependencies of lsst-afw: Invalid version: 'g42c1b31a95+a1301e4c20'\u001b[0m\u001b[33m\n",
      "\u001b[0m\u001b[33mWARNING: Error parsing dependencies of lsst-meas-deblender: Invalid version: 'gb1101e3267+2cbc8cba0c'\u001b[0m\u001b[33m\n",
      "\u001b[0mInstalling collected packages: hats-import\n",
      "Successfully installed hats-import-0.4.5.dev4+g222830b\n",
      "Note: you may need to restart the kernel to use updated packages.\n"
     ]
    }
   ],
   "source": [
    "%pip uninstall hats-import -y\n",
    "%pip install git+https://github.com/astronomy-commons/hats-import.git@issue/465/margin-cache-nested-catalogs"
   ]
  },
  {
   "cell_type": "code",
   "execution_count": 2,
   "metadata": {},
   "outputs": [
    {
     "name": "stdout",
     "output_type": "stream",
     "text": [
      "0.4.5.dev4+g222830b\n"
     ]
    }
   ],
   "source": [
    "import hats_import\n",
    "print(hats_import.__version__)"
   ]
  },
  {
   "cell_type": "code",
   "execution_count": 3,
   "metadata": {},
   "outputs": [],
   "source": [
    "import os\n",
    "import tempfile\n",
    "import hats_import.pipeline as runner\n",
    "\n",
    "from dask.distributed import Client\n",
    "from hats_import.margin_cache.margin_cache_arguments import MarginCacheArguments\n",
    "from pathlib import Path"
   ]
  },
  {
   "cell_type": "code",
   "execution_count": 4,
   "metadata": {},
   "outputs": [],
   "source": [
    "margin_radius_arcsec = 5"
   ]
  },
  {
   "cell_type": "code",
   "execution_count": 5,
   "metadata": {},
   "outputs": [
    {
     "name": "stdout",
     "output_type": "stream",
     "text": [
      "DRP_VERSION: w_2025_08\n"
     ]
    }
   ],
   "source": [
    "DRP_VERSION = os.environ[\"DRP_VERSION\"]\n",
    "print(f\"DRP_VERSION: {DRP_VERSION}\")\n",
    "base_output_dir = Path(f\"/sdf/data/rubin/shared/lsdb_commissioning\")\n",
    "hats_dir = base_output_dir / \"hats\" / DRP_VERSION"
   ]
  },
  {
   "cell_type": "code",
   "execution_count": 6,
   "metadata": {},
   "outputs": [],
   "source": [
    "tmp_path = tempfile.TemporaryDirectory()\n",
    "tmp_dir = tmp_path.name\n",
    "client = Client(n_workers=4, threads_per_worker=1, local_directory=tmp_dir)"
   ]
  },
  {
   "cell_type": "code",
   "execution_count": 7,
   "metadata": {},
   "outputs": [
    {
     "data": {
      "application/vnd.jupyter.widget-view+json": {
       "model_id": "9f0aa378d0bf4b99a078d0fbe101fd30",
       "version_major": 2,
       "version_minor": 0
      },
      "text/plain": [
       "Planning  :   0%|          | 0/3 [00:00<?, ?it/s]"
      ]
     },
     "metadata": {},
     "output_type": "display_data"
    },
    {
     "data": {
      "application/vnd.jupyter.widget-view+json": {
       "model_id": "0a78581dc3f042c6a34d707140caae44",
       "version_major": 2,
       "version_minor": 0
      },
      "text/plain": [
       "Mapping   :   0%|          | 0/251 [00:00<?, ?it/s]"
      ]
     },
     "metadata": {},
     "output_type": "display_data"
    },
    {
     "data": {
      "application/vnd.jupyter.widget-view+json": {
       "model_id": "2e5958f6bfbe49b491911835218bc13b",
       "version_major": 2,
       "version_minor": 0
      },
      "text/plain": [
       "Binning   :   0%|          | 0/1 [00:00<?, ?it/s]"
      ]
     },
     "metadata": {},
     "output_type": "display_data"
    },
    {
     "data": {
      "application/vnd.jupyter.widget-view+json": {
       "model_id": "21e033f723a947cb9ecc7d68fa00c1bd",
       "version_major": 2,
       "version_minor": 0
      },
      "text/plain": [
       "Reducing  :   0%|          | 0/342 [00:00<?, ?it/s]"
      ]
     },
     "metadata": {},
     "output_type": "display_data"
    },
    {
     "data": {
      "application/vnd.jupyter.widget-view+json": {
       "model_id": "cf4a07a320a745458f3930ec7ac1c49c",
       "version_major": 2,
       "version_minor": 0
      },
      "text/plain": [
       "Finishing :   0%|          | 0/4 [00:00<?, ?it/s]"
      ]
     },
     "metadata": {},
     "output_type": "display_data"
    }
   ],
   "source": [
    "args = MarginCacheArguments(\n",
    "    input_catalog_path=hats_dir / \"diaObject_lc\",\n",
    "    output_path=hats_dir,\n",
    "    margin_threshold=margin_radius_arcsec,\n",
    "    output_artifact_name=f\"diaObject_lc_{margin_radius_arcsec}arcs\",\n",
    ")\n",
    "runner.pipeline_with_client(args, client)"
   ]
  },
  {
   "cell_type": "code",
   "execution_count": 8,
   "metadata": {},
   "outputs": [
    {
     "data": {
      "application/vnd.jupyter.widget-view+json": {
       "model_id": "f4f0b04779e640bc93ab5045ddb33773",
       "version_major": 2,
       "version_minor": 0
      },
      "text/plain": [
       "Planning  :   0%|          | 0/3 [00:00<?, ?it/s]"
      ]
     },
     "metadata": {},
     "output_type": "display_data"
    },
    {
     "data": {
      "application/vnd.jupyter.widget-view+json": {
       "model_id": "dbf3893916214fd6ac861f5c405c77e2",
       "version_major": 2,
       "version_minor": 0
      },
      "text/plain": [
       "Mapping   :   0%|          | 0/212 [00:00<?, ?it/s]"
      ]
     },
     "metadata": {},
     "output_type": "display_data"
    },
    {
     "data": {
      "application/vnd.jupyter.widget-view+json": {
       "model_id": "a506955359d34d549767ca4bd4692f27",
       "version_major": 2,
       "version_minor": 0
      },
      "text/plain": [
       "Binning   :   0%|          | 0/1 [00:00<?, ?it/s]"
      ]
     },
     "metadata": {},
     "output_type": "display_data"
    },
    {
     "data": {
      "application/vnd.jupyter.widget-view+json": {
       "model_id": "7f0b83dc42c1495bbeec81342859ad34",
       "version_major": 2,
       "version_minor": 0
      },
      "text/plain": [
       "Reducing  :   0%|          | 0/324 [00:00<?, ?it/s]"
      ]
     },
     "metadata": {},
     "output_type": "display_data"
    },
    {
     "data": {
      "application/vnd.jupyter.widget-view+json": {
       "model_id": "5240618c5d0246ef8226bd3a0c7b2b96",
       "version_major": 2,
       "version_minor": 0
      },
      "text/plain": [
       "Finishing :   0%|          | 0/4 [00:00<?, ?it/s]"
      ]
     },
     "metadata": {},
     "output_type": "display_data"
    }
   ],
   "source": [
    "args = MarginCacheArguments(\n",
    "    input_catalog_path=hats_dir / \"object_lc\",\n",
    "    output_path=hats_dir,\n",
    "    margin_threshold=margin_radius_arcsec,\n",
    "    output_artifact_name=f\"object_lc_{margin_radius_arcsec}arcs\",\n",
    ")\n",
    "runner.pipeline_with_client(args, client)"
   ]
  },
  {
   "cell_type": "code",
   "execution_count": 9,
   "metadata": {},
   "outputs": [],
   "source": [
    "client.close()\n",
    "tmp_path.cleanup()"
   ]
  }
 ],
 "metadata": {
  "kernelspec": {
   "display_name": "Python 3 (ipykernel)",
   "language": "python",
   "name": "python3"
  },
  "language_info": {
   "codemirror_mode": {
    "name": "ipython",
    "version": 3
   },
   "file_extension": ".py",
   "mimetype": "text/x-python",
   "name": "python",
   "nbconvert_exporter": "python",
   "pygments_lexer": "ipython3",
   "version": "3.12.9"
  }
 },
 "nbformat": 4,
 "nbformat_minor": 2
}
