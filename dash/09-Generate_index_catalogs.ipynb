{
  "cells": [
    {
      "cell_type": "markdown",
      "metadata": {},
      "source": [
        "# Generate index catalogs\n",
        "\n",
        "Index catalogs help us support quick object access by ID, similarly to how one would use `loc` in a pandas DataFrame."
      ]
    },
    {
      "cell_type": "code",
      "execution_count": null,
      "metadata": {},
      "outputs": [],
      "source": [
        "import os\n",
        "import hats\n",
        "import lsdb\n",
        "import tempfile\n",
        "import hats_import.pipeline as runner\n",
        "\n",
        "from dask.distributed import Client\n",
        "from hats_import.index.arguments import IndexArguments\n",
        "from nested_pandas import NestedDtype\n",
        "from pathlib import Path"
      ]
    },
    {
      "cell_type": "code",
      "execution_count": null,
      "metadata": {},
      "outputs": [],
      "source": [
        "DRP_VERSION = os.environ[\"DRP_VERSION\"]\n",
        "print(f\"DRP_VERSION: {DRP_VERSION}\")\n",
        "base_output_dir = Path(f\"/sdf/data/rubin/shared/lsdb_commissioning\")\n",
        "hats_dir = base_output_dir / \"hats\" / DRP_VERSION"
      ]
    },
    {
      "cell_type": "code",
      "execution_count": null,
      "metadata": {},
      "outputs": [],
      "source": [
        "tmp_path = tempfile.TemporaryDirectory()\n",
        "tmp_dir = tmp_path.name\n",
        "client = Client(n_workers=4, threads_per_worker=1, local_directory=tmp_dir)"
      ]
    },
    {
      "cell_type": "code",
      "execution_count": null,
      "metadata": {},
      "outputs": [],
      "source": [
        "args = IndexArguments(\n",
        "    input_catalog_path=hats_dir / \"diaObject_lc\",\n",
        "    indexing_column=\"diaObjectId\",\n",
        "    output_path=hats_dir,\n",
        "    output_artifact_name=\"diaObject_lc_index\",\n",
        ")\n",
        "runner.pipeline_with_client(args, client)"
      ]
    },
    {
      "cell_type": "code",
      "execution_count": null,
      "metadata": {},
      "outputs": [],
      "source": [
        "args = IndexArguments(\n",
        "    input_catalog_path=hats_dir / \"object_lc\",\n",
        "    indexing_column=\"objectId\",\n",
        "    output_path=hats_dir,\n",
        "    output_artifact_name=\"object_lc_index\",\n",
        ")\n",
        "runner.pipeline_with_client(args, client)"
      ]
    },
    {
      "cell_type": "markdown",
      "metadata": {},
      "source": [
        "Let's load `object_lc` and look for object of ID `2132480811839010201`:"
      ]
    },
    {
      "cell_type": "code",
      "execution_count": null,
      "metadata": {},
      "outputs": [],
      "source": [
        "test_object_id = 2132480811839010201"
      ]
    },
    {
      "cell_type": "code",
      "execution_count": null,
      "metadata": {},
      "outputs": [],
      "source": [
        "object_lc = lsdb.read_hats(hats_dir / \"object_lc\").map_partitions(\n",
        "    lambda df: df.assign(\n",
        "        **{\n",
        "            \"forcedSource\": df[\"forcedSource\"].astype(\n",
        "                NestedDtype.from_pandas_arrow_dtype(df.dtypes[\"forcedSource\"])\n",
        "            )\n",
        "        }\n",
        "    )\n",
        ")\n",
        "object_lc"
      ]
    },
    {
      "cell_type": "code",
      "execution_count": null,
      "metadata": {},
      "outputs": [],
      "source": [
        "object_lc_index = hats.read_hats(hats_dir / \"object_lc_index\")\n",
        "object_lc_index.schema"
      ]
    },
    {
      "cell_type": "code",
      "execution_count": null,
      "metadata": {},
      "outputs": [],
      "source": [
        "%%time\n",
        "test_object = object_lc.index_search([test_object_id], object_lc_index).compute()"
      ]
    },
    {
      "cell_type": "markdown",
      "metadata": {},
      "source": [
        "Comparing the previous execution with that of `Catalog.query`:"
      ]
    },
    {
      "cell_type": "code",
      "execution_count": null,
      "metadata": {},
      "outputs": [],
      "source": [
        "%%time\n",
        "test_object = object_lc.query(f\"objectId == {test_object_id}\").compute()"
      ]
    },
    {
      "cell_type": "code",
      "execution_count": null,
      "metadata": {},
      "outputs": [],
      "source": [
        "client.close()\n",
        "tmp_path.cleanup()"
      ]
    }
  ],
  "metadata": {
    "kernelspec": {
      "display_name": "Python 3 (ipykernel)",
      "language": "python",
      "name": "python3"
    },
    "language_info": {
      "codemirror_mode": {
        "name": "ipython",
        "version": 3
      },
      "file_extension": ".py",
      "mimetype": "text/x-python",
      "name": "python",
      "nbconvert_exporter": "python",
      "pygments_lexer": "ipython3",
      "version": "3.12.9"
    }
  },
  "nbformat": 4,
  "nbformat_minor": 2
}
