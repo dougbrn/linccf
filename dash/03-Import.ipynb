{
 "cells": [
  {
   "cell_type": "markdown",
   "id": "8e5a49bb-9251-4b4a-b347-fbef01b945eb",
   "metadata": {},
   "source": [
    "# Import to HATS\n",
    "\n",
    "Use hats-import to ingest the parquet URLs and create each HATS catalog."
   ]
  },
  {
   "cell_type": "code",
   "execution_count": null,
   "id": "9fda8024-983e-44e7-8c06-58159498f200",
   "metadata": {
    "execution": {
     "iopub.execute_input": "2025-02-12T00:58:01.755934Z",
     "iopub.status.busy": "2025-02-12T00:58:01.755478Z",
     "iopub.status.idle": "2025-02-12T00:58:01.758477Z",
     "shell.execute_reply": "2025-02-12T00:58:01.758077Z",
     "shell.execute_reply.started": "2025-02-12T00:58:01.755917Z"
    }
   },
   "outputs": [],
   "source": [
    "# %pip install -q lsdb hats-import"
   ]
  },
  {
   "cell_type": "code",
   "execution_count": null,
   "id": "4ab38dd4-ec6d-4d45-9b0d-f41652e9779b",
   "metadata": {
    "execution": {
     "iopub.execute_input": "2025-02-12T00:58:02.236554Z",
     "iopub.status.busy": "2025-02-12T00:58:02.235997Z",
     "iopub.status.idle": "2025-02-12T00:58:04.404971Z",
     "shell.execute_reply": "2025-02-12T00:58:04.404469Z",
     "shell.execute_reply.started": "2025-02-12T00:58:02.236528Z"
    }
   },
   "outputs": [],
   "source": [
    "import os\n",
    "import tempfile\n",
    "import pandas as pd\n",
    "import hats_import.pipeline as runner\n",
    "\n",
    "from pathlib import Path\n",
    "from dask.distributed import Client\n",
    "from hats_import.catalog.arguments import ImportArguments\n",
    "from dimension_reader import DimensionParquetReader"
   ]
  },
  {
   "cell_type": "code",
   "execution_count": null,
   "id": "4d3a6b07-f916-4e26-8862-ed50f2e669d8",
   "metadata": {
    "execution": {
     "iopub.execute_input": "2025-02-12T00:58:05.467248Z",
     "iopub.status.busy": "2025-02-12T00:58:05.466340Z",
     "iopub.status.idle": "2025-02-12T00:58:05.470049Z",
     "shell.execute_reply": "2025-02-12T00:58:05.469655Z",
     "shell.execute_reply.started": "2025-02-12T00:58:05.467230Z"
    }
   },
   "outputs": [],
   "source": [
    "DRP_VERSION = os.environ[\"DRP_VERSION\"]\n",
    "COLLECTION_TAG = os.environ[\"COLLECTION_TAG\"]\n",
    "print(f\"DRP_VERSION: {DRP_VERSION}\")\n",
    "print(f\"COLLECTION_TAG: {COLLECTION_TAG}\")\n",
    "base_output_dir = Path(f\"/sdf/data/rubin/shared/lsdb_commissioning\")\n",
    "collections = f\"LSSTComCam/runs/DRP/DP1/{DRP_VERSION}/{COLLECTION_TAG}\""
   ]
  },
  {
   "cell_type": "code",
   "execution_count": null,
   "id": "299c1c4e",
   "metadata": {
    "execution": {
     "iopub.execute_input": "2025-02-12T00:58:06.473260Z",
     "iopub.status.busy": "2025-02-12T00:58:06.472686Z",
     "iopub.status.idle": "2025-02-12T00:58:06.481610Z",
     "shell.execute_reply": "2025-02-12T00:58:06.481233Z",
     "shell.execute_reply.started": "2025-02-12T00:58:06.473242Z"
    }
   },
   "outputs": [],
   "source": [
    "raw_dir = base_output_dir / \"raw\" / DRP_VERSION\n",
    "hats_dir = base_output_dir / \"hats\" / DRP_VERSION\n",
    "hats_dir.mkdir(parents=True, exist_ok=True)"
   ]
  },
  {
   "cell_type": "code",
   "execution_count": null,
   "id": "d860e7b9-0230-41da-9d5f-aebcb925bb61",
   "metadata": {
    "execution": {
     "iopub.execute_input": "2025-02-12T00:58:08.332448Z",
     "iopub.status.busy": "2025-02-12T00:58:08.331892Z",
     "iopub.status.idle": "2025-02-12T00:58:09.704368Z",
     "shell.execute_reply": "2025-02-12T00:58:09.703833Z",
     "shell.execute_reply.started": "2025-02-12T00:58:08.332432Z"
    }
   },
   "outputs": [],
   "source": [
    "tmp_path = tempfile.TemporaryDirectory()\n",
    "tmp_dir = tmp_path.name\n",
    "client = Client(n_workers=16, threads_per_worker=1, local_directory=tmp_dir)"
   ]
  },
  {
   "cell_type": "markdown",
   "id": "ce11c220",
   "metadata": {},
   "source": [
    "### Helper methods"
   ]
  },
  {
   "cell_type": "code",
   "execution_count": null,
   "id": "bc6a6cf2-991d-4dca-b5e0-5155a960712a",
   "metadata": {
    "execution": {
     "iopub.execute_input": "2025-02-12T00:58:13.416041Z",
     "iopub.status.busy": "2025-02-12T00:58:13.415732Z",
     "iopub.status.idle": "2025-02-12T00:58:13.419029Z",
     "shell.execute_reply": "2025-02-12T00:58:13.418480Z",
     "shell.execute_reply.started": "2025-02-12T00:58:13.416025Z"
    }
   },
   "outputs": [],
   "source": [
    "def get_paths(dataset_type):\n",
    "    index_dir = raw_dir / \"index\" / dataset_type\n",
    "    return list(index_dir.glob(\"*.csv\"))"
   ]
  },
  {
   "cell_type": "markdown",
   "id": "22ae0f42",
   "metadata": {},
   "source": [
    "#### DiaObject"
   ]
  },
  {
   "cell_type": "code",
   "execution_count": null,
   "id": "364c9060-d650-4f51-b43a-264aee21c3a8",
   "metadata": {
    "execution": {
     "iopub.execute_input": "2025-02-12T00:58:14.473497Z",
     "iopub.status.busy": "2025-02-12T00:58:14.473215Z",
     "iopub.status.idle": "2025-02-12T00:58:33.229625Z",
     "shell.execute_reply": "2025-02-12T00:58:33.229206Z",
     "shell.execute_reply.started": "2025-02-12T00:58:14.473481Z"
    }
   },
   "outputs": [],
   "source": [
    "diaObj_default_columns = [\"diaObjectId\", \"ra\", \"dec\", \"nDiaSources\", \"radecMjdTai\"]\n",
    "\n",
    "args = ImportArguments(\n",
    "    output_path=hats_dir,\n",
    "    output_artifact_name=\"diaObject\",\n",
    "    input_file_list=get_paths(\"diaObjectTable_tract\"),\n",
    "    file_reader=DimensionParquetReader(column_names=diaObj_default_columns),\n",
    "    ra_column=\"ra\",\n",
    "    dec_column=\"dec\",\n",
    "    catalog_type=\"object\",\n",
    "    resume=False,\n",
    "    pixel_threshold=2_000_000,\n",
    ")\n",
    "runner.pipeline_with_client(args, client)"
   ]
  },
  {
   "cell_type": "markdown",
   "id": "55eb1d3f",
   "metadata": {},
   "source": [
    "#### DiaSource"
   ]
  },
  {
   "cell_type": "code",
   "execution_count": null,
   "id": "1d909565-2e74-4f7c-9ca4-6dd7f7abd6ca",
   "metadata": {
    "execution": {
     "iopub.execute_input": "2025-02-12T00:58:37.007710Z",
     "iopub.status.busy": "2025-02-12T00:58:37.007407Z",
     "iopub.status.idle": "2025-02-12T00:59:05.404109Z",
     "shell.execute_reply": "2025-02-12T00:59:05.403701Z",
     "shell.execute_reply.started": "2025-02-12T00:58:37.007694Z"
    }
   },
   "outputs": [],
   "source": [
    "args = ImportArguments(\n",
    "    output_path=hats_dir,\n",
    "    output_artifact_name=\"diaSource\",\n",
    "    input_file_list=get_paths(\"diaSourceTable_tract\"),\n",
    "    file_reader=DimensionParquetReader(),\n",
    "    ra_column=\"ra\",\n",
    "    dec_column=\"dec\",\n",
    "    catalog_type=\"source\",\n",
    "    resume=False,\n",
    "    pixel_threshold=2_000_000,\n",
    ")\n",
    "runner.pipeline_with_client(args, client)"
   ]
  },
  {
   "cell_type": "markdown",
   "id": "4088c7aa",
   "metadata": {},
   "source": [
    "#### DiaForcedSource"
   ]
  },
  {
   "cell_type": "code",
   "execution_count": null,
   "id": "1ab1a876-2466-4c8c-9b06-f24ea4e4eae5",
   "metadata": {
    "execution": {
     "iopub.execute_input": "2025-02-12T00:59:10.152471Z",
     "iopub.status.busy": "2025-02-12T00:59:10.152006Z",
     "iopub.status.idle": "2025-02-12T01:07:38.099809Z",
     "shell.execute_reply": "2025-02-12T01:07:38.099343Z",
     "shell.execute_reply.started": "2025-02-12T00:59:10.152450Z"
    }
   },
   "outputs": [],
   "source": [
    "args = ImportArguments(\n",
    "    output_path=hats_dir,\n",
    "    output_artifact_name=\"diaForcedSource\",\n",
    "    input_file_list=get_paths(\"forcedSourceOnDiaObjectTable\"),\n",
    "    file_reader=DimensionParquetReader(),\n",
    "    ra_column=\"coord_ra\",\n",
    "    dec_column=\"coord_dec\",\n",
    "    catalog_type=\"source\",\n",
    "    pixel_threshold=5_000_000,\n",
    "    highest_healpix_order=12,\n",
    ")\n",
    "runner.pipeline_with_client(args, client)"
   ]
  },
  {
   "cell_type": "markdown",
   "id": "f32ba98d",
   "metadata": {},
   "source": [
    "#### Object"
   ]
  },
  {
   "cell_type": "code",
   "execution_count": null,
   "id": "46895e6e",
   "metadata": {
    "execution": {
     "iopub.execute_input": "2025-02-12T01:09:07.757295Z",
     "iopub.status.busy": "2025-02-12T01:09:07.756828Z",
     "iopub.status.idle": "2025-02-12T01:09:07.762960Z",
     "shell.execute_reply": "2025-02-12T01:09:07.762501Z",
     "shell.execute_reply.started": "2025-02-12T01:09:07.757280Z"
    }
   },
   "outputs": [],
   "source": [
    "cols_per_band = []\n",
    "for band in list(\"ugrizy\"):\n",
    "    for flux_type in [\"psf\", \"kron\"]:\n",
    "        prefix = f\"{band}_{flux_type}\"\n",
    "        cols_per_band.extend([f\"{prefix}Flux\", f\"{prefix}FluxErr\"])\n",
    "    cols_per_band.append(f\"{band}_kronRad\")\n",
    "\n",
    "obj_default_columns = [\n",
    "    \"objectId\",\n",
    "    \"refFwhm\",\n",
    "    \"shape_flag\",\n",
    "    \"sky_object\",\n",
    "    \"parentObjectId\",\n",
    "    \"detect_isPrimary\",\n",
    "    \"x\",\n",
    "    \"y\",\n",
    "    \"xErr\",\n",
    "    \"yErr\",\n",
    "    \"shape_yy\",\n",
    "    \"shape_xx\",\n",
    "    \"shape_xy\",\n",
    "    \"coord_ra\",\n",
    "    \"coord_dec\",\n",
    "    \"coord_raErr\",\n",
    "    \"coord_decErr\",\n",
    "    \"tract\",\n",
    "    \"patch\",\n",
    "    \"detect_isIsolated\",\n",
    "] + cols_per_band\n",
    "\n",
    "obj_default_columns"
   ]
  },
  {
   "cell_type": "code",
   "execution_count": null,
   "id": "d4292007-30bd-4822-991c-300e0a3ff017",
   "metadata": {
    "execution": {
     "iopub.execute_input": "2025-02-12T01:09:09.029946Z",
     "iopub.status.busy": "2025-02-12T01:09:09.029732Z",
     "iopub.status.idle": "2025-02-12T01:09:44.600757Z",
     "shell.execute_reply": "2025-02-12T01:09:44.599804Z",
     "shell.execute_reply.started": "2025-02-12T01:09:09.029931Z"
    }
   },
   "outputs": [],
   "source": [
    "args = ImportArguments(\n",
    "    output_path=hats_dir,\n",
    "    output_artifact_name=\"object\",\n",
    "    input_file_list=get_paths(\"objectTable\"),\n",
    "    file_reader=DimensionParquetReader(column_names=obj_default_columns, chunksize=250_000),\n",
    "    ra_column=\"coord_ra\",\n",
    "    dec_column=\"coord_dec\",\n",
    "    catalog_type=\"object\",\n",
    "    resume=False,\n",
    "    pixel_threshold=300_000,\n",
    ")\n",
    "runner.pipeline_with_client(args, client)"
   ]
  },
  {
   "cell_type": "markdown",
   "id": "302bb848",
   "metadata": {},
   "source": [
    "#### Source\n",
    "\n",
    "This is one that's going to get much worse very quickly. The `sourceTable` dimension is on the visit. So each file is very small, and there are LOTS of them. \n",
    "\n",
    "```\n",
    "Planning  : 100% 4/4 [00:00<00:00, 123.68it/s]\n",
    "Mapping   : 100% 16471/16471 [04:25<00:00,  1.77it/s]\n",
    "Binning   : 100% 2/2 [00:38<00:00, 17.09s/it]\n",
    "Splitting : 100% 16471/16471 [28:41<00:00,  1.64s/it]\n",
    "Reducing  : 100% 148/148 [04:30<00:00,  2.21s/it]\n",
    "Finishing : 100% 5/5 [00:24<00:00,  8.99s/it]\n",
    "```\n",
    "\n",
    "Solutions:\n",
    "\n",
    "- Use the `IndexedParquetReader`. We can aggregate each index file by something like tract/patch of the visit, to reduce intermediate file usage.\n",
    "- Escalate to DM. This is going to be ROUGH for everyone if there is no aggregation."
   ]
  },
  {
   "cell_type": "code",
   "execution_count": null,
   "id": "3ab3ef3e-e426-4282-92e8-897bd11c87e1",
   "metadata": {
    "execution": {
     "iopub.execute_input": "2025-02-12T01:09:47.656340Z",
     "iopub.status.busy": "2025-02-12T01:09:47.655783Z",
     "iopub.status.idle": "2025-02-12T01:16:27.288621Z",
     "shell.execute_reply": "2025-02-12T01:16:27.287858Z",
     "shell.execute_reply.started": "2025-02-12T01:09:47.656324Z"
    }
   },
   "outputs": [],
   "source": [
    "args = ImportArguments(\n",
    "    output_path=hats_dir,\n",
    "    output_artifact_name=\"source\",\n",
    "    input_file_list=get_paths(\"sourceTable\"),\n",
    "    file_reader=DimensionParquetReader(),\n",
    "    ra_column=\"ra\",\n",
    "    dec_column=\"dec\",\n",
    "    catalog_type=\"source\",\n",
    "    resume=False,\n",
    "    pixel_threshold=1_000_000,\n",
    ")\n",
    "runner.pipeline_with_client(args, client)"
   ]
  },
  {
   "cell_type": "markdown",
   "id": "28e867bf",
   "metadata": {},
   "source": [
    "#### ForcedSource"
   ]
  },
  {
   "cell_type": "code",
   "execution_count": null,
   "id": "7519309d-509c-4074-965f-aef6e239ac5a",
   "metadata": {
    "execution": {
     "iopub.execute_input": "2025-01-30T14:29:01.831212Z",
     "iopub.status.busy": "2025-01-30T14:29:01.830919Z",
     "iopub.status.idle": "2025-01-30T14:37:46.203302Z",
     "shell.execute_reply": "2025-01-30T14:37:46.202939Z",
     "shell.execute_reply.started": "2025-01-30T14:29:01.831192Z"
    }
   },
   "outputs": [],
   "source": [
    "args = ImportArguments(\n",
    "    output_path=hats_dir,\n",
    "    output_artifact_name=\"forcedSource\",\n",
    "    input_file_list=get_paths(\"forcedSourceTable\"),\n",
    "    file_reader=DimensionParquetReader(),\n",
    "    ra_column=\"coord_ra\",\n",
    "    dec_column=\"coord_dec\",\n",
    "    catalog_type=\"source\",\n",
    "    resume=False,\n",
    "    pixel_threshold=8_000_000,\n",
    ")\n",
    "runner.pipeline_with_client(args, client)"
   ]
  },
  {
   "cell_type": "code",
   "execution_count": null,
   "id": "fb66ea74",
   "metadata": {
    "execution": {
     "iopub.execute_input": "2025-02-12T00:55:16.471447Z",
     "iopub.status.busy": "2025-02-12T00:55:16.471189Z",
     "iopub.status.idle": "2025-02-12T00:55:18.012222Z",
     "shell.execute_reply": "2025-02-12T00:55:18.011671Z",
     "shell.execute_reply.started": "2025-02-12T00:55:16.471431Z"
    }
   },
   "outputs": [],
   "source": [
    "client.close()\n",
    "tmp_path.cleanup()"
   ]
  }
 ],
 "metadata": {
  "kernelspec": {
   "display_name": "Python 3 (ipykernel)",
   "language": "python",
   "name": "python3"
  },
  "language_info": {
   "codemirror_mode": {
    "name": "ipython",
    "version": 3
   },
   "file_extension": ".py",
   "mimetype": "text/x-python",
   "name": "python",
   "nbconvert_exporter": "python",
   "pygments_lexer": "ipython3",
   "version": "3.11.9"
  }
 },
 "nbformat": 4,
 "nbformat_minor": 5
}
