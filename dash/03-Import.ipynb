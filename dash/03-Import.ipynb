{
 "cells": [
  {
   "cell_type": "markdown",
   "id": "8e5a49bb-9251-4b4a-b347-fbef01b945eb",
   "metadata": {},
   "source": [
    "# Import to HATS\n",
    "\n",
    "Use hats-import to ingest the parquet URLs and create each HATS catalog."
   ]
  },
  {
   "cell_type": "code",
   "execution_count": 1,
   "id": "4ab38dd4-ec6d-4d45-9b0d-f41652e9779b",
   "metadata": {
    "execution": {
     "iopub.execute_input": "2025-02-12T00:58:02.236554Z",
     "iopub.status.busy": "2025-02-12T00:58:02.235997Z",
     "iopub.status.idle": "2025-02-12T00:58:04.404971Z",
     "shell.execute_reply": "2025-02-12T00:58:04.404469Z",
     "shell.execute_reply.started": "2025-02-12T00:58:02.236528Z"
    }
   },
   "outputs": [],
   "source": [
    "import os\n",
    "import tempfile\n",
    "import hats_import.pipeline as runner\n",
    "\n",
    "from pathlib import Path\n",
    "from dask.distributed import Client\n",
    "from hats_import.catalog.arguments import ImportArguments\n",
    "from dimension_reader import DimensionParquetReader"
   ]
  },
  {
   "cell_type": "code",
   "execution_count": 2,
   "id": "4d3a6b07-f916-4e26-8862-ed50f2e669d8",
   "metadata": {
    "execution": {
     "iopub.execute_input": "2025-02-12T00:58:05.467248Z",
     "iopub.status.busy": "2025-02-12T00:58:05.466340Z",
     "iopub.status.idle": "2025-02-12T00:58:05.470049Z",
     "shell.execute_reply": "2025-02-12T00:58:05.469655Z",
     "shell.execute_reply.started": "2025-02-12T00:58:05.467230Z"
    }
   },
   "outputs": [
    {
     "name": "stdout",
     "output_type": "stream",
     "text": [
      "DRP_VERSION: w_2025_09\n",
      "COLLECTION_TAG: DM-49235\n"
     ]
    }
   ],
   "source": [
    "DRP_VERSION = os.environ[\"DRP_VERSION\"]\n",
    "COLLECTION_TAG = os.environ[\"COLLECTION_TAG\"]\n",
    "print(f\"DRP_VERSION: {DRP_VERSION}\")\n",
    "print(f\"COLLECTION_TAG: {COLLECTION_TAG}\")\n",
    "base_output_dir = Path(f\"/sdf/data/rubin/shared/lsdb_commissioning\")\n",
    "collections = f\"LSSTComCam/runs/DRP/DP1/{DRP_VERSION}/{COLLECTION_TAG}\""
   ]
  },
  {
   "cell_type": "code",
   "execution_count": 3,
   "id": "299c1c4e",
   "metadata": {
    "execution": {
     "iopub.execute_input": "2025-02-12T00:58:06.473260Z",
     "iopub.status.busy": "2025-02-12T00:58:06.472686Z",
     "iopub.status.idle": "2025-02-12T00:58:06.481610Z",
     "shell.execute_reply": "2025-02-12T00:58:06.481233Z",
     "shell.execute_reply.started": "2025-02-12T00:58:06.473242Z"
    }
   },
   "outputs": [],
   "source": [
    "raw_dir = base_output_dir / \"raw\" / DRP_VERSION\n",
    "hats_dir = base_output_dir / \"hats\" / DRP_VERSION\n",
    "hats_dir.mkdir(parents=True, exist_ok=True)"
   ]
  },
  {
   "cell_type": "code",
   "execution_count": 4,
   "id": "d860e7b9-0230-41da-9d5f-aebcb925bb61",
   "metadata": {
    "execution": {
     "iopub.execute_input": "2025-02-12T00:58:08.332448Z",
     "iopub.status.busy": "2025-02-12T00:58:08.331892Z",
     "iopub.status.idle": "2025-02-12T00:58:09.704368Z",
     "shell.execute_reply": "2025-02-12T00:58:09.703833Z",
     "shell.execute_reply.started": "2025-02-12T00:58:08.332432Z"
    }
   },
   "outputs": [],
   "source": [
    "tmp_path = tempfile.TemporaryDirectory()\n",
    "tmp_dir = tmp_path.name\n",
    "client = Client(n_workers=16, threads_per_worker=1, local_directory=tmp_dir)"
   ]
  },
  {
   "cell_type": "markdown",
   "id": "ce11c220",
   "metadata": {},
   "source": [
    "### Helper methods"
   ]
  },
  {
   "cell_type": "code",
   "execution_count": 5,
   "id": "bc6a6cf2-991d-4dca-b5e0-5155a960712a",
   "metadata": {
    "execution": {
     "iopub.execute_input": "2025-02-12T00:58:13.416041Z",
     "iopub.status.busy": "2025-02-12T00:58:13.415732Z",
     "iopub.status.idle": "2025-02-12T00:58:13.419029Z",
     "shell.execute_reply": "2025-02-12T00:58:13.418480Z",
     "shell.execute_reply.started": "2025-02-12T00:58:13.416025Z"
    }
   },
   "outputs": [],
   "source": [
    "def get_paths(dataset_type):\n",
    "    index_dir = raw_dir / \"index\" / dataset_type\n",
    "    return list(index_dir.glob(\"*.csv\"))"
   ]
  },
  {
   "cell_type": "markdown",
   "id": "22ae0f42",
   "metadata": {},
   "source": [
    "#### DiaObject"
   ]
  },
  {
   "cell_type": "code",
   "execution_count": 6,
   "id": "364c9060-d650-4f51-b43a-264aee21c3a8",
   "metadata": {
    "execution": {
     "iopub.execute_input": "2025-02-12T00:58:14.473497Z",
     "iopub.status.busy": "2025-02-12T00:58:14.473215Z",
     "iopub.status.idle": "2025-02-12T00:58:33.229625Z",
     "shell.execute_reply": "2025-02-12T00:58:33.229206Z",
     "shell.execute_reply.started": "2025-02-12T00:58:14.473481Z"
    }
   },
   "outputs": [
    {
     "data": {
      "application/vnd.jupyter.widget-view+json": {
       "model_id": "901e8f16aa544bf9ab4027df2e47338d",
       "version_major": 2,
       "version_minor": 0
      },
      "text/plain": [
       "Planning  :   0%|          | 0/4 [00:00<?, ?it/s]"
      ]
     },
     "metadata": {},
     "output_type": "display_data"
    },
    {
     "data": {
      "application/vnd.jupyter.widget-view+json": {
       "model_id": "9086a7733e5c4b47afe3e3155f688a72",
       "version_major": 2,
       "version_minor": 0
      },
      "text/plain": [
       "Mapping   :   0%|          | 0/25 [00:00<?, ?it/s]"
      ]
     },
     "metadata": {},
     "output_type": "display_data"
    },
    {
     "data": {
      "application/vnd.jupyter.widget-view+json": {
       "model_id": "a1e79f1ff38f48c5b4837bee6de3c22e",
       "version_major": 2,
       "version_minor": 0
      },
      "text/plain": [
       "Binning   :   0%|          | 0/2 [00:00<?, ?it/s]"
      ]
     },
     "metadata": {},
     "output_type": "display_data"
    },
    {
     "data": {
      "application/vnd.jupyter.widget-view+json": {
       "model_id": "b06a4d343180404eb528fcb35678b3e2",
       "version_major": 2,
       "version_minor": 0
      },
      "text/plain": [
       "Splitting :   0%|          | 0/25 [00:00<?, ?it/s]"
      ]
     },
     "metadata": {},
     "output_type": "display_data"
    },
    {
     "data": {
      "application/vnd.jupyter.widget-view+json": {
       "model_id": "197e25a052314a198f7c8db9077020b5",
       "version_major": 2,
       "version_minor": 0
      },
      "text/plain": [
       "Reducing  :   0%|          | 0/4 [00:00<?, ?it/s]"
      ]
     },
     "metadata": {},
     "output_type": "display_data"
    },
    {
     "data": {
      "application/vnd.jupyter.widget-view+json": {
       "model_id": "33a5ee8487d049d1b498f08830097eb2",
       "version_major": 2,
       "version_minor": 0
      },
      "text/plain": [
       "Finishing :   0%|          | 0/5 [00:00<?, ?it/s]"
      ]
     },
     "metadata": {},
     "output_type": "display_data"
    }
   ],
   "source": [
    "diaObj_default_columns = [\"diaObjectId\", \"ra\", \"dec\", \"nDiaSources\", \"radecMjdTai\"]\n",
    "\n",
    "args = ImportArguments(\n",
    "    output_path=hats_dir,\n",
    "    output_artifact_name=\"diaObject\",\n",
    "    input_file_list=get_paths(\"diaObjectTable_tract\"),\n",
    "    file_reader=DimensionParquetReader(column_names=diaObj_default_columns),\n",
    "    ra_column=\"ra\",\n",
    "    dec_column=\"dec\",\n",
    "    catalog_type=\"object\",\n",
    "    resume=False,\n",
    "    pixel_threshold=2_000_000,\n",
    ")\n",
    "runner.pipeline_with_client(args, client)"
   ]
  },
  {
   "cell_type": "markdown",
   "id": "55eb1d3f",
   "metadata": {},
   "source": [
    "#### DiaSource"
   ]
  },
  {
   "cell_type": "code",
   "execution_count": 7,
   "id": "1d909565-2e74-4f7c-9ca4-6dd7f7abd6ca",
   "metadata": {
    "execution": {
     "iopub.execute_input": "2025-02-12T00:58:37.007710Z",
     "iopub.status.busy": "2025-02-12T00:58:37.007407Z",
     "iopub.status.idle": "2025-02-12T00:59:05.404109Z",
     "shell.execute_reply": "2025-02-12T00:59:05.403701Z",
     "shell.execute_reply.started": "2025-02-12T00:58:37.007694Z"
    }
   },
   "outputs": [
    {
     "data": {
      "application/vnd.jupyter.widget-view+json": {
       "model_id": "b92d606dc626401383c7fbdac63167fe",
       "version_major": 2,
       "version_minor": 0
      },
      "text/plain": [
       "Planning  :   0%|          | 0/4 [00:00<?, ?it/s]"
      ]
     },
     "metadata": {},
     "output_type": "display_data"
    },
    {
     "data": {
      "application/vnd.jupyter.widget-view+json": {
       "model_id": "da9d18ff14384c7589b19255cb969e98",
       "version_major": 2,
       "version_minor": 0
      },
      "text/plain": [
       "Mapping   :   0%|          | 0/25 [00:00<?, ?it/s]"
      ]
     },
     "metadata": {},
     "output_type": "display_data"
    },
    {
     "data": {
      "application/vnd.jupyter.widget-view+json": {
       "model_id": "132d1320231a4cae88a897f7c68fc1f2",
       "version_major": 2,
       "version_minor": 0
      },
      "text/plain": [
       "Binning   :   0%|          | 0/2 [00:00<?, ?it/s]"
      ]
     },
     "metadata": {},
     "output_type": "display_data"
    },
    {
     "data": {
      "application/vnd.jupyter.widget-view+json": {
       "model_id": "adaf9484357149b3907ac19ec69aca64",
       "version_major": 2,
       "version_minor": 0
      },
      "text/plain": [
       "Splitting :   0%|          | 0/25 [00:00<?, ?it/s]"
      ]
     },
     "metadata": {},
     "output_type": "display_data"
    },
    {
     "data": {
      "application/vnd.jupyter.widget-view+json": {
       "model_id": "6a7702f276bd4f9bb2eccbe3385408d2",
       "version_major": 2,
       "version_minor": 0
      },
      "text/plain": [
       "Reducing  :   0%|          | 0/6 [00:00<?, ?it/s]"
      ]
     },
     "metadata": {},
     "output_type": "display_data"
    },
    {
     "data": {
      "application/vnd.jupyter.widget-view+json": {
       "model_id": "6696750152ad4ee5945ca826914ea0d7",
       "version_major": 2,
       "version_minor": 0
      },
      "text/plain": [
       "Finishing :   0%|          | 0/5 [00:00<?, ?it/s]"
      ]
     },
     "metadata": {},
     "output_type": "display_data"
    }
   ],
   "source": [
    "args = ImportArguments(\n",
    "    output_path=hats_dir,\n",
    "    output_artifact_name=\"diaSource\",\n",
    "    input_file_list=get_paths(\"diaSourceTable_tract\"),\n",
    "    file_reader=DimensionParquetReader(),\n",
    "    ra_column=\"ra\",\n",
    "    dec_column=\"dec\",\n",
    "    catalog_type=\"source\",\n",
    "    resume=False,\n",
    "    pixel_threshold=2_000_000,\n",
    ")\n",
    "runner.pipeline_with_client(args, client)"
   ]
  },
  {
   "cell_type": "markdown",
   "id": "4088c7aa",
   "metadata": {},
   "source": [
    "#### DiaForcedSource"
   ]
  },
  {
   "cell_type": "code",
   "execution_count": 8,
   "id": "1ab1a876-2466-4c8c-9b06-f24ea4e4eae5",
   "metadata": {
    "execution": {
     "iopub.execute_input": "2025-02-12T00:59:10.152471Z",
     "iopub.status.busy": "2025-02-12T00:59:10.152006Z",
     "iopub.status.idle": "2025-02-12T01:07:38.099809Z",
     "shell.execute_reply": "2025-02-12T01:07:38.099343Z",
     "shell.execute_reply.started": "2025-02-12T00:59:10.152450Z"
    }
   },
   "outputs": [
    {
     "data": {
      "application/vnd.jupyter.widget-view+json": {
       "model_id": "09492d7914d146fabc9d8784db25c21c",
       "version_major": 2,
       "version_minor": 0
      },
      "text/plain": [
       "Planning  :   0%|          | 0/4 [00:00<?, ?it/s]"
      ]
     },
     "metadata": {},
     "output_type": "display_data"
    },
    {
     "data": {
      "application/vnd.jupyter.widget-view+json": {
       "model_id": "6ab5f1e7eec949c18ad709d72fc1b872",
       "version_major": 2,
       "version_minor": 0
      },
      "text/plain": [
       "Mapping   :   0%|          | 0/25 [00:00<?, ?it/s]"
      ]
     },
     "metadata": {},
     "output_type": "display_data"
    },
    {
     "data": {
      "application/vnd.jupyter.widget-view+json": {
       "model_id": "4eeb39f073bc4ea095bc76b345153277",
       "version_major": 2,
       "version_minor": 0
      },
      "text/plain": [
       "Binning   :   0%|          | 0/2 [00:00<?, ?it/s]"
      ]
     },
     "metadata": {},
     "output_type": "display_data"
    },
    {
     "data": {
      "application/vnd.jupyter.widget-view+json": {
       "model_id": "77cb025c7e17479b846b7ad388f09ee5",
       "version_major": 2,
       "version_minor": 0
      },
      "text/plain": [
       "Splitting :   0%|          | 0/25 [00:00<?, ?it/s]"
      ]
     },
     "metadata": {},
     "output_type": "display_data"
    },
    {
     "data": {
      "application/vnd.jupyter.widget-view+json": {
       "model_id": "910cbeacacc04a85aaf6cfbe37ed9c7f",
       "version_major": 2,
       "version_minor": 0
      },
      "text/plain": [
       "Reducing  :   0%|          | 0/245 [00:00<?, ?it/s]"
      ]
     },
     "metadata": {},
     "output_type": "display_data"
    },
    {
     "data": {
      "application/vnd.jupyter.widget-view+json": {
       "model_id": "30595c03e3ea4229bdd74d02406e0f35",
       "version_major": 2,
       "version_minor": 0
      },
      "text/plain": [
       "Finishing :   0%|          | 0/5 [00:00<?, ?it/s]"
      ]
     },
     "metadata": {},
     "output_type": "display_data"
    }
   ],
   "source": [
    "args = ImportArguments(\n",
    "    output_path=hats_dir,\n",
    "    output_artifact_name=\"diaForcedSource\",\n",
    "    input_file_list=get_paths(\"forcedSourceOnDiaObjectTable\"),\n",
    "    file_reader=DimensionParquetReader(),\n",
    "    ra_column=\"coord_ra\",\n",
    "    dec_column=\"coord_dec\",\n",
    "    catalog_type=\"source\",\n",
    "    pixel_threshold=5_000_000,\n",
    "    highest_healpix_order=12,\n",
    ")\n",
    "runner.pipeline_with_client(args, client)"
   ]
  },
  {
   "cell_type": "markdown",
   "id": "f32ba98d",
   "metadata": {},
   "source": [
    "#### Object"
   ]
  },
  {
   "cell_type": "code",
   "execution_count": 9,
   "id": "46895e6e",
   "metadata": {
    "execution": {
     "iopub.execute_input": "2025-02-12T01:09:07.757295Z",
     "iopub.status.busy": "2025-02-12T01:09:07.756828Z",
     "iopub.status.idle": "2025-02-12T01:09:07.762960Z",
     "shell.execute_reply": "2025-02-12T01:09:07.762501Z",
     "shell.execute_reply.started": "2025-02-12T01:09:07.757280Z"
    }
   },
   "outputs": [
    {
     "data": {
      "text/plain": [
       "['objectId',\n",
       " 'refFwhm',\n",
       " 'shape_flag',\n",
       " 'sky_object',\n",
       " 'parentObjectId',\n",
       " 'detect_isPrimary',\n",
       " 'x',\n",
       " 'y',\n",
       " 'xErr',\n",
       " 'yErr',\n",
       " 'shape_yy',\n",
       " 'shape_xx',\n",
       " 'shape_xy',\n",
       " 'coord_ra',\n",
       " 'coord_dec',\n",
       " 'coord_raErr',\n",
       " 'coord_decErr',\n",
       " 'tract',\n",
       " 'patch',\n",
       " 'detect_isIsolated',\n",
       " 'u_psfFlux',\n",
       " 'u_psfFluxErr',\n",
       " 'u_kronFlux',\n",
       " 'u_kronFluxErr',\n",
       " 'u_kronRad',\n",
       " 'g_psfFlux',\n",
       " 'g_psfFluxErr',\n",
       " 'g_kronFlux',\n",
       " 'g_kronFluxErr',\n",
       " 'g_kronRad',\n",
       " 'r_psfFlux',\n",
       " 'r_psfFluxErr',\n",
       " 'r_kronFlux',\n",
       " 'r_kronFluxErr',\n",
       " 'r_kronRad',\n",
       " 'i_psfFlux',\n",
       " 'i_psfFluxErr',\n",
       " 'i_kronFlux',\n",
       " 'i_kronFluxErr',\n",
       " 'i_kronRad',\n",
       " 'z_psfFlux',\n",
       " 'z_psfFluxErr',\n",
       " 'z_kronFlux',\n",
       " 'z_kronFluxErr',\n",
       " 'z_kronRad',\n",
       " 'y_psfFlux',\n",
       " 'y_psfFluxErr',\n",
       " 'y_kronFlux',\n",
       " 'y_kronFluxErr',\n",
       " 'y_kronRad']"
      ]
     },
     "execution_count": 9,
     "metadata": {},
     "output_type": "execute_result"
    }
   ],
   "source": [
    "cols_per_band = []\n",
    "for band in list(\"ugrizy\"):\n",
    "    for flux_type in [\"psf\", \"kron\"]:\n",
    "        prefix = f\"{band}_{flux_type}\"\n",
    "        cols_per_band.extend([f\"{prefix}Flux\", f\"{prefix}FluxErr\"])\n",
    "    cols_per_band.append(f\"{band}_kronRad\")\n",
    "\n",
    "obj_default_columns = [\n",
    "    \"objectId\",\n",
    "    \"refFwhm\",\n",
    "    \"shape_flag\",\n",
    "    \"sky_object\",\n",
    "    \"parentObjectId\",\n",
    "    \"detect_isPrimary\",\n",
    "    \"x\",\n",
    "    \"y\",\n",
    "    \"xErr\",\n",
    "    \"yErr\",\n",
    "    \"shape_yy\",\n",
    "    \"shape_xx\",\n",
    "    \"shape_xy\",\n",
    "    \"coord_ra\",\n",
    "    \"coord_dec\",\n",
    "    \"coord_raErr\",\n",
    "    \"coord_decErr\",\n",
    "    \"tract\",\n",
    "    \"patch\",\n",
    "    \"detect_isIsolated\",\n",
    "] + cols_per_band\n",
    "\n",
    "obj_default_columns"
   ]
  },
  {
   "cell_type": "code",
   "execution_count": 10,
   "id": "d4292007-30bd-4822-991c-300e0a3ff017",
   "metadata": {
    "execution": {
     "iopub.execute_input": "2025-02-12T01:09:09.029946Z",
     "iopub.status.busy": "2025-02-12T01:09:09.029732Z",
     "iopub.status.idle": "2025-02-12T01:09:44.600757Z",
     "shell.execute_reply": "2025-02-12T01:09:44.599804Z",
     "shell.execute_reply.started": "2025-02-12T01:09:09.029931Z"
    }
   },
   "outputs": [
    {
     "data": {
      "application/vnd.jupyter.widget-view+json": {
       "model_id": "1ceb7aeb5a324ec29ae03ad639385356",
       "version_major": 2,
       "version_minor": 0
      },
      "text/plain": [
       "Planning  :   0%|          | 0/4 [00:00<?, ?it/s]"
      ]
     },
     "metadata": {},
     "output_type": "display_data"
    },
    {
     "data": {
      "application/vnd.jupyter.widget-view+json": {
       "model_id": "1e0204f8314046de8ae8fd679dd89e96",
       "version_major": 2,
       "version_minor": 0
      },
      "text/plain": [
       "Mapping   :   0%|          | 0/29 [00:00<?, ?it/s]"
      ]
     },
     "metadata": {},
     "output_type": "display_data"
    },
    {
     "data": {
      "application/vnd.jupyter.widget-view+json": {
       "model_id": "64b9b263e1eb4e3aa8b7f931db074b63",
       "version_major": 2,
       "version_minor": 0
      },
      "text/plain": [
       "Binning   :   0%|          | 0/2 [00:00<?, ?it/s]"
      ]
     },
     "metadata": {},
     "output_type": "display_data"
    },
    {
     "data": {
      "application/vnd.jupyter.widget-view+json": {
       "model_id": "eecbba3118e34b409ba7ad1f8d84a6d4",
       "version_major": 2,
       "version_minor": 0
      },
      "text/plain": [
       "Splitting :   0%|          | 0/29 [00:00<?, ?it/s]"
      ]
     },
     "metadata": {},
     "output_type": "display_data"
    },
    {
     "data": {
      "application/vnd.jupyter.widget-view+json": {
       "model_id": "dd41e449a1914f74a1834c56b472ad48",
       "version_major": 2,
       "version_minor": 0
      },
      "text/plain": [
       "Reducing  :   0%|          | 0/80 [00:00<?, ?it/s]"
      ]
     },
     "metadata": {},
     "output_type": "display_data"
    },
    {
     "data": {
      "application/vnd.jupyter.widget-view+json": {
       "model_id": "20fdb504e04e402c91a329c8187dfb36",
       "version_major": 2,
       "version_minor": 0
      },
      "text/plain": [
       "Finishing :   0%|          | 0/5 [00:00<?, ?it/s]"
      ]
     },
     "metadata": {},
     "output_type": "display_data"
    }
   ],
   "source": [
    "args = ImportArguments(\n",
    "    output_path=hats_dir,\n",
    "    output_artifact_name=\"object\",\n",
    "    input_file_list=get_paths(\"objectTable\"),\n",
    "    file_reader=DimensionParquetReader(column_names=obj_default_columns, chunksize=250_000),\n",
    "    ra_column=\"coord_ra\",\n",
    "    dec_column=\"coord_dec\",\n",
    "    catalog_type=\"object\",\n",
    "    resume=False,\n",
    "    pixel_threshold=200_000,\n",
    ")\n",
    "runner.pipeline_with_client(args, client)"
   ]
  },
  {
   "cell_type": "markdown",
   "id": "302bb848",
   "metadata": {},
   "source": [
    "#### Source\n",
    "\n",
    "This is one that's going to get much worse very quickly. The `sourceTable` dimension is on the visit. So each file is very small, and there are LOTS of them. \n",
    "\n",
    "```\n",
    "Planning  : 100% 4/4 [00:00<00:00, 123.68it/s]\n",
    "Mapping   : 100% 16471/16471 [04:25<00:00,  1.77it/s]\n",
    "Binning   : 100% 2/2 [00:38<00:00, 17.09s/it]\n",
    "Splitting : 100% 16471/16471 [28:41<00:00,  1.64s/it]\n",
    "Reducing  : 100% 148/148 [04:30<00:00,  2.21s/it]\n",
    "Finishing : 100% 5/5 [00:24<00:00,  8.99s/it]\n",
    "```\n",
    "\n",
    "Solutions:\n",
    "\n",
    "- Use the `IndexedParquetReader`. We can aggregate each index file by something like tract/patch of the visit, to reduce intermediate file usage.\n",
    "- Escalate to DM. This is going to be ROUGH for everyone if there is no aggregation."
   ]
  },
  {
   "cell_type": "code",
   "execution_count": 11,
   "id": "3ab3ef3e-e426-4282-92e8-897bd11c87e1",
   "metadata": {
    "execution": {
     "iopub.execute_input": "2025-02-12T01:09:47.656340Z",
     "iopub.status.busy": "2025-02-12T01:09:47.655783Z",
     "iopub.status.idle": "2025-02-12T01:16:27.288621Z",
     "shell.execute_reply": "2025-02-12T01:16:27.287858Z",
     "shell.execute_reply.started": "2025-02-12T01:09:47.656324Z"
    }
   },
   "outputs": [
    {
     "data": {
      "application/vnd.jupyter.widget-view+json": {
       "model_id": "24877e4699634c0c92a9fbaa4e191962",
       "version_major": 2,
       "version_minor": 0
      },
      "text/plain": [
       "Planning  :   0%|          | 0/4 [00:00<?, ?it/s]"
      ]
     },
     "metadata": {},
     "output_type": "display_data"
    },
    {
     "data": {
      "application/vnd.jupyter.widget-view+json": {
       "model_id": "0d2fba646b204e3ea371c139df920c6d",
       "version_major": 2,
       "version_minor": 0
      },
      "text/plain": [
       "Mapping   :   0%|          | 0/75 [00:00<?, ?it/s]"
      ]
     },
     "metadata": {},
     "output_type": "display_data"
    },
    {
     "data": {
      "application/vnd.jupyter.widget-view+json": {
       "model_id": "d695f33235fa4608aa5ef0cd94143592",
       "version_major": 2,
       "version_minor": 0
      },
      "text/plain": [
       "Binning   :   0%|          | 0/2 [00:00<?, ?it/s]"
      ]
     },
     "metadata": {},
     "output_type": "display_data"
    },
    {
     "data": {
      "application/vnd.jupyter.widget-view+json": {
       "model_id": "0b806f56d3c141b8892ac171036d3c1e",
       "version_major": 2,
       "version_minor": 0
      },
      "text/plain": [
       "Splitting :   0%|          | 0/75 [00:00<?, ?it/s]"
      ]
     },
     "metadata": {},
     "output_type": "display_data"
    },
    {
     "data": {
      "application/vnd.jupyter.widget-view+json": {
       "model_id": "c1257f17a9514e59a306b00ae466c165",
       "version_major": 2,
       "version_minor": 0
      },
      "text/plain": [
       "Reducing  :   0%|          | 0/117 [00:00<?, ?it/s]"
      ]
     },
     "metadata": {},
     "output_type": "display_data"
    },
    {
     "data": {
      "application/vnd.jupyter.widget-view+json": {
       "model_id": "f2fa96ea1f1e4af4a343a98a9f5c6837",
       "version_major": 2,
       "version_minor": 0
      },
      "text/plain": [
       "Finishing :   0%|          | 0/5 [00:00<?, ?it/s]"
      ]
     },
     "metadata": {},
     "output_type": "display_data"
    }
   ],
   "source": [
    "args = ImportArguments(\n",
    "    output_path=hats_dir,\n",
    "    output_artifact_name=\"source\",\n",
    "    input_file_list=get_paths(\"sourceTable\"),\n",
    "    file_reader=DimensionParquetReader(),\n",
    "    ra_column=\"ra\",\n",
    "    dec_column=\"dec\",\n",
    "    catalog_type=\"source\",\n",
    "    resume=False,\n",
    "    pixel_threshold=1_000_000,\n",
    ")\n",
    "runner.pipeline_with_client(args, client)"
   ]
  },
  {
   "cell_type": "markdown",
   "id": "28e867bf",
   "metadata": {},
   "source": [
    "#### ForcedSource"
   ]
  },
  {
   "cell_type": "code",
   "execution_count": 12,
   "id": "7519309d-509c-4074-965f-aef6e239ac5a",
   "metadata": {
    "execution": {
     "iopub.execute_input": "2025-01-30T14:29:01.831212Z",
     "iopub.status.busy": "2025-01-30T14:29:01.830919Z",
     "iopub.status.idle": "2025-01-30T14:37:46.203302Z",
     "shell.execute_reply": "2025-01-30T14:37:46.202939Z",
     "shell.execute_reply.started": "2025-01-30T14:29:01.831192Z"
    }
   },
   "outputs": [
    {
     "data": {
      "application/vnd.jupyter.widget-view+json": {
       "model_id": "2eac1f145ed94af88545558eff8b1d0a",
       "version_major": 2,
       "version_minor": 0
      },
      "text/plain": [
       "Planning  :   0%|          | 0/4 [00:00<?, ?it/s]"
      ]
     },
     "metadata": {},
     "output_type": "display_data"
    },
    {
     "data": {
      "application/vnd.jupyter.widget-view+json": {
       "model_id": "82ae1a5f9a57405fb80c314a508a3857",
       "version_major": 2,
       "version_minor": 0
      },
      "text/plain": [
       "Mapping   :   0%|          | 0/29 [00:00<?, ?it/s]"
      ]
     },
     "metadata": {},
     "output_type": "display_data"
    },
    {
     "data": {
      "application/vnd.jupyter.widget-view+json": {
       "model_id": "57f63f21ffaa4cc0ba7460a3bee30bb1",
       "version_major": 2,
       "version_minor": 0
      },
      "text/plain": [
       "Binning   :   0%|          | 0/2 [00:00<?, ?it/s]"
      ]
     },
     "metadata": {},
     "output_type": "display_data"
    },
    {
     "data": {
      "application/vnd.jupyter.widget-view+json": {
       "model_id": "6ce557429d93464093ce46a4d494860c",
       "version_major": 2,
       "version_minor": 0
      },
      "text/plain": [
       "Splitting :   0%|          | 0/29 [00:00<?, ?it/s]"
      ]
     },
     "metadata": {},
     "output_type": "display_data"
    },
    {
     "data": {
      "application/vnd.jupyter.widget-view+json": {
       "model_id": "43c5ee9691234ef9b34e2bc169d9c038",
       "version_major": 2,
       "version_minor": 0
      },
      "text/plain": [
       "Reducing  :   0%|          | 0/201 [00:00<?, ?it/s]"
      ]
     },
     "metadata": {},
     "output_type": "display_data"
    },
    {
     "data": {
      "application/vnd.jupyter.widget-view+json": {
       "model_id": "911817c6f27540e6987bae55fba12951",
       "version_major": 2,
       "version_minor": 0
      },
      "text/plain": [
       "Finishing :   0%|          | 0/5 [00:00<?, ?it/s]"
      ]
     },
     "metadata": {},
     "output_type": "display_data"
    }
   ],
   "source": [
    "args = ImportArguments(\n",
    "    output_path=hats_dir,\n",
    "    output_artifact_name=\"forcedSource\",\n",
    "    input_file_list=get_paths(\"forcedSourceTable\"),\n",
    "    file_reader=DimensionParquetReader(),\n",
    "    ra_column=\"coord_ra\",\n",
    "    dec_column=\"coord_dec\",\n",
    "    catalog_type=\"source\",\n",
    "    resume=False,\n",
    "    pixel_threshold=8_000_000,\n",
    ")\n",
    "runner.pipeline_with_client(args, client)"
   ]
  },
  {
   "cell_type": "code",
   "execution_count": 13,
   "id": "fb66ea74",
   "metadata": {
    "execution": {
     "iopub.execute_input": "2025-02-12T00:55:16.471447Z",
     "iopub.status.busy": "2025-02-12T00:55:16.471189Z",
     "iopub.status.idle": "2025-02-12T00:55:18.012222Z",
     "shell.execute_reply": "2025-02-12T00:55:18.011671Z",
     "shell.execute_reply.started": "2025-02-12T00:55:16.471431Z"
    }
   },
   "outputs": [],
   "source": [
    "client.close()\n",
    "tmp_path.cleanup()"
   ]
  }
 ],
 "metadata": {
  "kernelspec": {
   "display_name": "Python 3 (ipykernel)",
   "language": "python",
   "name": "python3"
  },
  "language_info": {
   "codemirror_mode": {
    "name": "ipython",
    "version": 3
   },
   "file_extension": ".py",
   "mimetype": "text/x-python",
   "name": "python",
   "nbconvert_exporter": "python",
   "pygments_lexer": "ipython3",
   "version": "3.12.9"
  }
 },
 "nbformat": 4,
 "nbformat_minor": 5
}
