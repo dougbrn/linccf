{
 "cells": [
  {
   "cell_type": "markdown",
   "id": "8e5a49bb-9251-4b4a-b347-fbef01b945eb",
   "metadata": {},
   "source": [
    "# Import to HATS\n",
    "\n",
    "Use hats-import to ingest the parquet URLs and create each HATS catalog."
   ]
  },
  {
   "cell_type": "code",
   "execution_count": 1,
   "id": "4ab38dd4-ec6d-4d45-9b0d-f41652e9779b",
   "metadata": {
    "execution": {
     "iopub.execute_input": "2025-02-12T00:58:02.236554Z",
     "iopub.status.busy": "2025-02-12T00:58:02.235997Z",
     "iopub.status.idle": "2025-02-12T00:58:04.404971Z",
     "shell.execute_reply": "2025-02-12T00:58:04.404469Z",
     "shell.execute_reply.started": "2025-02-12T00:58:02.236528Z"
    }
   },
   "outputs": [],
   "source": [
    "import os\n",
    "import tempfile\n",
    "import pandas as pd\n",
    "import hats_import.pipeline as runner\n",
    "\n",
    "from pathlib import Path\n",
    "from dask.distributed import Client\n",
    "from hats_import.catalog.arguments import ImportArguments\n",
    "from dimension_reader import DimensionParquetReader"
   ]
  },
  {
   "cell_type": "code",
   "execution_count": 2,
   "id": "4d3a6b07-f916-4e26-8862-ed50f2e669d8",
   "metadata": {
    "execution": {
     "iopub.execute_input": "2025-02-12T00:58:05.467248Z",
     "iopub.status.busy": "2025-02-12T00:58:05.466340Z",
     "iopub.status.idle": "2025-02-12T00:58:05.470049Z",
     "shell.execute_reply": "2025-02-12T00:58:05.469655Z",
     "shell.execute_reply.started": "2025-02-12T00:58:05.467230Z"
    }
   },
   "outputs": [
    {
     "name": "stdout",
     "output_type": "stream",
     "text": [
      "DRP_VERSION: w_2025_07\n",
      "COLLECTION_TAG: DM-48940\n"
     ]
    }
   ],
   "source": [
    "DRP_VERSION = os.environ[\"DRP_VERSION\"]\n",
    "COLLECTION_TAG = os.environ[\"COLLECTION_TAG\"]\n",
    "print(f\"DRP_VERSION: {DRP_VERSION}\")\n",
    "print(f\"COLLECTION_TAG: {COLLECTION_TAG}\")\n",
    "base_output_dir = Path(f\"/sdf/data/rubin/shared/lsdb_commissioning\")\n",
    "collections = f\"LSSTComCam/runs/DRP/DP1/{DRP_VERSION}/{COLLECTION_TAG}\""
   ]
  },
  {
   "cell_type": "code",
   "execution_count": 3,
   "id": "299c1c4e",
   "metadata": {
    "execution": {
     "iopub.execute_input": "2025-02-12T00:58:06.473260Z",
     "iopub.status.busy": "2025-02-12T00:58:06.472686Z",
     "iopub.status.idle": "2025-02-12T00:58:06.481610Z",
     "shell.execute_reply": "2025-02-12T00:58:06.481233Z",
     "shell.execute_reply.started": "2025-02-12T00:58:06.473242Z"
    }
   },
   "outputs": [],
   "source": [
    "raw_dir = base_output_dir / \"raw\" / DRP_VERSION\n",
    "hats_dir = base_output_dir / \"hats\" / DRP_VERSION\n",
    "hats_dir.mkdir(parents=True, exist_ok=True)"
   ]
  },
  {
   "cell_type": "code",
   "execution_count": 4,
   "id": "d860e7b9-0230-41da-9d5f-aebcb925bb61",
   "metadata": {
    "execution": {
     "iopub.execute_input": "2025-02-12T00:58:08.332448Z",
     "iopub.status.busy": "2025-02-12T00:58:08.331892Z",
     "iopub.status.idle": "2025-02-12T00:58:09.704368Z",
     "shell.execute_reply": "2025-02-12T00:58:09.703833Z",
     "shell.execute_reply.started": "2025-02-12T00:58:08.332432Z"
    }
   },
   "outputs": [],
   "source": [
    "tmp_path = tempfile.TemporaryDirectory()\n",
    "tmp_dir = tmp_path.name\n",
    "client = Client(n_workers=16, threads_per_worker=1, local_directory=tmp_dir)"
   ]
  },
  {
   "cell_type": "markdown",
   "id": "ce11c220",
   "metadata": {},
   "source": [
    "### Helper methods"
   ]
  },
  {
   "cell_type": "code",
   "execution_count": 5,
   "id": "bc6a6cf2-991d-4dca-b5e0-5155a960712a",
   "metadata": {
    "execution": {
     "iopub.execute_input": "2025-02-12T00:58:13.416041Z",
     "iopub.status.busy": "2025-02-12T00:58:13.415732Z",
     "iopub.status.idle": "2025-02-12T00:58:13.419029Z",
     "shell.execute_reply": "2025-02-12T00:58:13.418480Z",
     "shell.execute_reply.started": "2025-02-12T00:58:13.416025Z"
    }
   },
   "outputs": [],
   "source": [
    "def get_paths(dataset_type):\n",
    "    index_dir = raw_dir / \"index\" / dataset_type\n",
    "    return list(index_dir.glob(\"*.csv\"))"
   ]
  },
  {
   "cell_type": "markdown",
   "id": "22ae0f42",
   "metadata": {},
   "source": [
    "#### DiaObject"
   ]
  },
  {
   "cell_type": "code",
   "execution_count": 7,
   "id": "364c9060-d650-4f51-b43a-264aee21c3a8",
   "metadata": {
    "execution": {
     "iopub.execute_input": "2025-02-12T00:58:14.473497Z",
     "iopub.status.busy": "2025-02-12T00:58:14.473215Z",
     "iopub.status.idle": "2025-02-12T00:58:33.229625Z",
     "shell.execute_reply": "2025-02-12T00:58:33.229206Z",
     "shell.execute_reply.started": "2025-02-12T00:58:14.473481Z"
    }
   },
   "outputs": [
    {
     "data": {
      "application/vnd.jupyter.widget-view+json": {
       "model_id": "c73887ceab404d89932e0c535e45a108",
       "version_major": 2,
       "version_minor": 0
      },
      "text/plain": [
       "Planning  :   0%|          | 0/4 [00:00<?, ?it/s]"
      ]
     },
     "metadata": {},
     "output_type": "display_data"
    },
    {
     "data": {
      "application/vnd.jupyter.widget-view+json": {
       "model_id": "f49dcc516c864ee1a1e89c06814a11c6",
       "version_major": 2,
       "version_minor": 0
      },
      "text/plain": [
       "Mapping   :   0%|          | 0/25 [00:00<?, ?it/s]"
      ]
     },
     "metadata": {},
     "output_type": "display_data"
    },
    {
     "data": {
      "application/vnd.jupyter.widget-view+json": {
       "model_id": "5b34b3ee026743348acf7e2fe6518427",
       "version_major": 2,
       "version_minor": 0
      },
      "text/plain": [
       "Binning   :   0%|          | 0/2 [00:00<?, ?it/s]"
      ]
     },
     "metadata": {},
     "output_type": "display_data"
    },
    {
     "data": {
      "application/vnd.jupyter.widget-view+json": {
       "model_id": "b30dd56c01184d0b860274b72f88952c",
       "version_major": 2,
       "version_minor": 0
      },
      "text/plain": [
       "Splitting :   0%|          | 0/25 [00:00<?, ?it/s]"
      ]
     },
     "metadata": {},
     "output_type": "display_data"
    },
    {
     "data": {
      "application/vnd.jupyter.widget-view+json": {
       "model_id": "c33a62760e89431aa116d001abb1cf32",
       "version_major": 2,
       "version_minor": 0
      },
      "text/plain": [
       "Reducing  :   0%|          | 0/4 [00:00<?, ?it/s]"
      ]
     },
     "metadata": {},
     "output_type": "display_data"
    },
    {
     "data": {
      "application/vnd.jupyter.widget-view+json": {
       "model_id": "1eaeac90bdc5431681220591c1a1ffec",
       "version_major": 2,
       "version_minor": 0
      },
      "text/plain": [
       "Finishing :   0%|          | 0/5 [00:00<?, ?it/s]"
      ]
     },
     "metadata": {},
     "output_type": "display_data"
    }
   ],
   "source": [
    "diaObj_default_columns = [\"diaObjectId\", \"ra\", \"dec\", \"nDiaSources\", \"radecMjdTai\"]\n",
    "\n",
    "args = ImportArguments(\n",
    "    output_path=hats_dir,\n",
    "    output_artifact_name=\"diaObject\",\n",
    "    input_file_list=get_paths(\"diaObjectTable_tract\"),\n",
    "    file_reader=DimensionParquetReader(column_names=diaObj_default_columns),\n",
    "    ra_column=\"ra\",\n",
    "    dec_column=\"dec\",\n",
    "    catalog_type=\"object\",\n",
    "    resume=False,\n",
    "    pixel_threshold=2_000_000,\n",
    ")\n",
    "runner.pipeline_with_client(args, client)"
   ]
  },
  {
   "cell_type": "markdown",
   "id": "55eb1d3f",
   "metadata": {},
   "source": [
    "#### DiaSource"
   ]
  },
  {
   "cell_type": "code",
   "execution_count": 8,
   "id": "1d909565-2e74-4f7c-9ca4-6dd7f7abd6ca",
   "metadata": {
    "execution": {
     "iopub.execute_input": "2025-02-12T00:58:37.007710Z",
     "iopub.status.busy": "2025-02-12T00:58:37.007407Z",
     "iopub.status.idle": "2025-02-12T00:59:05.404109Z",
     "shell.execute_reply": "2025-02-12T00:59:05.403701Z",
     "shell.execute_reply.started": "2025-02-12T00:58:37.007694Z"
    }
   },
   "outputs": [
    {
     "data": {
      "application/vnd.jupyter.widget-view+json": {
       "model_id": "cb2904745e8e4f198b8fe5ed4f3c05bf",
       "version_major": 2,
       "version_minor": 0
      },
      "text/plain": [
       "Planning  :   0%|          | 0/4 [00:00<?, ?it/s]"
      ]
     },
     "metadata": {},
     "output_type": "display_data"
    },
    {
     "data": {
      "application/vnd.jupyter.widget-view+json": {
       "model_id": "77e09ed4aa5840cbb57f6f5be688be96",
       "version_major": 2,
       "version_minor": 0
      },
      "text/plain": [
       "Mapping   :   0%|          | 0/25 [00:00<?, ?it/s]"
      ]
     },
     "metadata": {},
     "output_type": "display_data"
    },
    {
     "data": {
      "application/vnd.jupyter.widget-view+json": {
       "model_id": "a7036003f7fa48d38260da49bb21c8bb",
       "version_major": 2,
       "version_minor": 0
      },
      "text/plain": [
       "Binning   :   0%|          | 0/2 [00:00<?, ?it/s]"
      ]
     },
     "metadata": {},
     "output_type": "display_data"
    },
    {
     "data": {
      "application/vnd.jupyter.widget-view+json": {
       "model_id": "34b20e3d61194b63a55af6f500e42a93",
       "version_major": 2,
       "version_minor": 0
      },
      "text/plain": [
       "Splitting :   0%|          | 0/25 [00:00<?, ?it/s]"
      ]
     },
     "metadata": {},
     "output_type": "display_data"
    },
    {
     "data": {
      "application/vnd.jupyter.widget-view+json": {
       "model_id": "f2408069840f4d04b718812189c2871a",
       "version_major": 2,
       "version_minor": 0
      },
      "text/plain": [
       "Reducing  :   0%|          | 0/4 [00:00<?, ?it/s]"
      ]
     },
     "metadata": {},
     "output_type": "display_data"
    },
    {
     "data": {
      "application/vnd.jupyter.widget-view+json": {
       "model_id": "d64c002609a346e89971a4dcd6cc73e6",
       "version_major": 2,
       "version_minor": 0
      },
      "text/plain": [
       "Finishing :   0%|          | 0/5 [00:00<?, ?it/s]"
      ]
     },
     "metadata": {},
     "output_type": "display_data"
    }
   ],
   "source": [
    "args = ImportArguments(\n",
    "    output_path=hats_dir,\n",
    "    output_artifact_name=\"diaSource\",\n",
    "    input_file_list=get_paths(\"diaSourceTable_tract\"),\n",
    "    file_reader=DimensionParquetReader(),\n",
    "    ra_column=\"ra\",\n",
    "    dec_column=\"dec\",\n",
    "    catalog_type=\"source\",\n",
    "    resume=False,\n",
    "    pixel_threshold=2_000_000,\n",
    ")\n",
    "runner.pipeline_with_client(args, client)"
   ]
  },
  {
   "cell_type": "markdown",
   "id": "4088c7aa",
   "metadata": {},
   "source": [
    "#### DiaForcedSource"
   ]
  },
  {
   "cell_type": "code",
   "execution_count": 9,
   "id": "1ab1a876-2466-4c8c-9b06-f24ea4e4eae5",
   "metadata": {
    "execution": {
     "iopub.execute_input": "2025-02-12T00:59:10.152471Z",
     "iopub.status.busy": "2025-02-12T00:59:10.152006Z",
     "iopub.status.idle": "2025-02-12T01:07:38.099809Z",
     "shell.execute_reply": "2025-02-12T01:07:38.099343Z",
     "shell.execute_reply.started": "2025-02-12T00:59:10.152450Z"
    }
   },
   "outputs": [
    {
     "data": {
      "application/vnd.jupyter.widget-view+json": {
       "model_id": "a34064da3edb4408b83ea372016c65b6",
       "version_major": 2,
       "version_minor": 0
      },
      "text/plain": [
       "Planning  :   0%|          | 0/4 [00:00<?, ?it/s]"
      ]
     },
     "metadata": {},
     "output_type": "display_data"
    },
    {
     "data": {
      "application/vnd.jupyter.widget-view+json": {
       "model_id": "849a9d5071c14402aa0da4b6d9b15581",
       "version_major": 2,
       "version_minor": 0
      },
      "text/plain": [
       "Mapping   :   0%|          | 0/25 [00:00<?, ?it/s]"
      ]
     },
     "metadata": {},
     "output_type": "display_data"
    },
    {
     "data": {
      "application/vnd.jupyter.widget-view+json": {
       "model_id": "d4049d8b325d49a4a5d1bab01a40a979",
       "version_major": 2,
       "version_minor": 0
      },
      "text/plain": [
       "Binning   :   0%|          | 0/2 [00:00<?, ?it/s]"
      ]
     },
     "metadata": {},
     "output_type": "display_data"
    },
    {
     "data": {
      "application/vnd.jupyter.widget-view+json": {
       "model_id": "f345387443bc46eaadb67bf8d84299e3",
       "version_major": 2,
       "version_minor": 0
      },
      "text/plain": [
       "Splitting :   0%|          | 0/25 [00:00<?, ?it/s]"
      ]
     },
     "metadata": {},
     "output_type": "display_data"
    },
    {
     "data": {
      "application/vnd.jupyter.widget-view+json": {
       "model_id": "2760be34e4fc428f85ce3176be2b04e5",
       "version_major": 2,
       "version_minor": 0
      },
      "text/plain": [
       "Reducing  :   0%|          | 0/225 [00:00<?, ?it/s]"
      ]
     },
     "metadata": {},
     "output_type": "display_data"
    },
    {
     "data": {
      "application/vnd.jupyter.widget-view+json": {
       "model_id": "3a47b1b3154b4262accf639627cd1d58",
       "version_major": 2,
       "version_minor": 0
      },
      "text/plain": [
       "Finishing :   0%|          | 0/5 [00:00<?, ?it/s]"
      ]
     },
     "metadata": {},
     "output_type": "display_data"
    }
   ],
   "source": [
    "args = ImportArguments(\n",
    "    output_path=hats_dir,\n",
    "    output_artifact_name=\"diaForcedSource\",\n",
    "    input_file_list=get_paths(\"forcedSourceOnDiaObjectTable\"),\n",
    "    file_reader=DimensionParquetReader(),\n",
    "    ra_column=\"coord_ra\",\n",
    "    dec_column=\"coord_dec\",\n",
    "    catalog_type=\"source\",\n",
    "    pixel_threshold=5_000_000,\n",
    "    highest_healpix_order=12,\n",
    ")\n",
    "runner.pipeline_with_client(args, client)"
   ]
  },
  {
   "cell_type": "markdown",
   "id": "f32ba98d",
   "metadata": {},
   "source": [
    "#### Object"
   ]
  },
  {
   "cell_type": "code",
   "execution_count": 10,
   "id": "46895e6e",
   "metadata": {
    "execution": {
     "iopub.execute_input": "2025-02-12T01:09:07.757295Z",
     "iopub.status.busy": "2025-02-12T01:09:07.756828Z",
     "iopub.status.idle": "2025-02-12T01:09:07.762960Z",
     "shell.execute_reply": "2025-02-12T01:09:07.762501Z",
     "shell.execute_reply.started": "2025-02-12T01:09:07.757280Z"
    }
   },
   "outputs": [
    {
     "data": {
      "text/plain": [
       "['objectId',\n",
       " 'refFwhm',\n",
       " 'shape_flag',\n",
       " 'sky_object',\n",
       " 'parentObjectId',\n",
       " 'detect_isPrimary',\n",
       " 'x',\n",
       " 'y',\n",
       " 'xErr',\n",
       " 'yErr',\n",
       " 'shape_yy',\n",
       " 'shape_xx',\n",
       " 'shape_xy',\n",
       " 'coord_ra',\n",
       " 'coord_dec',\n",
       " 'coord_raErr',\n",
       " 'coord_decErr',\n",
       " 'tract',\n",
       " 'patch',\n",
       " 'detect_isIsolated',\n",
       " 'u_psfFlux',\n",
       " 'u_psfFluxErr',\n",
       " 'u_kronFlux',\n",
       " 'u_kronFluxErr',\n",
       " 'u_kronRad',\n",
       " 'g_psfFlux',\n",
       " 'g_psfFluxErr',\n",
       " 'g_kronFlux',\n",
       " 'g_kronFluxErr',\n",
       " 'g_kronRad',\n",
       " 'r_psfFlux',\n",
       " 'r_psfFluxErr',\n",
       " 'r_kronFlux',\n",
       " 'r_kronFluxErr',\n",
       " 'r_kronRad',\n",
       " 'i_psfFlux',\n",
       " 'i_psfFluxErr',\n",
       " 'i_kronFlux',\n",
       " 'i_kronFluxErr',\n",
       " 'i_kronRad',\n",
       " 'z_psfFlux',\n",
       " 'z_psfFluxErr',\n",
       " 'z_kronFlux',\n",
       " 'z_kronFluxErr',\n",
       " 'z_kronRad',\n",
       " 'y_psfFlux',\n",
       " 'y_psfFluxErr',\n",
       " 'y_kronFlux',\n",
       " 'y_kronFluxErr',\n",
       " 'y_kronRad']"
      ]
     },
     "execution_count": 10,
     "metadata": {},
     "output_type": "execute_result"
    }
   ],
   "source": [
    "cols_per_band = []\n",
    "for band in list(\"ugrizy\"):\n",
    "    for flux_type in [\"psf\", \"kron\"]:\n",
    "        prefix = f\"{band}_{flux_type}\"\n",
    "        cols_per_band.extend([f\"{prefix}Flux\", f\"{prefix}FluxErr\"])\n",
    "    cols_per_band.append(f\"{band}_kronRad\")\n",
    "\n",
    "obj_default_columns = [\n",
    "    \"objectId\",\n",
    "    \"refFwhm\",\n",
    "    \"shape_flag\",\n",
    "    \"sky_object\",\n",
    "    \"parentObjectId\",\n",
    "    \"detect_isPrimary\",\n",
    "    \"x\",\n",
    "    \"y\",\n",
    "    \"xErr\",\n",
    "    \"yErr\",\n",
    "    \"shape_yy\",\n",
    "    \"shape_xx\",\n",
    "    \"shape_xy\",\n",
    "    \"coord_ra\",\n",
    "    \"coord_dec\",\n",
    "    \"coord_raErr\",\n",
    "    \"coord_decErr\",\n",
    "    \"tract\",\n",
    "    \"patch\",\n",
    "    \"detect_isIsolated\",\n",
    "] + cols_per_band\n",
    "\n",
    "obj_default_columns"
   ]
  },
  {
   "cell_type": "code",
   "execution_count": 11,
   "id": "d4292007-30bd-4822-991c-300e0a3ff017",
   "metadata": {
    "execution": {
     "iopub.execute_input": "2025-02-12T01:09:09.029946Z",
     "iopub.status.busy": "2025-02-12T01:09:09.029732Z",
     "iopub.status.idle": "2025-02-12T01:09:44.600757Z",
     "shell.execute_reply": "2025-02-12T01:09:44.599804Z",
     "shell.execute_reply.started": "2025-02-12T01:09:09.029931Z"
    }
   },
   "outputs": [
    {
     "data": {
      "application/vnd.jupyter.widget-view+json": {
       "model_id": "ea467a925f6641bfa5dc8f58a3465989",
       "version_major": 2,
       "version_minor": 0
      },
      "text/plain": [
       "Planning  :   0%|          | 0/4 [00:00<?, ?it/s]"
      ]
     },
     "metadata": {},
     "output_type": "display_data"
    },
    {
     "data": {
      "application/vnd.jupyter.widget-view+json": {
       "model_id": "ab0088112ea9457fb8e98a4d64ddc25a",
       "version_major": 2,
       "version_minor": 0
      },
      "text/plain": [
       "Mapping   :   0%|          | 0/29 [00:00<?, ?it/s]"
      ]
     },
     "metadata": {},
     "output_type": "display_data"
    },
    {
     "data": {
      "application/vnd.jupyter.widget-view+json": {
       "model_id": "d0740e665c9148d0b52d6fe63a02192e",
       "version_major": 2,
       "version_minor": 0
      },
      "text/plain": [
       "Binning   :   0%|          | 0/2 [00:00<?, ?it/s]"
      ]
     },
     "metadata": {},
     "output_type": "display_data"
    },
    {
     "data": {
      "application/vnd.jupyter.widget-view+json": {
       "model_id": "cbddf4b5fe264fee865b5ac746b790ee",
       "version_major": 2,
       "version_minor": 0
      },
      "text/plain": [
       "Splitting :   0%|          | 0/29 [00:00<?, ?it/s]"
      ]
     },
     "metadata": {},
     "output_type": "display_data"
    },
    {
     "data": {
      "application/vnd.jupyter.widget-view+json": {
       "model_id": "9aecb10df7ab4560a9fee131bcd2e4a4",
       "version_major": 2,
       "version_minor": 0
      },
      "text/plain": [
       "Reducing  :   0%|          | 0/54 [00:00<?, ?it/s]"
      ]
     },
     "metadata": {},
     "output_type": "display_data"
    },
    {
     "data": {
      "application/vnd.jupyter.widget-view+json": {
       "model_id": "a42c36b924f5467d9daf2831227db5b9",
       "version_major": 2,
       "version_minor": 0
      },
      "text/plain": [
       "Finishing :   0%|          | 0/5 [00:00<?, ?it/s]"
      ]
     },
     "metadata": {},
     "output_type": "display_data"
    }
   ],
   "source": [
    "args = ImportArguments(\n",
    "    output_path=hats_dir,\n",
    "    output_artifact_name=\"object\",\n",
    "    input_file_list=get_paths(\"objectTable\"),\n",
    "    file_reader=DimensionParquetReader(column_names=obj_default_columns, chunksize=250_000),\n",
    "    ra_column=\"coord_ra\",\n",
    "    dec_column=\"coord_dec\",\n",
    "    catalog_type=\"object\",\n",
    "    resume=False,\n",
    "    pixel_threshold=300_000,\n",
    ")\n",
    "runner.pipeline_with_client(args, client)"
   ]
  },
  {
   "cell_type": "markdown",
   "id": "302bb848",
   "metadata": {},
   "source": [
    "#### Source\n",
    "\n",
    "This is one that's going to get much worse very quickly. The `sourceTable` dimension is on the visit. So each file is very small, and there are LOTS of them. \n",
    "\n",
    "```\n",
    "Planning  : 100% 4/4 [00:00<00:00, 123.68it/s]\n",
    "Mapping   : 100% 16471/16471 [04:25<00:00,  1.77it/s]\n",
    "Binning   : 100% 2/2 [00:38<00:00, 17.09s/it]\n",
    "Splitting : 100% 16471/16471 [28:41<00:00,  1.64s/it]\n",
    "Reducing  : 100% 148/148 [04:30<00:00,  2.21s/it]\n",
    "Finishing : 100% 5/5 [00:24<00:00,  8.99s/it]\n",
    "```\n",
    "\n",
    "Solutions:\n",
    "\n",
    "- Use the `IndexedParquetReader`. We can aggregate each index file by something like tract/patch of the visit, to reduce intermediate file usage.\n",
    "- Escalate to DM. This is going to be ROUGH for everyone if there is no aggregation."
   ]
  },
  {
   "cell_type": "code",
   "execution_count": 6,
   "id": "3ab3ef3e-e426-4282-92e8-897bd11c87e1",
   "metadata": {
    "execution": {
     "iopub.execute_input": "2025-02-12T01:09:47.656340Z",
     "iopub.status.busy": "2025-02-12T01:09:47.655783Z",
     "iopub.status.idle": "2025-02-12T01:16:27.288621Z",
     "shell.execute_reply": "2025-02-12T01:16:27.287858Z",
     "shell.execute_reply.started": "2025-02-12T01:09:47.656324Z"
    }
   },
   "outputs": [
    {
     "data": {
      "application/vnd.jupyter.widget-view+json": {
       "model_id": "c5131dad43454a9e9eb9871930675bd9",
       "version_major": 2,
       "version_minor": 0
      },
      "text/plain": [
       "Planning  :   0%|          | 0/4 [00:00<?, ?it/s]"
      ]
     },
     "metadata": {},
     "output_type": "display_data"
    },
    {
     "data": {
      "application/vnd.jupyter.widget-view+json": {
       "model_id": "13179815d31a4dcda9269d9e5eb2fa45",
       "version_major": 2,
       "version_minor": 0
      },
      "text/plain": [
       "Mapping   :   0%|          | 0/75 [00:00<?, ?it/s]"
      ]
     },
     "metadata": {},
     "output_type": "display_data"
    },
    {
     "data": {
      "application/vnd.jupyter.widget-view+json": {
       "model_id": "f34315ff4a7c48f99fd33e5b59241776",
       "version_major": 2,
       "version_minor": 0
      },
      "text/plain": [
       "Binning   :   0%|          | 0/2 [00:00<?, ?it/s]"
      ]
     },
     "metadata": {},
     "output_type": "display_data"
    },
    {
     "data": {
      "application/vnd.jupyter.widget-view+json": {
       "model_id": "10b05c8d85494d1d9552537afb7c61d0",
       "version_major": 2,
       "version_minor": 0
      },
      "text/plain": [
       "Splitting :   0%|          | 0/75 [00:00<?, ?it/s]"
      ]
     },
     "metadata": {},
     "output_type": "display_data"
    },
    {
     "data": {
      "application/vnd.jupyter.widget-view+json": {
       "model_id": "c2d8e09c108f41378b060a1e2e2e8c6c",
       "version_major": 2,
       "version_minor": 0
      },
      "text/plain": [
       "Reducing  :   0%|          | 0/117 [00:00<?, ?it/s]"
      ]
     },
     "metadata": {},
     "output_type": "display_data"
    },
    {
     "data": {
      "application/vnd.jupyter.widget-view+json": {
       "model_id": "74139ad13e3b4fe1a5a19dbaf5ff5af3",
       "version_major": 2,
       "version_minor": 0
      },
      "text/plain": [
       "Finishing :   0%|          | 0/5 [00:00<?, ?it/s]"
      ]
     },
     "metadata": {},
     "output_type": "display_data"
    }
   ],
   "source": [
    "args = ImportArguments(\n",
    "    output_path=hats_dir,\n",
    "    output_artifact_name=\"source\",\n",
    "    input_file_list=get_paths(\"sourceTable\"),\n",
    "    file_reader=DimensionParquetReader(),\n",
    "    ra_column=\"ra\",\n",
    "    dec_column=\"dec\",\n",
    "    catalog_type=\"source\",\n",
    "    resume=False,\n",
    "    pixel_threshold=1_000_000,\n",
    ")\n",
    "runner.pipeline_with_client(args, client)"
   ]
  },
  {
   "cell_type": "markdown",
   "id": "28e867bf",
   "metadata": {},
   "source": [
    "#### ForcedSource"
   ]
  },
  {
   "cell_type": "code",
   "execution_count": 6,
   "id": "7519309d-509c-4074-965f-aef6e239ac5a",
   "metadata": {
    "execution": {
     "iopub.execute_input": "2025-01-30T14:29:01.831212Z",
     "iopub.status.busy": "2025-01-30T14:29:01.830919Z",
     "iopub.status.idle": "2025-01-30T14:37:46.203302Z",
     "shell.execute_reply": "2025-01-30T14:37:46.202939Z",
     "shell.execute_reply.started": "2025-01-30T14:29:01.831192Z"
    }
   },
   "outputs": [
    {
     "data": {
      "application/vnd.jupyter.widget-view+json": {
       "model_id": "373a4d3a18ec4127ac2978a6d67d8cc7",
       "version_major": 2,
       "version_minor": 0
      },
      "text/plain": [
       "Planning  :   0%|          | 0/4 [00:00<?, ?it/s]"
      ]
     },
     "metadata": {},
     "output_type": "display_data"
    },
    {
     "data": {
      "application/vnd.jupyter.widget-view+json": {
       "model_id": "de7b3e9dd0c7496ba1481a3388f702ea",
       "version_major": 2,
       "version_minor": 0
      },
      "text/plain": [
       "Mapping   :   0%|          | 0/29 [00:00<?, ?it/s]"
      ]
     },
     "metadata": {},
     "output_type": "display_data"
    },
    {
     "data": {
      "application/vnd.jupyter.widget-view+json": {
       "model_id": "87149487a4164e73a14233f1a086b242",
       "version_major": 2,
       "version_minor": 0
      },
      "text/plain": [
       "Binning   :   0%|          | 0/2 [00:00<?, ?it/s]"
      ]
     },
     "metadata": {},
     "output_type": "display_data"
    },
    {
     "data": {
      "application/vnd.jupyter.widget-view+json": {
       "model_id": "717ce1a80b8c4d4c8301c9582f4ebadd",
       "version_major": 2,
       "version_minor": 0
      },
      "text/plain": [
       "Splitting :   0%|          | 0/29 [00:00<?, ?it/s]"
      ]
     },
     "metadata": {},
     "output_type": "display_data"
    },
    {
     "data": {
      "application/vnd.jupyter.widget-view+json": {
       "model_id": "83d78e4db23540a49875393782dd326e",
       "version_major": 2,
       "version_minor": 0
      },
      "text/plain": [
       "Reducing  :   0%|          | 0/196 [00:00<?, ?it/s]"
      ]
     },
     "metadata": {},
     "output_type": "display_data"
    },
    {
     "data": {
      "application/vnd.jupyter.widget-view+json": {
       "model_id": "f8e09a1db5994fb58b042709f891803c",
       "version_major": 2,
       "version_minor": 0
      },
      "text/plain": [
       "Finishing :   0%|          | 0/5 [00:00<?, ?it/s]"
      ]
     },
     "metadata": {},
     "output_type": "display_data"
    }
   ],
   "source": [
    "args = ImportArguments(\n",
    "    output_path=hats_dir,\n",
    "    output_artifact_name=\"forcedSource\",\n",
    "    input_file_list=get_paths(\"forcedSourceTable\"),\n",
    "    file_reader=DimensionParquetReader(),\n",
    "    ra_column=\"coord_ra\",\n",
    "    dec_column=\"coord_dec\",\n",
    "    catalog_type=\"source\",\n",
    "    resume=False,\n",
    "    pixel_threshold=8_000_000,\n",
    ")\n",
    "runner.pipeline_with_client(args, client)"
   ]
  },
  {
   "cell_type": "code",
   "execution_count": 10,
   "id": "fb66ea74",
   "metadata": {
    "execution": {
     "iopub.execute_input": "2025-02-12T00:55:16.471447Z",
     "iopub.status.busy": "2025-02-12T00:55:16.471189Z",
     "iopub.status.idle": "2025-02-12T00:55:18.012222Z",
     "shell.execute_reply": "2025-02-12T00:55:18.011671Z",
     "shell.execute_reply.started": "2025-02-12T00:55:16.471431Z"
    }
   },
   "outputs": [],
   "source": [
    "client.close()\n",
    "tmp_path.cleanup()"
   ]
  }
 ],
 "metadata": {
  "kernelspec": {
   "display_name": "Python 3 (ipykernel)",
   "language": "python",
   "name": "python3"
  }
 },
 "nbformat": 4,
 "nbformat_minor": 5
}
