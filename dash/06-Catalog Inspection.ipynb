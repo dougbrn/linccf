{
 "cells": [
  {
   "cell_type": "markdown",
   "id": "d5060a38-77e8-44d6-8e0d-877edaa7268b",
   "metadata": {},
   "source": [
    "# Catalog inspection\n",
    "\n",
    "I want to look at the \"fresh\" datasets (that have come directly from butler), and will also look at the post-processed DASH datasets (once I've generated them)."
   ]
  },
  {
   "cell_type": "code",
   "execution_count": 1,
   "id": "4e490de7-923f-4870-83b1-302075eabfb8",
   "metadata": {
    "execution": {
     "iopub.execute_input": "2025-01-30T16:29:37.636251Z",
     "iopub.status.busy": "2025-01-30T16:29:37.636012Z",
     "iopub.status.idle": "2025-01-30T16:29:39.511734Z",
     "shell.execute_reply": "2025-01-30T16:29:39.511309Z",
     "shell.execute_reply.started": "2025-01-30T16:29:37.636235Z"
    }
   },
   "outputs": [],
   "source": [
    "import hats\n",
    "from pathlib import Path"
   ]
  },
  {
   "cell_type": "code",
   "execution_count": 7,
   "id": "bb02c256-f540-462d-90ce-50e1f02f193b",
   "metadata": {
    "execution": {
     "iopub.execute_input": "2025-01-30T16:29:40.491018Z",
     "iopub.status.busy": "2025-01-30T16:29:40.490470Z",
     "iopub.status.idle": "2025-01-30T16:29:40.493475Z",
     "shell.execute_reply": "2025-01-30T16:29:40.493104Z",
     "shell.execute_reply.started": "2025-01-30T16:29:40.491001Z"
    }
   },
   "outputs": [],
   "source": [
    "base_output_dir = Path(\"/sdf/data/rubin/shared/lsdb_commissioning/hats/w_2025_04\")\n",
    "hats_dir = base_output_dir / \"hats\"\n",
    "raw_dir = base_output_dir / \"raw\"\n",
    "fields_dir = raw_dir / \"field_sizes\"\n",
    "fields_dir.mkdir(parents=True, exist_ok=True)"
   ]
  },
  {
   "cell_type": "code",
   "execution_count": null,
   "id": "ecc19828-d3f3-4c9d-802d-b5a1c53d34a4",
   "metadata": {
    "execution": {
     "iopub.execute_input": "2025-01-30T16:47:19.876780Z",
     "iopub.status.busy": "2025-01-30T16:47:19.876454Z",
     "iopub.status.idle": "2025-01-30T16:47:23.558146Z",
     "shell.execute_reply": "2025-01-30T16:47:23.557660Z",
     "shell.execute_reply.started": "2025-01-30T16:47:19.876757Z"
    }
   },
   "outputs": [],
   "source": [
    "fresh_catalogs = [\"diaForcedSource\", \"diaObject\", \"diaSource\", \"forcedSource\", \"object\", \"source\"]\n",
    "\n",
    "for catalog in fresh_catalogs:\n",
    "    cat = hats.read_hats(hats_dir / catalog)\n",
    "    print(catalog)\n",
    "    print(\"num partitions\", len(cat.get_healpix_pixels()))\n",
    "    print(\"num rows\", cat.catalog_info.total_rows)"
   ]
  },
  {
   "cell_type": "code",
   "execution_count": 8,
   "id": "3ef7e1aa-8685-4e08-a74a-d9e571622ff5",
   "metadata": {
    "execution": {
     "iopub.execute_input": "2025-01-30T17:04:41.155395Z",
     "iopub.status.busy": "2025-01-30T17:04:41.155063Z",
     "iopub.status.idle": "2025-01-30T17:04:41.214496Z",
     "shell.execute_reply": "2025-01-30T17:04:41.214066Z",
     "shell.execute_reply.started": "2025-01-30T17:04:41.155380Z"
    }
   },
   "outputs": [],
   "source": [
    "import pyarrow.parquet as pq\n",
    "\n",
    "parquet_file = pq.ParquetFile(hats_dir / \"source\" / \"dataset\" / \"_metadata\")\n",
    "\n",
    "import numpy as np\n",
    "import pandas as pd\n",
    "\n",
    "num_cols = parquet_file.metadata.num_columns\n",
    "num_row_groups = parquet_file.metadata.num_row_groups\n",
    "sizes = np.zeros(num_cols)\n",
    "\n",
    "for rg in range(num_row_groups):\n",
    "    for col in range(num_cols):\n",
    "        sizes[col] += parquet_file.metadata.row_group(rg).column(col).total_compressed_size\n",
    "\n",
    "## This is just an attempt at pretty formatting\n",
    "percents = [f\"{s/sizes.sum()*100:.1f}\" for s in sizes]\n",
    "pd.DataFrame({\"name\": parquet_file.schema.names, \"size\": sizes.astype(int), \"percent\": percents}).sort_values(\n",
    "    \"size\", ascending=False\n",
    ").to_csv(\"/sdf/data/rubin/shared/lsdb_commissioning/hats/w_2025_04/raw/field_sizes/source.csv\", index=False)"
   ]
  }
 ],
 "metadata": {
  "kernelspec": {
   "display_name": "Python 3 (ipykernel)",
   "language": "python",
   "name": "python3"
  },
  "language_info": {
   "codemirror_mode": {
    "name": "ipython",
    "version": 3
   },
   "file_extension": ".py",
   "mimetype": "text/x-python",
   "name": "python",
   "nbconvert_exporter": "python",
   "pygments_lexer": "ipython3",
   "version": "3.11.9"
  }
 },
 "nbformat": 4,
 "nbformat_minor": 5
}
