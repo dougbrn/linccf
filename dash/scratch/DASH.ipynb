{
 "cells": [
  {
   "cell_type": "markdown",
   "id": "8e5a49bb-9251-4b4a-b347-fbef01b945eb",
   "metadata": {},
   "source": [
    "# DRP Afterburner for Super HATS (DASH)\n",
    "\n",
    "starting hats tables:\n",
    "diaobject\n",
    "dia source (visit id, NOT MJD)\n",
    "object\n",
    "forced source (visit id, NOT MJD)\n",
    "\n",
    "JIRA for this week: https://rubinobs.atlassian.net/browse/DM-48478\n",
    "\n",
    "LINCC notebooks: https://github.com/lsst-sitcom/linccf/tree/main\n",
    "\n",
    "https://github.com/LSSTScienceCollaborations/StackClub/tree/master\n",
    "\n",
    "repo = /repo/main\n",
    "\n",
    "collection = LSSTComCam/runs/DRP/DP1/w_2025_03/DM-48478\n",
    "\n",
    "input collection: LSSTComCam/DP1/defaults \n",
    "\n",
    "step1 dataQuery: \"instrument='LSSTComCam'”"
   ]
  },
  {
   "cell_type": "code",
   "execution_count": 1,
   "id": "4ab38dd4-ec6d-4d45-9b0d-f41652e9779b",
   "metadata": {
    "execution": {
     "iopub.execute_input": "2025-01-23T00:00:14.712692Z",
     "iopub.status.busy": "2025-01-23T00:00:14.712126Z",
     "iopub.status.idle": "2025-01-23T00:00:16.278386Z",
     "shell.execute_reply": "2025-01-23T00:00:16.277917Z",
     "shell.execute_reply.started": "2025-01-23T00:00:14.712674Z"
    }
   },
   "outputs": [],
   "source": [
    "# Generic python packages\n",
    "import re\n",
    "import pylab as plt\n",
    "import gc\n",
    "import numpy as np\n",
    "import pandas as pd\n",
    "import astropy.units as u\n",
    "\n",
    "# LSST Science Pipelines (Stack) packages\n",
    "import lsst.daf.butler as dafButler\n",
    "import lsst.afw.display as afwDisplay\n",
    "\n",
    "# Set a standard figure size to use\n",
    "plt.rcParams['figure.figsize'] = (8.0, 8.0)\n",
    "afwDisplay.setDefaultBackend('matplotlib')"
   ]
  },
  {
   "cell_type": "markdown",
   "id": "aeb1ed0e-7ce5-4f62-8683-204cddce9281",
   "metadata": {},
   "source": [
    "### Helper methods"
   ]
  },
  {
   "cell_type": "code",
   "execution_count": 2,
   "id": "d70d1a98-e5ed-4c05-a279-1c7ac4e99775",
   "metadata": {
    "execution": {
     "iopub.execute_input": "2025-01-23T00:00:16.279514Z",
     "iopub.status.busy": "2025-01-23T00:00:16.279142Z",
     "iopub.status.idle": "2025-01-23T00:00:16.283828Z",
     "shell.execute_reply": "2025-01-23T00:00:16.283466Z",
     "shell.execute_reply.started": "2025-01-23T00:00:16.279498Z"
    }
   },
   "outputs": [],
   "source": [
    "def append_mag_and_magerr(df, flux_col_prefixes):\n",
    "    \"\"\"Calculate magnitudes and their errors for flux columns.\"\"\"\n",
    "    mag_cols = {}\n",
    "    \n",
    "    for prefix in flux_col_prefixes:\n",
    "        # Magnitude\n",
    "        flux = df[f\"{prefix}Flux\"]\n",
    "        mag = u.nJy.to(u.ABmag, flux)\n",
    "        mag_cols[f\"{prefix}Mag\"] = mag\n",
    "\n",
    "        # Magnitude error, if flux error exists\n",
    "        fluxErr_col = f\"{prefix}FluxErr\"\n",
    "        if fluxErr_col in df.columns:\n",
    "            fluxErr = df[fluxErr_col]\n",
    "            upper_mag = u.nJy.to(u.ABmag, flux+fluxErr)\n",
    "            lower_mag = u.nJy.to(u.ABmag, flux-fluxErr)\n",
    "            magErr = -(upper_mag-lower_mag)/2\n",
    "            mag_cols[f\"{prefix}MagErr\"] = magErr\n",
    "        \n",
    "    mag_df = pd.DataFrame(mag_cols, dtype=np.float64, index=df.index)\n",
    "    return pd.concat([df, mag_df], axis=1)\n",
    "\n",
    "def extract_flux_col_prefixes(df):\n",
    "    \"\"\"Extract the prefixes for the flux columns\"\"\"\n",
    "    regex = r\"^(.*?)(?=Flux)\"\n",
    "    flux_cols = df.columns[df.columns.str.contains(\"Flux\") & ~df.columns.str.contains(\"flag\")]\n",
    "    flux_col_prefixes = set([re.match(regex,col).group(1) for col in flux_cols])\n",
    "    return flux_col_prefixes"
   ]
  },
  {
   "cell_type": "markdown",
   "id": "f59eeb7e-9f1f-45ef-99c7-6b8b6c1a398d",
   "metadata": {},
   "source": [
    "### Configure Butler"
   ]
  },
  {
   "cell_type": "code",
   "execution_count": 3,
   "id": "4e1a52d8-29d2-46f9-874d-239050c25cf4",
   "metadata": {
    "execution": {
     "iopub.execute_input": "2025-01-23T00:00:16.284397Z",
     "iopub.status.busy": "2025-01-23T00:00:16.284274Z",
     "iopub.status.idle": "2025-01-23T00:00:16.687064Z",
     "shell.execute_reply": "2025-01-23T00:00:16.686651Z",
     "shell.execute_reply.started": "2025-01-23T00:00:16.284386Z"
    }
   },
   "outputs": [],
   "source": [
    "config = '/repo/main'\n",
    "collections = 'LSSTComCam/runs/DRP/DP1/w_2025_03/DM-48478'\n",
    "butler = dafButler.Butler(config, collections=collections)"
   ]
  },
  {
   "cell_type": "markdown",
   "id": "e2519023-4a48-481b-aa6a-3130524376c0",
   "metadata": {},
   "source": [
    "### DIA Objects and Sources"
   ]
  },
  {
   "cell_type": "code",
   "execution_count": 4,
   "id": "8082b642-2666-4165-8c65-2bc382fdac2a",
   "metadata": {
    "execution": {
     "iopub.execute_input": "2025-01-23T00:00:16.688176Z",
     "iopub.status.busy": "2025-01-23T00:00:16.687934Z",
     "iopub.status.idle": "2025-01-23T00:00:16.947731Z",
     "shell.execute_reply": "2025-01-23T00:00:16.947290Z",
     "shell.execute_reply.started": "2025-01-23T00:00:16.688163Z"
    }
   },
   "outputs": [],
   "source": [
    "diaObj_refs = butler.query_datasets(\"diaObjectTable_tract\")"
   ]
  },
  {
   "cell_type": "code",
   "execution_count": 5,
   "id": "8c4002cc-13a6-4c8c-bff2-06f410efea45",
   "metadata": {
    "execution": {
     "iopub.execute_input": "2025-01-23T00:00:16.948304Z",
     "iopub.status.busy": "2025-01-23T00:00:16.948173Z",
     "iopub.status.idle": "2025-01-23T00:00:16.951217Z",
     "shell.execute_reply": "2025-01-23T00:00:16.950879Z",
     "shell.execute_reply.started": "2025-01-23T00:00:16.948290Z"
    }
   },
   "outputs": [
    {
     "data": {
      "text/plain": [
       "DatasetRef(DatasetType('diaObjectTable_tract', {skymap, tract}, DataFrame), {skymap: 'lsst_cells_v1', tract: 2393}, run='LSSTComCam/runs/DRP/DP1/w_2025_03/DM-48478/20250119T135723Z', id=93514536-9c25-476d-9a05-d7c7181d820f)"
      ]
     },
     "execution_count": 5,
     "metadata": {},
     "output_type": "execute_result"
    }
   ],
   "source": [
    "diaObj_refs[0]"
   ]
  },
  {
   "cell_type": "code",
   "execution_count": 6,
   "id": "fe25f497-6277-4e34-83db-8d4734885eb9",
   "metadata": {
    "execution": {
     "iopub.execute_input": "2025-01-23T00:00:16.951733Z",
     "iopub.status.busy": "2025-01-23T00:00:16.951614Z",
     "iopub.status.idle": "2025-01-23T00:00:16.976804Z",
     "shell.execute_reply": "2025-01-23T00:00:16.976465Z",
     "shell.execute_reply.started": "2025-01-23T00:00:16.951722Z"
    }
   },
   "outputs": [
    {
     "data": {
      "text/plain": [
       "28"
      ]
     },
     "execution_count": 6,
     "metadata": {},
     "output_type": "execute_result"
    }
   ],
   "source": [
    "tracts = [ref.dataId[\"tract\"] for ref in diaObj_refs]\n",
    "len(set(tracts))"
   ]
  },
  {
   "cell_type": "code",
   "execution_count": 7,
   "id": "947de2a4-3474-4165-bd58-c3c8d5ba0ba9",
   "metadata": {
    "execution": {
     "iopub.execute_input": "2025-01-23T00:00:16.977623Z",
     "iopub.status.busy": "2025-01-23T00:00:16.977501Z",
     "iopub.status.idle": "2025-01-23T00:00:17.104299Z",
     "shell.execute_reply": "2025-01-23T00:00:17.103878Z",
     "shell.execute_reply.started": "2025-01-23T00:00:16.977612Z"
    }
   },
   "outputs": [
    {
     "name": "stdout",
     "output_type": "stream",
     "text": [
      "Retrieved catalog of 758 objects.\n"
     ]
    }
   ],
   "source": [
    "# datasetType = 'objectTable_tract'\n",
    "datasetType='diaObjectTable_tract'\n",
    "obj = butler.get(datasetType, dataId=diaObj_refs[0].dataId)\n",
    "print(f\"Retrieved catalog of {len(obj)} objects.\")"
   ]
  },
  {
   "cell_type": "code",
   "execution_count": 8,
   "id": "bc6ecdff-7ce8-44b4-88ea-605f71e8c578",
   "metadata": {
    "execution": {
     "iopub.execute_input": "2025-01-23T00:00:17.105040Z",
     "iopub.status.busy": "2025-01-23T00:00:17.104910Z",
     "iopub.status.idle": "2025-01-23T00:00:17.108126Z",
     "shell.execute_reply": "2025-01-23T00:00:17.107727Z",
     "shell.execute_reply.started": "2025-01-23T00:00:17.105028Z"
    }
   },
   "outputs": [
    {
     "data": {
      "text/plain": [
       "Index(['ra', 'dec', 'nDiaSources', 'radecMjdTai', 'r_psfFluxLinearSlope',\n",
       "       'r_psfFluxLinearIntercept', 'r_psfFluxMAD', 'r_psfFluxMaxSlope',\n",
       "       'r_psfFluxErrMean', 'r_psfFluxMean',\n",
       "       ...\n",
       "       'y_psfFluxPercentile05', 'y_psfFluxPercentile25',\n",
       "       'y_psfFluxPercentile50', 'y_psfFluxPercentile75',\n",
       "       'y_psfFluxPercentile95', 'y_psfFluxSigma', 'y_scienceFluxSigma',\n",
       "       'y_psfFluxSkew', 'y_psfFluxChi2', 'y_psfFluxStetsonJ'],\n",
       "      dtype='object', length=114)"
      ]
     },
     "execution_count": 8,
     "metadata": {},
     "output_type": "execute_result"
    }
   ],
   "source": [
    "obj.columns"
   ]
  },
  {
   "cell_type": "code",
   "execution_count": 9,
   "id": "03da5796-f10a-4b14-bac8-b28076d115cc",
   "metadata": {
    "execution": {
     "iopub.execute_input": "2025-01-23T00:00:17.215152Z",
     "iopub.status.busy": "2025-01-23T00:00:17.214771Z",
     "iopub.status.idle": "2025-01-23T00:00:17.273155Z",
     "shell.execute_reply": "2025-01-23T00:00:17.272760Z",
     "shell.execute_reply.started": "2025-01-23T00:00:17.215137Z"
    }
   },
   "outputs": [
    {
     "name": "stdout",
     "output_type": "stream",
     "text": [
      "Retrieved catalog of 1141 sources.\n"
     ]
    }
   ],
   "source": [
    "dataId = {'skymap': 'lsst_cells_v1', 'tract': 2393}\n",
    "# datasetType = 'forcedSourceTable_tract'\n",
    "datasetType='diaSourceTable_tract'\n",
    "diaSrc = butler.get(datasetType, dataId=dataId)\n",
    "print(f\"Retrieved catalog of {len(diaSrc)} sources.\")"
   ]
  },
  {
   "cell_type": "code",
   "execution_count": 10,
   "id": "17078874-9f10-4c2a-85f3-38a5b55d6220",
   "metadata": {
    "execution": {
     "iopub.execute_input": "2025-01-23T00:00:17.417676Z",
     "iopub.status.busy": "2025-01-23T00:00:17.417258Z",
     "iopub.status.idle": "2025-01-23T00:00:17.420525Z",
     "shell.execute_reply": "2025-01-23T00:00:17.420184Z",
     "shell.execute_reply.started": "2025-01-23T00:00:17.417663Z"
    }
   },
   "outputs": [
    {
     "data": {
      "text/plain": [
       "Index(['visit', 'detector', 'band', 'diaObjectId', 'ssObjectId',\n",
       "       'parentDiaSourceId', 'midpointMjdTai', 'bboxSize', 'time_processed',\n",
       "       'ra', 'dec', 'raErr', 'decErr', 'ra_dec_Cov', 'x', 'y', 'xErr', 'yErr',\n",
       "       'apFlux', 'apFluxErr', 'snr', 'psfFlux', 'psfFluxErr', 'psfChi2',\n",
       "       'psfNdata', 'trailFlux', 'trailRa', 'trailDec', 'trailLength',\n",
       "       'trailAngle', 'dipoleMeanFlux', 'dipoleMeanFluxErr', 'dipoleFluxDiff',\n",
       "       'dipoleFluxDiffErr', 'dipoleLength', 'dipoleAngle', 'dipoleChi2',\n",
       "       'isDipole', 'dipoleFitAttempted', 'dipoleNdata', 'scienceFlux',\n",
       "       'scienceFluxErr', 'ixx', 'iyy', 'ixy', 'ixxPSF', 'iyyPSF', 'ixyPSF',\n",
       "       'extendedness', 'reliability', 'pixelFlags', 'pixelFlags_offimage',\n",
       "       'pixelFlags_edge', 'pixelFlags_interpolated', 'pixelFlags_saturated',\n",
       "       'pixelFlags_cr', 'pixelFlags_bad', 'pixelFlags_suspect',\n",
       "       'pixelFlags_interpolatedCenter', 'pixelFlags_saturatedCenter',\n",
       "       'pixelFlags_crCenter', 'pixelFlags_suspectCenter', 'centroid_flag',\n",
       "       'apFlux_flag', 'apFlux_flag_apertureTruncated', 'psfFlux_flag',\n",
       "       'psfFlux_flag_noGoodPixels', 'psfFlux_flag_edge', 'forced_PsfFlux_flag',\n",
       "       'forced_PsfFlux_flag_noGoodPixels', 'forced_PsfFlux_flag_edge',\n",
       "       'shape_flag', 'shape_flag_no_pixels', 'shape_flag_not_contained',\n",
       "       'shape_flag_parent_source', 'trail_flag_edge', 'pixelFlags_streak',\n",
       "       'pixelFlags_streakCenter', 'pixelFlags_injected',\n",
       "       'pixelFlags_injectedCenter', 'pixelFlags_injected_template',\n",
       "       'pixelFlags_injected_templateCenter', 'coord_ra', 'coord_dec'],\n",
       "      dtype='object')"
      ]
     },
     "execution_count": 10,
     "metadata": {},
     "output_type": "execute_result"
    }
   ],
   "source": [
    "diaSrc.columns"
   ]
  },
  {
   "cell_type": "code",
   "execution_count": 11,
   "id": "89792be4-958b-40ec-a50c-3319d1995c02",
   "metadata": {
    "execution": {
     "iopub.execute_input": "2025-01-23T00:00:17.627876Z",
     "iopub.status.busy": "2025-01-23T00:00:17.627557Z",
     "iopub.status.idle": "2025-01-23T00:00:17.632490Z",
     "shell.execute_reply": "2025-01-23T00:00:17.631772Z",
     "shell.execute_reply.started": "2025-01-23T00:00:17.627857Z"
    }
   },
   "outputs": [
    {
     "data": {
      "text/plain": [
       "{'ap', 'dipoleMean', 'psf', 'science', 'trail'}"
      ]
     },
     "execution_count": 11,
     "metadata": {},
     "output_type": "execute_result"
    }
   ],
   "source": [
    "flux_col_prefixes = extract_flux_col_prefixes(diaSrc)\n",
    "# dipoleFluxDiff,dipoleFluxDiffErr do not work\n",
    "flux_col_prefixes.remove(\"dipole\")\n",
    "flux_col_prefixes"
   ]
  },
  {
   "cell_type": "code",
   "execution_count": null,
   "id": "a0c0d8c1-4109-4008-bac2-bbfc437f58c6",
   "metadata": {
    "execution": {
     "iopub.execute_input": "2025-01-23T00:00:17.831631Z",
     "iopub.status.busy": "2025-01-23T00:00:17.831275Z",
     "iopub.status.idle": "2025-01-23T00:00:17.848206Z",
     "shell.execute_reply": "2025-01-23T00:00:17.847897Z",
     "shell.execute_reply.started": "2025-01-23T00:00:17.831616Z"
    }
   },
   "outputs": [],
   "source": [
    "diaSrc_with_mags = append_mag_and_magerr(diaSrc, flux_col_prefixes)\n",
    "diaSrc_with_mags"
   ]
  },
  {
   "cell_type": "markdown",
   "id": "8f749e69-b761-4853-9ca6-22c7cb6f4a65",
   "metadata": {},
   "source": [
    "### Objects"
   ]
  },
  {
   "cell_type": "code",
   "execution_count": 13,
   "id": "108b399c-0397-49e0-87ec-e028aa8f2475",
   "metadata": {
    "execution": {
     "iopub.execute_input": "2025-01-23T00:00:18.239284Z",
     "iopub.status.busy": "2025-01-23T00:00:18.238913Z",
     "iopub.status.idle": "2025-01-23T00:00:18.348529Z",
     "shell.execute_reply": "2025-01-23T00:00:18.348101Z",
     "shell.execute_reply.started": "2025-01-23T00:00:18.239270Z"
    }
   },
   "outputs": [],
   "source": [
    "objs_refs = butler.query_datasets(\"objectTable\")"
   ]
  },
  {
   "cell_type": "code",
   "execution_count": 14,
   "id": "1893290e-c996-4842-9334-74fbd1bf4e04",
   "metadata": {
    "execution": {
     "iopub.execute_input": "2025-01-23T00:00:18.442496Z",
     "iopub.status.busy": "2025-01-23T00:00:18.442320Z",
     "iopub.status.idle": "2025-01-23T00:00:18.445742Z",
     "shell.execute_reply": "2025-01-23T00:00:18.445362Z",
     "shell.execute_reply.started": "2025-01-23T00:00:18.442482Z"
    }
   },
   "outputs": [
    {
     "data": {
      "text/plain": [
       "28"
      ]
     },
     "execution_count": 14,
     "metadata": {},
     "output_type": "execute_result"
    }
   ],
   "source": [
    "objs_tracts = [ref.dataId[\"tract\"] for ref in objs_refs]\n",
    "len(set(objs_tracts))"
   ]
  },
  {
   "cell_type": "code",
   "execution_count": 15,
   "id": "3872f702-93fe-4218-92d6-790ab87939a3",
   "metadata": {
    "execution": {
     "iopub.execute_input": "2025-01-23T00:00:18.634519Z",
     "iopub.status.busy": "2025-01-23T00:00:18.633975Z",
     "iopub.status.idle": "2025-01-23T00:00:18.637296Z",
     "shell.execute_reply": "2025-01-23T00:00:18.636900Z",
     "shell.execute_reply.started": "2025-01-23T00:00:18.634501Z"
    }
   },
   "outputs": [
    {
     "data": {
      "text/plain": [
       "453"
      ]
     },
     "execution_count": 15,
     "metadata": {},
     "output_type": "execute_result"
    }
   ],
   "source": [
    "objs_tracts[0]"
   ]
  },
  {
   "cell_type": "code",
   "execution_count": 16,
   "id": "03362895-082c-478b-b37a-b8eb79f0b717",
   "metadata": {
    "execution": {
     "iopub.execute_input": "2025-01-23T00:00:18.855849Z",
     "iopub.status.busy": "2025-01-23T00:00:18.855337Z",
     "iopub.status.idle": "2025-01-23T00:00:18.985775Z",
     "shell.execute_reply": "2025-01-23T00:00:18.985337Z",
     "shell.execute_reply.started": "2025-01-23T00:00:18.855834Z"
    }
   },
   "outputs": [
    {
     "name": "stdout",
     "output_type": "stream",
     "text": [
      "Retrieved catalog of 1113 objects.\n"
     ]
    }
   ],
   "source": [
    "datasetType = 'objectTable'\n",
    "objs = butler.get(datasetType, dataId=objs_refs[0].dataId)\n",
    "print(f\"Retrieved catalog of {len(objs)} objects.\")"
   ]
  },
  {
   "cell_type": "code",
   "execution_count": 17,
   "id": "47e8b278-fb19-4c34-856f-291ee64ec7e9",
   "metadata": {
    "execution": {
     "iopub.execute_input": "2025-01-23T00:00:19.057783Z",
     "iopub.status.busy": "2025-01-23T00:00:19.057361Z",
     "iopub.status.idle": "2025-01-23T00:00:19.060281Z",
     "shell.execute_reply": "2025-01-23T00:00:19.059935Z",
     "shell.execute_reply.started": "2025-01-23T00:00:19.057766Z"
    }
   },
   "outputs": [],
   "source": [
    "cols_per_band = []\n",
    "for band in list(\"ugrizy\"):\n",
    "    for flux_name in [\"psf\",\"kron\"]:\n",
    "        cols_per_band.extend([f\"{band}_{flux_name}Flux\", f\"{band}_{flux_name}FluxErr\"])\n",
    "    cols_per_band.append(f\"{band}_kronRad\")"
   ]
  },
  {
   "cell_type": "code",
   "execution_count": 18,
   "id": "2782a697-c695-46f2-93b2-dce8dd175f86",
   "metadata": {
    "execution": {
     "iopub.execute_input": "2025-01-23T00:00:19.259664Z",
     "iopub.status.busy": "2025-01-23T00:00:19.259222Z",
     "iopub.status.idle": "2025-01-23T00:00:19.262898Z",
     "shell.execute_reply": "2025-01-23T00:00:19.262578Z",
     "shell.execute_reply.started": "2025-01-23T00:00:19.259649Z"
    }
   },
   "outputs": [
    {
     "data": {
      "text/plain": [
       "['refFwhm',\n",
       " 'shape_flag',\n",
       " 'sky_object',\n",
       " 'parentObjectId',\n",
       " 'detect_isPrimary',\n",
       " 'x',\n",
       " 'y',\n",
       " 'xErr',\n",
       " 'yErr',\n",
       " 'shape_yy',\n",
       " 'shape_xx',\n",
       " 'shape_xy',\n",
       " 'coord_ra',\n",
       " 'coord_dec',\n",
       " 'coord_raErr',\n",
       " 'coord_decErr',\n",
       " 'tract',\n",
       " 'patch',\n",
       " 'detect_isIsolated',\n",
       " 'u_psfFlux',\n",
       " 'u_psfFluxErr',\n",
       " 'u_kronFlux',\n",
       " 'u_kronFluxErr',\n",
       " 'u_kronRad',\n",
       " 'g_psfFlux',\n",
       " 'g_psfFluxErr',\n",
       " 'g_kronFlux',\n",
       " 'g_kronFluxErr',\n",
       " 'g_kronRad',\n",
       " 'r_psfFlux',\n",
       " 'r_psfFluxErr',\n",
       " 'r_kronFlux',\n",
       " 'r_kronFluxErr',\n",
       " 'r_kronRad',\n",
       " 'i_psfFlux',\n",
       " 'i_psfFluxErr',\n",
       " 'i_kronFlux',\n",
       " 'i_kronFluxErr',\n",
       " 'i_kronRad',\n",
       " 'z_psfFlux',\n",
       " 'z_psfFluxErr',\n",
       " 'z_kronFlux',\n",
       " 'z_kronFluxErr',\n",
       " 'z_kronRad',\n",
       " 'y_psfFlux',\n",
       " 'y_psfFluxErr',\n",
       " 'y_kronFlux',\n",
       " 'y_kronFluxErr',\n",
       " 'y_kronRad']"
      ]
     },
     "execution_count": 18,
     "metadata": {},
     "output_type": "execute_result"
    }
   ],
   "source": [
    "obj_default_columns = [\n",
    "    \"refFwhm\",\n",
    "    \"shape_flag\",\n",
    "    \"sky_object\",\n",
    "    \"parentObjectId\",\n",
    "    \"detect_isPrimary\",\n",
    "    \"x\",\n",
    "    \"y\",\n",
    "    \"xErr\",\n",
    "    \"yErr\",\n",
    "    \"shape_yy\", \n",
    "    \"shape_xx\", \n",
    "    \"shape_xy\", \n",
    "    \"coord_ra\",\n",
    "    \"coord_dec\", \n",
    "    \"coord_raErr\", \n",
    "    \"coord_decErr\",\n",
    "    \"tract\", \n",
    "    \"patch\",\n",
    "    \"detect_isIsolated\"\n",
    "] + cols_per_band\n",
    "\n",
    "obj_default_columns"
   ]
  },
  {
   "cell_type": "code",
   "execution_count": null,
   "id": "46618b5e-d54a-4c75-ada1-9d2deab34054",
   "metadata": {
    "execution": {
     "iopub.execute_input": "2025-01-23T00:00:19.461294Z",
     "iopub.status.busy": "2025-01-23T00:00:19.460913Z",
     "iopub.status.idle": "2025-01-23T00:00:19.474648Z",
     "shell.execute_reply": "2025-01-23T00:00:19.474302Z",
     "shell.execute_reply.started": "2025-01-23T00:00:19.461280Z"
    }
   },
   "outputs": [],
   "source": [
    "objs = objs[obj_default_columns]\n",
    "objs"
   ]
  },
  {
   "cell_type": "code",
   "execution_count": 20,
   "id": "b292e433-cce7-4922-9120-a1f3ec0c17bb",
   "metadata": {
    "execution": {
     "iopub.execute_input": "2025-01-23T00:00:19.658317Z",
     "iopub.status.busy": "2025-01-23T00:00:19.657893Z",
     "iopub.status.idle": "2025-01-23T00:00:19.661168Z",
     "shell.execute_reply": "2025-01-23T00:00:19.660845Z",
     "shell.execute_reply.started": "2025-01-23T00:00:19.658298Z"
    }
   },
   "outputs": [
    {
     "data": {
      "text/plain": [
       "{'g_kron',\n",
       " 'g_psf',\n",
       " 'i_kron',\n",
       " 'i_psf',\n",
       " 'r_kron',\n",
       " 'r_psf',\n",
       " 'u_kron',\n",
       " 'u_psf',\n",
       " 'y_kron',\n",
       " 'y_psf',\n",
       " 'z_kron',\n",
       " 'z_psf'}"
      ]
     },
     "execution_count": 20,
     "metadata": {},
     "output_type": "execute_result"
    }
   ],
   "source": [
    "flux_col_prefixes = extract_flux_col_prefixes(objs)\n",
    "flux_col_prefixes"
   ]
  },
  {
   "cell_type": "code",
   "execution_count": null,
   "id": "18499fd8-b4c4-459d-b315-137c40a3548b",
   "metadata": {
    "execution": {
     "iopub.execute_input": "2025-01-23T00:00:19.865098Z",
     "iopub.status.busy": "2025-01-23T00:00:19.864658Z",
     "iopub.status.idle": "2025-01-23T00:00:19.883990Z",
     "shell.execute_reply": "2025-01-23T00:00:19.883635Z",
     "shell.execute_reply.started": "2025-01-23T00:00:19.865082Z"
    }
   },
   "outputs": [],
   "source": [
    "objs_with_mags = append_mag_and_magerr(objs, flux_col_prefixes)\n",
    "objs_with_mags"
   ]
  },
  {
   "cell_type": "markdown",
   "id": "6a973dc4-57db-4ac7-bd79-b4a1af88948c",
   "metadata": {
    "execution": {
     "iopub.execute_input": "2025-01-22T20:51:11.941156Z",
     "iopub.status.busy": "2025-01-22T20:51:11.940908Z",
     "iopub.status.idle": "2025-01-22T20:51:11.943647Z",
     "shell.execute_reply": "2025-01-22T20:51:11.943208Z",
     "shell.execute_reply.started": "2025-01-22T20:51:11.941142Z"
    }
   },
   "source": [
    "### Forced Sources"
   ]
  },
  {
   "cell_type": "code",
   "execution_count": 22,
   "id": "ebbc6baf-e385-4702-9e9d-65552735c251",
   "metadata": {
    "execution": {
     "iopub.execute_input": "2025-01-23T00:00:20.293490Z",
     "iopub.status.busy": "2025-01-23T00:00:20.293200Z",
     "iopub.status.idle": "2025-01-23T00:00:20.346261Z",
     "shell.execute_reply": "2025-01-23T00:00:20.345876Z",
     "shell.execute_reply.started": "2025-01-23T00:00:20.293471Z"
    }
   },
   "outputs": [],
   "source": [
    "fSrc_refs = butler.query_datasets(\"forcedSourceTable\")"
   ]
  },
  {
   "cell_type": "code",
   "execution_count": 23,
   "id": "d248a618-a61d-4375-9d92-d1980c544616",
   "metadata": {
    "execution": {
     "iopub.execute_input": "2025-01-23T00:00:20.501268Z",
     "iopub.status.busy": "2025-01-23T00:00:20.500923Z",
     "iopub.status.idle": "2025-01-23T00:00:20.504360Z",
     "shell.execute_reply": "2025-01-23T00:00:20.504002Z",
     "shell.execute_reply.started": "2025-01-23T00:00:20.501253Z"
    }
   },
   "outputs": [
    {
     "data": {
      "text/plain": [
       "28"
      ]
     },
     "execution_count": 23,
     "metadata": {},
     "output_type": "execute_result"
    }
   ],
   "source": [
    "fSrctracts = [ref.dataId[\"tract\"] for ref in fSrc_refs]\n",
    "len(set(fSrctracts))"
   ]
  },
  {
   "cell_type": "code",
   "execution_count": 24,
   "id": "0bb9b448-008b-4c55-baff-60cac62525fe",
   "metadata": {
    "execution": {
     "iopub.execute_input": "2025-01-23T00:00:20.702476Z",
     "iopub.status.busy": "2025-01-23T00:00:20.701961Z",
     "iopub.status.idle": "2025-01-23T00:00:20.705377Z",
     "shell.execute_reply": "2025-01-23T00:00:20.705045Z",
     "shell.execute_reply.started": "2025-01-23T00:00:20.702461Z"
    }
   },
   "outputs": [
    {
     "data": {
      "text/plain": [
       "DatasetRef(DatasetType('forcedSourceTable', {skymap, tract, patch}, DataFrame), {skymap: 'lsst_cells_v1', tract: 10464, patch: 75}, run='LSSTComCam/runs/DRP/DP1/w_2025_03/DM-48478/20250119T135723Z', id=025a6aba-3575-4101-abc4-7be4397078e3)"
      ]
     },
     "execution_count": 24,
     "metadata": {},
     "output_type": "execute_result"
    }
   ],
   "source": [
    "fSrc_refs[0]"
   ]
  },
  {
   "cell_type": "code",
   "execution_count": 25,
   "id": "339b417a-1346-43ad-9bfb-83e7f2219a48",
   "metadata": {
    "execution": {
     "iopub.execute_input": "2025-01-23T00:00:20.913961Z",
     "iopub.status.busy": "2025-01-23T00:00:20.913520Z",
     "iopub.status.idle": "2025-01-23T00:00:21.006890Z",
     "shell.execute_reply": "2025-01-23T00:00:21.006473Z",
     "shell.execute_reply.started": "2025-01-23T00:00:20.913946Z"
    }
   },
   "outputs": [
    {
     "name": "stdout",
     "output_type": "stream",
     "text": [
      "Retrieved catalog of 94981 sources.\n"
     ]
    }
   ],
   "source": [
    "datasetType = 'forcedSourceTable'\n",
    "fSrc = butler.get(datasetType, dataId=fSrc_refs[0].dataId)\n",
    "print(f\"Retrieved catalog of {len(fSrc)} sources.\")"
   ]
  },
  {
   "cell_type": "code",
   "execution_count": null,
   "id": "f44f73f9-a1c8-4955-96c2-10b3d4047b34",
   "metadata": {
    "execution": {
     "iopub.execute_input": "2025-01-23T00:00:21.135630Z",
     "iopub.status.busy": "2025-01-23T00:00:21.135123Z",
     "iopub.status.idle": "2025-01-23T00:00:21.158546Z",
     "shell.execute_reply": "2025-01-23T00:00:21.158154Z",
     "shell.execute_reply.started": "2025-01-23T00:00:21.135616Z"
    }
   },
   "outputs": [],
   "source": [
    "fSrc"
   ]
  },
  {
   "cell_type": "code",
   "execution_count": 27,
   "id": "bb4e558d-dcbe-4701-b5f6-23aed20743c4",
   "metadata": {
    "execution": {
     "iopub.execute_input": "2025-01-23T00:00:21.332230Z",
     "iopub.status.busy": "2025-01-23T00:00:21.331712Z",
     "iopub.status.idle": "2025-01-23T00:00:21.429825Z",
     "shell.execute_reply": "2025-01-23T00:00:21.429308Z",
     "shell.execute_reply.started": "2025-01-23T00:00:21.332215Z"
    }
   },
   "outputs": [],
   "source": [
    "visits = butler.query_datasets(\"visitTable\")"
   ]
  },
  {
   "cell_type": "code",
   "execution_count": 28,
   "id": "e97bdc9c-65cf-4dc9-91c9-d0ca7b019d7f",
   "metadata": {
    "execution": {
     "iopub.execute_input": "2025-01-23T00:00:21.547427Z",
     "iopub.status.busy": "2025-01-23T00:00:21.547037Z",
     "iopub.status.idle": "2025-01-23T00:00:21.550211Z",
     "shell.execute_reply": "2025-01-23T00:00:21.549855Z",
     "shell.execute_reply.started": "2025-01-23T00:00:21.547412Z"
    }
   },
   "outputs": [
    {
     "data": {
      "text/plain": [
       "DatasetRef(DatasetType('visitTable', {instrument}, DataFrame), {instrument: 'LSSTComCam'}, run='LSSTComCam/runs/DRP/DP1/w_2025_03/DM-48478/20250117T153854Z', id=1b9f197f-cf7d-4783-af81-126b2477ed6f)"
      ]
     },
     "execution_count": 28,
     "metadata": {},
     "output_type": "execute_result"
    }
   ],
   "source": [
    "visits[0]"
   ]
  },
  {
   "cell_type": "code",
   "execution_count": 29,
   "id": "532e5171-900e-4368-b64f-6b16cabd44b7",
   "metadata": {
    "execution": {
     "iopub.execute_input": "2025-01-23T00:00:21.746099Z",
     "iopub.status.busy": "2025-01-23T00:00:21.745598Z",
     "iopub.status.idle": "2025-01-23T00:00:21.799742Z",
     "shell.execute_reply": "2025-01-23T00:00:21.799315Z",
     "shell.execute_reply.started": "2025-01-23T00:00:21.746085Z"
    }
   },
   "outputs": [
    {
     "name": "stdout",
     "output_type": "stream",
     "text": [
      "Retrieved catalog of 1857 visits.\n"
     ]
    }
   ],
   "source": [
    "datasetType = 'visitTable'\n",
    "visits = butler.get(datasetType, dataId={'instrument': 'LSSTComCam'})\n",
    "print(f\"Retrieved catalog of {len(visits)} visits.\")"
   ]
  },
  {
   "cell_type": "code",
   "execution_count": null,
   "id": "8ce061c6-3e24-4bb5-9d76-d77e42df663e",
   "metadata": {
    "execution": {
     "iopub.execute_input": "2025-01-23T00:00:21.977799Z",
     "iopub.status.busy": "2025-01-23T00:00:21.977316Z",
     "iopub.status.idle": "2025-01-23T00:00:21.989172Z",
     "shell.execute_reply": "2025-01-23T00:00:21.988821Z",
     "shell.execute_reply.started": "2025-01-23T00:00:21.977783Z"
    }
   },
   "outputs": [],
   "source": [
    "visits"
   ]
  },
  {
   "cell_type": "code",
   "execution_count": 31,
   "id": "c196b34a-9e6c-4c99-962c-d88196bb8036",
   "metadata": {
    "execution": {
     "iopub.execute_input": "2025-01-23T00:00:22.953543Z",
     "iopub.status.busy": "2025-01-23T00:00:22.952942Z",
     "iopub.status.idle": "2025-01-23T00:00:23.140596Z",
     "shell.execute_reply": "2025-01-23T00:00:23.140163Z",
     "shell.execute_reply.started": "2025-01-23T00:00:22.953526Z"
    }
   },
   "outputs": [],
   "source": [
    "visit_map = visits[[\"expMidptMJD\"]].T.to_dict('records')[0]\n",
    "mjds = list(map(lambda x: visit_map.get(x, 0.0), fSrc[\"visit\"]))\n",
    "fSrc[\"midpointMJDTai\"] = pd.Series(mjds, index=fSrc.index)"
   ]
  },
  {
   "cell_type": "code",
   "execution_count": null,
   "id": "f0f72323-e66d-49f0-902b-784dc41a70d7",
   "metadata": {
    "execution": {
     "iopub.execute_input": "2025-01-23T00:00:23.335897Z",
     "iopub.status.busy": "2025-01-23T00:00:23.335435Z",
     "iopub.status.idle": "2025-01-23T00:00:23.361812Z",
     "shell.execute_reply": "2025-01-23T00:00:23.361403Z",
     "shell.execute_reply.started": "2025-01-23T00:00:23.335882Z"
    }
   },
   "outputs": [],
   "source": [
    "fSrc"
   ]
  },
  {
   "cell_type": "code",
   "execution_count": 33,
   "id": "b20ed6e7-b8e8-473f-b6ec-529fdb472737",
   "metadata": {
    "execution": {
     "iopub.execute_input": "2025-01-23T00:00:23.558211Z",
     "iopub.status.busy": "2025-01-23T00:00:23.557707Z",
     "iopub.status.idle": "2025-01-23T00:00:23.561311Z",
     "shell.execute_reply": "2025-01-23T00:00:23.560989Z",
     "shell.execute_reply.started": "2025-01-23T00:00:23.558195Z"
    }
   },
   "outputs": [
    {
     "data": {
      "text/plain": [
       "{'localBackground_inst', 'psf', 'psfDiff'}"
      ]
     },
     "execution_count": 33,
     "metadata": {},
     "output_type": "execute_result"
    }
   ],
   "source": [
    "flux_col_prefixes = extract_flux_col_prefixes(fSrc)\n",
    "flux_col_prefixes"
   ]
  },
  {
   "cell_type": "code",
   "execution_count": null,
   "id": "c7a329b2-4129-44ae-9413-6b2f8cf46ba4",
   "metadata": {
    "execution": {
     "iopub.execute_input": "2025-01-23T00:00:23.785082Z",
     "iopub.status.busy": "2025-01-23T00:00:23.784777Z",
     "iopub.status.idle": "2025-01-23T00:00:23.834556Z",
     "shell.execute_reply": "2025-01-23T00:00:23.834232Z",
     "shell.execute_reply.started": "2025-01-23T00:00:23.785067Z"
    }
   },
   "outputs": [],
   "source": [
    "fSrc_with_mags = append_mag_and_magerr(fSrc, flux_col_prefixes)\n",
    "fSrc_with_mags"
   ]
  }
 ],
 "metadata": {
  "kernelspec": {
   "display_name": "LSST",
   "language": "python",
   "name": "lsst"
  },
  "language_info": {
   "codemirror_mode": {
    "name": "ipython",
    "version": 3
   },
   "file_extension": ".py",
   "mimetype": "text/x-python",
   "name": "python",
   "nbconvert_exporter": "python",
   "pygments_lexer": "ipython3",
   "version": "3.11.9"
  }
 },
 "nbformat": 4,
 "nbformat_minor": 5
}
