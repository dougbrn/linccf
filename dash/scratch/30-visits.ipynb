{
 "cells": [
  {
   "cell_type": "code",
   "execution_count": 1,
   "id": "02102cdb-cedf-420b-8bdb-f1ef0386f898",
   "metadata": {
    "execution": {
     "iopub.execute_input": "2025-01-30T17:44:36.680052Z",
     "iopub.status.busy": "2025-01-30T17:44:36.679525Z",
     "iopub.status.idle": "2025-01-30T17:44:38.396443Z",
     "shell.execute_reply": "2025-01-30T17:44:38.396008Z",
     "shell.execute_reply.started": "2025-01-30T17:44:36.680037Z"
    }
   },
   "outputs": [],
   "source": [
    "from pathlib import Path\n",
    "import astropy.units as u\n",
    "from tqdm import tqdm\n",
    "import pandas as pd\n",
    "import numpy as np\n",
    "import pyarrow as pa\n",
    "import pyarrow.parquet as pq\n",
    "\n",
    "# HATS/LSDB\n",
    "import lsdb\n",
    "import hats\n",
    "from hats.io import file_io, paths"
   ]
  },
  {
   "cell_type": "code",
   "execution_count": 2,
   "id": "3041e967-dd38-4c09-8588-b24b0b9dc1f7",
   "metadata": {
    "execution": {
     "iopub.execute_input": "2025-01-30T17:44:43.524992Z",
     "iopub.status.busy": "2025-01-30T17:44:43.524174Z",
     "iopub.status.idle": "2025-01-30T17:44:43.527316Z",
     "shell.execute_reply": "2025-01-30T17:44:43.526895Z",
     "shell.execute_reply.started": "2025-01-30T17:44:43.524974Z"
    }
   },
   "outputs": [],
   "source": [
    "\n",
    "\n",
    "visits_pq = \"/sdf/data/rubin/shared/lsdb_commissioning/dm_48556/raw/visits.parquet\""
   ]
  },
  {
   "cell_type": "code",
   "execution_count": null,
   "id": "cfd1b299-e5c4-47eb-a87a-7de0a73ac7b9",
   "metadata": {},
   "outputs": [],
   "source": []
  },
  {
   "cell_type": "code",
   "execution_count": 3,
   "id": "2b91ff4d-8d9e-4453-a8da-e2d0914c0b7b",
   "metadata": {
    "execution": {
     "iopub.execute_input": "2025-01-30T17:44:57.583299Z",
     "iopub.status.busy": "2025-01-30T17:44:57.582780Z",
     "iopub.status.idle": "2025-01-30T17:44:57.643125Z",
     "shell.execute_reply": "2025-01-30T17:44:57.642690Z",
     "shell.execute_reply.started": "2025-01-30T17:44:57.583278Z"
    }
   },
   "outputs": [],
   "source": [
    "visits = pd.read_parquet(visits_pq)"
   ]
  },
  {
   "cell_type": "code",
   "execution_count": 4,
   "id": "9554e462-e63c-411d-a612-c9198c4353fd",
   "metadata": {
    "execution": {
     "iopub.execute_input": "2025-01-30T17:45:08.240328Z",
     "iopub.status.busy": "2025-01-30T17:45:08.240028Z",
     "iopub.status.idle": "2025-01-30T17:45:08.243840Z",
     "shell.execute_reply": "2025-01-30T17:45:08.243467Z",
     "shell.execute_reply.started": "2025-01-30T17:45:08.240311Z"
    }
   },
   "outputs": [
    {
     "data": {
      "text/plain": [
       "Index(['visit', 'physical_filter', 'band', 'ra', 'dec', 'decl', 'skyRotation',\n",
       "       'azimuth', 'altitude', 'zenithDistance', 'airmass', 'expTime',\n",
       "       'expMidpt', 'expMidptMJD', 'obsStart', 'obsStartMJD'],\n",
       "      dtype='object')"
      ]
     },
     "execution_count": 4,
     "metadata": {},
     "output_type": "execute_result"
    }
   ],
   "source": [
    "visits.columns"
   ]
  },
  {
   "cell_type": "code",
   "execution_count": 5,
   "id": "74581060-e38e-47d1-ba5d-25b057c1f488",
   "metadata": {
    "execution": {
     "iopub.execute_input": "2025-01-30T17:51:24.954323Z",
     "iopub.status.busy": "2025-01-30T17:51:24.953993Z",
     "iopub.status.idle": "2025-01-30T17:51:25.760212Z",
     "shell.execute_reply": "2025-01-30T17:51:25.759793Z",
     "shell.execute_reply.started": "2025-01-30T17:51:24.954306Z"
    }
   },
   "outputs": [],
   "source": [
    "### UPDATE THIS CELL\n",
    "## Then run all cells.\n",
    "\n",
    "from pathlib import Path\n",
    "\n",
    "# LSST Science Pipelines (Stack) packages\n",
    "import lsst.daf.butler as dafButler\n",
    "\n",
    "# HATS/LSDB\n",
    "import lsdb\n",
    "import hats_import.pipeline as runner\n",
    "from hats_import.catalog.arguments import ImportArguments\n",
    "\n",
    "from tqdm import tqdm\n",
    "import pandas as pd\n",
    "\n",
    "base_output_dir = Path(\"/sdf/data/rubin/shared/lsdb_commissioning/dm_48556\")\n",
    "collections = 'LSSTComCam/runs/DRP/DP1/w_2025_04/DM-48556'"
   ]
  },
  {
   "cell_type": "code",
   "execution_count": 6,
   "id": "4d2757f1-ab35-4c39-a35c-00e8099d3559",
   "metadata": {
    "execution": {
     "iopub.execute_input": "2025-01-30T17:51:26.897175Z",
     "iopub.status.busy": "2025-01-30T17:51:26.896865Z",
     "iopub.status.idle": "2025-01-30T17:51:27.296155Z",
     "shell.execute_reply": "2025-01-30T17:51:27.295636Z",
     "shell.execute_reply.started": "2025-01-30T17:51:26.897160Z"
    }
   },
   "outputs": [],
   "source": [
    "config = '/repo/main'\n",
    "butler = dafButler.Butler(config, collections=collections)\n",
    "raw_dir = base_output_dir / \"raw\"\n",
    "hats_dir = base_output_dir /  \"hats\"\n",
    "\n",
    "raw_dir.mkdir(parents=True, exist_ok=True)\n",
    "hats_dir.mkdir(parents=True, exist_ok=True)"
   ]
  },
  {
   "cell_type": "code",
   "execution_count": 9,
   "id": "344460e8-8494-49d5-97e2-acd7019e2575",
   "metadata": {
    "execution": {
     "iopub.execute_input": "2025-01-30T17:53:35.944934Z",
     "iopub.status.busy": "2025-01-30T17:53:35.944633Z",
     "iopub.status.idle": "2025-01-30T17:53:43.664321Z",
     "shell.execute_reply": "2025-01-30T17:53:43.663764Z",
     "shell.execute_reply.started": "2025-01-30T17:53:35.944917Z"
    }
   },
   "outputs": [
    {
     "name": "stderr",
     "output_type": "stream",
     "text": [
      " 25%|██▌       | 7/28 [00:02<00:05,  3.67it/s]"
     ]
    },
    {
     "name": "stdout",
     "output_type": "stream",
     "text": [
      "{skymap: 'lsst_cells_v1', tract: 10464}\n",
      "diaSourceId\n",
      "191403211800707126    4602546877777313793\n",
      "Name: diaObjectId, dtype: int64\n",
      "{skymap: 'lsst_cells_v1', tract: 10463}\n",
      "diaSourceId\n",
      "191403211800707126    4602071888754114594\n",
      "Name: diaObjectId, dtype: int64\n"
     ]
    },
    {
     "name": "stderr",
     "output_type": "stream",
     "text": [
      " 54%|█████▎    | 15/28 [00:03<00:01,  6.61it/s]"
     ]
    },
    {
     "name": "stdout",
     "output_type": "stream",
     "text": [
      "{skymap: 'lsst_cells_v1', tract: 10705}\n",
      "diaSourceId\n",
      "191403211800707126    4708192353020543014\n",
      "Name: diaObjectId, dtype: int64\n"
     ]
    },
    {
     "name": "stderr",
     "output_type": "stream",
     "text": [
      " 96%|█████████▋| 27/28 [00:06<00:00,  4.73it/s]"
     ]
    },
    {
     "name": "stdout",
     "output_type": "stream",
     "text": [
      "{skymap: 'lsst_cells_v1', tract: 10704}\n",
      "diaSourceId\n",
      "191403211800707126    4707712965950832680\n",
      "Name: diaObjectId, dtype: int64\n"
     ]
    },
    {
     "name": "stderr",
     "output_type": "stream",
     "text": [
      "100%|██████████| 28/28 [00:07<00:00,  3.64it/s]\n"
     ]
    }
   ],
   "source": [
    "refs = butler.query_datasets(\"diaSourceTable_tract\")\n",
    "for i, ref in enumerate(tqdm(refs)):\n",
    "    table = butler.get(\"diaSourceTable_tract\", dataId=ref.dataId)\n",
    "    found = table.query(\"diaSourceId == 191403211800707126\")\n",
    "    if len(found) > 0:\n",
    "        print(ref.dataId)\n",
    "        print(found[\"diaObjectId\"])\n"
   ]
  },
  {
   "cell_type": "code",
   "execution_count": null,
   "id": "72cf38d7-90ef-4213-95a9-ac7be0581710",
   "metadata": {},
   "outputs": [],
   "source": []
  }
 ],
 "metadata": {
  "kernelspec": {
   "display_name": "LSST",
   "language": "python",
   "name": "lsst"
  },
  "language_info": {
   "codemirror_mode": {
    "name": "ipython",
    "version": 3
   },
   "file_extension": ".py",
   "mimetype": "text/x-python",
   "name": "python",
   "nbconvert_exporter": "python",
   "pygments_lexer": "ipython3",
   "version": "3.11.11"
  }
 },
 "nbformat": 4,
 "nbformat_minor": 5
}
