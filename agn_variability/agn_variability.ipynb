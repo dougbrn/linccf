{
 "cells": [
  {
   "cell_type": "markdown",
   "id": "693ff350-8dd5-45bc-a206-d2625111fe97",
   "metadata": {
    "execution": {
     "iopub.execute_input": "2025-01-21T00:27:21.174783Z",
     "iopub.status.busy": "2025-01-21T00:27:21.174603Z",
     "iopub.status.idle": "2025-01-21T00:27:23.549474Z",
     "shell.execute_reply": "2025-01-21T00:27:23.549101Z",
     "shell.execute_reply.started": "2025-01-21T00:27:21.174770Z"
    }
   },
   "source": [
    "# Project #2: Deduce the dependence of variability of AGN\n",
    "See [Google Doc](https://docs.google.com/document/d/1yb43z7vrG5-FIL6lNZjVkIx41jKSCl698d51RQhXRqg/edit?tab=t.0) for more info.\n",
    "\n",
    "This project is broken into the following steps:\n",
    "1. Import Data\n",
    "2. Crossmatch\n",
    "3. Binning\n",
    "4. Measure structure function\n",
    "5. Visualize\n",
    "\n",
    "This notebook assumes the user already has a local hatsified SDSS DR7 QSO catalog. \n",
    "\n",
    "This can be acquired using the included scripts `dl_sdss_dr7qso.sh` and `import_sdss_dr7sqo.py`, or obtained and converted from [this page](https://das.sdss.org/va/qso_properties_dr7/dr7.htm) on the SDSS website."
   ]
  },
  {
   "cell_type": "code",
   "execution_count": 1,
   "id": "fa39df87-b4b0-4f11-abf2-47d741fb48a9",
   "metadata": {
    "execution": {
     "iopub.execute_input": "2025-02-11T04:57:14.072387Z",
     "iopub.status.busy": "2025-02-11T04:57:14.072266Z",
     "iopub.status.idle": "2025-02-11T04:57:16.186771Z",
     "shell.execute_reply": "2025-02-11T04:57:16.186186Z",
     "shell.execute_reply.started": "2025-02-11T04:57:14.072374Z"
    }
   },
   "outputs": [
    {
     "data": {
      "text/html": [
       "<pre style=\"margin: 0.1em;\n",
       "padding-left: 0.25em;\n",
       "border-left-style: solid;\n",
       "font-family: var(--jp-code-font-family);\n",
       "font-size: var(--jp-code-font-size);\n",
       "line-height: var(--jp-code-line-height);\n",
       "\"><span style=\"color: var(--jp-warn-color2)\">distributed.scheduler</span> <span style=\"color: var(--jp-info-color0)\">INFO</span>: State start</pre>"
      ],
      "text/plain": [
       "<IPython.core.display.HTML object>"
      ]
     },
     "metadata": {},
     "output_type": "display_data"
    },
    {
     "data": {
      "text/html": [
       "<pre style=\"margin: 0.1em;\n",
       "padding-left: 0.25em;\n",
       "border-left-style: solid;\n",
       "font-family: var(--jp-code-font-family);\n",
       "font-size: var(--jp-code-font-size);\n",
       "line-height: var(--jp-code-line-height);\n",
       "\"><span style=\"color: var(--jp-warn-color2)\">distributed.scheduler</span> <span style=\"color: var(--jp-info-color0)\">INFO</span>:   Scheduler at:     tcp://127.0.0.1:42937</pre>"
      ],
      "text/plain": [
       "<IPython.core.display.HTML object>"
      ]
     },
     "metadata": {},
     "output_type": "display_data"
    },
    {
     "data": {
      "text/html": [
       "<pre style=\"margin: 0.1em;\n",
       "padding-left: 0.25em;\n",
       "border-left-style: solid;\n",
       "font-family: var(--jp-code-font-family);\n",
       "font-size: var(--jp-code-font-size);\n",
       "line-height: var(--jp-code-line-height);\n",
       "\"><span style=\"color: var(--jp-warn-color2)\">distributed.scheduler</span> <span style=\"color: var(--jp-info-color0)\">INFO</span>:   dashboard at:  http://127.0.0.1:8787/status</pre>"
      ],
      "text/plain": [
       "<IPython.core.display.HTML object>"
      ]
     },
     "metadata": {},
     "output_type": "display_data"
    },
    {
     "data": {
      "text/html": [
       "<pre style=\"margin: 0.1em;\n",
       "padding-left: 0.25em;\n",
       "border-left-style: solid;\n",
       "font-family: var(--jp-code-font-family);\n",
       "font-size: var(--jp-code-font-size);\n",
       "line-height: var(--jp-code-line-height);\n",
       "\"><span style=\"color: var(--jp-warn-color2)\">distributed.scheduler</span> <span style=\"color: var(--jp-info-color0)\">INFO</span>: Registering Worker plugin shuffle</pre>"
      ],
      "text/plain": [
       "<IPython.core.display.HTML object>"
      ]
     },
     "metadata": {},
     "output_type": "display_data"
    },
    {
     "data": {
      "text/html": [
       "<pre style=\"margin: 0.1em;\n",
       "padding-left: 0.25em;\n",
       "border-left-style: solid;\n",
       "font-family: var(--jp-code-font-family);\n",
       "font-size: var(--jp-code-font-size);\n",
       "line-height: var(--jp-code-line-height);\n",
       "\"><span style=\"color: var(--jp-warn-color2)\">distributed.nanny</span> <span style=\"color: var(--jp-info-color0)\">INFO</span>:         Start Nanny at: &#x27;tcp://127.0.0.1:43677&#x27;</pre>"
      ],
      "text/plain": [
       "<IPython.core.display.HTML object>"
      ]
     },
     "metadata": {},
     "output_type": "display_data"
    },
    {
     "data": {
      "text/html": [
       "<pre style=\"margin: 0.1em;\n",
       "padding-left: 0.25em;\n",
       "border-left-style: solid;\n",
       "font-family: var(--jp-code-font-family);\n",
       "font-size: var(--jp-code-font-size);\n",
       "line-height: var(--jp-code-line-height);\n",
       "\"><span style=\"color: var(--jp-warn-color2)\">distributed.nanny</span> <span style=\"color: var(--jp-info-color0)\">INFO</span>:         Start Nanny at: &#x27;tcp://127.0.0.1:34851&#x27;</pre>"
      ],
      "text/plain": [
       "<IPython.core.display.HTML object>"
      ]
     },
     "metadata": {},
     "output_type": "display_data"
    },
    {
     "data": {
      "text/html": [
       "<pre style=\"margin: 0.1em;\n",
       "padding-left: 0.25em;\n",
       "border-left-style: solid;\n",
       "font-family: var(--jp-code-font-family);\n",
       "font-size: var(--jp-code-font-size);\n",
       "line-height: var(--jp-code-line-height);\n",
       "\"><span style=\"color: var(--jp-warn-color2)\">distributed.nanny</span> <span style=\"color: var(--jp-info-color0)\">INFO</span>:         Start Nanny at: &#x27;tcp://127.0.0.1:40011&#x27;</pre>"
      ],
      "text/plain": [
       "<IPython.core.display.HTML object>"
      ]
     },
     "metadata": {},
     "output_type": "display_data"
    },
    {
     "data": {
      "text/html": [
       "<pre style=\"margin: 0.1em;\n",
       "padding-left: 0.25em;\n",
       "border-left-style: solid;\n",
       "font-family: var(--jp-code-font-family);\n",
       "font-size: var(--jp-code-font-size);\n",
       "line-height: var(--jp-code-line-height);\n",
       "\"><span style=\"color: var(--jp-warn-color2)\">distributed.nanny</span> <span style=\"color: var(--jp-info-color0)\">INFO</span>:         Start Nanny at: &#x27;tcp://127.0.0.1:46551&#x27;</pre>"
      ],
      "text/plain": [
       "<IPython.core.display.HTML object>"
      ]
     },
     "metadata": {},
     "output_type": "display_data"
    },
    {
     "data": {
      "text/html": [
       "<pre style=\"margin: 0.1em;\n",
       "padding-left: 0.25em;\n",
       "border-left-style: solid;\n",
       "font-family: var(--jp-code-font-family);\n",
       "font-size: var(--jp-code-font-size);\n",
       "line-height: var(--jp-code-line-height);\n",
       "\"><span style=\"color: var(--jp-warn-color2)\">distributed.scheduler</span> <span style=\"color: var(--jp-info-color0)\">INFO</span>: Register worker addr: tcp://127.0.0.1:35439 name: 2</pre>"
      ],
      "text/plain": [
       "<IPython.core.display.HTML object>"
      ]
     },
     "metadata": {},
     "output_type": "display_data"
    },
    {
     "data": {
      "text/html": [
       "<pre style=\"margin: 0.1em;\n",
       "padding-left: 0.25em;\n",
       "border-left-style: solid;\n",
       "font-family: var(--jp-code-font-family);\n",
       "font-size: var(--jp-code-font-size);\n",
       "line-height: var(--jp-code-line-height);\n",
       "\"><span style=\"color: var(--jp-warn-color2)\">distributed.scheduler</span> <span style=\"color: var(--jp-info-color0)\">INFO</span>: Starting worker compute stream, tcp://127.0.0.1:35439</pre>"
      ],
      "text/plain": [
       "<IPython.core.display.HTML object>"
      ]
     },
     "metadata": {},
     "output_type": "display_data"
    },
    {
     "data": {
      "text/html": [
       "<pre style=\"margin: 0.1em;\n",
       "padding-left: 0.25em;\n",
       "border-left-style: solid;\n",
       "font-family: var(--jp-code-font-family);\n",
       "font-size: var(--jp-code-font-size);\n",
       "line-height: var(--jp-code-line-height);\n",
       "\"><span style=\"color: var(--jp-warn-color2)\">distributed.core</span> <span style=\"color: var(--jp-info-color0)\">INFO</span>: Starting established connection to tcp://127.0.0.1:56406</pre>"
      ],
      "text/plain": [
       "<IPython.core.display.HTML object>"
      ]
     },
     "metadata": {},
     "output_type": "display_data"
    },
    {
     "data": {
      "text/html": [
       "<pre style=\"margin: 0.1em;\n",
       "padding-left: 0.25em;\n",
       "border-left-style: solid;\n",
       "font-family: var(--jp-code-font-family);\n",
       "font-size: var(--jp-code-font-size);\n",
       "line-height: var(--jp-code-line-height);\n",
       "\"><span style=\"color: var(--jp-warn-color2)\">distributed.scheduler</span> <span style=\"color: var(--jp-info-color0)\">INFO</span>: Register worker addr: tcp://127.0.0.1:39577 name: 3</pre>"
      ],
      "text/plain": [
       "<IPython.core.display.HTML object>"
      ]
     },
     "metadata": {},
     "output_type": "display_data"
    },
    {
     "data": {
      "text/html": [
       "<pre style=\"margin: 0.1em;\n",
       "padding-left: 0.25em;\n",
       "border-left-style: solid;\n",
       "font-family: var(--jp-code-font-family);\n",
       "font-size: var(--jp-code-font-size);\n",
       "line-height: var(--jp-code-line-height);\n",
       "\"><span style=\"color: var(--jp-warn-color2)\">distributed.scheduler</span> <span style=\"color: var(--jp-info-color0)\">INFO</span>: Starting worker compute stream, tcp://127.0.0.1:39577</pre>"
      ],
      "text/plain": [
       "<IPython.core.display.HTML object>"
      ]
     },
     "metadata": {},
     "output_type": "display_data"
    },
    {
     "data": {
      "text/html": [
       "<pre style=\"margin: 0.1em;\n",
       "padding-left: 0.25em;\n",
       "border-left-style: solid;\n",
       "font-family: var(--jp-code-font-family);\n",
       "font-size: var(--jp-code-font-size);\n",
       "line-height: var(--jp-code-line-height);\n",
       "\"><span style=\"color: var(--jp-warn-color2)\">distributed.core</span> <span style=\"color: var(--jp-info-color0)\">INFO</span>: Starting established connection to tcp://127.0.0.1:56382</pre>"
      ],
      "text/plain": [
       "<IPython.core.display.HTML object>"
      ]
     },
     "metadata": {},
     "output_type": "display_data"
    },
    {
     "data": {
      "text/html": [
       "<pre style=\"margin: 0.1em;\n",
       "padding-left: 0.25em;\n",
       "border-left-style: solid;\n",
       "font-family: var(--jp-code-font-family);\n",
       "font-size: var(--jp-code-font-size);\n",
       "line-height: var(--jp-code-line-height);\n",
       "\"><span style=\"color: var(--jp-warn-color2)\">distributed.scheduler</span> <span style=\"color: var(--jp-info-color0)\">INFO</span>: Register worker addr: tcp://127.0.0.1:35253 name: 0</pre>"
      ],
      "text/plain": [
       "<IPython.core.display.HTML object>"
      ]
     },
     "metadata": {},
     "output_type": "display_data"
    },
    {
     "data": {
      "text/html": [
       "<pre style=\"margin: 0.1em;\n",
       "padding-left: 0.25em;\n",
       "border-left-style: solid;\n",
       "font-family: var(--jp-code-font-family);\n",
       "font-size: var(--jp-code-font-size);\n",
       "line-height: var(--jp-code-line-height);\n",
       "\"><span style=\"color: var(--jp-warn-color2)\">distributed.scheduler</span> <span style=\"color: var(--jp-info-color0)\">INFO</span>: Starting worker compute stream, tcp://127.0.0.1:35253</pre>"
      ],
      "text/plain": [
       "<IPython.core.display.HTML object>"
      ]
     },
     "metadata": {},
     "output_type": "display_data"
    },
    {
     "data": {
      "text/html": [
       "<pre style=\"margin: 0.1em;\n",
       "padding-left: 0.25em;\n",
       "border-left-style: solid;\n",
       "font-family: var(--jp-code-font-family);\n",
       "font-size: var(--jp-code-font-size);\n",
       "line-height: var(--jp-code-line-height);\n",
       "\"><span style=\"color: var(--jp-warn-color2)\">distributed.core</span> <span style=\"color: var(--jp-info-color0)\">INFO</span>: Starting established connection to tcp://127.0.0.1:56394</pre>"
      ],
      "text/plain": [
       "<IPython.core.display.HTML object>"
      ]
     },
     "metadata": {},
     "output_type": "display_data"
    },
    {
     "data": {
      "text/html": [
       "<pre style=\"margin: 0.1em;\n",
       "padding-left: 0.25em;\n",
       "border-left-style: solid;\n",
       "font-family: var(--jp-code-font-family);\n",
       "font-size: var(--jp-code-font-size);\n",
       "line-height: var(--jp-code-line-height);\n",
       "\"><span style=\"color: var(--jp-warn-color2)\">distributed.scheduler</span> <span style=\"color: var(--jp-info-color0)\">INFO</span>: Register worker addr: tcp://127.0.0.1:41487 name: 1</pre>"
      ],
      "text/plain": [
       "<IPython.core.display.HTML object>"
      ]
     },
     "metadata": {},
     "output_type": "display_data"
    },
    {
     "data": {
      "text/html": [
       "<pre style=\"margin: 0.1em;\n",
       "padding-left: 0.25em;\n",
       "border-left-style: solid;\n",
       "font-family: var(--jp-code-font-family);\n",
       "font-size: var(--jp-code-font-size);\n",
       "line-height: var(--jp-code-line-height);\n",
       "\"><span style=\"color: var(--jp-warn-color2)\">distributed.scheduler</span> <span style=\"color: var(--jp-info-color0)\">INFO</span>: Starting worker compute stream, tcp://127.0.0.1:41487</pre>"
      ],
      "text/plain": [
       "<IPython.core.display.HTML object>"
      ]
     },
     "metadata": {},
     "output_type": "display_data"
    },
    {
     "data": {
      "text/html": [
       "<pre style=\"margin: 0.1em;\n",
       "padding-left: 0.25em;\n",
       "border-left-style: solid;\n",
       "font-family: var(--jp-code-font-family);\n",
       "font-size: var(--jp-code-font-size);\n",
       "line-height: var(--jp-code-line-height);\n",
       "\"><span style=\"color: var(--jp-warn-color2)\">distributed.core</span> <span style=\"color: var(--jp-info-color0)\">INFO</span>: Starting established connection to tcp://127.0.0.1:56418</pre>"
      ],
      "text/plain": [
       "<IPython.core.display.HTML object>"
      ]
     },
     "metadata": {},
     "output_type": "display_data"
    },
    {
     "data": {
      "text/html": [
       "<pre style=\"margin: 0.1em;\n",
       "padding-left: 0.25em;\n",
       "border-left-style: solid;\n",
       "font-family: var(--jp-code-font-family);\n",
       "font-size: var(--jp-code-font-size);\n",
       "line-height: var(--jp-code-line-height);\n",
       "\"><span style=\"color: var(--jp-warn-color2)\">distributed.scheduler</span> <span style=\"color: var(--jp-info-color0)\">INFO</span>: Receive client connection: Client-a908388c-e834-11ef-8f32-06f706ed425f</pre>"
      ],
      "text/plain": [
       "<IPython.core.display.HTML object>"
      ]
     },
     "metadata": {},
     "output_type": "display_data"
    },
    {
     "data": {
      "text/html": [
       "<pre style=\"margin: 0.1em;\n",
       "padding-left: 0.25em;\n",
       "border-left-style: solid;\n",
       "font-family: var(--jp-code-font-family);\n",
       "font-size: var(--jp-code-font-size);\n",
       "line-height: var(--jp-code-line-height);\n",
       "\"><span style=\"color: var(--jp-warn-color2)\">distributed.core</span> <span style=\"color: var(--jp-info-color0)\">INFO</span>: Starting established connection to tcp://127.0.0.1:56422</pre>"
      ],
      "text/plain": [
       "<IPython.core.display.HTML object>"
      ]
     },
     "metadata": {},
     "output_type": "display_data"
    },
    {
     "data": {
      "text/html": [
       "<div>\n",
       "    <div style=\"width: 24px; height: 24px; background-color: #e1e1e1; border: 3px solid #9D9D9D; border-radius: 5px; position: absolute;\"> </div>\n",
       "    <div style=\"margin-left: 48px;\">\n",
       "        <h3 style=\"margin-bottom: 0px;\">Client</h3>\n",
       "        <p style=\"color: #9D9D9D; margin-bottom: 0px;\">Client-a908388c-e834-11ef-8f32-06f706ed425f</p>\n",
       "        <table style=\"width: 100%; text-align: left;\">\n",
       "\n",
       "        <tr>\n",
       "        \n",
       "            <td style=\"text-align: left;\"><strong>Connection method:</strong> Cluster object</td>\n",
       "            <td style=\"text-align: left;\"><strong>Cluster type:</strong> distributed.LocalCluster</td>\n",
       "        \n",
       "        </tr>\n",
       "\n",
       "        \n",
       "            <tr>\n",
       "                <td style=\"text-align: left;\">\n",
       "                    <strong>Dashboard: </strong> <a href=\"http://127.0.0.1:8787/status\" target=\"_blank\">http://127.0.0.1:8787/status</a>\n",
       "                </td>\n",
       "                <td style=\"text-align: left;\"></td>\n",
       "            </tr>\n",
       "        \n",
       "\n",
       "        </table>\n",
       "\n",
       "        \n",
       "\n",
       "        \n",
       "            <details>\n",
       "            <summary style=\"margin-bottom: 20px;\"><h3 style=\"display: inline;\">Cluster Info</h3></summary>\n",
       "            <div class=\"jp-RenderedHTMLCommon jp-RenderedHTML jp-mod-trusted jp-OutputArea-output\">\n",
       "    <div style=\"width: 24px; height: 24px; background-color: #e1e1e1; border: 3px solid #9D9D9D; border-radius: 5px; position: absolute;\">\n",
       "    </div>\n",
       "    <div style=\"margin-left: 48px;\">\n",
       "        <h3 style=\"margin-bottom: 0px; margin-top: 0px;\">LocalCluster</h3>\n",
       "        <p style=\"color: #9D9D9D; margin-bottom: 0px;\">4b1fb864</p>\n",
       "        <table style=\"width: 100%; text-align: left;\">\n",
       "            <tr>\n",
       "                <td style=\"text-align: left;\">\n",
       "                    <strong>Dashboard:</strong> <a href=\"http://127.0.0.1:8787/status\" target=\"_blank\">http://127.0.0.1:8787/status</a>\n",
       "                </td>\n",
       "                <td style=\"text-align: left;\">\n",
       "                    <strong>Workers:</strong> 4\n",
       "                </td>\n",
       "            </tr>\n",
       "            <tr>\n",
       "                <td style=\"text-align: left;\">\n",
       "                    <strong>Total threads:</strong> 4\n",
       "                </td>\n",
       "                <td style=\"text-align: left;\">\n",
       "                    <strong>Total memory:</strong> 16.00 GiB\n",
       "                </td>\n",
       "            </tr>\n",
       "            \n",
       "            <tr>\n",
       "    <td style=\"text-align: left;\"><strong>Status:</strong> running</td>\n",
       "    <td style=\"text-align: left;\"><strong>Using processes:</strong> True</td>\n",
       "</tr>\n",
       "\n",
       "            \n",
       "        </table>\n",
       "\n",
       "        <details>\n",
       "            <summary style=\"margin-bottom: 20px;\">\n",
       "                <h3 style=\"display: inline;\">Scheduler Info</h3>\n",
       "            </summary>\n",
       "\n",
       "            <div style=\"\">\n",
       "    <div>\n",
       "        <div style=\"width: 24px; height: 24px; background-color: #FFF7E5; border: 3px solid #FF6132; border-radius: 5px; position: absolute;\"> </div>\n",
       "        <div style=\"margin-left: 48px;\">\n",
       "            <h3 style=\"margin-bottom: 0px;\">Scheduler</h3>\n",
       "            <p style=\"color: #9D9D9D; margin-bottom: 0px;\">Scheduler-66e62471-6c6f-46d3-9fc5-eaa959eaad87</p>\n",
       "            <table style=\"width: 100%; text-align: left;\">\n",
       "                <tr>\n",
       "                    <td style=\"text-align: left;\">\n",
       "                        <strong>Comm:</strong> tcp://127.0.0.1:42937\n",
       "                    </td>\n",
       "                    <td style=\"text-align: left;\">\n",
       "                        <strong>Workers:</strong> 4\n",
       "                    </td>\n",
       "                </tr>\n",
       "                <tr>\n",
       "                    <td style=\"text-align: left;\">\n",
       "                        <strong>Dashboard:</strong> <a href=\"http://127.0.0.1:8787/status\" target=\"_blank\">http://127.0.0.1:8787/status</a>\n",
       "                    </td>\n",
       "                    <td style=\"text-align: left;\">\n",
       "                        <strong>Total threads:</strong> 4\n",
       "                    </td>\n",
       "                </tr>\n",
       "                <tr>\n",
       "                    <td style=\"text-align: left;\">\n",
       "                        <strong>Started:</strong> Just now\n",
       "                    </td>\n",
       "                    <td style=\"text-align: left;\">\n",
       "                        <strong>Total memory:</strong> 16.00 GiB\n",
       "                    </td>\n",
       "                </tr>\n",
       "            </table>\n",
       "        </div>\n",
       "    </div>\n",
       "\n",
       "    <details style=\"margin-left: 48px;\">\n",
       "        <summary style=\"margin-bottom: 20px;\">\n",
       "            <h3 style=\"display: inline;\">Workers</h3>\n",
       "        </summary>\n",
       "\n",
       "        \n",
       "        <div style=\"margin-bottom: 20px;\">\n",
       "            <div style=\"width: 24px; height: 24px; background-color: #DBF5FF; border: 3px solid #4CC9FF; border-radius: 5px; position: absolute;\"> </div>\n",
       "            <div style=\"margin-left: 48px;\">\n",
       "            <details>\n",
       "                <summary>\n",
       "                    <h4 style=\"margin-bottom: 0px; display: inline;\">Worker: 0</h4>\n",
       "                </summary>\n",
       "                <table style=\"width: 100%; text-align: left;\">\n",
       "                    <tr>\n",
       "                        <td style=\"text-align: left;\">\n",
       "                            <strong>Comm: </strong> tcp://127.0.0.1:35253\n",
       "                        </td>\n",
       "                        <td style=\"text-align: left;\">\n",
       "                            <strong>Total threads: </strong> 1\n",
       "                        </td>\n",
       "                    </tr>\n",
       "                    <tr>\n",
       "                        <td style=\"text-align: left;\">\n",
       "                            <strong>Dashboard: </strong> <a href=\"http://127.0.0.1:46369/status\" target=\"_blank\">http://127.0.0.1:46369/status</a>\n",
       "                        </td>\n",
       "                        <td style=\"text-align: left;\">\n",
       "                            <strong>Memory: </strong> 4.00 GiB\n",
       "                        </td>\n",
       "                    </tr>\n",
       "                    <tr>\n",
       "                        <td style=\"text-align: left;\">\n",
       "                            <strong>Nanny: </strong> tcp://127.0.0.1:43677\n",
       "                        </td>\n",
       "                        <td style=\"text-align: left;\"></td>\n",
       "                    </tr>\n",
       "                    <tr>\n",
       "                        <td colspan=\"2\" style=\"text-align: left;\">\n",
       "                            <strong>Local directory: </strong> /tmp/dask-scratch-space/worker-n4u6td1v\n",
       "                        </td>\n",
       "                    </tr>\n",
       "\n",
       "                    \n",
       "\n",
       "                    \n",
       "\n",
       "                </table>\n",
       "            </details>\n",
       "            </div>\n",
       "        </div>\n",
       "        \n",
       "        <div style=\"margin-bottom: 20px;\">\n",
       "            <div style=\"width: 24px; height: 24px; background-color: #DBF5FF; border: 3px solid #4CC9FF; border-radius: 5px; position: absolute;\"> </div>\n",
       "            <div style=\"margin-left: 48px;\">\n",
       "            <details>\n",
       "                <summary>\n",
       "                    <h4 style=\"margin-bottom: 0px; display: inline;\">Worker: 1</h4>\n",
       "                </summary>\n",
       "                <table style=\"width: 100%; text-align: left;\">\n",
       "                    <tr>\n",
       "                        <td style=\"text-align: left;\">\n",
       "                            <strong>Comm: </strong> tcp://127.0.0.1:41487\n",
       "                        </td>\n",
       "                        <td style=\"text-align: left;\">\n",
       "                            <strong>Total threads: </strong> 1\n",
       "                        </td>\n",
       "                    </tr>\n",
       "                    <tr>\n",
       "                        <td style=\"text-align: left;\">\n",
       "                            <strong>Dashboard: </strong> <a href=\"http://127.0.0.1:42133/status\" target=\"_blank\">http://127.0.0.1:42133/status</a>\n",
       "                        </td>\n",
       "                        <td style=\"text-align: left;\">\n",
       "                            <strong>Memory: </strong> 4.00 GiB\n",
       "                        </td>\n",
       "                    </tr>\n",
       "                    <tr>\n",
       "                        <td style=\"text-align: left;\">\n",
       "                            <strong>Nanny: </strong> tcp://127.0.0.1:34851\n",
       "                        </td>\n",
       "                        <td style=\"text-align: left;\"></td>\n",
       "                    </tr>\n",
       "                    <tr>\n",
       "                        <td colspan=\"2\" style=\"text-align: left;\">\n",
       "                            <strong>Local directory: </strong> /tmp/dask-scratch-space/worker-uc4i78x4\n",
       "                        </td>\n",
       "                    </tr>\n",
       "\n",
       "                    \n",
       "\n",
       "                    \n",
       "\n",
       "                </table>\n",
       "            </details>\n",
       "            </div>\n",
       "        </div>\n",
       "        \n",
       "        <div style=\"margin-bottom: 20px;\">\n",
       "            <div style=\"width: 24px; height: 24px; background-color: #DBF5FF; border: 3px solid #4CC9FF; border-radius: 5px; position: absolute;\"> </div>\n",
       "            <div style=\"margin-left: 48px;\">\n",
       "            <details>\n",
       "                <summary>\n",
       "                    <h4 style=\"margin-bottom: 0px; display: inline;\">Worker: 2</h4>\n",
       "                </summary>\n",
       "                <table style=\"width: 100%; text-align: left;\">\n",
       "                    <tr>\n",
       "                        <td style=\"text-align: left;\">\n",
       "                            <strong>Comm: </strong> tcp://127.0.0.1:35439\n",
       "                        </td>\n",
       "                        <td style=\"text-align: left;\">\n",
       "                            <strong>Total threads: </strong> 1\n",
       "                        </td>\n",
       "                    </tr>\n",
       "                    <tr>\n",
       "                        <td style=\"text-align: left;\">\n",
       "                            <strong>Dashboard: </strong> <a href=\"http://127.0.0.1:46583/status\" target=\"_blank\">http://127.0.0.1:46583/status</a>\n",
       "                        </td>\n",
       "                        <td style=\"text-align: left;\">\n",
       "                            <strong>Memory: </strong> 4.00 GiB\n",
       "                        </td>\n",
       "                    </tr>\n",
       "                    <tr>\n",
       "                        <td style=\"text-align: left;\">\n",
       "                            <strong>Nanny: </strong> tcp://127.0.0.1:40011\n",
       "                        </td>\n",
       "                        <td style=\"text-align: left;\"></td>\n",
       "                    </tr>\n",
       "                    <tr>\n",
       "                        <td colspan=\"2\" style=\"text-align: left;\">\n",
       "                            <strong>Local directory: </strong> /tmp/dask-scratch-space/worker-37wcs4pq\n",
       "                        </td>\n",
       "                    </tr>\n",
       "\n",
       "                    \n",
       "\n",
       "                    \n",
       "\n",
       "                </table>\n",
       "            </details>\n",
       "            </div>\n",
       "        </div>\n",
       "        \n",
       "        <div style=\"margin-bottom: 20px;\">\n",
       "            <div style=\"width: 24px; height: 24px; background-color: #DBF5FF; border: 3px solid #4CC9FF; border-radius: 5px; position: absolute;\"> </div>\n",
       "            <div style=\"margin-left: 48px;\">\n",
       "            <details>\n",
       "                <summary>\n",
       "                    <h4 style=\"margin-bottom: 0px; display: inline;\">Worker: 3</h4>\n",
       "                </summary>\n",
       "                <table style=\"width: 100%; text-align: left;\">\n",
       "                    <tr>\n",
       "                        <td style=\"text-align: left;\">\n",
       "                            <strong>Comm: </strong> tcp://127.0.0.1:39577\n",
       "                        </td>\n",
       "                        <td style=\"text-align: left;\">\n",
       "                            <strong>Total threads: </strong> 1\n",
       "                        </td>\n",
       "                    </tr>\n",
       "                    <tr>\n",
       "                        <td style=\"text-align: left;\">\n",
       "                            <strong>Dashboard: </strong> <a href=\"http://127.0.0.1:36881/status\" target=\"_blank\">http://127.0.0.1:36881/status</a>\n",
       "                        </td>\n",
       "                        <td style=\"text-align: left;\">\n",
       "                            <strong>Memory: </strong> 4.00 GiB\n",
       "                        </td>\n",
       "                    </tr>\n",
       "                    <tr>\n",
       "                        <td style=\"text-align: left;\">\n",
       "                            <strong>Nanny: </strong> tcp://127.0.0.1:46551\n",
       "                        </td>\n",
       "                        <td style=\"text-align: left;\"></td>\n",
       "                    </tr>\n",
       "                    <tr>\n",
       "                        <td colspan=\"2\" style=\"text-align: left;\">\n",
       "                            <strong>Local directory: </strong> /tmp/dask-scratch-space/worker-p5051_01\n",
       "                        </td>\n",
       "                    </tr>\n",
       "\n",
       "                    \n",
       "\n",
       "                    \n",
       "\n",
       "                </table>\n",
       "            </details>\n",
       "            </div>\n",
       "        </div>\n",
       "        \n",
       "\n",
       "    </details>\n",
       "</div>\n",
       "\n",
       "        </details>\n",
       "    </div>\n",
       "</div>\n",
       "            </details>\n",
       "        \n",
       "\n",
       "    </div>\n",
       "</div>"
      ],
      "text/plain": [
       "<Client: 'tcp://127.0.0.1:42937' processes=4 threads=4, memory=16.00 GiB>"
      ]
     },
     "execution_count": 1,
     "metadata": {},
     "output_type": "execute_result"
    }
   ],
   "source": [
    "from dask.distributed import Client\n",
    "\n",
    "client = Client(n_workers=4, memory_limit=\"auto\")\n",
    "client"
   ]
  },
  {
   "cell_type": "markdown",
   "id": "2c231978-5762-49a2-a469-e24abd915d69",
   "metadata": {},
   "source": [
    "# Import Data\n",
    "\n",
    "Select a large number of AGNs. Use SDSS AGN to start.  Find these AGNs in ZTF/PanSTARRS/Rubin ComCam data."
   ]
  },
  {
   "cell_type": "markdown",
   "id": "05c7be0c-a9d6-411d-a361-d062c6ba990c",
   "metadata": {},
   "source": [
    "### Import SDSS (DR7QSO)"
   ]
  },
  {
   "cell_type": "code",
   "execution_count": 2,
   "id": "e9e6c115-4e08-498c-9113-0a09cc7b0444",
   "metadata": {
    "execution": {
     "iopub.execute_input": "2025-02-11T04:57:16.187395Z",
     "iopub.status.busy": "2025-02-11T04:57:16.187261Z",
     "iopub.status.idle": "2025-02-11T04:57:18.634632Z",
     "shell.execute_reply": "2025-02-11T04:57:18.634129Z",
     "shell.execute_reply.started": "2025-02-11T04:57:16.187382Z"
    }
   },
   "outputs": [],
   "source": [
    "import hats\n",
    "import lsdb\n",
    "from hats.io.validation import is_valid_catalog"
   ]
  },
  {
   "cell_type": "code",
   "execution_count": 3,
   "id": "3473f544-d560-40f9-9a94-dbf9243de0fa",
   "metadata": {
    "execution": {
     "iopub.execute_input": "2025-02-11T04:57:18.635581Z",
     "iopub.status.busy": "2025-02-11T04:57:18.635196Z",
     "iopub.status.idle": "2025-02-11T04:57:18.637933Z",
     "shell.execute_reply": "2025-02-11T04:57:18.637526Z",
     "shell.execute_reply.started": "2025-02-11T04:57:18.635565Z"
    }
   },
   "outputs": [],
   "source": [
    "sdss_dir = \"/sdf/data/rubin/u/olynn/sdss/sdss/\""
   ]
  },
  {
   "cell_type": "code",
   "execution_count": 4,
   "id": "35fd7381-ce04-44b2-ac2f-67fc37464d88",
   "metadata": {
    "execution": {
     "iopub.execute_input": "2025-02-11T04:57:18.639322Z",
     "iopub.status.busy": "2025-02-11T04:57:18.639187Z",
     "iopub.status.idle": "2025-02-11T04:57:18.685471Z",
     "shell.execute_reply": "2025-02-11T04:57:18.685016Z",
     "shell.execute_reply.started": "2025-02-11T04:57:18.639309Z"
    }
   },
   "outputs": [
    {
     "name": "stdout",
     "output_type": "stream",
     "text": [
      "Valid catalog? True\n"
     ]
    }
   ],
   "source": [
    "print(\"Valid catalog?\", is_valid_catalog(sdss_dir))\n",
    "\n",
    "sdss_hats = hats.read_hats(sdss_dir)"
   ]
  },
  {
   "cell_type": "code",
   "execution_count": 5,
   "id": "68ed1987-8b83-4f4b-a63c-11cba10e7a5e",
   "metadata": {
    "execution": {
     "iopub.execute_input": "2025-02-11T04:57:18.686106Z",
     "iopub.status.busy": "2025-02-11T04:57:18.685962Z",
     "iopub.status.idle": "2025-02-11T04:57:18.739892Z",
     "shell.execute_reply": "2025-02-11T04:57:18.739482Z",
     "shell.execute_reply.started": "2025-02-11T04:57:18.686093Z"
    }
   },
   "outputs": [],
   "source": [
    "sdss = lsdb.read_hats(\n",
    "    sdss_dir,\n",
    "    columns=[\"RA\", \"DEC\", \"REDSHIFT\", \"SDSS_NAME\", \"LOGBH\"]\n",
    ")"
   ]
  },
  {
   "cell_type": "code",
   "execution_count": 6,
   "id": "96c498ab-3b9e-4023-9daa-9ae3a7d6a69e",
   "metadata": {
    "execution": {
     "iopub.execute_input": "2025-02-11T04:57:18.740493Z",
     "iopub.status.busy": "2025-02-11T04:57:18.740360Z",
     "iopub.status.idle": "2025-02-11T04:57:21.115553Z",
     "shell.execute_reply": "2025-02-11T04:57:21.115099Z",
     "shell.execute_reply.started": "2025-02-11T04:57:18.740481Z"
    }
   },
   "outputs": [
    {
     "data": {
      "text/html": [
       "<div>\n",
       "<style scoped>\n",
       "    .dataframe tbody tr th:only-of-type {\n",
       "        vertical-align: middle;\n",
       "    }\n",
       "\n",
       "    .dataframe tbody tr th {\n",
       "        vertical-align: top;\n",
       "    }\n",
       "\n",
       "    .dataframe thead th {\n",
       "        text-align: right;\n",
       "    }\n",
       "</style>\n",
       "<table border=\"1\" class=\"dataframe\">\n",
       "  <thead>\n",
       "    <tr style=\"text-align: right;\">\n",
       "      <th></th>\n",
       "      <th>RA</th>\n",
       "      <th>DEC</th>\n",
       "      <th>REDSHIFT</th>\n",
       "      <th>SDSS_NAME</th>\n",
       "      <th>LOGBH</th>\n",
       "    </tr>\n",
       "    <tr>\n",
       "      <th>_healpix_29</th>\n",
       "      <th></th>\n",
       "      <th></th>\n",
       "      <th></th>\n",
       "      <th></th>\n",
       "      <th></th>\n",
       "    </tr>\n",
       "  </thead>\n",
       "  <tbody>\n",
       "    <tr>\n",
       "      <th>1748843545125</th>\n",
       "      <td>45.075508</td>\n",
       "      <td>0.152306</td>\n",
       "      <td>2.2308</td>\n",
       "      <td>030018.12+000908.3</td>\n",
       "      <td>9.273159</td>\n",
       "    </tr>\n",
       "    <tr>\n",
       "      <th>2976627715402</th>\n",
       "      <td>44.884758</td>\n",
       "      <td>0.164801</td>\n",
       "      <td>0.8064</td>\n",
       "      <td>025932.34+000953.2</td>\n",
       "      <td>8.307456</td>\n",
       "    </tr>\n",
       "    <tr>\n",
       "      <th>5459300610667</th>\n",
       "      <td>45.18858</td>\n",
       "      <td>0.282409</td>\n",
       "      <td>1.7422</td>\n",
       "      <td>030045.25+001656.6</td>\n",
       "      <td>9.3182</td>\n",
       "    </tr>\n",
       "    <tr>\n",
       "      <th>5858887011909</th>\n",
       "      <td>45.339138</td>\n",
       "      <td>0.290646</td>\n",
       "      <td>0.4101</td>\n",
       "      <td>030121.39+001726.3</td>\n",
       "      <td>7.203714</td>\n",
       "    </tr>\n",
       "    <tr>\n",
       "      <th>7934686108383</th>\n",
       "      <td>45.189484</td>\n",
       "      <td>0.35918</td>\n",
       "      <td>1.4969</td>\n",
       "      <td>030045.47+002133.0</td>\n",
       "      <td>9.479626</td>\n",
       "    </tr>\n",
       "  </tbody>\n",
       "</table>\n",
       "</div>"
      ],
      "text/plain": [
       "                      RA       DEC  REDSHIFT           SDSS_NAME     LOGBH\n",
       "_healpix_29                                                               \n",
       "1748843545125  45.075508  0.152306    2.2308  030018.12+000908.3  9.273159\n",
       "2976627715402  44.884758  0.164801    0.8064  025932.34+000953.2  8.307456\n",
       "5459300610667   45.18858  0.282409    1.7422  030045.25+001656.6    9.3182\n",
       "5858887011909  45.339138  0.290646    0.4101  030121.39+001726.3  7.203714\n",
       "7934686108383  45.189484   0.35918    1.4969  030045.47+002133.0  9.479626"
      ]
     },
     "execution_count": 6,
     "metadata": {},
     "output_type": "execute_result"
    }
   ],
   "source": [
    "sdss.head()"
   ]
  },
  {
   "cell_type": "code",
   "execution_count": 7,
   "id": "25815425-bd75-4ff7-a805-5287060aebb5",
   "metadata": {
    "execution": {
     "iopub.execute_input": "2025-02-11T04:57:21.116190Z",
     "iopub.status.busy": "2025-02-11T04:57:21.116043Z",
     "iopub.status.idle": "2025-02-11T04:57:21.440514Z",
     "shell.execute_reply": "2025-02-11T04:57:21.440103Z",
     "shell.execute_reply.started": "2025-02-11T04:57:21.116166Z"
    }
   },
   "outputs": [
    {
     "data": {
      "text/plain": [
       "(<Figure size 1000x500 with 2 Axes>,\n",
       " <WCSAxes: title={'center': 'SDSS DR7 QSO'}>)"
      ]
     },
     "execution_count": 7,
     "metadata": {},
     "output_type": "execute_result"
    },
    {
     "data": {
      "image/png": "[encoded data removed]",
      "text/plain": [
       "<Figure size 1000x500 with 2 Axes>"
      ]
     },
     "metadata": {},
     "output_type": "display_data"
    }
   ],
   "source": [
    "sdss.plot_pixels(plot_title=\"SDSS DR7 QSO\")"
   ]
  },
  {
   "cell_type": "markdown",
   "id": "299d116f-4f40-4251-adad-3beae55dc6b1",
   "metadata": {},
   "source": [
    "### Import ZTF (w/ Margin Cache)"
   ]
  },
  {
   "cell_type": "code",
   "execution_count": 8,
   "id": "9753e8d7-c91e-4a2f-88e2-2fe5ea1aac7f",
   "metadata": {
    "execution": {
     "iopub.execute_input": "2025-02-11T04:57:21.441140Z",
     "iopub.status.busy": "2025-02-11T04:57:21.441008Z",
     "iopub.status.idle": "2025-02-11T04:57:21.881357Z",
     "shell.execute_reply": "2025-02-11T04:57:21.880691Z",
     "shell.execute_reply.started": "2025-02-11T04:57:21.441127Z"
    }
   },
   "outputs": [
    {
     "ename": "FileNotFoundError",
     "evalue": "Failed to read HATS at location https://data.lsdb.io/hats/ztf_dr14/ztf_object",
     "output_type": "error",
     "traceback": [
      "\u001b[0;31m---------------------------------------------------------------------------\u001b[0m",
      "\u001b[0;31mFileNotFoundError\u001b[0m                         Traceback (most recent call last)",
      "File \u001b[0;32m~/.local/lib/python3.11/site-packages/hats/loaders/read_hats.py:40\u001b[0m, in \u001b[0;36mread_hats\u001b[0;34m(catalog_path)\u001b[0m\n\u001b[1;32m     39\u001b[0m \u001b[38;5;28;01mtry\u001b[39;00m:\n\u001b[0;32m---> 40\u001b[0m     properties \u001b[38;5;241m=\u001b[39m \u001b[43mTableProperties\u001b[49m\u001b[38;5;241;43m.\u001b[39;49m\u001b[43mread_from_dir\u001b[49m\u001b[43m(\u001b[49m\u001b[43mcatalog_path\u001b[49m\u001b[43m)\u001b[49m\n\u001b[1;32m     41\u001b[0m     dataset_type \u001b[38;5;241m=\u001b[39m properties\u001b[38;5;241m.\u001b[39mcatalog_type\n",
      "File \u001b[0;32m~/.local/lib/python3.11/site-packages/hats/catalog/dataset/table_properties.py:200\u001b[0m, in \u001b[0;36mTableProperties.read_from_dir\u001b[0;34m(cls, catalog_dir)\u001b[0m\n\u001b[1;32m    199\u001b[0m \u001b[38;5;28;01mif\u001b[39;00m \u001b[38;5;129;01mnot\u001b[39;00m file_io\u001b[38;5;241m.\u001b[39mdoes_file_or_directory_exist(file_path):\n\u001b[0;32m--> 200\u001b[0m     \u001b[38;5;28;01mraise\u001b[39;00m \u001b[38;5;167;01mFileNotFoundError\u001b[39;00m(\u001b[38;5;124mf\u001b[39m\u001b[38;5;124m\"\u001b[39m\u001b[38;5;124mNo properties file found where expected: \u001b[39m\u001b[38;5;132;01m{\u001b[39;00m\u001b[38;5;28mstr\u001b[39m(file_path)\u001b[38;5;132;01m}\u001b[39;00m\u001b[38;5;124m\"\u001b[39m)\n\u001b[1;32m    201\u001b[0m p \u001b[38;5;241m=\u001b[39m Properties()\n",
      "\u001b[0;31mFileNotFoundError\u001b[0m: No properties file found where expected: https://data.lsdb.io/hats/ztf_dr14/ztf_object/properties",
      "\nThe above exception was the direct cause of the following exception:\n",
      "\u001b[0;31mFileNotFoundError\u001b[0m                         Traceback (most recent call last)",
      "Cell \u001b[0;32mIn[8], line 6\u001b[0m\n\u001b[1;32m      4\u001b[0m ztf_object_path \u001b[38;5;241m=\u001b[39m \u001b[38;5;124mf\u001b[39m\u001b[38;5;124m\"\u001b[39m\u001b[38;5;132;01m{\u001b[39;00msurveys_path\u001b[38;5;132;01m}\u001b[39;00m\u001b[38;5;124m/ztf_dr14/ztf_object\u001b[39m\u001b[38;5;124m\"\u001b[39m\n\u001b[1;32m      5\u001b[0m ztf_margin_path \u001b[38;5;241m=\u001b[39m \u001b[38;5;124mf\u001b[39m\u001b[38;5;124m\"\u001b[39m\u001b[38;5;132;01m{\u001b[39;00msurveys_path\u001b[38;5;132;01m}\u001b[39;00m\u001b[38;5;124m/ztf_dr14/ztf_object_10arcs\u001b[39m\u001b[38;5;124m\"\u001b[39m\n\u001b[0;32m----> 6\u001b[0m ztf \u001b[38;5;241m=\u001b[39m \u001b[43mlsdb\u001b[49m\u001b[38;5;241;43m.\u001b[39;49m\u001b[43mread_hats\u001b[49m\u001b[43m(\u001b[49m\n\u001b[1;32m      7\u001b[0m \u001b[43m    \u001b[49m\u001b[43mztf_object_path\u001b[49m\u001b[43m,\u001b[49m\u001b[43m \u001b[49m\u001b[43mmargin_cache\u001b[49m\u001b[38;5;241;43m=\u001b[39;49m\u001b[43mztf_margin_path\u001b[49m\u001b[43m,\u001b[49m\u001b[43m \u001b[49m\u001b[43mcolumns\u001b[49m\u001b[38;5;241;43m=\u001b[39;49m\u001b[43m[\u001b[49m\u001b[38;5;124;43m\"\u001b[39;49m\u001b[38;5;124;43mra\u001b[39;49m\u001b[38;5;124;43m\"\u001b[39;49m\u001b[43m,\u001b[49m\u001b[43m \u001b[49m\u001b[38;5;124;43m\"\u001b[39;49m\u001b[38;5;124;43mdec\u001b[39;49m\u001b[38;5;124;43m\"\u001b[39;49m\u001b[43m]\u001b[49m\n\u001b[1;32m      8\u001b[0m \u001b[43m)\u001b[49m\n\u001b[1;32m      9\u001b[0m \u001b[38;5;28mprint\u001b[39m(\u001b[38;5;124mf\u001b[39m\u001b[38;5;124m\"\u001b[39m\u001b[38;5;124mMargin size: \u001b[39m\u001b[38;5;132;01m{\u001b[39;00mztf\u001b[38;5;241m.\u001b[39mmargin\u001b[38;5;241m.\u001b[39mhc_structure\u001b[38;5;241m.\u001b[39mcatalog_info\u001b[38;5;241m.\u001b[39mmargin_threshold\u001b[38;5;132;01m}\u001b[39;00m\u001b[38;5;124m arcsec\u001b[39m\u001b[38;5;124m\"\u001b[39m)\n",
      "File \u001b[0;32m~/.local/lib/python3.11/site-packages/lsdb/loaders/hats/read_hats.py:72\u001b[0m, in \u001b[0;36mread_hats\u001b[0;34m(path, search_filter, columns, margin_cache, dtype_backend, **kwargs)\u001b[0m\n\u001b[1;32m     63\u001b[0m \u001b[38;5;66;03m# Creates a config object to store loading parameters from all keyword arguments.\u001b[39;00m\n\u001b[1;32m     64\u001b[0m config \u001b[38;5;241m=\u001b[39m HatsLoadingConfig(\n\u001b[1;32m     65\u001b[0m     search_filter\u001b[38;5;241m=\u001b[39msearch_filter,\n\u001b[1;32m     66\u001b[0m     columns\u001b[38;5;241m=\u001b[39mcolumns,\n\u001b[0;32m   (...)\u001b[0m\n\u001b[1;32m     69\u001b[0m     kwargs\u001b[38;5;241m=\u001b[39mkwargs,\n\u001b[1;32m     70\u001b[0m )\n\u001b[0;32m---> 72\u001b[0m hc_catalog \u001b[38;5;241m=\u001b[39m \u001b[43mhc\u001b[49m\u001b[38;5;241;43m.\u001b[39;49m\u001b[43mread_hats\u001b[49m\u001b[43m(\u001b[49m\u001b[43mpath\u001b[49m\u001b[43m)\u001b[49m\n\u001b[1;32m     73\u001b[0m \u001b[38;5;28;01mif\u001b[39;00m hc_catalog\u001b[38;5;241m.\u001b[39mschema \u001b[38;5;129;01mis\u001b[39;00m \u001b[38;5;28;01mNone\u001b[39;00m:\n\u001b[1;32m     74\u001b[0m     \u001b[38;5;28;01mraise\u001b[39;00m \u001b[38;5;167;01mValueError\u001b[39;00m(\n\u001b[1;32m     75\u001b[0m         \u001b[38;5;124m\"\u001b[39m\u001b[38;5;124mThe catalog schema could not be loaded from metadata.\u001b[39m\u001b[38;5;124m\"\u001b[39m\n\u001b[1;32m     76\u001b[0m         \u001b[38;5;124m\"\u001b[39m\u001b[38;5;124m Ensure your catalog has _common_metadata or _metadata files\u001b[39m\u001b[38;5;124m\"\u001b[39m\n\u001b[1;32m     77\u001b[0m     )\n",
      "File \u001b[0;32m~/.local/lib/python3.11/site-packages/hats/loaders/read_hats.py:58\u001b[0m, in \u001b[0;36mread_hats\u001b[0;34m(catalog_path)\u001b[0m\n\u001b[1;32m     56\u001b[0m     \u001b[38;5;28;01mreturn\u001b[39;00m loader(\u001b[38;5;241m*\u001b[39m\u001b[38;5;241m*\u001b[39mkwargs)\n\u001b[1;32m     57\u001b[0m \u001b[38;5;28;01mexcept\u001b[39;00m \u001b[38;5;167;01mException\u001b[39;00m \u001b[38;5;28;01mas\u001b[39;00m exception:  \u001b[38;5;66;03m# pylint: disable=broad-except\u001b[39;00m\n\u001b[0;32m---> 58\u001b[0m     \u001b[38;5;28;01mraise\u001b[39;00m \u001b[38;5;167;01mFileNotFoundError\u001b[39;00m(\u001b[38;5;124mf\u001b[39m\u001b[38;5;124m\"\u001b[39m\u001b[38;5;124mFailed to read HATS at location \u001b[39m\u001b[38;5;132;01m{\u001b[39;00mcatalog_path\u001b[38;5;132;01m}\u001b[39;00m\u001b[38;5;124m\"\u001b[39m) \u001b[38;5;28;01mfrom\u001b[39;00m \u001b[38;5;21;01mexception\u001b[39;00m\n",
      "\u001b[0;31mFileNotFoundError\u001b[0m: Failed to read HATS at location https://data.lsdb.io/hats/ztf_dr14/ztf_object"
     ]
    }
   ],
   "source": [
    "from lsdb import BoxSearch\n",
    "\n",
    "surveys_path = \"https://data.lsdb.io/hats\"\n",
    "ztf_object_path = f\"{surveys_path}/ztf_dr14/ztf_object\"\n",
    "ztf_margin_path = f\"{surveys_path}/ztf_dr14/ztf_object_10arcs\"\n",
    "ztf = lsdb.read_hats(\n",
    "    ztf_object_path, margin_cache=ztf_margin_path, columns=[\"ra\", \"dec\"]\n",
    ")\n",
    "print(f\"Margin size: {ztf.margin.hc_structure.catalog_info.margin_threshold} arcsec\")"
   ]
  },
  {
   "cell_type": "code",
   "execution_count": null,
   "id": "04e4375f-8fb7-4921-a9f8-ee689679b685",
   "metadata": {
    "execution": {
     "iopub.status.busy": "2025-02-11T04:57:21.881797Z",
     "iopub.status.idle": "2025-02-11T04:57:21.881960Z",
     "shell.execute_reply": "2025-02-11T04:57:21.881882Z",
     "shell.execute_reply.started": "2025-02-11T04:57:21.881874Z"
    }
   },
   "outputs": [],
   "source": [
    "# Intermission to get light curve data"
   ]
  },
  {
   "cell_type": "code",
   "execution_count": 9,
   "id": "ff7d664b-82ec-4a9c-883b-5c749af70c18",
   "metadata": {
    "execution": {
     "iopub.execute_input": "2025-02-11T04:57:55.494029Z",
     "iopub.status.busy": "2025-02-11T04:57:55.493439Z",
     "iopub.status.idle": "2025-02-11T04:57:57.309069Z",
     "shell.execute_reply": "2025-02-11T04:57:57.308605Z",
     "shell.execute_reply.started": "2025-02-11T04:57:55.494013Z"
    }
   },
   "outputs": [],
   "source": [
    "ztf_source_path = f\"{surveys_path}/ztf_dr14/ztf_source\"\n",
    "ztf_sources = hats.read_hats(ztf_source_path)"
   ]
  },
  {
   "cell_type": "code",
   "execution_count": 10,
   "id": "7b296b66-c7cc-44dc-a87b-979d1f04d707",
   "metadata": {
    "execution": {
     "iopub.execute_input": "2025-02-11T04:58:00.327121Z",
     "iopub.status.busy": "2025-02-11T04:58:00.326819Z",
     "iopub.status.idle": "2025-02-11T04:58:00.330304Z",
     "shell.execute_reply": "2025-02-11T04:58:00.329924Z",
     "shell.execute_reply.started": "2025-02-11T04:58:00.327106Z"
    }
   },
   "outputs": [
    {
     "data": {
      "text/plain": [
       "_healpix_29: int64\n",
       "index: int64\n",
       "ps1_objid: int64\n",
       "ra: double\n",
       "dec: double\n",
       "ps1_gMeanPSFMag: double\n",
       "ps1_rMeanPSFMag: double\n",
       "ps1_iMeanPSFMag: double\n",
       "nobs_g: int32\n",
       "nobs_r: int32\n",
       "nobs_i: int32\n",
       "mean_mag_g: double\n",
       "mean_mag_r: double\n",
       "mean_mag_i: double\n",
       "catflags: int16\n",
       "fieldID: int16\n",
       "mag: float\n",
       "magerr: float\n",
       "mjd: double\n",
       "rcID: int16\n",
       "band: string\n",
       "Norder: int8\n",
       "Dir: int64\n",
       "Npix: int64"
      ]
     },
     "execution_count": 10,
     "metadata": {},
     "output_type": "execute_result"
    }
   ],
   "source": [
    "ztf_sources.schema"
   ]
  },
  {
   "cell_type": "code",
   "execution_count": 11,
   "id": "1a4ddaa6-806f-49c6-b727-c151d1e8e42d",
   "metadata": {
    "execution": {
     "iopub.execute_input": "2025-02-11T04:58:02.648742Z",
     "iopub.status.busy": "2025-02-11T04:58:02.648420Z",
     "iopub.status.idle": "2025-02-11T04:58:06.598400Z",
     "shell.execute_reply": "2025-02-11T04:58:06.597928Z",
     "shell.execute_reply.started": "2025-02-11T04:58:02.648727Z"
    }
   },
   "outputs": [],
   "source": [
    "tmp = lsdb.read_hats(ztf_source_path)"
   ]
  },
  {
   "cell_type": "code",
   "execution_count": 13,
   "id": "c3d77322-3ea5-4f24-99ab-7fee7bec975d",
   "metadata": {
    "execution": {
     "iopub.execute_input": "2025-02-11T04:59:21.692115Z",
     "iopub.status.busy": "2025-02-11T04:59:21.691808Z",
     "iopub.status.idle": "2025-02-11T04:59:21.694508Z",
     "shell.execute_reply": "2025-02-11T04:59:21.694068Z",
     "shell.execute_reply.started": "2025-02-11T04:59:21.692099Z"
    }
   },
   "outputs": [],
   "source": [
    "#tmp.head()"
   ]
  },
  {
   "cell_type": "code",
   "execution_count": null,
   "id": "440fd6ca-f0ba-4344-851d-81690c764d76",
   "metadata": {
    "execution": {
     "iopub.status.busy": "2025-02-11T04:57:21.886398Z",
     "iopub.status.idle": "2025-02-11T04:57:21.886566Z",
     "shell.execute_reply": "2025-02-11T04:57:21.886493Z",
     "shell.execute_reply.started": "2025-02-11T04:57:21.886486Z"
    }
   },
   "outputs": [],
   "source": [
    "ztf_sources.plot_pixels(plot_title=\"ztf_sources\")"
   ]
  },
  {
   "cell_type": "code",
   "execution_count": null,
   "id": "9c9b4ae8-1848-4705-9fdb-e093672a8612",
   "metadata": {
    "execution": {
     "iopub.status.busy": "2025-02-11T04:57:21.887339Z",
     "iopub.status.idle": "2025-02-11T04:57:21.887493Z",
     "shell.execute_reply": "2025-02-11T04:57:21.887419Z",
     "shell.execute_reply.started": "2025-02-11T04:57:21.887412Z"
    }
   },
   "outputs": [],
   "source": [
    "# This --only-binary flag is required to avoid installation errors on some systems\n",
    "%pip install -q --only-binary=light-curve light-curve"
   ]
  },
  {
   "cell_type": "code",
   "execution_count": null,
   "id": "12bc34e6-3a9f-48e6-a4c5-cbbf970c5386",
   "metadata": {
    "execution": {
     "iopub.status.busy": "2025-02-11T04:57:21.887921Z",
     "iopub.status.idle": "2025-02-11T04:57:21.888066Z",
     "shell.execute_reply": "2025-02-11T04:57:21.887999Z",
     "shell.execute_reply.started": "2025-02-11T04:57:21.887992Z"
    }
   },
   "outputs": [],
   "source": [
    "import light_curve as licu"
   ]
  },
  {
   "cell_type": "code",
   "execution_count": null,
   "id": "b49a1bf5-8542-47ec-90cc-344409a5d54c",
   "metadata": {
    "execution": {
     "iopub.status.busy": "2025-02-11T04:57:21.888665Z",
     "iopub.status.idle": "2025-02-11T04:57:21.888810Z",
     "shell.execute_reply": "2025-02-11T04:57:21.888741Z",
     "shell.execute_reply.started": "2025-02-11T04:57:21.888735Z"
    }
   },
   "outputs": [],
   "source": [
    "ZTF_ALERTS = \"https://data.lsdb.io/hats/alerce/\"\n",
    "\n",
    "# Load catalog with nested lists\n",
    "raw_catalog = lsdb.read_hats(\n",
    "    ZTF_ALERTS,\n",
    ")\n",
    "display(raw_catalog)"
   ]
  },
  {
   "cell_type": "code",
   "execution_count": null,
   "id": "6c31a9ac-68b0-4a6c-8707-a5785cab1a2d",
   "metadata": {},
   "outputs": [],
   "source": []
  },
  {
   "cell_type": "code",
   "execution_count": null,
   "id": "9f348ea9-c697-47be-b955-2cc84b5c0550",
   "metadata": {},
   "outputs": [],
   "source": []
  },
  {
   "cell_type": "code",
   "execution_count": null,
   "id": "01789de5-5fb2-47a0-91da-546b8a089df0",
   "metadata": {},
   "outputs": [],
   "source": []
  },
  {
   "cell_type": "markdown",
   "id": "d29f20cf-3c52-4548-868d-95f54a7152d3",
   "metadata": {},
   "source": [
    "# Crossmatch"
   ]
  },
  {
   "cell_type": "code",
   "execution_count": null,
   "id": "83872ea7-c687-4958-9db5-4ce4355e3e7c",
   "metadata": {},
   "outputs": [],
   "source": [
    "sdss_x_ztf = sdss.crossmatch(ztf, n_neighbors=1, radius_arcsec=3)"
   ]
  },
  {
   "cell_type": "code",
   "execution_count": null,
   "id": "5827b6d1-61d5-44ea-a0e3-65b9b500a7fb",
   "metadata": {
    "scrolled": true
   },
   "outputs": [],
   "source": [
    "sdss_x_ztf"
   ]
  },
  {
   "cell_type": "code",
   "execution_count": null,
   "id": "adf98081-6537-4db9-b335-96cda417ef1d",
   "metadata": {},
   "outputs": [],
   "source": [
    "sdss_x_ztf.plot_pixels(plot_title=\"SDSS x ZTF\")"
   ]
  },
  {
   "cell_type": "code",
   "execution_count": null,
   "id": "741bf937-facf-4f70-a370-b0d16e6210a3",
   "metadata": {},
   "outputs": [],
   "source": [
    "#result_df = sdss_x_ztf.compute()  # To compute values to a pandas DataFrame\n",
    "#sdss_x_ztf.to_hats(\"./sdss_x_ztf\")  # To save (needed for large results, as they won't fit in df"
   ]
  },
  {
   "cell_type": "markdown",
   "id": "e2caa574-821c-481c-b933-a46ca2cca05b",
   "metadata": {},
   "source": [
    "## A Small Intermission to Figure Out Why Our SDSSDR7QSO Cat seems weird\n",
    "*Did it import properly? Why does it seem to be missing many columns?*"
   ]
  },
  {
   "cell_type": "code",
   "execution_count": null,
   "id": "ac49c460-0411-4c52-9320-6f23e89f8aa8",
   "metadata": {},
   "outputs": [],
   "source": [
    "#print(len(str(hats.read_hats(sdss_dir).schema).split(\"\\n\")), \" cols found.\\n\")\n",
    "#print(\" | \".join(str(hats.read_hats(sdss_dir).schema).split(\"\\n\")))"
   ]
  },
  {
   "cell_type": "code",
   "execution_count": null,
   "id": "ea9c738a-46fe-4eaa-b999-4d2de55a206f",
   "metadata": {},
   "outputs": [],
   "source": [
    "#!tree \"$sdss_dir\""
   ]
  },
  {
   "cell_type": "code",
   "execution_count": null,
   "id": "80d532e7-e4a6-4e79-8272-a21cefa51b46",
   "metadata": {},
   "outputs": [],
   "source": [
    "import pandas as pd\n",
    "\n",
    "def inspect_parquet(file_path, num_rows=5):\n",
    "    try:\n",
    "        # Load the Parquet file\n",
    "        df = pd.read_parquet(file_path)\n",
    "        # Display schema\n",
    "        print(f\"Schema of the Parquet file ({file_path}):\")\n",
    "        print(df.info())\n",
    "        print(\"\\n\")\n",
    "        # Display a preview of the data\n",
    "        print(f\"Preview of the first {num_rows} rows:\")\n",
    "        print(df.head(num_rows))\n",
    "        # Display summary statistics\n",
    "        print(\"\\nSummary statistics:\")\n",
    "        print(df.describe(include='all'))\n",
    "    except Exception as e:\n",
    "        print(f\"An error occurred: {e}\")"
   ]
  },
  {
   "cell_type": "code",
   "execution_count": null,
   "id": "45415120-e3e9-4641-93b6-011cca9f11ed",
   "metadata": {},
   "outputs": [],
   "source": [
    "#file_path = os.path.join(sdss_dir, \"dataset\", \"Norder=0\", \"Dir=0\", \"Npix=0.parquet\")\n",
    "#inspect_parquet(file_path)"
   ]
  },
  {
   "cell_type": "markdown",
   "id": "9696c941-76d9-4464-b9e9-1a86a28bd153",
   "metadata": {},
   "source": [
    "*Ohh...it was just that [the SDSS DR7 QSO catalog](https://classic.sdss.org/dr7/products/value_added/qsocat_dr7.php) requires the [supplemental materials of the SDSS DR7 QSO catalog](https://das.sdss.org/va/qso_properties_dr7/dr7.htm). In fact, for our purposes, we can just target the supplemental catalog alone. Back to our regularly scheduled programming:*"
   ]
  },
  {
   "cell_type": "markdown",
   "id": "63cd1163-d2b3-4140-b9d3-422bf61d3307",
   "metadata": {},
   "source": [
    "# Binning\n",
    "\n",
    "Instructions:\n",
    "> Split the sample in mass and redshift (several bins in redshift and several bins in mass). For instance see [Figure 4](https://s3.amazonaws.com/aasie/images/0004-637X/834/2/111/apjaa4d0bf4_hr.jpg) in [Neven's paper](https://ui.adsabs.harvard.edu/abs/2017ApJ...834..111C/graphics)."
   ]
  },
  {
   "cell_type": "markdown",
   "id": "14602bb2-0009-4b06-9347-f4859cb3ea10",
   "metadata": {},
   "source": [
    "**Question: Do we have mass? What kind?**\n",
    "\n",
    "**Answer: Yes--**  \n",
    "From [the SDSS paper](https://iopscience.iop.org/article/10.1088/0067-0049/194/2/45):\n",
    "> We also compile virial black hole mass estimates based on various calibrations. For the fiducial virial mass estimates we use the Vestergaard & Peterson (VP06) calibrations for Hβ and C iv, and our own calibration for Mg ii which matches the VP06 Hβ masses on average.  \n",
    "> ...  \n",
    "> 139...\tDOUBLE\tThe adopted fiducial virial BH mass [log (MBH, vir/M☉)]  \n",
    "> 140...\tDOUBLE\tUncertainty in the fiducial virial BH mass (measurement uncertainty only)  \n",
    "\n",
    "From the [SDSS DR7 QSO (SM) page](https://das.sdss.org/va/qso_properties_dr7/dr7.htm):\n",
    "> 139\t**LOGBH**\tDOUBLE\tThe adopted fiducial virial BH mass (Msun)  \n",
    "> 140\t**LOGBH_ERR**\tDOUBLE\tMeasurement error in LOGBH"
   ]
  },
  {
   "cell_type": "markdown",
   "id": "5c630bf2-258a-4688-845c-b4a6d893b1e7",
   "metadata": {},
   "source": [
    "**Question: What's the best practice for binning these?**  \n",
    "Do I just add another column with \"z_bin\", etc? (Adding cols via [assign](https://docs.lsdb.io/en/stable/autoapi/lsdb/catalog/index.html#lsdb.catalog.Catalog.assign)?)\n",
    "\n",
    "**Answer: No best practice known!**"
   ]
  },
  {
   "cell_type": "markdown",
   "id": "c8ced5aa-d3ac-4cfc-8d59-7833780a0c47",
   "metadata": {},
   "source": [
    "## Let's start by looking at the column stats"
   ]
  },
  {
   "cell_type": "code",
   "execution_count": null,
   "id": "8ad10482-bb83-46af-a005-26cd5594c615",
   "metadata": {},
   "outputs": [],
   "source": [
    "sdss_hats = hats.read_hats(sdss_dir)\n",
    "sdss_hats.aggregate_column_statistics(include_columns=[\"RA\", \"DEC\", \"REDSHIFT\", \"LOGBH\", \"LOGBH_ERR\"])"
   ]
  },
  {
   "cell_type": "markdown",
   "id": "7c6dbd7b-8088-48a3-9243-7fc8e7a47926",
   "metadata": {},
   "source": [
    "It looks like 6 redshift bins (<1, 1-2, 2-3, 3-4, 4-5, >5) would be a good place to start.  \n",
    "Similarly, we could try 6 mass (logbh) bins (<2, 2-4, 4-6, 6-8, 8-10, >10).  \n",
    "Let's take a quick peak at the distribution in the first 100 rows: "
   ]
  },
  {
   "cell_type": "code",
   "execution_count": null,
   "id": "7f1a034a-3ab6-4c20-b15b-e08f552fd9f9",
   "metadata": {},
   "outputs": [],
   "source": [
    "import numpy as np\n",
    "import matplotlib.pyplot as plt\n",
    "\n",
    "sdss_x_ztf_subset = sdss_x_ztf.head(100)\n",
    "\n",
    "redshifts = np.array(sdss_x_ztf_subset[\"REDSHIFT_sdss\"])\n",
    "masses = np.array(sdss_x_ztf_subset[\"LOGBH_sdss\"])\n",
    "\n",
    "plt.hist(redshifts, bins=np.linspace(0.0, 6.0, 7))\n",
    "plt.title(\"First 100 SDSS DR7 QSOs Binned by Redshift\")\n",
    "plt.show()\n",
    "plt.hist(masses, bins=np.linspace(0.0, 12.0, 7))\n",
    "plt.title(\"First 100 SDSS DR7 QSOs Binned by Mass\")\n",
    "plt.show()"
   ]
  },
  {
   "cell_type": "markdown",
   "id": "71ac0855-59e6-44af-af9c-f700f994818c",
   "metadata": {},
   "source": [
    "Tbh, they seem more skewed than I'd prefer.  \n",
    "But, this is only the first 100 of 105,000+ rows, so let's go ahead with this for now, and we can come back later if we want."
   ]
  },
  {
   "cell_type": "code",
   "execution_count": null,
   "id": "e97d27e1-58b6-4d42-96af-9e160ecce0db",
   "metadata": {},
   "outputs": [],
   "source": [
    "def bin_redshift(val):\n",
    "    return val.astype(int)\n",
    "def bin_mass(val):\n",
    "    return (val*0.5).astype(int)\n",
    "\n",
    "sdss_x_ztf = sdss_x_ztf.assign(redshift_bin=lambda x: bin_redshift(x['REDSHIFT_sdss']))\n",
    "sdss_x_ztf = sdss_x_ztf.assign(mass_bin=lambda x: bin_mass(x['LOGBH_sdss']))"
   ]
  },
  {
   "cell_type": "code",
   "execution_count": null,
   "id": "65670be3-b74a-49ca-a592-5765cc099a89",
   "metadata": {},
   "outputs": [],
   "source": [
    "sdss_x_ztf.head()"
   ]
  },
  {
   "cell_type": "markdown",
   "id": "73dab3c8-aaaf-490e-8788-05e634f7b658",
   "metadata": {},
   "source": [
    "---"
   ]
  },
  {
   "cell_type": "markdown",
   "id": "b65c3786-f1d5-41cc-9165-a2638b0d9dbc",
   "metadata": {},
   "source": [
    "# Measure structure function for these subsamples\n",
    "Instructions:\n",
    "> Measure structure function for these subsamples. Decide by yourself how you will measure structure function (i.e., make the function from scratch, use implementation shown on the Internet, etc…)."
   ]
  },
  {
   "cell_type": "code",
   "execution_count": null,
   "id": "1b552620-106f-4729-862d-6bd4ca0b2898",
   "metadata": {},
   "outputs": [],
   "source": []
  },
  {
   "cell_type": "markdown",
   "id": "cb13235f-ebea-4768-8f5d-4a075208de36",
   "metadata": {
    "execution": {
     "iopub.execute_input": "2025-01-16T17:41:13.362208Z",
     "iopub.status.busy": "2025-01-16T17:41:13.361892Z",
     "iopub.status.idle": "2025-01-16T17:41:13.365432Z",
     "shell.execute_reply": "2025-01-16T17:41:13.364931Z",
     "shell.execute_reply.started": "2025-01-16T17:41:13.362189Z"
    }
   },
   "source": [
    "# Visualize\n",
    "Visualize the result and show how the variability of AGN (measured structure function) depends on the mass and redshift. If possible, expand the results with a larger Miliquas catalog."
   ]
  }
 ],
 "metadata": {
  "kernelspec": {
   "display_name": "LSST",
   "language": "python",
   "name": "lsst"
  },
  "language_info": {
   "codemirror_mode": {
    "name": "ipython",
    "version": 3
   },
   "file_extension": ".py",
   "mimetype": "text/x-python",
   "name": "python",
   "nbconvert_exporter": "python",
   "pygments_lexer": "ipython3",
   "version": "3.11.9"
  }
 },
 "nbformat": 4,
 "nbformat_minor": 5
}
