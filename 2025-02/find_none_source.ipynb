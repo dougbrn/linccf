{
 "cells": [
  {
   "cell_type": "code",
   "execution_count": null,
   "metadata": {
    "vscode": {
     "languageId": "plaintext"
    }
   },
   "outputs": [],
   "source": [
    "from pathlib import Path\n",
    "\n",
    "DRP_VERSION = \"w_2025_06\"\n",
    "COLLECTION_TAG = \"DM-48810\"\n",
    "\n",
    "raw_dir = Path(f\"/sdf/data/rubin/shared/lsdb_commissioning\") / \"raw_delucchi\" / DRP_VERSION\n",
    "\n",
    "file_pointer = raw_dir / \"paths\" / f\"sourceTable.txt\"\n",
    "with file_pointer.open(\"r\", encoding=\"utf8\") as _text_file:\n",
    "    paths = _text_file.readlines()\n",
    "paths = [path.strip() for path in paths]\n",
    "paths[:10]"
   ]
  },
  {
   "cell_type": "code",
   "execution_count": null,
   "metadata": {
    "vscode": {
     "languageId": "plaintext"
    }
   },
   "outputs": [],
   "source": [
    "import pyarrow.parquet as pq\n",
    "\n",
    "from hats.pixel_math.healpix_shim import radec2pix\n",
    "failed_files = 0\n",
    "for path in paths:\n",
    "    parquet_file = pq.ParquetFile(path)\n",
    "    \n",
    "    ra_min = parquet_file.metadata.row_group(0).column(7).statistics.min\n",
    "    ra_max = parquet_file.metadata.row_group(0).column(7).statistics.max\n",
    "    dec_min = parquet_file.metadata.row_group(0).column(8).statistics.min\n",
    "    dec_max = parquet_file.metadata.row_group(0).column(8).statistics.max\n",
    "\n",
    "    try:\n",
    "        _ = radec2pix(10, [ra_min, ra_min, ra_max, ra_max], [dec_min, dec_max, dec_min, dec_max])\n",
    "    except:\n",
    "        print(path)\n",
    "        print([ra_min, ra_max, dec_min, dec_max])\n",
    "        break\n",
    "        failed_files += 1\n",
    "\n",
    "failed_files"
   ]
  }
 ],
 "metadata": {
  "language_info": {
   "name": "python"
  }
 },
 "nbformat": 4,
 "nbformat_minor": 2
}
