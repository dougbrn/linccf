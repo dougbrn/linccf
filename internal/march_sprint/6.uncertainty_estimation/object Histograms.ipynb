{
 "cells": [
  {
   "cell_type": "code",
   "execution_count": null,
   "id": "0a0744e6-1af3-4b01-9a51-583cbfff942b",
   "metadata": {},
   "outputs": [],
   "source": [
    "import astropy.units as u\n",
    "import lsdb\n",
    "import matplotlib.pyplot as plt\n",
    "import numpy as np\n",
    "import pandas as pd\n",
    "import dask\n",
    "import scipy\n",
    "\n",
    "from dask.distributed import Client\n",
    "from nested_pandas.utils import count_nested\n",
    "from dask.distributed import print as dask_print\n",
    "from lsdb.core.search.pixel_search import PixelSearch\n",
    "from lsdb.core.search.order_search import OrderSearch\n",
    "from io import StringIO\n",
    "from nested_pandas import NestedDtype\n",
    "from pathlib import Path"
   ]
  },
  {
   "cell_type": "code",
   "execution_count": null,
   "id": "322d89b3-4c5d-4390-9f2d-3a148796eaa4",
   "metadata": {},
   "outputs": [],
   "source": [
    "drp_release = \"w_2025_11\"\n",
    "hats_dir = Path(\"/sdf/data/rubin/shared/lsdb_commissioning/hats\")\n",
    "hats_path = hats_dir / drp_release\n",
    "output_path = Path(\n",
    "    \"/sdf/data/rubin/shared/lsdb_commissioning/science_projects/06_uncertainty/object_whiten\"\n",
    ")"
   ]
  },
  {
   "cell_type": "code",
   "execution_count": null,
   "id": "f1f0179f-9a62-4cfd-baa1-e6c817c72b51",
   "metadata": {},
   "outputs": [],
   "source": [
    "client = Client(n_workers=1, threads_per_worker=1, memory_limit=\"10GB\")\n",
    "\n",
    "dask.config.set({\"dataframe.convert-string\": False})"
   ]
  },
  {
   "cell_type": "markdown",
   "id": "5f606c2c-9ca8-49a5-93c3-0ef8503a4f66",
   "metadata": {},
   "source": [
    "There's not that much going on here! We did all the work on all the objects and lightcurves in the previous notebook, so this is just aggregating the histograms over all lightcurves."
   ]
  },
  {
   "cell_type": "code",
   "execution_count": null,
   "id": "6327b33a-3704-49e0-b8d9-c9a5894e5ed4",
   "metadata": {},
   "outputs": [],
   "source": [
    "x = np.arange(-10, 10, 0.01)\n",
    "def fetch_and_plot_dev(band, plot=False, field=\"whitened_data\"):\n",
    "    stats_catalog = lsdb.read_hats(    output_path / f\"{band}_band\")\n",
    "\n",
    "    def dev_histogram(frame):\n",
    "        return {\"hist\": np.histogram(np.concatenate(frame[field].values).ravel(), bins=x)}\n",
    "\n",
    "    result = stats_catalog.map_partitions(dev_histogram, meta={\"hist\":np.int64})\n",
    "    full_hist = result.compute().loc[0].to_numpy().sum(axis=0)[0]\n",
    "\n",
    "    if plot:\n",
    "        _ = plt.hist(x[:-1], x, weights=full_hist, density=True)\n",
    "        _ = plt.plot(x, scipy.stats.norm().pdf(x))\n",
    "\n",
    "    return full_hist"
   ]
  },
  {
   "cell_type": "code",
   "execution_count": null,
   "id": "59b2e74a-b9b7-446c-b2fc-d9e216303577",
   "metadata": {},
   "outputs": [],
   "source": [
    "bands = [\"u\", \"g\", \"r\", \"i\", \"z\", \"y\"]\n",
    "\n",
    "rel_dev_hists_100 = [fetch_and_plot_dev(band, field=\"rel_dev\") for band in bands]"
   ]
  },
  {
   "cell_type": "code",
   "execution_count": null,
   "id": "0223bca0-8859-4e08-87da-e27760277c60",
   "metadata": {},
   "outputs": [],
   "source": [
    "whitened_hists_100 = [fetch_and_plot_dev(band, field=\"whitened_data\") for band in bands]"
   ]
  },
  {
   "cell_type": "code",
   "execution_count": null,
   "id": "c149e359-e384-487e-821f-36abe2dcf3db",
   "metadata": {},
   "outputs": [],
   "source": [
    "fig, axs = plt.subplots(2, 3, figsize=(20, 10), layout=\"constrained\")\n",
    "for ax, band, histo in zip(axs.flat, bands, rel_dev_hists):\n",
    "    _ = ax.hist(x[:-1], x, weights=histo, density=True)\n",
    "    _ = ax.plot(x, scipy.stats.norm().pdf(x))\n",
    "    ax.set_title(band + \" band\", fontsize=20)\n",
    "_=fig.suptitle('Relative Deviations in the full sky object forced photometry, by band', fontsize=20)"
   ]
  },
  {
   "cell_type": "code",
   "execution_count": null,
   "id": "3d335a69-6b0d-4818-8472-4fca15ae6aed",
   "metadata": {},
   "outputs": [],
   "source": [
    "fig, axs = plt.subplots(2, 3, figsize=(20, 10), layout=\"constrained\")\n",
    "for ax, band, histo in zip(axs.flat, bands, whitened_hists):\n",
    "    _ = ax.hist(x[:-1], x, weights=histo, density=True)\n",
    "    _ = ax.plot(x, scipy.stats.norm().pdf(x))\n",
    "    ax.set_title(band + \" band\", fontsize=20)\n",
    "_=fig.suptitle('Deviations in whitened in the full sky object forced photometry, by band', fontsize=20)"
   ]
  },
  {
   "cell_type": "code",
   "execution_count": null,
   "id": "3ae4e4d9-3ce4-47a3-ab0d-b71143835272",
   "metadata": {},
   "outputs": [],
   "source": [
    "fig, axs = plt.subplots(6, 2, figsize=(10, 30), layout=\"constrained\")\n",
    "\n",
    "for i in range(0, 6):\n",
    "    ax = axs[i, 0]\n",
    "    _ = ax.hist(x[:-1], x, weights=rel_dev_hists[i], density=True)\n",
    "    _ = ax.plot(x, scipy.stats.norm().pdf(x))\n",
    "    ax.set_title(bands[i] + \" band (rel dev)\", fontsize=20)\n",
    "\n",
    "    ax = axs[i, 1]\n",
    "    _ = ax.hist(x[:-1], x, weights=whitened_hists[i], density=True)\n",
    "    _ = ax.plot(x, scipy.stats.norm().pdf(x))\n",
    "    ax.set_title(bands[i] + \" band (whitened)\", fontsize=20)\n",
    "\n",
    "_=fig.suptitle('Comparison of relative deviation and whitening in the full sky object forced photometry, by band', fontsize=20)"
   ]
  },
  {
   "cell_type": "code",
   "execution_count": null,
   "id": "ea29a0ba-3592-4fbd-bf43-90747b91d8a9",
   "metadata": {},
   "outputs": [],
   "source": [
    "fig.savefig(\"full_sky_method_compare.png\")"
   ]
  },
  {
   "cell_type": "code",
   "execution_count": null,
   "id": "50fab906-1925-42e8-b62a-45a50c497722",
   "metadata": {},
   "outputs": [],
   "source": []
  }
 ],
 "metadata": {
  "kernelspec": {
   "display_name": "LSST",
   "language": "python",
   "name": "lsst"
  },
  "language_info": {
   "codemirror_mode": {
    "name": "ipython",
    "version": 3
   },
   "file_extension": ".py",
   "mimetype": "text/x-python",
   "name": "python",
   "nbconvert_exporter": "python",
   "pygments_lexer": "ipython3",
   "version": "3.12.9"
  }
 },
 "nbformat": 4,
 "nbformat_minor": 5
}
