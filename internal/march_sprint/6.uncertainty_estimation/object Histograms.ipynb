{
 "cells": [
  {
   "cell_type": "code",
   "execution_count": null,
   "id": "0a0744e6-1af3-4b01-9a51-583cbfff942b",
   "metadata": {},
   "outputs": [],
   "source": [
    "import astropy.units as u\n",
    "import lsdb\n",
    "import matplotlib.pyplot as plt\n",
    "import numpy as np\n",
    "import pandas as pd\n",
    "import dask\n",
    "\n",
    "from dask.distributed import Client\n",
    "from nested_pandas.utils import count_nested\n",
    "from dask.distributed import print as dask_print\n",
    "from lsdb.core.search.pixel_search import PixelSearch\n",
    "from lsdb.core.search.order_search import OrderSearch\n",
    "from io import StringIO\n",
    "from nested_pandas import NestedDtype\n",
    "from pathlib import Path"
   ]
  },
  {
   "cell_type": "code",
   "execution_count": null,
   "id": "98f00e72-a169-4f59-b0d1-2203f628cdb4",
   "metadata": {},
   "outputs": [],
   "source": [
    "# in_memory.rel_dev.values.flatten().ravel()\n",
    "np.concatenate(in_memory.rel_dev.values).ravel().shape"
   ]
  },
  {
   "cell_type": "code",
   "execution_count": null,
   "id": "1ff20b4d-4f7f-48e1-94c2-27807fa52a71",
   "metadata": {},
   "outputs": [],
   "source": [
    "x = np.arange(-10, 10, 0.1)\n",
    "import scipy\n",
    "\n",
    "_ = plt.hist(np.concatenate(in_memory.rel_dev.values).ravel(), bins=x, density=True)\n",
    "plt.plot(x, scipy.stats.norm().pdf(x))\n",
    "# scipy.stats.norm().pdf(x)"
   ]
  }
 ],
 "metadata": {
  "kernelspec": {
   "display_name": "LSST",
   "language": "python",
   "name": "lsst"
  },
  "language_info": {
   "codemirror_mode": {
    "name": "ipython",
    "version": 3
   },
   "file_extension": ".py",
   "mimetype": "text/x-python",
   "name": "python",
   "nbconvert_exporter": "python",
   "pygments_lexer": "ipython3",
   "version": "3.12.9"
  }
 },
 "nbformat": 4,
 "nbformat_minor": 5
}
