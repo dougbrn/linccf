{
 "cells": [
  {
   "cell_type": "code",
   "execution_count": null,
   "id": "c4fdc696-7675-4e82-a56b-f29dacda2879",
   "metadata": {},
   "outputs": [],
   "source": [
    "# %pip install --quiet git+https://github.com/astronomy-commons/hats.git@main"
   ]
  },
  {
   "cell_type": "code",
   "execution_count": null,
   "id": "9011481c-b17c-4b28-a90a-1d7514324bd6",
   "metadata": {},
   "outputs": [],
   "source": [
    "# %pip install --quiet git+https://github.com/astronomy-commons/lsdb.git@main"
   ]
  },
  {
   "cell_type": "code",
   "execution_count": null,
   "id": "6911d11b-f42d-4a9f-bfe2-9348572b9e65",
   "metadata": {},
   "outputs": [],
   "source": [
    "import lsdb\n",
    "\n",
    "lsdb.__version__"
   ]
  },
  {
   "cell_type": "code",
   "execution_count": null,
   "id": "f9b19605-d53f-4895-b77e-8e6df8081664",
   "metadata": {},
   "outputs": [],
   "source": [
    "import astropy.units as u\n",
    "import lsdb\n",
    "import matplotlib.pyplot as plt\n",
    "import numpy as np\n",
    "import pandas as pd\n",
    "import dask\n",
    "\n",
    "from dask.distributed import Client\n",
    "from nested_pandas.utils import count_nested\n",
    "from dask.distributed import print as dask_print\n",
    "from lsdb.core.search.pixel_search import PixelSearch\n",
    "from lsdb.core.search.order_search import OrderSearch\n",
    "from io import StringIO\n",
    "from nested_pandas import NestedDtype\n",
    "from pathlib import Path"
   ]
  },
  {
   "cell_type": "code",
   "execution_count": null,
   "id": "3d594f0c-cc06-4819-9847-9d8f15195191",
   "metadata": {},
   "outputs": [],
   "source": [
    "drp_release = \"w_2025_11\"\n",
    "hats_dir = Path(\"/sdf/data/rubin/shared/lsdb_commissioning/hats\")\n",
    "hats_path = hats_dir / drp_release\n",
    "output_path = Path(\n",
    "    \"/sdf/data/rubin/shared/lsdb_commissioning/science_projects/06_uncertainty\"\n",
    ")"
   ]
  },
  {
   "cell_type": "code",
   "execution_count": null,
   "id": "f27554f7-02ca-4eba-aafd-9587d35ae0d7",
   "metadata": {},
   "outputs": [],
   "source": [
    "# Create a local cluster and connect to it\n",
    "client = Client(n_workers=1, threads_per_worker=1, memory_limit=\"10GB\")\n",
    "\n",
    "dask.config.set({\"dataframe.convert-string\": False})"
   ]
  },
  {
   "cell_type": "markdown",
   "id": "57ff832b-5d94-4b88-bf41-b8f6e84b7fb2",
   "metadata": {},
   "source": [
    "This is pretty brute-force. I gave up on thinking about how to make the reuslts per-band co-exist in the same table, and I'm just running the stages 6 times, once for each band.\n",
    "\n",
    "I might need to do it differently for diaObject, but we'll see what happens tomorrow!!"
   ]
  },
  {
   "cell_type": "code",
   "execution_count": null,
   "id": "1614fd4d-80e0-490d-a20d-7bad6d7cd8c5",
   "metadata": {},
   "outputs": [],
   "source": [
    "target_source_column = \"objectForcedSource\"\n",
    "target_band = \"y\" # \"z\" #\"i\" #\"g\" # \"u\" # \"r\"\n",
    "\n",
    "object_catalog = lsdb.read_hats(\n",
    "    hats_path / \"object_lc\", columns=[\"objectId\", target_source_column]\n",
    ")"
   ]
  },
  {
   "cell_type": "code",
   "execution_count": null,
   "id": "4cf6d139-2b54-4bac-9a3f-1a503954ef56",
   "metadata": {},
   "outputs": [],
   "source": [
    "def filter_by_nested(nested_df, pixel, source_column, band):\n",
    "    dask_print(\"starting on\", pixel)\n",
    "    empty_result = {\n",
    "        \"max_variability\": np.float64,\n",
    "        \"band\": \"str\",\n",
    "        \"wmean_flux\": np.float64,\n",
    "        \"rel_dev\": pd.Series([], dtype=np.float64),\n",
    "    }\n",
    "    nested_df = nested_df.assign(\n",
    "        **{\n",
    "            source_column: nested_df[source_column].astype(\n",
    "                NestedDtype.from_pandas_arrow_dtype(nested_df.dtypes[source_column])\n",
    "            )\n",
    "        }\n",
    "    )\n",
    "    ## Consider only lightcurves in the target band\n",
    "    nested_df = nested_df.query(\n",
    "        f\"{source_column}.band == '{band}' and not {source_column}.psfFlux_flag\"\n",
    "    ).dropna(subset=source_column)\n",
    "    if len(nested_df) == 0:\n",
    "        dask_print(\"found nothing in band\")\n",
    "        return empty_result\n",
    "\n",
    "    ## Needs to have at least 10 observations in that band\n",
    "    counts = count_nested(nested_df, source_column)\n",
    "    nested_df = nested_df.loc[counts[f\"n_{source_column}\"] > 10]\n",
    "    if len(nested_df) == 0:\n",
    "        dask_print(\"all lightcurves too short\")\n",
    "        return empty_result\n",
    "\n",
    "    def rate_variability(flux_column, flux_err_columns):\n",
    "        mean = np.mean(flux_column)\n",
    "        z_scores = np.abs((flux_column - mean) / flux_err_columns)\n",
    "\n",
    "        wmean_flux = np.average(flux_column, weights=1 / flux_err_columns**2)\n",
    "        rel_dev = (flux_column - wmean_flux) / flux_err_columns\n",
    "\n",
    "        return {\n",
    "            \"max_variability\": z_scores.max(),\n",
    "            \"band\": band,\n",
    "            \"wmean_flux\": wmean_flux,\n",
    "            \"rel_dev\": rel_dev,\n",
    "        }\n",
    "\n",
    "    ## Drop rows with obvious variability, just return stats per-object.\n",
    "    z_scores = nested_df.reduce(\n",
    "        rate_variability, f\"{source_column}.psfFlux\", f\"{source_column}.psfFluxErr\"\n",
    "    )\n",
    "    non_vars = z_scores.query(\"max_variability < 10\")\n",
    "    if len(non_vars) == 0:\n",
    "        dask_print(\"all lightcurves too variable\")\n",
    "        return empty_result\n",
    "\n",
    "    dask_print(\"worked on\", pixel, \"found\", len(non_vars))\n",
    "    return non_vars"
   ]
  },
  {
   "cell_type": "code",
   "execution_count": null,
   "id": "ec6c8613-cca6-458c-8785-76004abd47da",
   "metadata": {},
   "outputs": [],
   "source": [
    "# search = PixelSearch([(8, 549109),(8, 549110),(8, 549111)])\n",
    "# search = PixelSearch([(8, 549109)])\n",
    "# search = OrderSearch(min_order=9)\n",
    "# search = PixelSearch([(9, 2299804)])\n",
    "# obj_cat = object_catalog.search(search)\n",
    "# obj_cat.get_healpix_pixels()\n",
    "\n",
    "obj_cat = object_catalog.map_partitions(\n",
    "    filter_by_nested,\n",
    "    source_column=target_source_column,\n",
    "    band=target_band,\n",
    "    include_pixel=True,\n",
    ")"
   ]
  },
  {
   "cell_type": "code",
   "execution_count": null,
   "id": "c770e05c-d473-41a3-b973-6795c78a41f2",
   "metadata": {},
   "outputs": [],
   "source": [
    "obj_cat.to_hats(output_path / f\"{target_band}_band\")"
   ]
  },
  {
   "cell_type": "code",
   "execution_count": null,
   "id": "1049af59-1607-4f41-bae8-6edd7e9a49e8",
   "metadata": {},
   "outputs": [],
   "source": [
    "client.shutdown()"
   ]
  },
  {
   "cell_type": "code",
   "execution_count": null,
   "id": "38f7fdfc-1c75-40e3-b811-d381eeeae173",
   "metadata": {},
   "outputs": [],
   "source": []
  }
 ],
 "metadata": {
  "kernelspec": {
   "display_name": "LSST",
   "language": "python",
   "name": "lsst"
  },
  "language_info": {
   "codemirror_mode": {
    "name": "ipython",
    "version": 3
   },
   "file_extension": ".py",
   "mimetype": "text/x-python",
   "name": "python",
   "nbconvert_exporter": "python",
   "pygments_lexer": "ipython3",
   "version": "3.12.9"
  }
 },
 "nbformat": 4,
 "nbformat_minor": 5
}
