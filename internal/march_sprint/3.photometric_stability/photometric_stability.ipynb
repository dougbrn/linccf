{
 "cells": [
  {
   "cell_type": "markdown",
   "metadata": {},
   "source": [
    "# Analyze Forced Photometry in ComCam Data"
   ]
  },
  {
   "cell_type": "code",
   "execution_count": null,
   "metadata": {
    "execution": {
     "iopub.execute_input": "2025-01-15T17:14:59.095389Z",
     "iopub.status.busy": "2025-01-15T17:14:59.095060Z",
     "iopub.status.idle": "2025-01-15T17:15:02.733016Z",
     "shell.execute_reply": "2025-01-15T17:15:02.732400Z",
     "shell.execute_reply.started": "2025-01-15T17:14:59.095361Z"
    }
   },
   "outputs": [],
   "source": [
    "# %pip install lsdb dask nested-dask "
   ]
  },
  {
   "cell_type": "code",
   "execution_count": null,
   "metadata": {
    "execution": {
     "iopub.execute_input": "2025-01-15T18:29:24.147190Z",
     "iopub.status.busy": "2025-01-15T18:29:24.146873Z",
     "iopub.status.idle": "2025-01-15T18:29:28.905226Z",
     "shell.execute_reply": "2025-01-15T18:29:28.904715Z",
     "shell.execute_reply.started": "2025-01-15T18:29:24.147170Z"
    }
   },
   "outputs": [],
   "source": [
    "import lsdb\n",
    "lsdb.__version__"
   ]
  },
  {
   "cell_type": "code",
   "execution_count": null,
   "metadata": {},
   "outputs": [],
   "source": [
    "import pandas as pd\n",
    "pd.__version__"
   ]
  },
  {
   "cell_type": "code",
   "execution_count": null,
   "metadata": {},
   "outputs": [],
   "source": [
    "from pathlib import Path\n",
    "\n",
    "release = 'w_2025_07'\n",
    "hats_path = Path(\"/sdf/data/rubin/shared/lsdb_commissioning/hats/\") / release\n",
    "# list dir\n",
    "print(list(map(str, hats_path.iterdir())))\n",
    "\n",
    "comcam_obj = hats_path / \"object\"\n",
    "comcam_src = hats_path / \"forcedSource\""
   ]
  },
  {
   "cell_type": "markdown",
   "metadata": {},
   "source": [
    "## Start Dask client"
   ]
  },
  {
   "cell_type": "code",
   "execution_count": null,
   "metadata": {
    "execution": {
     "iopub.execute_input": "2025-01-15T22:35:23.102645Z",
     "iopub.status.busy": "2025-01-15T22:35:23.102365Z",
     "iopub.status.idle": "2025-01-15T22:35:28.680608Z",
     "shell.execute_reply": "2025-01-15T22:35:28.679818Z",
     "shell.execute_reply.started": "2025-01-15T22:35:23.102627Z"
    }
   },
   "outputs": [],
   "source": [
    "from dask.distributed import Client\n",
    "\n",
    "# Start with a small client\n",
    "client = Client(n_workers=1, memory_limit=\"16GB\", threads_per_worker=1)\n",
    "client"
   ]
  },
  {
   "cell_type": "markdown",
   "metadata": {},
   "source": [
    "# Load GAIA Data Around the COMCAM Field"
   ]
  },
  {
   "cell_type": "code",
   "execution_count": null,
   "metadata": {},
   "outputs": [],
   "source": [
    "from upath import UPath\n",
    "\n",
    "\n",
    "catalogs_dir = UPath(\"https://data.lsdb.io/hats\")\n",
    "\n",
    "# Gaia\n",
    "gaia_path = catalogs_dir / \"gaia_dr3\" / \"gaia\"\n",
    "\n",
    "# ZTF\n",
    "ztf_object_path = catalogs_dir / \"ztf_dr14\" / \"ztf_object\"\n",
    "ztf_source_path = catalogs_dir / \"ztf_dr14\" / \"ztf_source\"\n",
    "ztf_object_margin_path = catalogs_dir / \"ztf_dr14\" / \"ztf_object_10arcs\"\n",
    "\n",
    "# Define a 0.7 degree cone region of interest\n",
    "# This covers the so called `Rubin_SV_95_-25` field, one of Data Preview 1 fields\n",
    "cone_search = ConeSearch(ra=95, dec=-25, radius_arcsec=0.7 * 3600)\n",
    "\n",
    "# Load lite version of Gaia DR3 (RA and DEC data only)\n",
    "gaia_lite = lsdb.read_hats(gaia_path, columns=[\"ra\", \"dec\"], search_filter=cone_search)\n",
    "\n",
    "# Load all Gaia data\n",
    "hats_gaia = hats.read_hats(gaia_path)\n",
    "gaia = lsdb.read_hats(gaia_path, columns=hats_gaia.schema.names)"
   ]
  },
  {
   "cell_type": "markdown",
   "metadata": {},
   "source": [
    "## Loading & Nesting Forced Sources"
   ]
  },
  {
   "cell_type": "code",
   "execution_count": null,
   "metadata": {},
   "outputs": [],
   "source": [
    "# Load the Forced Source + MJD Table\n",
    "from lsdb import read_hats\n",
    "\n",
    "\n",
    "#BRIGHTEST_R_MAG = 21.5\n",
    "\n",
    "\n",
    "obj = read_hats(\n",
    "    comcam_obj,\n",
    "    columns=[\"objectId\", \"coord_ra\", \"coord_dec\"],\n",
    "    #filters=[(\"r_psfMag\", \">\", BRIGHTEST_R_MAG)],\n",
    ")\n",
    "src_flat = read_hats(\n",
    "    comcam_src,\n",
    "    columns=[\n",
    "        \"objectId\", \n",
    "        # \"coord_ra\", \"coord_dec\",\n",
    "        \"band\",\n",
    "        \"midpointMjdTai\",\n",
    "        \"psfFlux\", \"psfFluxErr\", \"psfFlux_flag\",\n",
    "        \"psfMag\", \"psfMagErr\",\n",
    "        \"pixelFlags_suspect\", \"pixelFlags_saturated\", \"pixelFlags_cr\", \"pixelFlags_bad\",\n",
    "        \"forcedSourceId\",\n",
    "        \"detector\",\n",
    "        \"visit\",\n",
    "    ],\n",
    ")\n",
    "src_nested = obj.join_nested(\n",
    "    src_flat,\n",
    "    nested_column_name=\"lc\",\n",
    "    left_on=\"objectId\",\n",
    "    right_on=\"objectId\",\n",
    ")\n",
    "src_nested"
   ]
  }
 ],
 "metadata": {
  "kernelspec": {
   "display_name": "Python 3",
   "language": "python",
   "name": "python3"
  },
  "language_info": {
   "codemirror_mode": {
    "name": "ipython",
    "version": 3
   },
   "file_extension": ".py",
   "mimetype": "text/x-python",
   "name": "python",
   "nbconvert_exporter": "python",
   "pygments_lexer": "ipython3",
   "version": "3.11.9"
  }
 },
 "nbformat": 4,
 "nbformat_minor": 4
}
