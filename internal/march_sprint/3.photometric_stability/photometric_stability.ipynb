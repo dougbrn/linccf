{
 "cells": [
  {
   "cell_type": "markdown",
   "metadata": {},
   "source": [
    "# Analyze Forced Photometry in ComCam Data"
   ]
  },
  {
   "cell_type": "code",
   "execution_count": 1,
   "metadata": {
    "execution": {
     "iopub.execute_input": "2025-01-15T17:14:59.095389Z",
     "iopub.status.busy": "2025-01-15T17:14:59.095060Z",
     "iopub.status.idle": "2025-01-15T17:15:02.733016Z",
     "shell.execute_reply": "2025-01-15T17:15:02.732400Z",
     "shell.execute_reply.started": "2025-01-15T17:14:59.095361Z"
    }
   },
   "outputs": [],
   "source": [
    "# %pip install lsdb dask nested-dask "
   ]
  },
  {
   "cell_type": "code",
   "execution_count": 2,
   "metadata": {
    "execution": {
     "iopub.execute_input": "2025-01-15T18:29:24.147190Z",
     "iopub.status.busy": "2025-01-15T18:29:24.146873Z",
     "iopub.status.idle": "2025-01-15T18:29:28.905226Z",
     "shell.execute_reply": "2025-01-15T18:29:28.904715Z",
     "shell.execute_reply.started": "2025-01-15T18:29:24.147170Z"
    }
   },
   "outputs": [
    {
     "data": {
      "text/plain": [
       "'0.5.0'"
      ]
     },
     "execution_count": 2,
     "metadata": {},
     "output_type": "execute_result"
    }
   ],
   "source": [
    "import lsdb\n",
    "lsdb.__version__"
   ]
  },
  {
   "cell_type": "code",
   "execution_count": 3,
   "metadata": {},
   "outputs": [
    {
     "name": "stdout",
     "output_type": "stream",
     "text": [
      "['/sdf/data/rubin/shared/lsdb_commissioning/hats/w_2025_07/diaSource', '/sdf/data/rubin/shared/lsdb_commissioning/hats/w_2025_07/object_lc_x_ztf_dr22', '/sdf/data/rubin/shared/lsdb_commissioning/hats/w_2025_07/source', '/sdf/data/rubin/shared/lsdb_commissioning/hats/w_2025_07/object_lc_x_ps1', '/sdf/data/rubin/shared/lsdb_commissioning/hats/w_2025_07/diaObject_lc_x_ztf_dr22', '/sdf/data/rubin/shared/lsdb_commissioning/hats/w_2025_07/diaObject_lc_x_ps1', '/sdf/data/rubin/shared/lsdb_commissioning/hats/w_2025_07/object_lc', '/sdf/data/rubin/shared/lsdb_commissioning/hats/w_2025_07/diaForcedSource', '/sdf/data/rubin/shared/lsdb_commissioning/hats/w_2025_07/object', '/sdf/data/rubin/shared/lsdb_commissioning/hats/w_2025_07/diaObject_lc', '/sdf/data/rubin/shared/lsdb_commissioning/hats/w_2025_07/diaObject', '/sdf/data/rubin/shared/lsdb_commissioning/hats/w_2025_07/forcedSource']\n"
     ]
    }
   ],
   "source": [
    "from pathlib import Path\n",
    "\n",
    "release = 'w_2025_07'\n",
    "hats_path = Path(\"/sdf/data/rubin/shared/lsdb_commissioning/hats/\") / release\n",
    "# list dir\n",
    "print(list(map(str, hats_path.iterdir())))\n",
    "\n",
    "comcam_obj = hats_path / \"object\"\n",
    "comcam_src = hats_path / \"forcedSource\""
   ]
  },
  {
   "cell_type": "markdown",
   "metadata": {},
   "source": [
    "## Start Dask client"
   ]
  },
  {
   "cell_type": "code",
   "execution_count": 4,
   "metadata": {
    "execution": {
     "iopub.execute_input": "2025-01-15T22:35:23.102645Z",
     "iopub.status.busy": "2025-01-15T22:35:23.102365Z",
     "iopub.status.idle": "2025-01-15T22:35:28.680608Z",
     "shell.execute_reply": "2025-01-15T22:35:28.679818Z",
     "shell.execute_reply.started": "2025-01-15T22:35:23.102627Z"
    }
   },
   "outputs": [
    {
     "data": {
      "text/html": [
       "<div>\n",
       "    <div style=\"width: 24px; height: 24px; background-color: #e1e1e1; border: 3px solid #9D9D9D; border-radius: 5px; position: absolute;\"> </div>\n",
       "    <div style=\"margin-left: 48px;\">\n",
       "        <h3 style=\"margin-bottom: 0px;\">Client</h3>\n",
       "        <p style=\"color: #9D9D9D; margin-bottom: 0px;\">Client-0efb3249-099e-11f0-bd53-303ea7015324</p>\n",
       "        <table style=\"width: 100%; text-align: left;\">\n",
       "\n",
       "        <tr>\n",
       "        \n",
       "            <td style=\"text-align: left;\"><strong>Connection method:</strong> Cluster object</td>\n",
       "            <td style=\"text-align: left;\"><strong>Cluster type:</strong> distributed.LocalCluster</td>\n",
       "        \n",
       "        </tr>\n",
       "\n",
       "        \n",
       "            <tr>\n",
       "                <td style=\"text-align: left;\">\n",
       "                    <strong>Dashboard: </strong> <a href=\"http://127.0.0.1:8787/status\" target=\"_blank\">http://127.0.0.1:8787/status</a>\n",
       "                </td>\n",
       "                <td style=\"text-align: left;\"></td>\n",
       "            </tr>\n",
       "        \n",
       "\n",
       "        </table>\n",
       "\n",
       "        \n",
       "\n",
       "        \n",
       "            <details>\n",
       "            <summary style=\"margin-bottom: 20px;\"><h3 style=\"display: inline;\">Cluster Info</h3></summary>\n",
       "            <div class=\"jp-RenderedHTMLCommon jp-RenderedHTML jp-mod-trusted jp-OutputArea-output\">\n",
       "    <div style=\"width: 24px; height: 24px; background-color: #e1e1e1; border: 3px solid #9D9D9D; border-radius: 5px; position: absolute;\">\n",
       "    </div>\n",
       "    <div style=\"margin-left: 48px;\">\n",
       "        <h3 style=\"margin-bottom: 0px; margin-top: 0px;\">LocalCluster</h3>\n",
       "        <p style=\"color: #9D9D9D; margin-bottom: 0px;\">768b4fb1</p>\n",
       "        <table style=\"width: 100%; text-align: left;\">\n",
       "            <tr>\n",
       "                <td style=\"text-align: left;\">\n",
       "                    <strong>Dashboard:</strong> <a href=\"http://127.0.0.1:8787/status\" target=\"_blank\">http://127.0.0.1:8787/status</a>\n",
       "                </td>\n",
       "                <td style=\"text-align: left;\">\n",
       "                    <strong>Workers:</strong> 1\n",
       "                </td>\n",
       "            </tr>\n",
       "            <tr>\n",
       "                <td style=\"text-align: left;\">\n",
       "                    <strong>Total threads:</strong> 1\n",
       "                </td>\n",
       "                <td style=\"text-align: left;\">\n",
       "                    <strong>Total memory:</strong> 14.90 GiB\n",
       "                </td>\n",
       "            </tr>\n",
       "            \n",
       "            <tr>\n",
       "    <td style=\"text-align: left;\"><strong>Status:</strong> running</td>\n",
       "    <td style=\"text-align: left;\"><strong>Using processes:</strong> True</td>\n",
       "</tr>\n",
       "\n",
       "            \n",
       "        </table>\n",
       "\n",
       "        <details>\n",
       "            <summary style=\"margin-bottom: 20px;\">\n",
       "                <h3 style=\"display: inline;\">Scheduler Info</h3>\n",
       "            </summary>\n",
       "\n",
       "            <div style=\"\">\n",
       "    <div>\n",
       "        <div style=\"width: 24px; height: 24px; background-color: #FFF7E5; border: 3px solid #FF6132; border-radius: 5px; position: absolute;\"> </div>\n",
       "        <div style=\"margin-left: 48px;\">\n",
       "            <h3 style=\"margin-bottom: 0px;\">Scheduler</h3>\n",
       "            <p style=\"color: #9D9D9D; margin-bottom: 0px;\">Scheduler-ea284bbb-2fbe-496a-b72b-e84a59a137b8</p>\n",
       "            <table style=\"width: 100%; text-align: left;\">\n",
       "                <tr>\n",
       "                    <td style=\"text-align: left;\">\n",
       "                        <strong>Comm:</strong> tcp://127.0.0.1:5587\n",
       "                    </td>\n",
       "                    <td style=\"text-align: left;\">\n",
       "                        <strong>Workers:</strong> 1\n",
       "                    </td>\n",
       "                </tr>\n",
       "                <tr>\n",
       "                    <td style=\"text-align: left;\">\n",
       "                        <strong>Dashboard:</strong> <a href=\"http://127.0.0.1:8787/status\" target=\"_blank\">http://127.0.0.1:8787/status</a>\n",
       "                    </td>\n",
       "                    <td style=\"text-align: left;\">\n",
       "                        <strong>Total threads:</strong> 1\n",
       "                    </td>\n",
       "                </tr>\n",
       "                <tr>\n",
       "                    <td style=\"text-align: left;\">\n",
       "                        <strong>Started:</strong> Just now\n",
       "                    </td>\n",
       "                    <td style=\"text-align: left;\">\n",
       "                        <strong>Total memory:</strong> 14.90 GiB\n",
       "                    </td>\n",
       "                </tr>\n",
       "            </table>\n",
       "        </div>\n",
       "    </div>\n",
       "\n",
       "    <details style=\"margin-left: 48px;\">\n",
       "        <summary style=\"margin-bottom: 20px;\">\n",
       "            <h3 style=\"display: inline;\">Workers</h3>\n",
       "        </summary>\n",
       "\n",
       "        \n",
       "        <div style=\"margin-bottom: 20px;\">\n",
       "            <div style=\"width: 24px; height: 24px; background-color: #DBF5FF; border: 3px solid #4CC9FF; border-radius: 5px; position: absolute;\"> </div>\n",
       "            <div style=\"margin-left: 48px;\">\n",
       "            <details>\n",
       "                <summary>\n",
       "                    <h4 style=\"margin-bottom: 0px; display: inline;\">Worker: 0</h4>\n",
       "                </summary>\n",
       "                <table style=\"width: 100%; text-align: left;\">\n",
       "                    <tr>\n",
       "                        <td style=\"text-align: left;\">\n",
       "                            <strong>Comm: </strong> tcp://127.0.0.1:28709\n",
       "                        </td>\n",
       "                        <td style=\"text-align: left;\">\n",
       "                            <strong>Total threads: </strong> 1\n",
       "                        </td>\n",
       "                    </tr>\n",
       "                    <tr>\n",
       "                        <td style=\"text-align: left;\">\n",
       "                            <strong>Dashboard: </strong> <a href=\"http://127.0.0.1:19675/status\" target=\"_blank\">http://127.0.0.1:19675/status</a>\n",
       "                        </td>\n",
       "                        <td style=\"text-align: left;\">\n",
       "                            <strong>Memory: </strong> 14.90 GiB\n",
       "                        </td>\n",
       "                    </tr>\n",
       "                    <tr>\n",
       "                        <td style=\"text-align: left;\">\n",
       "                            <strong>Nanny: </strong> tcp://127.0.0.1:32667\n",
       "                        </td>\n",
       "                        <td style=\"text-align: left;\"></td>\n",
       "                    </tr>\n",
       "                    <tr>\n",
       "                        <td colspan=\"2\" style=\"text-align: left;\">\n",
       "                            <strong>Local directory: </strong> /lscratch/wbeebe/tmp/dask-scratch-space/worker-19a_0d8c\n",
       "                        </td>\n",
       "                    </tr>\n",
       "\n",
       "                    \n",
       "\n",
       "                    \n",
       "\n",
       "                </table>\n",
       "            </details>\n",
       "            </div>\n",
       "        </div>\n",
       "        \n",
       "\n",
       "    </details>\n",
       "</div>\n",
       "\n",
       "        </details>\n",
       "    </div>\n",
       "</div>\n",
       "            </details>\n",
       "        \n",
       "\n",
       "    </div>\n",
       "</div>"
      ],
      "text/plain": [
       "<Client: 'tcp://127.0.0.1:5587' processes=1 threads=1, memory=14.90 GiB>"
      ]
     },
     "execution_count": 4,
     "metadata": {},
     "output_type": "execute_result"
    }
   ],
   "source": [
    "from dask.distributed import Client\n",
    "\n",
    "# Start with a small client\n",
    "client = Client(n_workers=1, memory_limit=\"16GB\", threads_per_worker=1)\n",
    "client"
   ]
  },
  {
   "cell_type": "markdown",
   "metadata": {},
   "source": [
    "# Load GAIA Data Around the COMCAM Field"
   ]
  },
  {
   "cell_type": "code",
   "execution_count": 5,
   "metadata": {},
   "outputs": [],
   "source": [
    "source_lsdb_server =  \"http://epyc.astro.washington.edu:43210/hats\" # https://data.lsdb.io/hats is the alternative server"
   ]
  },
  {
   "cell_type": "code",
   "execution_count": 46,
   "metadata": {},
   "outputs": [
    {
     "data": {
      "text/plain": [
       "['solution_id',\n",
       " 'designation',\n",
       " 'source_id',\n",
       " 'random_index',\n",
       " 'ref_epoch',\n",
       " 'ra',\n",
       " 'ra_error',\n",
       " 'dec',\n",
       " 'dec_error',\n",
       " 'ruwe',\n",
       " 'phot_variable_flag',\n",
       " 'phot_g_mean_flux_over_error',\n",
       " 'phot_bp_mean_flux_over_error',\n",
       " 'phot_rp_mean_flux_over_error']"
      ]
     },
     "execution_count": 46,
     "metadata": {},
     "output_type": "execute_result"
    }
   ],
   "source": [
    "gaia_columns = [\n",
    "    \"solution_id\",\n",
    "    \"designation\",\n",
    "    \"source_id\",\n",
    "    \"random_index\",\n",
    "    \"ref_epoch\",\n",
    "    \"ra\",\n",
    "    \"ra_error\", \n",
    "    \"dec\",\n",
    "    \"dec_error\",\n",
    "    \"ruwe\",\n",
    "    \"phot_variable_flag\",\n",
    "    \"phot_g_mean_flux_over_error\",\n",
    "    \"phot_bp_mean_flux_over_error\",\n",
    "    \"phot_rp_mean_flux_over_error\",\n",
    "]\n",
    "gaia_columns"
   ]
  },
  {
   "cell_type": "code",
   "execution_count": null,
   "metadata": {},
   "outputs": [],
   "source": [
    "from upath import UPath\n",
    "import hats\n",
    "from lsdb.core.search import ConeSearch\n",
    "\n",
    "catalogs_dir = UPath(source_lsdb_server)\n",
    "\n",
    "# Gaia\n",
    "gaia_path = catalogs_dir / \"gaia_dr3\" / \"gaia\"\n",
    "\n",
    "# Define a 0.7 degree cone region of interest\n",
    "# This includes the so called `Fornax dSph` field, one of the ComCam fields from\n",
    "# https://community.lsst.org/t/locations-of-target-fields-observed-during-on-sky-commissioning-campaign-with-comcam/9609\n",
    "cone_search = ConeSearch(ra=40, dec=-34.45, radius_arcsec=0.7 * 3600)\n",
    "\n",
    "\n",
    "hats_gaia = hats.read_hats(gaia_path)\n",
    "\n",
    "#gaia = lsdb.read_hats(gaia_path, columns=hats_gaia.schema.names, search_filter=cone_search) #filters=gaia_filters, )\n",
    "gaia = lsdb.read_hats(gaia_path, columns=gaia_columns, search_filter=cone_search) #filters=gaia_filters, )"
   ]
  },
  {
   "cell_type": "code",
   "execution_count": null,
   "metadata": {},
   "outputs": [],
   "source": [
    "# Filter column phot_variable_flag=CONSTANT\n",
    "\"\"\"\n",
    "gaia_filters = [\n",
    "    #[\"phot_variable_flag\", \"=\", \"'CONSTANT'\"],\n",
    "    [\"phot_g_mean_flux_over_error\", \">\", 20],\n",
    "    [\"phot_bp_mean_flux_over_error\", \">\", 20],\n",
    "    [\"phot_rp_mean_flux_over_error\", \">\", 20],\n",
    "    #[\"ruwe\", \"<\", 1.2],\n",
    "]\n",
    "\"\"\"\n",
    "filtered_gaia = gaia.query(\"ruwe < 1.2\").query(\"phot_variable_flag == 'CONSTANT'\")#.query(\"phot_rp_mean_flux_over_error > 20\")"
   ]
  },
  {
   "cell_type": "code",
   "execution_count": null,
   "metadata": {},
   "outputs": [],
   "source": [
    "filtered_gaia_compute = filtered_gaia.head(100)\n",
    "filtered_gaia_compute"
   ]
  },
  {
   "cell_type": "code",
   "execution_count": 64,
   "metadata": {},
   "outputs": [
    {
     "data": {
      "text/html": [
       "<table border=\"1\" class=\"dataframe\">\n",
       "  <thead>\n",
       "    <tr style=\"text-align: right;\">\n",
       "      <th></th>\n",
       "      <th>solution_id</th>\n",
       "      <th>designation</th>\n",
       "      <th>source_id</th>\n",
       "      <th>random_index</th>\n",
       "      <th>ref_epoch</th>\n",
       "      <th>ra</th>\n",
       "      <th>ra_error</th>\n",
       "      <th>dec</th>\n",
       "      <th>dec_error</th>\n",
       "      <th>ruwe</th>\n",
       "      <th>phot_variable_flag</th>\n",
       "      <th>phot_g_mean_flux_over_error</th>\n",
       "      <th>phot_bp_mean_flux_over_error</th>\n",
       "      <th>phot_rp_mean_flux_over_error</th>\n",
       "    </tr>\n",
       "    <tr>\n",
       "      <th>_healpix_29</th>\n",
       "      <th></th>\n",
       "      <th></th>\n",
       "      <th></th>\n",
       "      <th></th>\n",
       "      <th></th>\n",
       "      <th></th>\n",
       "      <th></th>\n",
       "      <th></th>\n",
       "      <th></th>\n",
       "      <th></th>\n",
       "      <th></th>\n",
       "      <th></th>\n",
       "      <th></th>\n",
       "      <th></th>\n",
       "    </tr>\n",
       "  </thead>\n",
       "  <tbody>\n",
       "    <tr>\n",
       "      <th>2525040430023494061</th>\n",
       "      <td>1636148068921376768</td>\n",
       "      <td>Gaia DR3 5050080859409400704</td>\n",
       "      <td>5050080859409400704</td>\n",
       "      <td>1354361632</td>\n",
       "      <td>2016.0</td>\n",
       "      <td>39.977873</td>\n",
       "      <td>0.046924</td>\n",
       "      <td>-35.096808</td>\n",
       "      <td>0.061815</td>\n",
       "      <td>1.082952</td>\n",
       "      <td>VARIABLE</td>\n",
       "      <td>522.8178</td>\n",
       "      <td>57.55541</td>\n",
       "      <td>133.74568</td>\n",
       "    </tr>\n",
       "    <tr>\n",
       "      <th>2525041624732325976</th>\n",
       "      <td>1636148068921376768</td>\n",
       "      <td>Gaia DR3 5050083230231341312</td>\n",
       "      <td>5050083230231341312</td>\n",
       "      <td>283775503</td>\n",
       "      <td>2016.0</td>\n",
       "      <td>40.059224</td>\n",
       "      <td>0.024904</td>\n",
       "      <td>-34.974525</td>\n",
       "      <td>0.033771</td>\n",
       "      <td>1.043589</td>\n",
       "      <td>VARIABLE</td>\n",
       "      <td>333.2393</td>\n",
       "      <td>72.04738</td>\n",
       "      <td>86.01284</td>\n",
       "    </tr>\n",
       "    <tr>\n",
       "      <th>2525080610398506618</th>\n",
       "      <td>1636148068921376768</td>\n",
       "      <td>Gaia DR3 5050161188181670400</td>\n",
       "      <td>5050161188181670400</td>\n",
       "      <td>1336335345</td>\n",
       "      <td>2016.0</td>\n",
       "      <td>40.451691</td>\n",
       "      <td>0.071166</td>\n",
       "      <td>-35.026323</td>\n",
       "      <td>0.100079</td>\n",
       "      <td>1.020469</td>\n",
       "      <td>VARIABLE</td>\n",
       "      <td>394.31287</td>\n",
       "      <td>54.47336</td>\n",
       "      <td>51.219162</td>\n",
       "    </tr>\n",
       "  </tbody>\n",
       "</table>\n",
       "<p>3 rows × 14 columns</p>"
      ],
      "text/plain": [
       "                             solution_id                   designation  \\\n",
       "_healpix_29                                                              \n",
       "2525040430023494061  1636148068921376768  Gaia DR3 5050080859409400704   \n",
       "2525041624732325976  1636148068921376768  Gaia DR3 5050083230231341312   \n",
       "2525080610398506618  1636148068921376768  Gaia DR3 5050161188181670400   \n",
       "\n",
       "                               source_id  random_index  ref_epoch         ra  \\\n",
       "_healpix_29                                                                    \n",
       "2525040430023494061  5050080859409400704    1354361632     2016.0  39.977873   \n",
       "2525041624732325976  5050083230231341312     283775503     2016.0  40.059224   \n",
       "2525080610398506618  5050161188181670400    1336335345     2016.0  40.451691   \n",
       "\n",
       "                     ra_error        dec  dec_error      ruwe  \\\n",
       "_healpix_29                                                     \n",
       "2525040430023494061  0.046924 -35.096808   0.061815  1.082952   \n",
       "2525041624732325976  0.024904 -34.974525   0.033771  1.043589   \n",
       "2525080610398506618  0.071166 -35.026323   0.100079  1.020469   \n",
       "\n",
       "                    phot_variable_flag  phot_g_mean_flux_over_error  \\\n",
       "_healpix_29                                                           \n",
       "2525040430023494061           VARIABLE                     522.8178   \n",
       "2525041624732325976           VARIABLE                     333.2393   \n",
       "2525080610398506618           VARIABLE                    394.31287   \n",
       "\n",
       "                     phot_bp_mean_flux_over_error  \\\n",
       "_healpix_29                                         \n",
       "2525040430023494061                      57.55541   \n",
       "2525041624732325976                      72.04738   \n",
       "2525080610398506618                      54.47336   \n",
       "\n",
       "                     phot_rp_mean_flux_over_error  \n",
       "_healpix_29                                        \n",
       "2525040430023494061                     133.74568  \n",
       "2525041624732325976                      86.01284  \n",
       "2525080610398506618                     51.219162  "
      ]
     },
     "execution_count": 64,
     "metadata": {},
     "output_type": "execute_result"
    }
   ],
   "source": [
    "filtered_gaia_compute.query(\"phot_variable_flag == 'VARIABLE'\").head(10)"
   ]
  },
  {
   "cell_type": "markdown",
   "metadata": {},
   "source": [
    "# Find GAIA objects that exhibit very little variability. \n",
    "For instance standard deviation less than 0.05 mag (for instance, flux_over_error >20, ruwe<1.2, phot_variable_flag=CONSTANT). "
   ]
  },
  {
   "cell_type": "code",
   "execution_count": null,
   "metadata": {},
   "outputs": [],
   "source": []
  },
  {
   "cell_type": "markdown",
   "metadata": {},
   "source": [
    "## Loading & Nesting Forced Sources"
   ]
  },
  {
   "cell_type": "code",
   "execution_count": null,
   "metadata": {},
   "outputs": [],
   "source": [
    "# Load the Forced Source + MJD Table\n",
    "from lsdb import read_hats\n",
    "\n",
    "\n",
    "#BRIGHTEST_R_MAG = 21.5\n",
    "\n",
    "\n",
    "obj = read_hats(\n",
    "    comcam_obj,\n",
    "    columns=[\"objectId\", \"coord_ra\", \"coord_dec\"],\n",
    "    #filters=[(\"r_psfMag\", \">\", BRIGHTEST_R_MAG)],\n",
    ")\n",
    "src_flat = read_hats(\n",
    "    comcam_src,\n",
    "    columns=[\n",
    "        \"objectId\", \n",
    "        \"coord_ra\", \"coord_dec\",\n",
    "        \"band\",\n",
    "        \"midpointMjdTai\",\n",
    "        \"psfFlux\", \"psfFluxErr\", \"psfFlux_flag\",\n",
    "        \"psfMag\", \"psfMagErr\",\n",
    "        \"pixelFlags_suspect\", \"pixelFlags_saturated\", \"pixelFlags_cr\", \"pixelFlags_bad\",\n",
    "        \"forcedSourceId\",\n",
    "        \"detector\",\n",
    "        \"visit\",\n",
    "    ],\n",
    ")\n",
    "src_nested = obj.join_nested(\n",
    "    src_flat,\n",
    "    nested_column_name=\"lc\",\n",
    "    left_on=\"objectId\",\n",
    "    right_on=\"objectId\",\n",
    ")\n",
    "src_nested"
   ]
  },
  {
   "cell_type": "markdown",
   "metadata": {},
   "source": [
    "# Crossmatch ComCam Data and Gaia"
   ]
  },
  {
   "cell_type": "code",
   "execution_count": null,
   "metadata": {},
   "outputs": [],
   "source": []
  },
  {
   "cell_type": "markdown",
   "metadata": {},
   "source": [
    "# Verify Crossmatch\n",
    "\n",
    "Verify that the crossmatch is correct, for instance by confirming that objects that you have found in ComCam has roughly the same brightness in magnitudes as reported in GAIA. For example, compare Gaia RP mag to Rubin’s r mag, allowing up to 1-mag difference."
   ]
  },
  {
   "cell_type": "code",
   "execution_count": null,
   "metadata": {},
   "outputs": [],
   "source": []
  },
  {
   "cell_type": "markdown",
   "metadata": {},
   "source": [
    "# Apply Forced Photometry\n",
    "Measure standard deviation of the points using forced photometry and forced photomery on difference images. "
   ]
  },
  {
   "cell_type": "code",
   "execution_count": null,
   "metadata": {},
   "outputs": [],
   "source": []
  },
  {
   "cell_type": "markdown",
   "metadata": {},
   "source": [
    "# Compare your measurements with the reported errors\n",
    "\n"
   ]
  },
  {
   "cell_type": "code",
   "execution_count": null,
   "metadata": {},
   "outputs": [],
   "source": []
  }
 ],
 "metadata": {
  "kernelspec": {
   "display_name": "Python 3",
   "language": "python",
   "name": "python3"
  },
  "language_info": {
   "codemirror_mode": {
    "name": "ipython",
    "version": 3
   },
   "file_extension": ".py",
   "mimetype": "text/x-python",
   "name": "python",
   "nbconvert_exporter": "python",
   "pygments_lexer": "ipython3",
   "version": "3.11.11"
  }
 },
 "nbformat": 4,
 "nbformat_minor": 4
}
