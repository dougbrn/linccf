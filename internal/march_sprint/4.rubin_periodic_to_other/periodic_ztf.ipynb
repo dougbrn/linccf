{
 "cells": [
  {
   "cell_type": "markdown",
   "metadata": {},
   "source": [
    "## Periods in Rubin compared to ZTF\n",
    "\n",
    "In this notebook we will compare periods for objects in Rubin with those we get from ZTF."
   ]
  },
  {
   "cell_type": "code",
   "execution_count": null,
   "metadata": {},
   "outputs": [],
   "source": [
    "import astropy.units as u\n",
    "import light_curve as licu\n",
    "import lsdb\n",
    "import matplotlib.pyplot as plt\n",
    "import numpy as np\n",
    "import tempfile\n",
    "\n",
    "from dask.distributed import Client\n",
    "from nested_pandas import NestedDtype\n",
    "from pathlib import Path"
   ]
  },
  {
   "cell_type": "code",
   "execution_count": null,
   "metadata": {},
   "outputs": [],
   "source": [
    "def cast_nested(df, columns):\n",
    "    return df.assign(\n",
    "        **{\n",
    "            col: df[col].astype(NestedDtype.from_pandas_arrow_dtype(df.dtypes[col]))\n",
    "            for col in columns\n",
    "        },\n",
    "    )"
   ]
  },
  {
   "cell_type": "code",
   "execution_count": null,
   "metadata": {},
   "outputs": [],
   "source": [
    "tmp_path = tempfile.TemporaryDirectory()\n",
    "client = Client(n_workers=4, threads_per_worker=1, local_directory=tmp_path.name)"
   ]
  },
  {
   "cell_type": "markdown",
   "metadata": {},
   "source": [
    "### Load Rubin and ZTF"
   ]
  },
  {
   "cell_type": "code",
   "execution_count": null,
   "metadata": {},
   "outputs": [],
   "source": [
    "drp_release = \"w_2025_10\"\n",
    "base_dir = Path(\"/sdf/data/rubin/shared/lsdb_commissioning/hats\")\n",
    "hats_dir = base_dir / drp_release"
   ]
  },
  {
   "cell_type": "code",
   "execution_count": null,
   "metadata": {},
   "outputs": [],
   "source": [
    "rubin_periods = lsdb.read_hats(\"rubin_periods\", columns=[\"index\",\"ra\",\"dec\",\"objectId\",\"forcedSource\",\"period\",\"period_0\"])\n",
    "# We use the `cast_nested` utility method to cast columns into the NestedFrame type\n",
    "rubin_periods = rubin_periods.map_partitions(cast_nested, columns=[\"forcedSource\"])"
   ]
  },
  {
   "cell_type": "markdown",
   "metadata": {},
   "source": [
    "We will read `object_lc_x_ps1` which we had already computed for the result of the crossmatch of Rubin with PS1."
   ]
  },
  {
   "cell_type": "code",
   "execution_count": null,
   "metadata": {},
   "outputs": [],
   "source": [
    "object_lc_x_ztf = lsdb.read_hats(hats_dir / \"object_lc_x_ztf_dr22\", columns=[\"objectId\",\"ztf_lc\"])\n",
    "# We use the `cast_nested` utility method to cast columns into the NestedFrame type\n",
    "object_lc_x_ztf = object_lc_x_ztf.map_partitions(cast_nested, columns=[\"ztf_lc\"])"
   ]
  },
  {
   "cell_type": "markdown",
   "metadata": {},
   "source": [
    "We can now crossmatch our catalog of Rubin periods with `object_lc_x_ztf` to get the aggregated data that we need:"
   ]
  },
  {
   "cell_type": "code",
   "execution_count": null,
   "metadata": {},
   "outputs": [],
   "source": [
    "variables_cat = rubin_periods.join(object_lc_x_ztf, left_on=\"objectId\", right_on=\"objectId\", suffixes=(\"_rubin\",\"\"))"
   ]
  },
  {
   "cell_type": "markdown",
   "metadata": {},
   "source": [
    "### Calculate periods for PS1 and compare with Rubin's"
   ]
  },
  {
   "cell_type": "code",
   "execution_count": null,
   "metadata": {},
   "outputs": [],
   "source": [
    "extractor = licu.Extractor(\n",
    "    licu.Periodogram(\n",
    "        peaks=1,\n",
    "        max_freq_factor=10.0,\n",
    "        resolution=50.0\n",
    "        #nyquist=...\n",
    "    )\n",
    ")\n",
    "# larger grid, resolution and max_freq_factor up\n",
    "\n",
    "# light-curve package requires all arrays to be the same dtype.\n",
    "# It also requires the time array to be ordered and to have no duplicates.\n",
    "def extract_features(mjd, mag, magerr, **kwargs):\n",
    "    # We offset date, so we still would have <1 second precision\n",
    "    # For ZTF we should subtract < 60000 because the survey is older\n",
    "    t = np.asarray(mjd - 55000, dtype=np.float32)\n",
    "    _, sort_index = np.unique(t, return_index=True)\n",
    "    features = extractor(\n",
    "        t[sort_index],\n",
    "        mag[sort_index],\n",
    "        magerr[sort_index],\n",
    "        **kwargs,\n",
    "    )\n",
    "    # Return the features as a dictionary\n",
    "    return dict(zip(extractor.names, features))"
   ]
  },
  {
   "cell_type": "code",
   "execution_count": null,
   "metadata": {},
   "outputs": [],
   "source": [
    "# Use the \"r\" band only to get the periods\n",
    "r_band = variables_cat.query(\"ztf_lc.filterid_ztf == 2\").dropna(subset=\"ztf_lc\")\n",
    "\n",
    "# TODO: Filter by quality flags!\n",
    "# Plot the distribution of ra/dec of all object sources. These measurements should be part of a \"cluster\"\n",
    "\n",
    "features = r_band.reduce(\n",
    "    extract_features,\n",
    "    \"ztf_lc.hmjd_ztf\",\n",
    "    \"ztf_lc.mag_ztf\",\n",
    "    \"ztf_lc.magerr_ztf\",\n",
    "    meta={name: np.float32 for name in extractor.names},\n",
    "    append_columns=True,\n",
    ").compute()"
   ]
  },
  {
   "cell_type": "markdown",
   "metadata": {},
   "source": [
    "We could only find 8 objects in PS1 out of the 10 initial Rubin objects. Let's check Rubin periods vs PS1 periods."
   ]
  },
  {
   "cell_type": "code",
   "execution_count": null,
   "metadata": {},
   "outputs": [],
   "source": [
    "features[[\"period_0_rubin\", \"period_0\"]]"
   ]
  },
  {
   "cell_type": "code",
   "execution_count": null,
   "metadata": {},
   "outputs": [],
   "source": [
    "plt.figure(figsize=(6, 6))\n",
    "plt.scatter(np.log10(features[\"period_0_rubin\"]), np.log10(features[\"period_0\"]), alpha=0.7)\n",
    "plt.xlabel(r'$\\log_{10}$(Rubin Period)')\n",
    "plt.ylabel(r'$\\log_{10}$(ZTF Period)')\n",
    "plt.title('Log plot of Rubin vs ZTF periods')\n",
    "plt.grid(True)\n",
    "plt.show()"
   ]
  },
  {
   "cell_type": "markdown",
   "metadata": {},
   "source": [
    "### Plot original and phased light curves\n",
    "\n",
    "Now let's plot light curves for each object on both surveys:"
   ]
  },
  {
   "cell_type": "code",
   "execution_count": null,
   "metadata": {},
   "outputs": [],
   "source": [
    "# Rubin has \"ugrizy\" filters\n",
    "COLORS = {\n",
    "    \"u\": \"#56b4e9\",\n",
    "    \"g\": \"#009e73\",\n",
    "    \"r\": \"#f0e442\",\n",
    "    \"i\": \"#cc79a7\",\n",
    "    \"z\": \"#d55e00\",\n",
    "    \"y\": \"#0072b2\",\n",
    "}\n",
    "\n",
    "# PanSTARRS has \"gri\" filters [0..2]\n",
    "ZTF_COLORS = {i: color for i, color in enumerate(\"gri\")}"
   ]
  },
  {
   "cell_type": "code",
   "execution_count": null,
   "metadata": {},
   "outputs": [],
   "source": [
    "def plot_ztf(ax, lc, period):\n",
    "    mjd_col = \"hmjd_ztf\"\n",
    "    mag_col = \"mag_ztf\"\n",
    "    magerr_col = \"magerr_ztf\"\n",
    "    # Plot original light curve\n",
    "    ax[0].set_title(\"ZTF - Original\")\n",
    "    mags = _plot_ztf_lc(ax[0], lc, mag_col, magerr_col, x_name=mjd_col, x_label=\"MJD\")\n",
    "    # Plot phased light curve\n",
    "    ax[1].set_title(f\"ZTF - Phase folded ({period})\")\n",
    "    lc = lc.assign(phase=(lc[mjd_col] - lc[mjd_col].loc[lc[mag_col].idxmax()]) % period / period)\n",
    "    _plot_ztf_lc(ax[1], lc, mag_col, magerr_col, x_name=\"phase\", x_label=\"Phase\")\n",
    "    scale_y_axis(ax, mags)\n",
    "    scale_x_axis(ax, lc[mjd_col], lc[\"phase\"], delta=200)\n",
    "\n",
    "def plot_rubin(ax, lc, period):\n",
    "    mjd_col = \"midpointMjdTai\"\n",
    "    mag_col =\"psfMag\"\n",
    "    magerr_col = \"psfMagErr\"\n",
    "    # Plot original light curve\n",
    "    ax[0].set_title(\"Rubin - Original\")\n",
    "    mags = _plot_rubin_lc(ax[0], lc, mag_col, magerr_col, x_name=mjd_col, x_label=\"MJD\")\n",
    "    # Plot phased light curve\n",
    "    ax[1].set_title(f\"Rubin - Phase folded ({period})\")\n",
    "    lc = lc.assign(phase=(lc[mjd_col] - lc[mjd_col].loc[lc[mag_col].idxmax()]) % period / period)\n",
    "    _plot_rubin_lc(ax[1], lc, mag_col, magerr_col, x_name=\"phase\", x_label=\"Phase\")\n",
    "    scale_y_axis(ax, mags)\n",
    "    scale_x_axis(ax, lc[mjd_col], lc[\"phase\"], delta=5)\n",
    "\n",
    "def _plot_ztf_lc(ax, lc, mag_col, magerr_col, x_name, x_label):\n",
    "    mag_values = []\n",
    "    for filterid, band in ZTF_COLORS.items():\n",
    "        band_lc = lc.query(f\"filterid_ztf == {filterid}\")\n",
    "        mag, magerr = band_lc[mag_col], band_lc[magerr_col]\n",
    "        ax.errorbar(\n",
    "            band_lc[x_name],\n",
    "            mag,\n",
    "            magerr,\n",
    "            fmt=\"o\",\n",
    "            label=band,\n",
    "            color=COLORS[band],\n",
    "            alpha=1,\n",
    "            markersize=5,\n",
    "            capsize=3,\n",
    "            elinewidth=1,\n",
    "        )\n",
    "        mag_values.extend(mag.dropna().values)\n",
    "    ax.set_xlabel(x_label)\n",
    "    ax.set_ylabel(\"Magnitude (AB)\")\n",
    "    ax.invert_yaxis()\n",
    "    ax.legend(loc=\"lower right\", fontsize=12)\n",
    "    return mag_values\n",
    "\n",
    "def _plot_rubin_lc(ax, lc, mag_col, magerr_col, x_name, x_label):\n",
    "    mag_values = []\n",
    "    for band, color in COLORS.items():\n",
    "        band_lc = lc.query(f\"band == '{band}'\")\n",
    "        mag, magerr = band_lc[mag_col], band_lc[magerr_col]\n",
    "        ax.errorbar(\n",
    "            band_lc[x_name],\n",
    "            mag,\n",
    "            magerr,\n",
    "            fmt=\"o\",\n",
    "            label=band,\n",
    "            color=color,\n",
    "            alpha=1,\n",
    "            markersize=5,\n",
    "            capsize=3,\n",
    "            elinewidth=1,\n",
    "        )\n",
    "        mag_values.extend(mag.dropna().values)\n",
    "    ax.set_xlabel(x_label)\n",
    "    ax.set_ylabel(\"Magnitude (AB)\")\n",
    "    ax.invert_yaxis()\n",
    "    ax.legend(loc=\"lower right\", fontsize=12)\n",
    "    return mag_values\n",
    "    \n",
    "def scale_x_axis(ax, mjd_values, phase_values, delta):\n",
    "    # Apply limits to the mjd axis\n",
    "    xmin, xmax = np.nanmin(mjd_values), np.nanmax(mjd_values)\n",
    "    ax[0].set_xlim(xmin - delta, xmax + delta)\n",
    "    # Apply limits to the phase axis\n",
    "    xmin, xmax = np.nanmin(phase_values), np.nanmax(phase_values)\n",
    "    ax[1].set_xlim(xmin, xmax)\n",
    "\n",
    "def scale_y_axis(ax, all_mags):\n",
    "    # Apply limits to all columns in the row\n",
    "    ymin, ymax = np.nanmin(all_mags), np.nanmax(all_mags)\n",
    "    lower_bound = np.quantile(all_mags, 0.1)\n",
    "    upper_bound = np.quantile(all_mags, 0.9)\n",
    "    for i in range(2):\n",
    "        # Keep magnitude inverted\n",
    "        ax[i].set_ylim(lower_bound - 0.2, upper_bound + 0.2)\n",
    "    print(\"Min | Max:\", ymin, ymax)\n",
    "    print(\"10% | 90%:\", lower_bound, upper_bound)"
   ]
  },
  {
   "cell_type": "code",
   "execution_count": null,
   "metadata": {},
   "outputs": [],
   "source": [
    "# Compute the result for the 10 variable objects\n",
    "data = variables_cat.compute().set_index(\"index_rubin\")"
   ]
  },
  {
   "cell_type": "code",
   "execution_count": null,
   "metadata": {},
   "outputs": [],
   "source": [
    "for index_rubin, row in data.iterrows():\n",
    "    fig, ax = plt.subplots(2, 2, figsize=(12, 8), sharey=\"col\")\n",
    "    fig.suptitle(\n",
    "        f\"{drp_release} | RA={row.ra_rubin:.5f}, Dec={row.dec_rubin:.5f}\",\n",
    "        fontsize=16,\n",
    "    )\n",
    "    ztf_period = features[features[\"index_rubin\"] == index_rubin]\n",
    "    ztf_period = ztf_period[\"period_0\"].values[0] if not ztf_period.empty else 1\n",
    "    plot_ztf(ax[0], row[\"ztf_lc\"], round(ztf_period, 5))\n",
    "    plot_rubin(ax[1], row[\"forcedSource_rubin\"], row[\"period_rubin\"])\n",
    "    plt.tight_layout()\n",
    "    plt.show()"
   ]
  },
  {
   "cell_type": "code",
   "execution_count": null,
   "metadata": {},
   "outputs": [],
   "source": [
    "client.close()\n",
    "tmp_path.cleanup()"
   ]
  }
 ],
 "metadata": {
  "kernelspec": {
   "display_name": "Python 3 (ipykernel)",
   "language": "python",
   "name": "python3"
  },
  "language_info": {
   "codemirror_mode": {
    "name": "ipython",
    "version": 3
   },
   "file_extension": ".py",
   "mimetype": "text/x-python",
   "name": "python",
   "nbconvert_exporter": "python",
   "pygments_lexer": "ipython3",
   "version": "3.12.9"
  }
 },
 "nbformat": 4,
 "nbformat_minor": 2
}
