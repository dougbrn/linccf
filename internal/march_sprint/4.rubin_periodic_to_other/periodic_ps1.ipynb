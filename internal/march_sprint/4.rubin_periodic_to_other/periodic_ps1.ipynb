{
 "cells": [
  {
   "cell_type": "markdown",
   "metadata": {},
   "source": [
    "## Periods in Rubin compared to PanSTARRS\n",
    "\n",
    "In this notebook we will compare periods for objects in Rubin with those we get from PanSTARRS."
   ]
  },
  {
   "cell_type": "code",
   "execution_count": null,
   "metadata": {},
   "outputs": [],
   "source": [
    "import astropy.units as u\n",
    "import lsdb\n",
    "import matplotlib.pyplot as plt\n",
    "import numpy as np\n",
    "import tempfile\n",
    "\n",
    "from astropy.timeseries import LombScargle\n",
    "from dask.distributed import Client\n",
    "from nested_pandas import NestedDtype\n",
    "from pathlib import Path"
   ]
  },
  {
   "cell_type": "code",
   "execution_count": null,
   "metadata": {},
   "outputs": [],
   "source": [
    "def cast_nested(df, columns):\n",
    "    return df.assign(\n",
    "        **{\n",
    "            col: df[col].astype(NestedDtype.from_pandas_arrow_dtype(df.dtypes[col]))\n",
    "            for col in columns\n",
    "        },\n",
    "    )\n",
    "\n",
    "def create_mag_errors(flux, fluxerr):\n",
    "    \"\"\"Move flux into magnitudes and calculate the error on the magnitude\"\"\"\n",
    "    mag = u.Jy.to(u.ABmag, flux)\n",
    "    upper_mag = u.Jy.to(u.ABmag, flux + fluxerr)\n",
    "    lower_mag = u.Jy.to(u.ABmag, flux - fluxerr)\n",
    "    magErr = -(upper_mag - lower_mag) / 2\n",
    "    return mag, magErr"
   ]
  },
  {
   "cell_type": "code",
   "execution_count": null,
   "metadata": {},
   "outputs": [],
   "source": [
    "tmp_path = tempfile.TemporaryDirectory()\n",
    "client = Client(n_workers=4, threads_per_worker=1, local_directory=tmp_path.name)"
   ]
  },
  {
   "cell_type": "markdown",
   "metadata": {},
   "source": [
    "### Load Rubin and PS1"
   ]
  },
  {
   "cell_type": "code",
   "execution_count": null,
   "metadata": {},
   "outputs": [],
   "source": [
    "drp_release = \"w_2025_10\"\n",
    "base_dir = Path(\"/sdf/data/rubin/shared/lsdb_commissioning/hats\")\n",
    "hats_dir = base_dir / drp_release"
   ]
  },
  {
   "cell_type": "code",
   "execution_count": null,
   "metadata": {},
   "outputs": [],
   "source": [
    "rubin_periods = lsdb.read_hats(\"rubin_periods\", columns=[\"index\",\"ra\",\"dec\",\"objectId\",\"forcedSource\",\"period\",\"period_0\"])\n",
    "# We use the `cast_nested` utility method to cast columns into the NestedFrame type\n",
    "rubin_periods = rubin_periods.map_partitions(cast_nested, columns=[\"forcedSource\"])"
   ]
  },
  {
   "cell_type": "markdown",
   "metadata": {},
   "source": [
    "We will read `object_lc_x_ps1` which we had already computed for the result of the crossmatch of Rubin with PS1."
   ]
  },
  {
   "cell_type": "code",
   "execution_count": null,
   "metadata": {},
   "outputs": [],
   "source": [
    "object_lc_x_ps1 = lsdb.read_hats(hats_dir / \"object_lc_x_ps1\", columns=[\"objectId\", \"objID_ps1\"])"
   ]
  },
  {
   "cell_type": "markdown",
   "metadata": {},
   "source": [
    "This catalog does not contain the PS1 detections so let's add them as a nested column:"
   ]
  },
  {
   "cell_type": "code",
   "execution_count": null,
   "metadata": {},
   "outputs": [],
   "source": [
    "ps1_detections = lsdb.read_hats(\n",
    "    's3://stpubdata/panstarrs/ps1/public/hats/detection',\n",
    "    margin_cache='s3://stpubdata/panstarrs/ps1/public/hats/detection_10arcs',\n",
    "    columns=[\"objID\", \"filterID\", \"obsTime\", \"psfFlux\", \"psfFluxErr\"]\n",
    ")"
   ]
  },
  {
   "cell_type": "markdown",
   "metadata": {},
   "source": [
    "Let's join the Rubin objects with PS1:"
   ]
  },
  {
   "cell_type": "code",
   "execution_count": null,
   "metadata": {},
   "outputs": [],
   "source": [
    "object_lc_x_ps1 = object_lc_x_ps1.join_nested(ps1_detections, left_on=\"objID_ps1\", right_on=\"objID\", nested_column_name=\"ps1_lc\")\n",
    "object_lc_x_ps1"
   ]
  },
  {
   "cell_type": "markdown",
   "metadata": {},
   "source": [
    "We can now crossmatch our catalog of Rubin periods with `object_lc_x_ps1` to get the aggregated data that we need:"
   ]
  },
  {
   "cell_type": "code",
   "execution_count": null,
   "metadata": {},
   "outputs": [],
   "source": [
    "variables_cat = rubin_periods.join(object_lc_x_ps1, left_on=\"objectId\", right_on=\"objectId\", suffixes=(\"_rubin\",\"\"))\n",
    "variables_cat"
   ]
  },
  {
   "cell_type": "markdown",
   "metadata": {},
   "source": [
    "### Calculate periods for PS1 and compare with Rubin's"
   ]
  },
  {
   "cell_type": "code",
   "execution_count": null,
   "metadata": {},
   "outputs": [],
   "source": [
    "def compare_periodograms(index_rubin, true_period, ps1_time, ps1_flux, rubin_time, rubin_flux):\n",
    "    # define a freq grid to search around the true period/frequency\n",
    "    true_freq = 1/true_period\n",
    "    frequency = np.linspace(0.9*true_freq, 1.1*true_freq, 100)\n",
    "    # Period for PS1\n",
    "    ps1_power = LombScargle(ps1_time, ps1_flux).power(frequency)\n",
    "    ps1_maxpower = np.max(ps1_power)\n",
    "    ps1_period = 1/frequency[np.argmax(ps1_power)]\n",
    "    # Period for Rubin\n",
    "    rubin_power = LombScargle(rubin_time, rubin_flux).power(frequency)\n",
    "    rubin_maxpower = np.max(rubin_power)\n",
    "    rubin_period = 1/frequency[np.argmax(rubin_power)]\n",
    "    return {\n",
    "        \"index_rubin\": index_rubin, \n",
    "        \"true_period\": true_period,\n",
    "        \"ps1_maxpower\": ps1_maxpower,\n",
    "        \"ps1_period\": ps1_period,\n",
    "        \"rubin_maxpower\": rubin_maxpower,\n",
    "        \"rubin_period\": rubin_period\n",
    "    }"
   ]
  },
  {
   "cell_type": "code",
   "execution_count": null,
   "metadata": {},
   "outputs": [],
   "source": [
    "# Use the \"r\" band only to get the periods\n",
    "r_band = variables_cat.query(\"ps1_lc.filterID == 1\").compute()"
   ]
  },
  {
   "cell_type": "code",
   "execution_count": null,
   "metadata": {},
   "outputs": [],
   "source": [
    "features = r_band.reduce(\n",
    "    compare_periodograms,\n",
    "    \"index_rubin\",\n",
    "    \"period_rubin\",\n",
    "    \"ps1_lc.obsTime\",\n",
    "    \"ps1_lc.psfFlux\",\n",
    "    \"forcedSource_rubin.midpointMjdTai\",\n",
    "    \"forcedSource_rubin.psfFlux\",\n",
    ").set_index(\"index_rubin\")\n",
    "\n",
    "features"
   ]
  },
  {
   "cell_type": "markdown",
   "metadata": {},
   "source": [
    "### Plot original and phased light curves\n",
    "\n",
    "Now let's plot light curves for each object on both surveys:"
   ]
  },
  {
   "cell_type": "code",
   "execution_count": null,
   "metadata": {},
   "outputs": [],
   "source": [
    "# Rubin has \"ugrizy\" filters\n",
    "COLORS = {\n",
    "    \"u\": \"#56b4e9\",\n",
    "    \"g\": \"#009e73\",\n",
    "    \"r\": \"#f0e442\",\n",
    "    \"i\": \"#cc79a7\",\n",
    "    \"z\": \"#d55e00\",\n",
    "    \"y\": \"#0072b2\",\n",
    "}\n",
    "\n",
    "# PanSTARRS has \"grizy\" filters [0..4]\n",
    "PS1_COLORS = {i: color for i, color in enumerate(\"grizy\")}"
   ]
  },
  {
   "cell_type": "code",
   "execution_count": null,
   "metadata": {},
   "outputs": [],
   "source": [
    "def plot_ps1(ax, lc, period):\n",
    "    mjd_col = \"obsTime\"\n",
    "    flux_col = \"psfFlux\"\n",
    "    fluxerr_col = \"psfFluxErr\"\n",
    "    # Plot original light curve\n",
    "    ax[0].set_title(\"PS1 - Original\")\n",
    "    mags = _plot_ps1_lc(ax[0], lc, flux_col, fluxerr_col, x_name=mjd_col, x_label=\"MJD\")\n",
    "    # Plot phased light curve\n",
    "    ax[1].set_title(f\"PS1 - Phase folded ({period})\")\n",
    "    lc = lc.assign(phase=(lc[mjd_col] - lc[mjd_col].loc[lc[flux_col].idxmax()]) % period / period)\n",
    "    _plot_ps1_lc(ax[1], lc, flux_col, fluxerr_col, x_name=\"phase\", x_label=\"Phase\")\n",
    "    scale_y_axis(ax, mags)\n",
    "    scale_x_axis(ax, lc[mjd_col], lc[\"phase\"], delta=200)\n",
    "\n",
    "def plot_rubin(ax, lc, period):\n",
    "    mjd_col = \"midpointMjdTai\"\n",
    "    mag_col =\"psfMag\"\n",
    "    magerr_col = \"psfMagErr\"\n",
    "    # Plot original light curve\n",
    "    ax[0].set_title(\"Rubin - Original\")\n",
    "    mags = _plot_rubin_lc(ax[0], lc, mag_col, magerr_col, x_name=mjd_col, x_label=\"MJD\")\n",
    "    # Plot phased light curve\n",
    "    ax[1].set_title(f\"Rubin - Phase folded ({period})\")\n",
    "    lc = lc.assign(phase=(lc[mjd_col] - lc[mjd_col].loc[lc[mag_col].idxmax()]) % period / period)\n",
    "    _plot_rubin_lc(ax[1], lc, mag_col, magerr_col, x_name=\"phase\", x_label=\"Phase\")\n",
    "    scale_y_axis(ax, mags)\n",
    "    scale_x_axis(ax, lc[mjd_col], lc[\"phase\"], delta=5)\n",
    "\n",
    "def _plot_ps1_lc(ax, lc, flux_col, fluxerr_col, x_name, x_label):\n",
    "    mag_values = []\n",
    "    for filterid, band in PS1_COLORS.items():\n",
    "        band_lc = lc.query(f\"filterID == {filterid}\")\n",
    "        mag, magerr = create_mag_errors(band_lc[flux_col], band_lc[fluxerr_col])\n",
    "        ax.errorbar(\n",
    "            band_lc[x_name],\n",
    "            mag,\n",
    "            magerr,\n",
    "            fmt=\"o\",\n",
    "            label=band,\n",
    "            color=COLORS[band],\n",
    "            alpha=1,\n",
    "            markersize=5,\n",
    "            capsize=3,\n",
    "            elinewidth=1,\n",
    "        )\n",
    "        mag_values.extend(mag.dropna().values)\n",
    "    ax.set_xlabel(x_label)\n",
    "    ax.set_ylabel(\"Magnitude (AB)\")\n",
    "    ax.invert_yaxis()\n",
    "    ax.legend(loc=\"lower right\", fontsize=12)\n",
    "    return mag_values\n",
    "\n",
    "def _plot_rubin_lc(ax, lc, mag_col, magerr_col, x_name, x_label):\n",
    "    mag_values = []\n",
    "    for band, color in COLORS.items():\n",
    "        band_lc = lc.query(f\"band == '{band}'\")\n",
    "        mag, magerr = band_lc[mag_col], band_lc[magerr_col]\n",
    "        ax.errorbar(\n",
    "            band_lc[x_name],\n",
    "            mag,\n",
    "            magerr,\n",
    "            fmt=\"o\",\n",
    "            label=band,\n",
    "            color=color,\n",
    "            alpha=1,\n",
    "            markersize=5,\n",
    "            capsize=3,\n",
    "            elinewidth=1,\n",
    "        )\n",
    "        mag_values.extend(mag.dropna().values)\n",
    "    ax.set_xlabel(x_label)\n",
    "    ax.set_ylabel(\"Magnitude (AB)\")\n",
    "    ax.invert_yaxis()\n",
    "    ax.legend(loc=\"lower right\", fontsize=12)\n",
    "    return mag_values\n",
    "    \n",
    "def scale_x_axis(ax, mjd_values, phase_values, delta):\n",
    "    # Apply limits to the mjd axis\n",
    "    xmin, xmax = np.nanmin(mjd_values), np.nanmax(mjd_values)\n",
    "    ax[0].set_xlim(xmin - delta, xmax + delta)\n",
    "    # Apply limits to the phase axis\n",
    "    xmin, xmax = np.nanmin(phase_values), np.nanmax(phase_values)\n",
    "    ax[1].set_xlim(xmin, xmax)\n",
    "\n",
    "def scale_y_axis(ax, all_mags):\n",
    "    # Apply limits to all columns in the row\n",
    "    ymin, ymax = np.nanmin(all_mags), np.nanmax(all_mags)\n",
    "    lower_bound = np.quantile(all_mags, 0.1)\n",
    "    upper_bound = np.quantile(all_mags, 0.9)\n",
    "    for i in range(2):\n",
    "        # Keep magnitude inverted\n",
    "        ax[i].set_ylim(lower_bound - 0.2, upper_bound + 0.2)\n",
    "    #print(\"Min | Max:\", ymin, ymax)\n",
    "    #print(\"10% | 90%:\", lower_bound, upper_bound)"
   ]
  },
  {
   "cell_type": "code",
   "execution_count": null,
   "metadata": {},
   "outputs": [],
   "source": [
    "# Compute the result for the 10 variable objects\n",
    "data = variables_cat.compute().set_index(\"index_rubin\")"
   ]
  },
  {
   "cell_type": "code",
   "execution_count": null,
   "metadata": {},
   "outputs": [],
   "source": [
    "for index_rubin, row in data.iterrows():\n",
    "    object_features = features.loc[index_rubin]\n",
    "\n",
    "    fig, ax = plt.subplots(2, 2, figsize=(12, 8), sharey=\"col\")\n",
    "    ra, dec = row.ra_rubin, row.dec_rubin\n",
    "\n",
    "    title = f\"{drp_release} | RA={ra:.5f}, Dec={dec:.5f} (T={object_features[\"true_period\"]})\"\n",
    "    fig.suptitle(title, fontsize=16)\n",
    "\n",
    "    ps1_period = round(object_features[\"ps1_period\"], 5)\n",
    "    rubin_period = round(object_features[\"rubin_period\"], 5)\n",
    "    plot_ps1(ax[0], row[\"ps1_lc\"], ps1_period)\n",
    "    plot_rubin(ax[1], row[\"forcedSource_rubin\"], rubin_period)\n",
    "    \n",
    "    plt.tight_layout()\n",
    "    plt.show()"
   ]
  },
  {
   "cell_type": "code",
   "execution_count": null,
   "metadata": {},
   "outputs": [],
   "source": [
    "client.close()\n",
    "tmp_path.cleanup()"
   ]
  }
 ],
 "metadata": {
  "kernelspec": {
   "display_name": "Python 3 (ipykernel)",
   "language": "python",
   "name": "python3"
  },
  "language_info": {
   "codemirror_mode": {
    "name": "ipython",
    "version": 3
   },
   "file_extension": ".py",
   "mimetype": "text/x-python",
   "name": "python",
   "nbconvert_exporter": "python",
   "pygments_lexer": "ipython3",
   "version": "3.12.9"
  }
 },
 "nbformat": 4,
 "nbformat_minor": 2
}
