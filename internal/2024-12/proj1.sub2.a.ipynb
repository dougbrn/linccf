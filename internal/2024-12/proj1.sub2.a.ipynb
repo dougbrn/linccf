{
 "cells": [
  {
   "cell_type": "markdown",
   "id": "c27bb963-0b9f-4ae6-aadb-5fca36660c6d",
   "metadata": {},
   "source": [
    "# DIA stuff\n",
    "\n",
    "Author: Melissa\n",
    "\n",
    "Last updated: 2024-12-04\n",
    "\n",
    "Let's try to pull data out of the APDB for DIA object, source, and forced source. This is related to Project 1 > Subproject 2 from this process document:\n",
    "\n",
    "https://docs.google.com/document/d/1wEbmDjDT9XSby6KjG-1s7L8PG37nujf9sAV4HV2KEIY/edit?tab=t.0\n",
    "\n",
    "Once the full set of data has been dumped to parquet, we will import into HATS in another notebook.\n"
   ]
  },
  {
   "cell_type": "code",
   "execution_count": 44,
   "id": "2f9e113d-f6c5-41f8-9853-127813123fac",
   "metadata": {
    "execution": {
     "iopub.execute_input": "2024-12-04T18:25:38.643781Z",
     "iopub.status.busy": "2024-12-04T18:25:38.643483Z",
     "iopub.status.idle": "2024-12-04T18:25:38.651421Z",
     "shell.execute_reply": "2024-12-04T18:25:38.651052Z",
     "shell.execute_reply.started": "2024-12-04T18:25:38.643766Z"
    }
   },
   "outputs": [],
   "source": [
    "\n",
    "import numpy as np\n",
    "import matplotlib.pyplot as plt\n",
    "import pandas as pd\n",
    "\n",
    "import healpy as hp\n",
    "\n",
    "import lsst.daf.butler as dafButler\n",
    "from lsst.analysis.ap import apdb\n",
    "from lsst.ap.association import AssociationTask, AssociationConfig\n",
    "from lsst.dax.apdb import Apdb, ApdbCassandra, ApdbTables\n",
    "import lsst.geom\n",
    "\n",
    "from mpl_toolkits.axes_grid1 import make_axes_locatable\n",
    "from astropy.visualization import ZScaleInterval, SqrtStretch, ImageNormalize, ManualInterval, AsinhStretch, MinMaxInterval, LogStretch\n",
    "\n",
    "\n",
    "import warnings\n",
    "warnings.filterwarnings('ignore')\n",
    "warnings.simplefilter('ignore')\n",
    "\n",
    "from typing import TYPE_CHECKING, cast\n",
    "\n",
    "import astropy.units as u\n",
    "from astropy.coordinates import SkyCoord\n",
    "from tqdm import tqdm\n",
    "\n",
    "plt.set_loglevel('WARNING')"
   ]
  },
  {
   "cell_type": "markdown",
   "id": "5a8187e5-7884-4dc8-8b9a-f81b0e1d6554",
   "metadata": {},
   "source": [
    "Based on columns and query structure from Neven's notebook:\n",
    "\n",
    "https://github.com/lsst-sitcom/notebooks_dia/blob/main/OR4/N_obj_src_truth_and_det.ipynb"
   ]
  },
  {
   "cell_type": "code",
   "execution_count": 38,
   "id": "e8c86ec6-183b-4e38-a7d7-ef9f9640270e",
   "metadata": {
    "execution": {
     "iopub.execute_input": "2024-12-04T18:08:26.599585Z",
     "iopub.status.busy": "2024-12-04T18:08:26.599304Z",
     "iopub.status.idle": "2024-12-04T18:08:26.603379Z",
     "shell.execute_reply": "2024-12-04T18:08:26.602983Z",
     "shell.execute_reply.started": "2024-12-04T18:08:26.599570Z"
    }
   },
   "outputs": [],
   "source": [
    "columns = [\n",
    "    \"diaSourceId\", \n",
    "    \"diaObjectId\", \n",
    "    \"ra\", \n",
    "    \"dec\", \n",
    "    \"raErr\", \n",
    "    \"decErr\", \n",
    "    \"midpointMjdTai\", \n",
    "    \"psfFlux\", \n",
    "    \"psfFluxErr\", \n",
    "    \"scienceFlux\", \n",
    "    \"scienceFluxErr\", \n",
    "    \"snr\", \n",
    "    \"band\", \n",
    "    \"visit\",\n",
    "    \"detector\",    \n",
    "    \"x\",\n",
    "    \"xErr\",\n",
    "    \"y\",\n",
    "    \"yErr\",\n",
    "    \"time_processed\", \n",
    "    \"time_withdrawn\",\n",
    "    \"isDipole\",\n",
    "    \"centroid_flag\",\n",
    "    \"apFlux_flag\",\n",
    "    \"apFlux_flag_apertureTruncated\",\n",
    "    \"psfFlux_flag\",\n",
    "    \"psfFlux_flag_edge\",\n",
    "    \"psfFlux_flag_noGoodPixels\",\n",
    "    \"trail_flag_edge\",\n",
    "    \"forced_PsfFlux_flag\",\n",
    "    \"forced_PsfFlutx_flag_edge\",\n",
    "    \"forced_PsfFlux_flag_noGoodPixels\",\n",
    "    \"shape_flag\",\n",
    "    \"shape_flag_no_pixels\",\n",
    "    \"shape_flag_not_contained\",\n",
    "    \"shape_flag_parent_source\",\n",
    "    \"pixelFlags\",\n",
    "    \"pixelFlags_bad\",\n",
    "    \"pixelFlags_cr\",\n",
    "    \"pixelFlags_crCenter\",\n",
    "    \"pixelFlags_edge\",\n",
    "    \"pixelFlags_interpolated\",\n",
    "    \"pixelFlags_interpolatedCenter\",\n",
    "    \"pixelFlags_offimage\",\n",
    "    \"pixelFlags_saturated\",\n",
    "    \"pixelFlags_saturatedCenter\",\n",
    "    \"pixelFlags_suspect\",\n",
    "    \"pixelFlags_suspectCenter\",\n",
    "    \"pixelFlags_streak\",\n",
    "    \"pixelFlags_streakCenter\",\n",
    "    \"pixelFlags_injected\",\n",
    "    \"pixelFlags_injectedCenter\",\n",
    "    \"pixelFlags_injected_template\",\n",
    "    \"pixelFlags_injected_templateCenter\",\n",
    "    \"reliability\"\n",
    "]\n",
    "\n",
    "# Convert list of columns into a comma-separated string\n",
    "columns_string = ', '.join(f'\"{col}\"' for col in columns)"
   ]
  },
  {
   "cell_type": "code",
   "execution_count": 41,
   "id": "136b2689-9c04-4068-8874-0cfd24feb248",
   "metadata": {
    "execution": {
     "iopub.execute_input": "2024-12-04T18:11:07.823112Z",
     "iopub.status.busy": "2024-12-04T18:11:07.822788Z",
     "iopub.status.idle": "2024-12-04T18:21:00.776897Z",
     "shell.execute_reply": "2024-12-04T18:21:00.776424Z",
     "shell.execute_reply.started": "2024-12-04T18:11:07.823085Z"
    }
   },
   "outputs": [],
   "source": [
    "\n",
    "schema='jeremym_ppdb_replication_test_3'\n",
    "instrument = 'LSSTComCamSim'\n",
    "apdbQuery = apdb.ApdbPostgresQuery(instrument=instrument, namespace=schema)\n",
    "# Then use this in your SQL query\n",
    "with apdbQuery.connection as connection:\n",
    "    for lower in range(0, 13_000_000, 1_000_000):\n",
    "        src4_field = pd.read_sql_query(f'''\n",
    "            SELECT *\n",
    "            FROM \"{schema}\".\"DiaSource\"\n",
    "            LIMIT 1000000\n",
    "            offset {lower}\n",
    "        ''', connection)\n",
    "        src4_field.to_parquet(f\"./DATA/dia/source/source_{lower}.parquet\")\n",
    "     "
   ]
  },
  {
   "cell_type": "code",
   "execution_count": 48,
   "id": "62e50c8e-25f1-4f62-834a-e76337764b63",
   "metadata": {
    "execution": {
     "iopub.execute_input": "2024-12-04T19:51:13.198106Z",
     "iopub.status.busy": "2024-12-04T19:51:13.197509Z",
     "iopub.status.idle": "2024-12-04T19:51:15.256227Z",
     "shell.execute_reply": "2024-12-04T19:51:15.255816Z",
     "shell.execute_reply.started": "2024-12-04T19:51:13.198081Z"
    }
   },
   "outputs": [
    {
     "data": {
      "text/html": [
       "<div>\n",
       "<style scoped>\n",
       "    .dataframe tbody tr th:only-of-type {\n",
       "        vertical-align: middle;\n",
       "    }\n",
       "\n",
       "    .dataframe tbody tr th {\n",
       "        vertical-align: top;\n",
       "    }\n",
       "\n",
       "    .dataframe thead th {\n",
       "        text-align: right;\n",
       "    }\n",
       "</style>\n",
       "<table border=\"1\" class=\"dataframe\">\n",
       "  <thead>\n",
       "    <tr style=\"text-align: right;\">\n",
       "      <th></th>\n",
       "      <th>count</th>\n",
       "    </tr>\n",
       "  </thead>\n",
       "  <tbody>\n",
       "    <tr>\n",
       "      <th>0</th>\n",
       "      <td>12222552</td>\n",
       "    </tr>\n",
       "  </tbody>\n",
       "</table>\n",
       "</div>"
      ],
      "text/plain": [
       "      count\n",
       "0  12222552"
      ]
     },
     "execution_count": 48,
     "metadata": {},
     "output_type": "execute_result"
    }
   ],
   "source": [
    "with apdbQuery.connection as connection:\n",
    "    src4_field = pd.read_sql_query(f'''\n",
    "        SELECT count(distinct(\"diaObjectId\"))\n",
    "        FROM \"{schema}\".\"DiaObject\"\n",
    "    ''', connection)\n",
    "src4_field\n",
    "     "
   ]
  },
  {
   "cell_type": "code",
   "execution_count": 45,
   "id": "a29eb0f3-fe6c-430f-bb73-f53bc2907d99",
   "metadata": {
    "execution": {
     "iopub.execute_input": "2024-12-04T18:26:02.401620Z",
     "iopub.status.busy": "2024-12-04T18:26:02.401328Z",
     "iopub.status.idle": "2024-12-04T18:32:55.498205Z",
     "shell.execute_reply": "2024-12-04T18:32:55.497774Z",
     "shell.execute_reply.started": "2024-12-04T18:26:02.401606Z"
    }
   },
   "outputs": [
    {
     "name": "stderr",
     "output_type": "stream",
     "text": [
      "100%|██████████| 26/26 [06:53<00:00, 15.89s/it]\n"
     ]
    }
   ],
   "source": [
    "with apdbQuery.connection as connection:\n",
    "    for lower in tqdm(range(0, 13_000_000, 500_000)):\n",
    "        src4_field = pd.read_sql_query(f'''\n",
    "            SELECT *\n",
    "            FROM \"{schema}\".\"DiaObject\"\n",
    "            LIMIT 500000\n",
    "            offset {lower}\n",
    "        ''', connection)\n",
    "        src4_field.to_parquet(f\"./DATA/dia/object/object_{lower}.parquet\")"
   ]
  },
  {
   "cell_type": "code",
   "execution_count": 40,
   "id": "6e6039a2-d069-4c56-b3b1-44c37caa5652",
   "metadata": {
    "execution": {
     "iopub.execute_input": "2024-12-04T18:10:34.851698Z",
     "iopub.status.busy": "2024-12-04T18:10:34.851356Z",
     "iopub.status.idle": "2024-12-04T18:10:34.881896Z",
     "shell.execute_reply": "2024-12-04T18:10:34.881503Z",
     "shell.execute_reply.started": "2024-12-04T18:10:34.851681Z"
    }
   },
   "outputs": [
    {
     "name": "stdout",
     "output_type": "stream",
     "text": [
      "Available columns: ['diaForcedSourceId', 'diaObjectId', 'ra', 'dec', 'visit', 'detector', 'psfFlux', 'psfFluxErr', 'midpointMjdTai', 'scienceFlux', 'scienceFluxErr', 'band', 'time_processed', 'time_withdrawn']\n"
     ]
    }
   ],
   "source": [
    "# This is to see all of the columns avaliable\n",
    "with apdbQuery.connection as connection:\n",
    "    # Query to fetch all column names from the DiaObject table\n",
    "    query_columns = '''\n",
    "    SELECT column_name\n",
    "    FROM information_schema.columns\n",
    "    WHERE table_schema = 'pp_ppdb_lsstcomcamsim_or4' AND table_name = 'DiaForcedSource';\n",
    "    '''\n",
    "    df_columns = pd.read_sql_query(query_columns, connection)\n",
    "    print(\"Available columns:\", df_columns['column_name'].tolist())"
   ]
  },
  {
   "cell_type": "code",
   "execution_count": null,
   "id": "2ad1aa86-2021-4aa3-83ca-f6a9da15d5a7",
   "metadata": {},
   "outputs": [],
   "source": [
    "with apdbQuery.connection as connection:\n",
    "    for lower in range(0, 70_000_000, 1_000_000):\n",
    "        src4_field = pd.read_sql_query(f'''\n",
    "            SELECT *\n",
    "            FROM \"{schema}\".\"DiaForcedSource\"\n",
    "            LIMIT 1000000\n",
    "            offset {lower}\n",
    "        ''', connection)\n",
    "        src4_field.to_parquet(f\"./DATA/dia/forced/forced_{lower}.parquet\")"
   ]
  }
 ],
 "metadata": {
  "kernelspec": {
   "display_name": "LSST",
   "language": "python",
   "name": "lsst"
  },
  "language_info": {
   "codemirror_mode": {
    "name": "ipython",
    "version": 3
   },
   "file_extension": ".py",
   "mimetype": "text/x-python",
   "name": "python",
   "nbconvert_exporter": "python",
   "pygments_lexer": "ipython3",
   "version": "3.11.9"
  }
 },
 "nbformat": 4,
 "nbformat_minor": 5
}
