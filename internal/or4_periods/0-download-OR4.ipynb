{
 "cells": [
  {
   "cell_type": "markdown",
   "id": "c27bb963-0b9f-4ae6-aadb-5fca36660c6d",
   "metadata": {},
   "source": [
    "# Download DIA OR4\n",
    "\n",
    "Author: Melissa\n",
    "\n",
    "Last updated: 2025-01-13 by Sandro\n",
    "\n",
    "Let's try to pull data out of the APDB for DIA object, source, and forced source. Once the full set of data has been dumped to parquet, we will import into HATS in another notebook."
   ]
  },
  {
   "cell_type": "code",
   "execution_count": 2,
   "id": "2f9e113d-f6c5-41f8-9853-127813123fac",
   "metadata": {
    "execution": {
     "iopub.execute_input": "2024-12-04T18:25:38.643781Z",
     "iopub.status.busy": "2024-12-04T18:25:38.643483Z",
     "iopub.status.idle": "2024-12-04T18:25:38.651421Z",
     "shell.execute_reply": "2024-12-04T18:25:38.651052Z",
     "shell.execute_reply.started": "2024-12-04T18:25:38.643766Z"
    }
   },
   "outputs": [],
   "source": [
    "import matplotlib.pyplot as plt\n",
    "import pandas as pd\n",
    "from tqdm import tqdm\n",
    "from lsst.analysis.ap import apdb\n",
    "\n",
    "import warnings\n",
    "warnings.filterwarnings('ignore')\n",
    "warnings.simplefilter('ignore')\n",
    "plt.set_loglevel('WARNING')"
   ]
  },
  {
   "cell_type": "code",
   "execution_count": 2,
   "id": "92ff1180",
   "metadata": {},
   "outputs": [],
   "source": [
    "out_dir = \"/sdf/data/rubin/shared/lsdb_commissioning/or4_dia/raw\""
   ]
  },
  {
   "cell_type": "markdown",
   "id": "5a8187e5-7884-4dc8-8b9a-f81b0e1d6554",
   "metadata": {},
   "source": [
    "Based on columns and query structure from Neven's notebook:\n",
    "\n",
    "https://github.com/lsst-sitcom/notebooks_dia/blob/main/OR4/N_obj_src_truth_and_det.ipynb"
   ]
  },
  {
   "cell_type": "code",
   "execution_count": 3,
   "id": "e8c86ec6-183b-4e38-a7d7-ef9f9640270e",
   "metadata": {
    "execution": {
     "iopub.execute_input": "2024-12-04T18:08:26.599585Z",
     "iopub.status.busy": "2024-12-04T18:08:26.599304Z",
     "iopub.status.idle": "2024-12-04T18:08:26.603379Z",
     "shell.execute_reply": "2024-12-04T18:08:26.602983Z",
     "shell.execute_reply.started": "2024-12-04T18:08:26.599570Z"
    }
   },
   "outputs": [],
   "source": [
    "columns = [\n",
    "    \"diaSourceId\", \n",
    "    \"diaObjectId\", \n",
    "    \"ra\", \n",
    "    \"dec\", \n",
    "    \"raErr\", \n",
    "    \"decErr\", \n",
    "    \"midpointMjdTai\", \n",
    "    \"psfFlux\", \n",
    "    \"psfFluxErr\", \n",
    "    \"scienceFlux\", \n",
    "    \"scienceFluxErr\", \n",
    "    \"snr\", \n",
    "    \"band\", \n",
    "    \"visit\",\n",
    "    \"detector\",\n",
    "    \"x\",\n",
    "    \"xErr\",\n",
    "    \"y\",\n",
    "    \"yErr\",\n",
    "    \"time_processed\", \n",
    "    \"time_withdrawn\",\n",
    "    \"isDipole\",\n",
    "    \"centroid_flag\",\n",
    "    \"apFlux_flag\",\n",
    "    \"apFlux_flag_apertureTruncated\",\n",
    "    \"psfFlux_flag\",\n",
    "    \"psfFlux_flag_edge\",\n",
    "    \"psfFlux_flag_noGoodPixels\",\n",
    "    \"trail_flag_edge\",\n",
    "    \"forced_PsfFlux_flag\",\n",
    "    \"forced_PsfFlutx_flag_edge\",\n",
    "    \"forced_PsfFlux_flag_noGoodPixels\",\n",
    "    \"shape_flag\",\n",
    "    \"shape_flag_no_pixels\",\n",
    "    \"shape_flag_not_contained\",\n",
    "    \"shape_flag_parent_source\",\n",
    "    \"pixelFlags\",\n",
    "    \"pixelFlags_bad\",\n",
    "    \"pixelFlags_cr\",\n",
    "    \"pixelFlags_crCenter\",\n",
    "    \"pixelFlags_edge\",\n",
    "    \"pixelFlags_interpolated\",\n",
    "    \"pixelFlags_interpolatedCenter\",\n",
    "    \"pixelFlags_offimage\",\n",
    "    \"pixelFlags_saturated\",\n",
    "    \"pixelFlags_saturatedCenter\",\n",
    "    \"pixelFlags_suspect\",\n",
    "    \"pixelFlags_suspectCenter\",\n",
    "    \"pixelFlags_streak\",\n",
    "    \"pixelFlags_streakCenter\",\n",
    "    \"pixelFlags_injected\",\n",
    "    \"pixelFlags_injectedCenter\",\n",
    "    \"pixelFlags_injected_template\",\n",
    "    \"pixelFlags_injected_templateCenter\",\n",
    "    \"reliability\"\n",
    "]\n",
    "\n",
    "# Convert list of columns into a comma-separated string\n",
    "columns_string = ', '.join(f'\"{col}\"' for col in columns)"
   ]
  },
  {
   "cell_type": "markdown",
   "id": "f0fd0bce",
   "metadata": {},
   "source": [
    "Let's connect to APDB to get the LSST ComCam simulation data (OR4):"
   ]
  },
  {
   "cell_type": "code",
   "execution_count": 3,
   "id": "cdd2612d",
   "metadata": {},
   "outputs": [],
   "source": [
    "schema='jeremym_ppdb_replication_test_3'\n",
    "instrument = 'LSSTComCamSim'\n",
    "apdbQuery = apdb.ApdbPostgresQuery(instrument=instrument, namespace=schema)"
   ]
  },
  {
   "cell_type": "markdown",
   "id": "93f9d196",
   "metadata": {},
   "source": [
    "Let's check how many DIA objects there are so that we can query and store the data in parquet:"
   ]
  },
  {
   "cell_type": "code",
   "execution_count": 5,
   "id": "62e50c8e-25f1-4f62-834a-e76337764b63",
   "metadata": {
    "execution": {
     "iopub.execute_input": "2024-12-04T19:51:13.198106Z",
     "iopub.status.busy": "2024-12-04T19:51:13.197509Z",
     "iopub.status.idle": "2024-12-04T19:51:15.256227Z",
     "shell.execute_reply": "2024-12-04T19:51:15.255816Z",
     "shell.execute_reply.started": "2024-12-04T19:51:13.198081Z"
    }
   },
   "outputs": [
    {
     "data": {
      "text/html": [
       "<div>\n",
       "<style scoped>\n",
       "    .dataframe tbody tr th:only-of-type {\n",
       "        vertical-align: middle;\n",
       "    }\n",
       "\n",
       "    .dataframe tbody tr th {\n",
       "        vertical-align: top;\n",
       "    }\n",
       "\n",
       "    .dataframe thead th {\n",
       "        text-align: right;\n",
       "    }\n",
       "</style>\n",
       "<table border=\"1\" class=\"dataframe\">\n",
       "  <thead>\n",
       "    <tr style=\"text-align: right;\">\n",
       "      <th></th>\n",
       "      <th>count</th>\n",
       "    </tr>\n",
       "  </thead>\n",
       "  <tbody>\n",
       "    <tr>\n",
       "      <th>0</th>\n",
       "      <td>12222552</td>\n",
       "    </tr>\n",
       "  </tbody>\n",
       "</table>\n",
       "</div>"
      ],
      "text/plain": [
       "      count\n",
       "0  12222552"
      ]
     },
     "execution_count": 5,
     "metadata": {},
     "output_type": "execute_result"
    }
   ],
   "source": [
    "with apdbQuery.connection as connection:\n",
    "    src4_field = pd.read_sql_query(f'''\n",
    "        SELECT count(\"diaObjectId\")\n",
    "        FROM \"{schema}\".\"DiaObject\"\n",
    "    ''', connection)\n",
    "src4_field"
   ]
  },
  {
   "cell_type": "code",
   "execution_count": 6,
   "id": "a29eb0f3-fe6c-430f-bb73-f53bc2907d99",
   "metadata": {
    "execution": {
     "iopub.execute_input": "2024-12-04T18:26:02.401620Z",
     "iopub.status.busy": "2024-12-04T18:26:02.401328Z",
     "iopub.status.idle": "2024-12-04T18:32:55.498205Z",
     "shell.execute_reply": "2024-12-04T18:32:55.497774Z",
     "shell.execute_reply.started": "2024-12-04T18:26:02.401606Z"
    }
   },
   "outputs": [
    {
     "name": "stderr",
     "output_type": "stream",
     "text": [
      "100%|█████████████████████████████████████████████████████████████████████████████████████████████████████████████████████████████████████████████████████████████████████| 26/26 [15:30<00:00, 35.78s/it]\n"
     ]
    }
   ],
   "source": [
    "with apdbQuery.connection as connection:\n",
    "    for lower in tqdm(range(0, 13_000_000, 500_000)):\n",
    "        src4_field = pd.read_sql_query(f'''\n",
    "            SELECT *\n",
    "            FROM \"{schema}\".\"DiaObject\"\n",
    "            LIMIT 500000\n",
    "            offset {lower}\n",
    "        ''', connection)\n",
    "        src4_field.to_parquet(f\"{out_dir}/object/object_{lower}.parquet\")"
   ]
  },
  {
   "cell_type": "code",
   "execution_count": 10,
   "id": "136b2689-9c04-4068-8874-0cfd24feb248",
   "metadata": {
    "execution": {
     "iopub.execute_input": "2024-12-04T18:11:07.823112Z",
     "iopub.status.busy": "2024-12-04T18:11:07.822788Z",
     "iopub.status.idle": "2024-12-04T18:21:00.776897Z",
     "shell.execute_reply": "2024-12-04T18:21:00.776424Z",
     "shell.execute_reply.started": "2024-12-04T18:11:07.823085Z"
    }
   },
   "outputs": [
    {
     "name": "stderr",
     "output_type": "stream",
     "text": [
      "100%|███████████████████████████████████████████████████████████████████████████████████████████████████████████████████████| 13/13 [16:28<00:00, 76.05s/it]\n"
     ]
    }
   ],
   "source": [
    "with apdbQuery.connection as connection:\n",
    "    for lower in tqdm(range(0, 13_000_000, 1_000_000)):\n",
    "        src4_field = pd.read_sql_query(f'''\n",
    "            SELECT *\n",
    "            FROM \"{schema}\".\"DiaSource\"\n",
    "            LIMIT 1000000\n",
    "            offset {lower}\n",
    "        ''', connection)\n",
    "        src4_field.to_parquet(f\"{out_dir}/source/source_{lower}.parquet\")"
   ]
  },
  {
   "cell_type": "code",
   "execution_count": 12,
   "id": "2ad1aa86-2021-4aa3-83ca-f6a9da15d5a7",
   "metadata": {},
   "outputs": [
    {
     "name": "stderr",
     "output_type": "stream",
     "text": [
      "100%|███████████████████████████████████████████████████████████████████████████████████████████████████████████████████████| 70/70 [16:34<00:00, 14.21s/it]\n"
     ]
    }
   ],
   "source": [
    "with apdbQuery.connection as connection:\n",
    "    for lower in tqdm(range(0, 70_000_000, 1_000_000)):\n",
    "        src4_field = pd.read_sql_query(f'''\n",
    "            SELECT *\n",
    "            FROM \"{schema}\".\"DiaForcedSource\"\n",
    "            LIMIT 1000000\n",
    "            offset {lower}\n",
    "        ''', connection)\n",
    "        src4_field.to_parquet(f\"{out_dir}/forced/forced_{lower}.parquet\")"
   ]
  },
  {
   "cell_type": "markdown",
   "id": "b595ac0d",
   "metadata": {},
   "source": [
    "There are apparently a lot of duplicates (~85%)! We will select only those rows of latest validity in the upcoming notebooks."
   ]
  },
  {
   "cell_type": "code",
   "execution_count": 9,
   "id": "03647fe0",
   "metadata": {},
   "outputs": [
    {
     "data": {
      "text/html": [
       "<div>\n",
       "<style scoped>\n",
       "    .dataframe tbody tr th:only-of-type {\n",
       "        vertical-align: middle;\n",
       "    }\n",
       "\n",
       "    .dataframe tbody tr th {\n",
       "        vertical-align: top;\n",
       "    }\n",
       "\n",
       "    .dataframe thead th {\n",
       "        text-align: right;\n",
       "    }\n",
       "</style>\n",
       "<table border=\"1\" class=\"dataframe\">\n",
       "  <thead>\n",
       "    <tr style=\"text-align: right;\">\n",
       "      <th></th>\n",
       "      <th>unique_id_ratio</th>\n",
       "    </tr>\n",
       "  </thead>\n",
       "  <tbody>\n",
       "    <tr>\n",
       "      <th>0</th>\n",
       "      <td>0.146611</td>\n",
       "    </tr>\n",
       "  </tbody>\n",
       "</table>\n",
       "</div>"
      ],
      "text/plain": [
       "   unique_id_ratio\n",
       "0         0.146611"
      ]
     },
     "execution_count": 9,
     "metadata": {},
     "output_type": "execute_result"
    }
   ],
   "source": [
    "with apdbQuery.connection as connection:\n",
    "    src4_field = pd.read_sql_query(f'''\n",
    "        SELECT cast(count(distinct(\"diaObjectId\")) as float) / count(\"diaObjectId\") as unique_id_ratio\n",
    "        FROM \"{schema}\".\"DiaObject\"\n",
    "    ''', connection)\n",
    "src4_field"
   ]
  },
  {
   "cell_type": "code",
   "execution_count": null,
   "id": "2563d5a5",
   "metadata": {},
   "outputs": [],
   "source": []
  }
 ],
 "metadata": {
  "kernelspec": {
   "display_name": "Python 3 (ipykernel)",
   "language": "python",
   "name": "python3"
  },
  "language_info": {
   "codemirror_mode": {
    "name": "ipython",
    "version": 3
   },
   "file_extension": ".py",
   "mimetype": "text/x-python",
   "name": "python",
   "nbconvert_exporter": "python",
   "pygments_lexer": "ipython3",
   "version": "3.11.9"
  }
 },
 "nbformat": 4,
 "nbformat_minor": 5
}
