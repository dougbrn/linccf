{
 "cells": [
  {
   "cell_type": "code",
   "execution_count": 1,
   "metadata": {
    "execution": {
     "iopub.execute_input": "2025-02-17T16:21:28.520698Z",
     "iopub.status.busy": "2025-02-17T16:21:28.520416Z",
     "iopub.status.idle": "2025-02-17T16:21:36.590004Z",
     "shell.execute_reply": "2025-02-17T16:21:36.589425Z",
     "shell.execute_reply.started": "2025-02-17T16:21:28.520681Z"
    }
   },
   "outputs": [],
   "source": [
    "import json\n",
    "from pathlib import Path\n",
    "\n",
    "import matplotlib.pyplot as plt\n",
    "import numpy as np\n",
    "from astropy.visualization import ImageNormalize, AsinhStretch\n",
    "from astropy.wcs import WCS\n",
    "from lsst.afw.image import ExposureF\n",
    "from lsst.daf.butler import Butler\n",
    "from reproject import reproject_interp\n",
    "from tqdm.auto import tqdm\n",
    "\n",
    "from single_object import create_wcs, get_cutout, load_object_and_forced, BAND_COLORS\n",
    "\n",
    "repo = \"/repo/main\"\n",
    "instrument = \"LSSTComCam\"\n",
    "release = \"w_2025_06\"\n",
    "collection = f\"LSSTComCam/runs/DRP/DP1/{release}/DM-48810\"\n",
    "butler = Butler(repo, collections=collection)\n",
    "\n",
    "\n",
    "hats_path = Path(\"/sdf/data/rubin/shared/lsdb_commissioning/hats/\") / release"
   ]
  },
  {
   "cell_type": "code",
   "execution_count": 2,
   "metadata": {
    "execution": {
     "iopub.execute_input": "2025-02-17T16:21:36.590683Z",
     "iopub.status.busy": "2025-02-17T16:21:36.590534Z",
     "iopub.status.idle": "2025-02-17T16:21:36.967661Z",
     "shell.execute_reply": "2025-02-17T16:21:36.967078Z",
     "shell.execute_reply.started": "2025-02-17T16:21:36.590664Z"
    }
   },
   "outputs": [
    {
     "name": "stdout",
     "output_type": "stream",
     "text": [
      "rm: cannot remove 'animation/*.png': No such file or directory\n"
     ]
    }
   ],
   "source": [
    "!rm animation/*.png"
   ]
  },
  {
   "cell_type": "code",
   "execution_count": 3,
   "metadata": {
    "execution": {
     "iopub.execute_input": "2025-02-17T16:21:36.968732Z",
     "iopub.status.busy": "2025-02-17T16:21:36.968548Z",
     "iopub.status.idle": "2025-02-17T16:24:14.724019Z",
     "shell.execute_reply": "2025-02-17T16:24:14.723200Z",
     "shell.execute_reply.started": "2025-02-17T16:21:36.968714Z"
    }
   },
   "outputs": [
    {
     "name": "stderr",
     "output_type": "stream",
     "text": [
      "/sdf/data/rubin/user/kostya/linccf/.venv/lib/python3.11/site-packages/lsdb/dask/join_catalog_data.py:332: RuntimeWarning: Right catalog does not have a margin cache. Results may be incomplete and/or inaccurate.\n",
      "  warnings.warn(\n"
     ]
    },
    {
     "data": {
      "application/vnd.jupyter.widget-view+json": {
       "model_id": "f395c1ea917e4b3ca0f72a22dedf3e09",
       "version_major": 2,
       "version_minor": 0
      },
      "text/plain": [
       "  0%|          | 0/300 [00:00<?, ?it/s]"
      ]
     },
     "metadata": {},
     "output_type": "display_data"
    }
   ],
   "source": [
    "size = 200\n",
    "crop_size = 100\n",
    "bands_to_consider = 'grizy'\n",
    "\n",
    "n_frames = 300\n",
    "\n",
    "# oid = 2430439666873285985\n",
    "# period = 0.23554\n",
    "\n",
    "# oid = 2132990985234301955\n",
    "# period = false\n",
    "\n",
    "# oid = 2430518831710486438\n",
    "# period = False\n",
    "\n",
    "oid = 2132990985234302106\n",
    "period = False\n",
    "\n",
    "cutout_path = Path('cutouts')\n",
    "cutout_path.mkdir(parents=True, exist_ok=True)\n",
    "animation_path = Path('animation')\n",
    "animation_path.mkdir(parents=True, exist_ok=True)\n",
    "\n",
    "obj = load_object_and_forced(oid, hats_path)\n",
    "if period:\n",
    "    lc = obj.lc.assign(phase=obj.lc.midpointMjdTai % period / period)\n",
    "else:\n",
    "    lc = obj.lc\n",
    "\n",
    "\n",
    "# vmax = 2e-4 * obj.lc.psfFlux.max()vmax = 2e-4 * obj.lc.psfFlux.max()\n",
    "vmax = 1e-2 * obj.lc.psfFlux.max()\n",
    "\n",
    "\n",
    "def make_fig(ph0, ph1, band1):\n",
    "    fig, ax = plt.subplots(1, 2, figsize=(15, 5), gridspec_kw={'width_ratios': [2, 1]})\n",
    "\n",
    "    fig.suptitle(f'OID = {oid}' + f' Period = {period:.5f} d' if period else '')\n",
    "\n",
    "    if period:\n",
    "        ax[0].set_xlabel('phase')\n",
    "    else:\n",
    "        ax[0].set_xlabel('MJD')\n",
    "    ax[0].set_ylabel('mag')\n",
    "    ax[0].invert_yaxis()\n",
    "    if period:\n",
    "        ax[0].set_xlim(0, 1)\n",
    "    for b in bands_to_consider:\n",
    "        i = lc.band == b\n",
    "        if period:\n",
    "            x_values = lc.phase[i]\n",
    "        else:\n",
    "            x_values = obj.lc.midpointMjdTai[i]\n",
    "        ax[0].errorbar(x_values, lc.psfMag[i], lc.psfMagErr[i], fmt='o', color=BAND_COLORS[b], label=b, alpha=0.3)\n",
    "    ax[0].vlines(ph0, *ax[0].get_ylim(), color='black', lw=4, label=f'phase = {ph0:.3f}' if period else f'MJD = {ph0:.1f}')\n",
    "    ax[0].legend(loc='upper left')\n",
    "\n",
    "    ax[1].set_frame_on(False)  # Hide the frame\n",
    "    ax[1].set_xticks([])  # Remove x ticks\n",
    "    ax[1].set_yticks([])  # Remove y ticks\n",
    "    ax[1].set_aspect(1)\n",
    "    if period:\n",
    "        ax[1].set_title(f'phase = {ph1:.3f}, band = {band1}')\n",
    "    else:\n",
    "        ax[1].set_title(f'MJD = {ph1:.5f}, band = {band1}')\n",
    "\n",
    "    return fig, ax\n",
    "\n",
    "\n",
    "reproject_wcs = create_wcs(obj.coord_ra, obj.coord_dec, size=size)\n",
    "\n",
    "if period:\n",
    "    x_ = np.linspace(0, 1, n_frames)\n",
    "else:\n",
    "    x_ = np.linspace(lc.midpointMjdTai.min(), lc.midpointMjdTai.max(), n_frames)\n",
    "\n",
    "for x in tqdm(x_):\n",
    "    closest_index = (lc.query(f'band in {list(bands_to_consider)}')['phase' if period else 'midpointMjdTai'] - x).abs().idxmin()\n",
    "    row = lc.loc[closest_index]\n",
    "    \n",
    "    if period:\n",
    "        ph1 = row.phase\n",
    "    else:\n",
    "        ph1 = row.midpointMjdTai\n",
    "    fig, ax = make_fig(x, ph1, row.band)\n",
    "\n",
    "    fits_file = cutout_path / f'{row.forcedSourceId}.fits'\n",
    "    json_file = cutout_path / f'{row.forcedSourceId}.json'\n",
    "    if fits_file.exists() and json_file.exists():\n",
    "        image = ExposureF.readFits(str(fits_file))\n",
    "    else:\n",
    "        data_id = dict(visit=row.visit, detector=row.detector, instrument=\"LSSTComCam\")\n",
    "        image, box = get_cutout(butler, data_id, obj.coord_ra, obj.coord_dec, size=size)\n",
    "        image.writeFits(str(fits_file))\n",
    "        cutout_box_min_corner = box.getCorners()[0]\n",
    "        with open(json_file, 'w') as fh:\n",
    "            json.dump({'corner0': {'x': cutout_box_min_corner.x, 'y': cutout_box_min_corner.y}}, fh)\n",
    "    \n",
    "    with open(json_file) as fh:\n",
    "        json_data = json.load(fh)\n",
    "    corner_x, corner_y = json_data['corner0']['x'], json_data['corner0']['y']\n",
    "\n",
    "    wcs = WCS(image.wcs.getFitsMetadata())\n",
    "    wcs.wcs.crpix[0] -= corner_x\n",
    "    wcs.wcs.crpix[1] -= corner_y\n",
    "    \n",
    "    image_array, _footprint = reproject_interp(\n",
    "        (image.getImage().getArray(), wcs),\n",
    "        reproject_wcs,\n",
    "        shape_out=(size, size),\n",
    "        order='bicubic',\n",
    "    )\n",
    "    ident = (size - crop_size)//2\n",
    "    crop_array = image_array[ident:size-ident, ident:size-ident]\n",
    "    \n",
    "    norm = ImageNormalize(crop_array, vmin=0, vmax=vmax, stretch=AsinhStretch(0.1))\n",
    "    ax[1].imshow(crop_array, cmap='gray', origin='lower', norm=norm)\n",
    "\n",
    "    fig.savefig(animation_path / f'{x:.5f}.png')\n",
    "    plt.close()"
   ]
  },
  {
   "cell_type": "code",
   "execution_count": 4,
   "metadata": {
    "execution": {
     "iopub.execute_input": "2025-02-17T16:24:14.725323Z",
     "iopub.status.busy": "2025-02-17T16:24:14.724707Z",
     "iopub.status.idle": "2025-02-17T16:24:15.954582Z",
     "shell.execute_reply": "2025-02-17T16:24:15.953786Z",
     "shell.execute_reply.started": "2025-02-17T16:24:14.725305Z"
    }
   },
   "outputs": [
    {
     "name": "stdout",
     "output_type": "stream",
     "text": [
      "ffmpeg version 6.1.1 Copyright (c) 2000-2023 the FFmpeg developers\n",
      "  built with gcc 12.3.0 (conda-forge gcc 12.3.0-10)\n",
      "  configuration: --prefix=/home/conda/feedstock_root/build_artifacts/ffmpeg_1718838163959/_h_env_placehold_placehold_placehold_placehold_placehold_placehold_placehold_placehold_placehold_placehold_placehold_placehold_placehold_placehold_placehold_placehold_placehold_placehold_plac --cc=/home/conda/feedstock_root/build_artifacts/ffmpeg_1718838163959/_build_env/bin/x86_64-conda-linux-gnu-cc --cxx=/home/conda/feedstock_root/build_artifacts/ffmpeg_1718838163959/_build_env/bin/x86_64-conda-linux-gnu-c++ --nm=/home/conda/feedstock_root/build_artifacts/ffmpeg_1718838163959/_build_env/bin/x86_64-conda-linux-gnu-nm --ar=/home/conda/feedstock_root/build_artifacts/ffmpeg_1718838163959/_build_env/bin/x86_64-conda-linux-gnu-ar --disable-doc --disable-openssl --enable-demuxer=dash --enable-hardcoded-tables --enable-libfreetype --enable-libharfbuzz --enable-libfontconfig --enable-libopenh264 --enable-libdav1d --enable-gnutls --enable-libmp3lame --enable-libvpx --enable-libass --enable-pthreads --enable-vaapi --enable-libopenvino --enable-gpl --enable-libx264 --enable-libx265 --enable-libaom --enable-libsvtav1 --enable-libxml2 --enable-pic --enable-shared --disable-static --enable-version3 --enable-zlib --enable-libopus --pkg-config=/home/conda/feedstock_root/build_artifacts/ffmpeg_1718838163959/_build_env/bin/pkg-config\n",
      "  libavutil      58. 29.100 / 58. 29.100\n",
      "  libavcodec     60. 31.102 / 60. 31.102\n",
      "  libavformat    60. 16.100 / 60. 16.100\n",
      "  libavdevice    60.  3.100 / 60.  3.100\n",
      "  libavfilter     9. 12.100 /  9. 12.100\n",
      "  libswscale      7.  5.100 /  7.  5.100\n",
      "  libswresample   4. 12.100 /  4. 12.100\n",
      "  libpostproc    57.  3.100 / 57.  3.100\n",
      "Input #0, image2, from 'animation/*.png':\n",
      "  Duration: 00:00:05.00, start: 0.000000, bitrate: N/A\n",
      "  Stream #0:0: Video: png, rgba(pc, gbr/unknown/unknown), 1500x500 [SAR 3937:3937 DAR 3:1], 60 fps, 60 tbr, 60 tbn\n",
      "Stream mapping:\n",
      "  Stream #0:0 -> #0:0 (png (native) -> h264 (libx264))\n",
      "Press [q] to stop, [?] for help\n",
      "\u001b[1;36m[libx264 @ 0x56027f94efc0] \u001b[0musing SAR=1/1\n",
      "\u001b[1;36m[libx264 @ 0x56027f94efc0] \u001b[0musing cpu capabilities: MMX2 SSE2Fast SSSE3 SSE4.2 AVX FMA3 BMI2 AVX2\n",
      "\u001b[1;36m[libx264 @ 0x56027f94efc0] \u001b[0mprofile High, level 3.2, 4:2:0, 8-bit\n",
      "\u001b[1;36m[libx264 @ 0x56027f94efc0] \u001b[0m264 - core 164 r3095 baee400 - H.264/MPEG-4 AVC codec - Copyleft 2003-2022 - http://www.videolan.org/x264.html - options: cabac=1 ref=3 deblock=1:0:0 analyse=0x3:0x113 me=hex subme=7 psy=1 psy_rd=1.00:0.00 mixed_ref=1 me_range=16 chroma_me=1 trellis=1 8x8dct=1 cqm=0 deadzone=21,11 fast_pskip=1 chroma_qp_offset=-2 threads=16 lookahead_threads=2 sliced_threads=0 nr=0 decimate=1 interlaced=0 bluray_compat=0 constrained_intra=0 bframes=3 b_pyramid=2 b_adapt=1 b_bias=0 direct=1 weightb=1 open_gop=0 weightp=2 keyint=250 keyint_min=25 scenecut=40 intra_refresh=0 rc_lookahead=40 rc=crf mbtree=1 crf=23.0 qcomp=0.60 qpmin=0 qpmax=69 qpstep=4 ip_ratio=1.40 aq=1:1.00\n",
      "Output #0, mp4, to 'animation.mp4':\n",
      "  Metadata:\n",
      "    encoder         : Lavf60.16.100\n",
      "  Stream #0:0: Video: h264 (avc1 / 0x31637661), yuv420p(tv, progressive), 1500x500 [SAR 1:1 DAR 3:1], q=2-31, 60 fps, 15360 tbn\n",
      "    Metadata:\n",
      "      encoder         : Lavc60.31.102 libx264\n",
      "    Side data:\n",
      "      cpb: bitrate max/min/avg: 0/0/0 buffer size: 0 vbv_delay: N/A\n",
      "\u001b[1;35m[out#0/mp4 @ 0x56027f94bf40] \u001b[0mvideo:1140kB audio:0kB subtitle:0kB other streams:0kB global headers:0kB muxing overhead: 0.365653%\n",
      "frame=  300 fps=0.0 q=-1.0 Lsize=    1145kB time=00:00:04.95 bitrate=1894.2kbits/s speed=8.28x    \n",
      "\u001b[1;36m[libx264 @ 0x56027f94efc0] \u001b[0mframe I:3     Avg QP:22.34  size: 41125\n",
      "\u001b[1;36m[libx264 @ 0x56027f94efc0] \u001b[0mframe P:88    Avg QP:25.46  size: 10629\n",
      "\u001b[1;36m[libx264 @ 0x56027f94efc0] \u001b[0mframe B:209   Avg QP:32.25  size:   519\n",
      "\u001b[1;36m[libx264 @ 0x56027f94efc0] \u001b[0mconsecutive B-frames:  1.0%  8.7% 29.0% 61.3%\n",
      "\u001b[1;36m[libx264 @ 0x56027f94efc0] \u001b[0mmb I  I16..4: 34.9% 39.6% 25.5%\n",
      "\u001b[1;36m[libx264 @ 0x56027f94efc0] \u001b[0mmb P  I16..4:  0.7%  0.7%  5.9%  P16..4:  1.0%  0.6%  0.4%  0.0%  0.0%    skip:90.6%\n",
      "\u001b[1;36m[libx264 @ 0x56027f94efc0] \u001b[0mmb B  I16..4:  0.1%  0.1%  0.2%  B16..8:  2.8%  0.2%  0.1%  direct: 0.0%  skip:96.4%  L0:50.9% L1:47.2% BI: 1.9%\n",
      "\u001b[1;36m[libx264 @ 0x56027f94efc0] \u001b[0m8x8 transform intra:19.3% inter:18.3%\n",
      "\u001b[1;36m[libx264 @ 0x56027f94efc0] \u001b[0mcoded y,uvDC,uvAC intra: 61.9% 2.2% 2.0% inter: 0.4% 0.0% 0.0%\n",
      "\u001b[1;36m[libx264 @ 0x56027f94efc0] \u001b[0mi16 v,h,dc,p: 74% 21%  5%  0%\n",
      "\u001b[1;36m[libx264 @ 0x56027f94efc0] \u001b[0mi8 v,h,dc,ddl,ddr,vr,hd,vl,hu: 44%  9% 40%  1%  1%  1%  1%  1%  2%\n",
      "\u001b[1;36m[libx264 @ 0x56027f94efc0] \u001b[0mi4 v,h,dc,ddl,ddr,vr,hd,vl,hu: 32% 27% 16%  4%  6%  4%  4%  3%  4%\n",
      "\u001b[1;36m[libx264 @ 0x56027f94efc0] \u001b[0mi8c dc,h,v,p: 98%  0%  2%  0%\n",
      "\u001b[1;36m[libx264 @ 0x56027f94efc0] \u001b[0mWeighted P-Frames: Y:0.0% UV:0.0%\n",
      "\u001b[1;36m[libx264 @ 0x56027f94efc0] \u001b[0mref P L0: 66.8%  6.6% 16.7%  9.8%\n",
      "\u001b[1;36m[libx264 @ 0x56027f94efc0] \u001b[0mref B L0: 78.5% 18.7%  2.7%\n",
      "\u001b[1;36m[libx264 @ 0x56027f94efc0] \u001b[0mref B L1: 96.0%  4.0%\n",
      "\u001b[1;36m[libx264 @ 0x56027f94efc0] \u001b[0mkb/s:1867.33\n"
     ]
    }
   ],
   "source": [
    "! ffmpeg -y -framerate 60 -pattern_type glob -i 'animation/*.png' -c:v libx264 -pix_fmt yuv420p animation.mp4"
   ]
  }
 ],
 "metadata": {
  "kernelspec": {
   "display_name": "linccf",
   "language": "python",
   "name": "linccf"
  },
  "language_info": {
   "codemirror_mode": {
    "name": "ipython",
    "version": 3
   },
   "file_extension": ".py",
   "mimetype": "text/x-python",
   "name": "python",
   "nbconvert_exporter": "python",
   "pygments_lexer": "ipython3",
   "version": "3.11.9"
  }
 },
 "nbformat": 4,
 "nbformat_minor": 4
}
