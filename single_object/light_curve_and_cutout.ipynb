{
 "cells": [
  {
   "cell_type": "code",
   "execution_count": 1,
   "metadata": {
    "execution": {
     "iopub.execute_input": "2025-02-18T19:31:32.495822Z",
     "iopub.status.busy": "2025-02-18T19:31:32.495576Z",
     "iopub.status.idle": "2025-02-18T19:31:32.498015Z",
     "shell.execute_reply": "2025-02-18T19:31:32.497617Z",
     "shell.execute_reply.started": "2025-02-18T19:31:32.495805Z"
    }
   },
   "outputs": [],
   "source": [
    "# Re-start Jupyter server after this\n",
    "# %pip install -U anywidget jupyterlab-widgets lsdb plotly reproject"
   ]
  },
  {
   "cell_type": "code",
   "execution_count": 2,
   "metadata": {
    "execution": {
     "iopub.execute_input": "2025-02-18T19:31:32.498760Z",
     "iopub.status.busy": "2025-02-18T19:31:32.498531Z",
     "iopub.status.idle": "2025-02-18T19:31:39.653657Z",
     "shell.execute_reply": "2025-02-18T19:31:39.653103Z",
     "shell.execute_reply.started": "2025-02-18T19:31:32.498747Z"
    }
   },
   "outputs": [],
   "source": [
    "from single_object import make_figure"
   ]
  },
  {
   "cell_type": "code",
   "execution_count": 3,
   "metadata": {
    "execution": {
     "iopub.execute_input": "2025-02-18T19:31:39.654647Z",
     "iopub.status.busy": "2025-02-18T19:31:39.654301Z",
     "iopub.status.idle": "2025-02-18T19:31:41.009366Z",
     "shell.execute_reply": "2025-02-18T19:31:41.008847Z",
     "shell.execute_reply.started": "2025-02-18T19:31:39.654632Z"
    }
   },
   "outputs": [
    {
     "data": {
      "text/plain": [
       "<lsst.daf.butler.direct_butler._direct_butler.DirectButler at 0x7f582835db50>"
      ]
     },
     "execution_count": 3,
     "metadata": {},
     "output_type": "execute_result"
    }
   ],
   "source": [
    "from lsst.daf.butler import Butler\n",
    "\n",
    "repo = \"/repo/main\"\n",
    "instrument = \"LSSTComCam\"\n",
    "release = \"w_2025_06\"\n",
    "collection = f\"LSSTComCam/runs/DRP/DP1/{release}/DM-48810\"\n",
    "\n",
    "butler = Butler(repo, collections=collection)\n",
    "butler"
   ]
  },
  {
   "cell_type": "code",
   "execution_count": 4,
   "metadata": {
    "execution": {
     "iopub.execute_input": "2025-02-18T19:31:41.010257Z",
     "iopub.status.busy": "2025-02-18T19:31:41.010029Z",
     "iopub.status.idle": "2025-02-18T19:31:41.017434Z",
     "shell.execute_reply": "2025-02-18T19:31:41.017040Z",
     "shell.execute_reply.started": "2025-02-18T19:31:41.010240Z"
    }
   },
   "outputs": [
    {
     "name": "stdout",
     "output_type": "stream",
     "text": [
      "['/sdf/data/rubin/shared/lsdb_commissioning/hats/w_2025_06/object_lc_x_ps1', '/sdf/data/rubin/shared/lsdb_commissioning/hats/w_2025_06/diaObject_lc_x_ztf_dr22', '/sdf/data/rubin/shared/lsdb_commissioning/hats/w_2025_06/diaObject_lc_x_ps1', '/sdf/data/rubin/shared/lsdb_commissioning/hats/w_2025_06/diaSource', '/sdf/data/rubin/shared/lsdb_commissioning/hats/w_2025_06/diaObject', '/sdf/data/rubin/shared/lsdb_commissioning/hats/w_2025_06/object_lc_x_ztf_dr22', '/sdf/data/rubin/shared/lsdb_commissioning/hats/w_2025_06/object', '/sdf/data/rubin/shared/lsdb_commissioning/hats/w_2025_06/diaForcedSource', '/sdf/data/rubin/shared/lsdb_commissioning/hats/w_2025_06/forcedSource', '/sdf/data/rubin/shared/lsdb_commissioning/hats/w_2025_06/diaObject_lc', '/sdf/data/rubin/shared/lsdb_commissioning/hats/w_2025_06/object_lc', '/sdf/data/rubin/shared/lsdb_commissioning/hats/w_2025_06/source']\n"
     ]
    }
   ],
   "source": [
    "from pathlib import Path\n",
    "\n",
    "hats_path = Path(\"/sdf/data/rubin/shared/lsdb_commissioning/hats\") / release\n",
    "# list dir\n",
    "print(list(map(str, hats_path.iterdir())))"
   ]
  },
  {
   "cell_type": "code",
   "execution_count": 5,
   "metadata": {
    "execution": {
     "iopub.execute_input": "2025-02-18T19:31:41.018235Z",
     "iopub.status.busy": "2025-02-18T19:31:41.017949Z",
     "iopub.status.idle": "2025-02-18T19:32:10.091948Z",
     "shell.execute_reply": "2025-02-18T19:32:10.091410Z",
     "shell.execute_reply.started": "2025-02-18T19:31:41.018221Z"
    }
   },
   "outputs": [
    {
     "name": "stderr",
     "output_type": "stream",
     "text": [
      "/sdf/data/rubin/user/kostya/linccf/.venv/lib/python3.11/site-packages/lsdb/dask/join_catalog_data.py:332: RuntimeWarning: Right catalog does not have a margin cache. Results may be incomplete and/or inaccurate.\n",
      "  warnings.warn(\n"
     ]
    },
    {
     "data": {
      "application/vnd.jupyter.widget-view+json": {
       "model_id": "b34739c2d8b347db987d60adc16bb07b",
       "version_major": 2,
       "version_minor": 0
      },
      "text/plain": [
       "HBox(children=(Output(), Output(), Output()))"
      ]
     },
     "execution_count": 5,
     "metadata": {},
     "output_type": "execute_result"
    }
   ],
   "source": [
    "make_figure(2132951402815696813, butler, hats_path)"
   ]
  },
  {
   "cell_type": "code",
   "execution_count": null,
   "metadata": {},
   "outputs": [],
   "source": []
  }
 ],
 "metadata": {
  "kernelspec": {
   "display_name": "linccf",
   "language": "python",
   "name": "linccf"
  },
  "language_info": {
   "codemirror_mode": {
    "name": "ipython",
    "version": 3
   },
   "file_extension": ".py",
   "mimetype": "text/x-python",
   "name": "python",
   "nbconvert_exporter": "python",
   "pygments_lexer": "ipython3",
   "version": "3.11.9"
  }
 },
 "nbformat": 4,
 "nbformat_minor": 4
}
