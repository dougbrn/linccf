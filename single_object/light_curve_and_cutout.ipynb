{
 "cells": [
  {
   "cell_type": "code",
   "execution_count": 1,
   "metadata": {
    "execution": {
     "iopub.execute_input": "2025-01-31T19:07:11.395758Z",
     "iopub.status.busy": "2025-01-31T19:07:11.395567Z",
     "iopub.status.idle": "2025-01-31T19:07:11.398956Z",
     "shell.execute_reply": "2025-01-31T19:07:11.398389Z",
     "shell.execute_reply.started": "2025-01-31T19:07:11.395738Z"
    }
   },
   "outputs": [],
   "source": [
    "# Re-start Jupyter server after this\n",
    "# %pip install -U anywidget jupyterlab-widgets lsdb plotly reproject"
   ]
  },
  {
   "cell_type": "code",
   "execution_count": 2,
   "metadata": {
    "execution": {
     "iopub.execute_input": "2025-01-31T19:07:11.399760Z",
     "iopub.status.busy": "2025-01-31T19:07:11.399608Z",
     "iopub.status.idle": "2025-01-31T19:07:11.409183Z",
     "shell.execute_reply": "2025-01-31T19:07:11.408575Z",
     "shell.execute_reply.started": "2025-01-31T19:07:11.399745Z"
    }
   },
   "outputs": [],
   "source": [
    "from single_object import make_figure"
   ]
  },
  {
   "cell_type": "code",
   "execution_count": 3,
   "metadata": {
    "execution": {
     "iopub.execute_input": "2025-01-31T19:07:11.410153Z",
     "iopub.status.busy": "2025-01-31T19:07:11.409961Z",
     "iopub.status.idle": "2025-01-31T19:07:16.459987Z",
     "shell.execute_reply": "2025-01-31T19:07:16.459299Z",
     "shell.execute_reply.started": "2025-01-31T19:07:11.410139Z"
    }
   },
   "outputs": [
    {
     "data": {
      "text/plain": [
       "<lsst.daf.butler.direct_butler._direct_butler.DirectButler at 0x7f9898082790>"
      ]
     },
     "execution_count": 3,
     "metadata": {},
     "output_type": "execute_result"
    }
   ],
   "source": [
    "from lsst.daf.butler import Butler\n",
    "\n",
    "repo = \"/repo/main\"\n",
    "instrument = \"LSSTComCam\"\n",
    "release = \"w_2025_04\"\n",
    "collection = f\"LSSTComCam/runs/DRP/DP1/{release}/DM-48556\"\n",
    "\n",
    "butler = Butler(repo, collections=collection)\n",
    "butler"
   ]
  },
  {
   "cell_type": "code",
   "execution_count": 4,
   "metadata": {
    "execution": {
     "iopub.execute_input": "2025-01-31T19:07:20.123073Z",
     "iopub.status.busy": "2025-01-31T19:07:20.122092Z",
     "iopub.status.idle": "2025-01-31T19:07:20.129084Z",
     "shell.execute_reply": "2025-01-31T19:07:20.128313Z",
     "shell.execute_reply.started": "2025-01-31T19:07:20.123049Z"
    }
   },
   "outputs": [
    {
     "name": "stdout",
     "output_type": "stream",
     "text": [
      "['/sdf/data/rubin/shared/lsdb_commissioning/DASH/w_2025_04/hats/diaSource', '/sdf/data/rubin/shared/lsdb_commissioning/DASH/w_2025_04/hats/source', '/sdf/data/rubin/shared/lsdb_commissioning/DASH/w_2025_04/hats/diaForcedSource', '/sdf/data/rubin/shared/lsdb_commissioning/DASH/w_2025_04/hats/object', '/sdf/data/rubin/shared/lsdb_commissioning/DASH/w_2025_04/hats/diaObject', '/sdf/data/rubin/shared/lsdb_commissioning/DASH/w_2025_04/hats/forcedSource']\n"
     ]
    }
   ],
   "source": [
    "from pathlib import Path\n",
    "\n",
    "hats_path = Path(\"/sdf/data/rubin/shared/lsdb_commissioning/DASH/\") / release / \"hats\"\n",
    "# list dir\n",
    "print(list(map(str, hats_path.iterdir())))"
   ]
  },
  {
   "cell_type": "code",
   "execution_count": null,
   "metadata": {
    "execution": {
     "iopub.execute_input": "2025-01-31T22:45:37.271824Z",
     "iopub.status.busy": "2025-01-31T22:45:37.271598Z",
     "iopub.status.idle": "2025-01-31T22:45:56.947874Z",
     "shell.execute_reply": "2025-01-31T22:45:56.947341Z",
     "shell.execute_reply.started": "2025-01-31T22:45:37.271808Z"
    }
   },
   "outputs": [
    {
     "name": "stderr",
     "output_type": "stream",
     "text": [
      "/sdf/home/k/kostya/rubin-user/linccf/.venv/lib/python3.11/site-packages/lsdb/dask/join_catalog_data.py:332: RuntimeWarning: Right catalog does not have a margin cache. Results may be incomplete and/or inaccurate.\n",
      "  warnings.warn(\n"
     ]
    }
   ],
   "source": [
    "make_figure(2226792521223125339, butler, hats_path)"
   ]
  },
  {
   "cell_type": "code",
   "execution_count": null,
   "metadata": {},
   "outputs": [],
   "source": []
  }
 ],
 "metadata": {
  "kernelspec": {
   "display_name": ".venv",
   "language": "python",
   "name": "python3"
  },
  "language_info": {
   "codemirror_mode": {
    "name": "ipython",
    "version": 3
   },
   "file_extension": ".py",
   "mimetype": "text/x-python",
   "name": "python",
   "nbconvert_exporter": "python",
   "pygments_lexer": "ipython3",
   "version": "3.11.9"
  }
 },
 "nbformat": 4,
 "nbformat_minor": 4
}
