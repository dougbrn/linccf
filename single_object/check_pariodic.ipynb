{
 "cells": [
  {
   "cell_type": "code",
   "execution_count": null,
   "metadata": {
    "execution": {
     "iopub.execute_input": "2025-02-17T16:21:02.403956Z",
     "iopub.status.busy": "2025-02-17T16:21:02.403753Z",
     "iopub.status.idle": "2025-02-17T16:21:02.409459Z",
     "shell.execute_reply": "2025-02-17T16:21:02.408996Z",
     "shell.execute_reply.started": "2025-02-17T16:21:02.403940Z"
    }
   },
   "outputs": [],
   "source": [
    "RADIUS_ARCSEC = 0.2\n",
    "\n",
    "NICE_CSV = b\"\"\"ra,dec,Period\n",
    "94.95546,-24.73952,0.12095\n",
    "95.30235,-25.27431,0.12248\n",
    "94.91626,-24.69648,0.12038\n",
    "95.12418,-25.04329,0.23554\n",
    "58.83506,-48.79122,0.56335\n",
    "94.92264,-25.23185,0.07672\n",
    "94.72086,-25.05767,0.17559\n",
    "94.97073,-25.13643,0.12048\n",
    "59.12997,-48.78522,0.11628\n",
    "94.72086,-25.05767,0.17554\n",
    "\"\"\""
   ]
  },
  {
   "cell_type": "code",
   "execution_count": null,
   "metadata": {
    "execution": {
     "iopub.execute_input": "2025-02-17T16:21:02.410250Z",
     "iopub.status.busy": "2025-02-17T16:21:02.410051Z",
     "iopub.status.idle": "2025-02-17T16:21:02.412515Z",
     "shell.execute_reply": "2025-02-17T16:21:02.412120Z",
     "shell.execute_reply.started": "2025-02-17T16:21:02.410234Z"
    }
   },
   "outputs": [],
   "source": [
    "# %pip install -U lsdb nested-pandas nested-dask hats 'dask[complete]'"
   ]
  },
  {
   "cell_type": "code",
   "execution_count": null,
   "metadata": {
    "execution": {
     "iopub.execute_input": "2025-02-17T16:21:02.413220Z",
     "iopub.status.busy": "2025-02-17T16:21:02.413053Z",
     "iopub.status.idle": "2025-02-17T16:21:19.213298Z",
     "shell.execute_reply": "2025-02-17T16:21:19.212791Z",
     "shell.execute_reply.started": "2025-02-17T16:21:02.413207Z"
    }
   },
   "outputs": [],
   "source": [
    "from functools import partial\n",
    "from io import BytesIO\n",
    "from pathlib import Path\n",
    "\n",
    "import lsdb\n",
    "import matplotlib.pyplot as plt\n",
    "from nested_pandas import NestedDtype\n",
    "import pandas as pd\n",
    "from dask.distributed import Client"
   ]
  },
  {
   "cell_type": "code",
   "execution_count": null,
   "metadata": {},
   "outputs": [],
   "source": [
    "def cast_nested(df, columns):\n",
    "    return df.assign(\n",
    "        **{col: df[col].astype(NestedDtype.from_pandas_arrow_dtype(df.dtypes[col])) for col in columns},\n",
    "    )"
   ]
  },
  {
   "cell_type": "code",
   "execution_count": null,
   "metadata": {},
   "outputs": [],
   "source": [
    "release = 'w_2025_07'\n",
    "hats_path = Path(\"/sdf/data/rubin/shared/lsdb_commissioning/hats\") / release\n",
    "\n",
    "obj_catalog = lsdb.read_hats(hats_path / \"object_lc\").map_partitions(partial(cast_nested, columns=[\"forcedSource\"]))\n",
    "dia_catalog = lsdb.read_hats(hats_path / \"diaObject_lc\").map_partitions(partial(cast_nested, columns=[\"diaSource\", \"diaForcedSource\"]))\n",
    "\n",
    "nice_df = pd.read_csv(BytesIO(NICE_CSV)).reset_index()\n",
    "nice_catalog = lsdb.from_dataframe(nice_df)\n",
    "nice_catalog"
   ]
  },
  {
   "cell_type": "code",
   "execution_count": null,
   "metadata": {},
   "outputs": [],
   "source": [
    "with Client(n_workers=20, threads_per_worker=1) as client:\n",
    "    nice_obj = nice_catalog.crossmatch(obj_catalog, radius_arcsec=RADIUS_ARCSEC, suffixes=[\"_nice\", \"\"]).compute()\n",
    "    nice_dia = nice_catalog.crossmatch(dia_catalog, radius_arcsec=RADIUS_ARCSEC, suffixes=[\"_nice\", \"\"]).compute()\n",
    "print(nice_obj.shape, nice_dia.shape)\n",
    "df = pd.merge(nice_obj, nice_dia, on=\"index_nice\", suffixes=[\"_obj\", \"_dia\"])"
   ]
  },
  {
   "cell_type": "code",
   "execution_count": null,
   "metadata": {},
   "outputs": [],
   "source": [
    "COLORS = {\n",
    "    \"u\": \"#56b4e9\",\n",
    "    \"g\": \"#009e73\",\n",
    "    \"r\": \"#f0e442\",\n",
    "    \"i\": \"#cc79a7\",\n",
    "    \"z\": \"#d55e00\",\n",
    "    \"y\": \"#0072b2\",\n",
    "}\n",
    "\n",
    "\n",
    "def plot(ax, lc, x_name=\"midpointMjdTai\", x_label=\"MJD\"):\n",
    "    lc = lc.query(\n",
    "        \"~psfFlux_flag\"\n",
    "        # \" and ~pixelFlags_suspect\"\n",
    "        \" and ~pixelFlags_saturated\"\n",
    "        \" and ~pixelFlags_cr\"\n",
    "        \" and ~pixelFlags_bad\"\n",
    "    )\n",
    "\n",
    "    for band, color in COLORS.items():\n",
    "        band_lc = lc.query(f\"band == '{band}'\")\n",
    "        ax.errorbar(\n",
    "            band_lc[x_name], band_lc.psfFlux, band_lc.psfFluxErr,\n",
    "            fmt='o', label=band, color=color, alpha=0.5, markersize=4,\n",
    "        )\n",
    "    ax.set_xlabel(x_label)\n",
    "    ax.set_ylabel(\"Flux, nJy\")\n",
    "    ax.legend(loc=\"lower right\")\n",
    "\n",
    "for _, row in df.iterrows():\n",
    "    fig, ax = plt.subplots(3, 2, figsize=(10, 10))\n",
    "    for col in range(2):  # Loop over columns\n",
    "        for plot_row in range(1, 3):  # Start from second row\n",
    "            ax[plot_row, col].sharex(ax[0, col])  # Share x-axis with the first row of the same column\n",
    "    fig.suptitle(f\"RA={row.ra_nice_obj:.5f}, Dec={row.dec_nice_obj:.5f}\")\n",
    "    for ax_, lc, title in zip(ax, [row.diaSource, row.diaForcedSource, row.forcedSource], [\"Dia Source\", \"Dia Forced Source\", \"Forced Source\"]):\n",
    "        ax_[0].set_title(title)\n",
    "        lc = lc.assign(phase=(lc.midpointMjdTai - lc.midpointMjdTai.loc[lc.psfFlux.idxmax()]) % row.Period_nice_obj / row.Period_nice_obj)\n",
    "        plot(ax_[0], lc, x_name=\"midpointMjdTai\", x_label=\"MJD\")\n",
    "        plot(ax_[1], lc, x_name=\"phase\", x_label=\"phase\")\n",
    "    plt.tight_layout()\n",
    "    plt.show()"
   ]
  },
  {
   "cell_type": "code",
   "execution_count": null,
   "metadata": {},
   "outputs": [],
   "source": [
    "row.forcedSource"
   ]
  },
  {
   "cell_type": "code",
   "execution_count": null,
   "metadata": {},
   "outputs": [],
   "source": []
  }
 ],
 "metadata": {
  "kernelspec": {
   "display_name": ".venv",
   "language": "python",
   "name": "python3"
  },
  "language_info": {
   "codemirror_mode": {
    "name": "ipython",
    "version": 3
   },
   "file_extension": ".py",
   "mimetype": "text/x-python",
   "name": "python",
   "nbconvert_exporter": "python",
   "pygments_lexer": "ipython3",
   "version": "3.11.9"
  }
 },
 "nbformat": 4,
 "nbformat_minor": 4
}
