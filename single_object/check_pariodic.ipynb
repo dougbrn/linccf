{
 "cells": [
  {
   "cell_type": "code",
   "execution_count": null,
   "metadata": {
    "execution": {
     "iopub.execute_input": "2025-02-17T16:21:02.403956Z",
     "iopub.status.busy": "2025-02-17T16:21:02.403753Z",
     "iopub.status.idle": "2025-02-17T16:21:02.409459Z",
     "shell.execute_reply": "2025-02-17T16:21:02.408996Z",
     "shell.execute_reply.started": "2025-02-17T16:21:02.403940Z"
    }
   },
   "outputs": [],
   "source": [
    "RADIUS_ARCSEC = 0.2\n",
    "import astropy.units as u\n",
    "NICE_CSV = b\"\"\"ra,dec,Period\n",
    "94.95546,-24.73952,0.12095\n",
    "95.30235,-25.27431,0.12248\n",
    "94.91626,-24.69648,0.12038\n",
    "95.12418,-25.04329,0.23554\n",
    "58.83506,-48.79122,0.56335\n",
    "94.92264,-25.23185,0.07672\n",
    "94.72086,-25.05767,0.17559\n",
    "94.97073,-25.13643,0.12048\n",
    "59.12997,-48.78522,0.11628\n",
    "94.72086,-25.05767,0.17554\n",
    "\"\"\""
   ]
  },
  {
   "cell_type": "code",
   "execution_count": null,
   "metadata": {
    "execution": {
     "iopub.execute_input": "2025-02-17T16:21:02.410250Z",
     "iopub.status.busy": "2025-02-17T16:21:02.410051Z",
     "iopub.status.idle": "2025-02-17T16:21:02.412515Z",
     "shell.execute_reply": "2025-02-17T16:21:02.412120Z",
     "shell.execute_reply.started": "2025-02-17T16:21:02.410234Z"
    }
   },
   "outputs": [],
   "source": [
    "# %pip install -U lsdb nested-pandas nested-dask hats 'dask[complete]'"
   ]
  },
  {
   "cell_type": "code",
   "execution_count": null,
   "metadata": {
    "execution": {
     "iopub.execute_input": "2025-02-17T16:21:02.413220Z",
     "iopub.status.busy": "2025-02-17T16:21:02.413053Z",
     "iopub.status.idle": "2025-02-17T16:21:19.213298Z",
     "shell.execute_reply": "2025-02-17T16:21:19.212791Z",
     "shell.execute_reply.started": "2025-02-17T16:21:02.413207Z"
    }
   },
   "outputs": [],
   "source": [
    "from functools import partial\n",
    "from io import BytesIO\n",
    "from pathlib import Path\n",
    "\n",
    "import lsdb\n",
    "import matplotlib.pyplot as plt\n",
    "from nested_pandas import NestedDtype\n",
    "import pandas as pd\n",
    "from dask.distributed import Client"
   ]
  },
  {
   "cell_type": "code",
   "execution_count": null,
   "metadata": {},
   "outputs": [],
   "source": [
    "def cast_nested(df, columns):\n",
    "    return df.assign(\n",
    "        **{col: df[col].astype(NestedDtype.from_pandas_arrow_dtype(df.dtypes[col])) for col in columns},\n",
    "    )"
   ]
  },
  {
   "cell_type": "code",
   "execution_count": null,
   "metadata": {},
   "outputs": [],
   "source": [
    "release = 'w_2025_07'\n",
    "hats_path = Path(\"/sdf/data/rubin/shared/lsdb_commissioning/hats\") / release\n",
    "\n",
    "obj_catalog = lsdb.read_hats(hats_path / \"object_lc\").map_partitions(partial(cast_nested, columns=[\"forcedSource\"]))\n",
    "dia_catalog = lsdb.read_hats(hats_path / \"diaObject_lc\").map_partitions(partial(cast_nested, columns=[\"diaSource\", \"diaForcedSource\"]))\n",
    "\n",
    "nice_df = pd.read_csv(BytesIO(NICE_CSV)).reset_index()\n",
    "nice_catalog = lsdb.from_dataframe(nice_df)\n",
    "nice_catalog"
   ]
  },
  {
   "cell_type": "code",
   "execution_count": null,
   "metadata": {},
   "outputs": [],
   "source": [
    "with Client(n_workers=20, threads_per_worker=1) as client:\n",
    "    nice_obj = nice_catalog.crossmatch(obj_catalog, radius_arcsec=RADIUS_ARCSEC, suffixes=[\"_nice\", \"\"]).compute()\n",
    "    nice_dia = nice_catalog.crossmatch(dia_catalog, radius_arcsec=RADIUS_ARCSEC, suffixes=[\"_nice\", \"\"]).compute()\n",
    "print(nice_obj.shape, nice_dia.shape)\n",
    "df = pd.merge(nice_obj, nice_dia, on=\"index_nice\", suffixes=[\"_obj\", \"_dia\"])"
   ]
  },
  {
   "cell_type": "code",
   "execution_count": null,
   "metadata": {},
   "outputs": [],
   "source": [
    "def create_mag_errors(sciFlux, sciFluxErr):\n",
    "    \"\"\"Move flux into magnitudes and calculate the error on the magnitude\n",
    "    \n",
    "    Parameters\n",
    "    ----------\n",
    "    sciFlux : `float`\n",
    "        Science flux\n",
    "    sciFluxErr : `float`\n",
    "        Science flux error\n",
    "\n",
    "    Returns\n",
    "    -------\n",
    "    mag, magerr  : `float`, `float`\n",
    "        Magnitude and magnitude error\n",
    "    \"\"\"\n",
    "    \n",
    "    mag = u.nJy.to(u.ABmag, sciFlux)\n",
    "    upper_mag = u.nJy.to(u.ABmag, sciFlux+sciFluxErr)\n",
    "    lower_mag = u.nJy.to(u.ABmag, sciFlux-sciFluxErr)\n",
    "    magErr = -(upper_mag-lower_mag)/2\n",
    "    \n",
    "    return mag, magErr\n",
    "\n",
    "def create_mag(sciFlux):\n",
    "    \"\"\"Move flux into magnitudes\n",
    "    \n",
    "    Parameters\n",
    "    ----------\n",
    "    sciFlux : `float`\n",
    "        Science flux\n",
    "\n",
    "    Returns\n",
    "    -------\n",
    "    mag  : `float`\n",
    "        Magnitude\n",
    "    \"\"\"\n",
    "    \n",
    "    mag = u.nJy.to(u.ABmag, sciFlux)\n",
    "    \n",
    "    return mag"
   ]
  },
  {
   "cell_type": "code",
   "execution_count": null,
   "metadata": {},
   "outputs": [],
   "source": [
    "import matplotlib.pyplot as plt\n",
    "COLORS = {\n",
    "    \"u\": \"#56b4e9\",\n",
    "    \"g\": \"#009e73\",\n",
    "    \"r\": \"#f0e442\",\n",
    "    \"i\": \"#cc79a7\",\n",
    "    \"z\": \"#d55e00\",\n",
    "    \"y\": \"#0072b2\",\n",
    "}\n",
    "\n",
    "# Function to plot light curves in magnitude scale\n",
    "def plot(ax, lc, x_name=\"midpointMjdTai\", x_label=\"MJD\"):\n",
    "    lc = lc.query(\n",
    "        \"~psfFlux_flag\"\n",
    "        \" and ~pixelFlags_saturated\"\n",
    "        \" and ~pixelFlags_cr\"\n",
    "        \" and ~pixelFlags_bad\"\n",
    "    )\n",
    "\n",
    "    # Use scienceFlux if available, otherwise fallback to psfFlux\n",
    "    flux_col = \"scienceFlux\" if \"scienceFlux\" in lc.columns else \"psfFlux\"\n",
    "    flux_err_col = flux_col + \"Err\"\n",
    "\n",
    "    mag_values = []  # Store magnitudes for setting axis limits\n",
    "\n",
    "    for band, color in COLORS.items():\n",
    "        band_lc = lc.query(f\"band == '{band}'\")\n",
    "        \n",
    "        # Compute magnitudes and errors\n",
    "        mag, magErr = create_mag_errors(band_lc[flux_col], band_lc[flux_err_col])\n",
    "\n",
    "        ax.errorbar(\n",
    "            band_lc[x_name], mag, magErr,\n",
    "            fmt='o', label=band, color=color, alpha=1, markersize=5, capsize=3, elinewidth=1\n",
    "        )\n",
    "\n",
    "        mag_values.extend(mag.dropna().values)  # Collect magnitude values\n",
    "\n",
    "    ax.set_xlabel(x_label)\n",
    "    ax.set_ylabel(\"Magnitude (AB)\")\n",
    "    ax.invert_yaxis()  # Magnitudes are plotted with brighter objects lower\n",
    "    ax.legend(loc=\"lower right\")\n",
    "\n",
    "    return mag_values  # Return magnitudes for axis scaling\n",
    "\n",
    "\n",
    "for _, row in df.iterrows():\n",
    "    fig, ax = plt.subplots(2, 3, figsize=(16, 8), sharex=\"row\")  # 2 rows, 3 columns\n",
    "\n",
    "    fig.suptitle(f\"weekly 07 | RA={row.ra_nice_obj:.5f}, Dec={row.dec_nice_obj:.5f}\")\n",
    "\n",
    "    all_mags = [[], []]  # To store magnitudes for each row\n",
    "\n",
    "    for i, (lc, title) in enumerate(zip(\n",
    "        [row.diaSource, row.diaForcedSource, row.forcedSource],\n",
    "        [\"scienceFlux from diaSourceTable_tract\", \"psfFlux from forcedSourceOnDiaObjectTable\", \"psfFlux from forcedSourceTable\"]\n",
    "    )):\n",
    "        ax[0, i].set_title(title)\n",
    "\n",
    "        # Compute phase\n",
    "        lc = lc.assign(phase=(lc.midpointMjdTai - lc.midpointMjdTai.loc[lc.psfFlux.idxmax()]) \n",
    "                       % row.Period_nice_obj / row.Period_nice_obj)\n",
    "\n",
    "        # First row: original light curve\n",
    "        all_mags[0].extend(plot(ax[0, i], lc, x_name=\"midpointMjdTai\", x_label=\"MJD\"))\n",
    "\n",
    "        # Second row: folded light curve\n",
    "        all_mags[1].extend(plot(ax[1, i], lc, x_name=\"phase\", x_label=\"Phase\"))\n",
    "\n",
    "    # Set uniform y-axis scaling for each row\n",
    "    for row_idx in range(2):\n",
    "        if all_mags[row_idx]:  # Ensure we have data\n",
    "            ymin, ymax = np.nanmin(all_mags[row_idx]), np.nanmax(all_mags[row_idx])\n",
    "            for i in range(3):  # Apply limits to all columns in the row\n",
    "                ax[row_idx, i].set_ylim(ymax + 0.1, ymin - 0.1)  # Keep magnitude inverted\n",
    "\n",
    "    plt.tight_layout()\n",
    "    plt.show()"
   ]
  },
  {
   "cell_type": "code",
   "execution_count": null,
   "metadata": {},
   "outputs": [],
   "source": [
    "row.forcedSource"
   ]
  },
  {
   "cell_type": "code",
   "execution_count": null,
   "metadata": {},
   "outputs": [],
   "source": []
  },
  {
   "cell_type": "code",
   "execution_count": null,
   "metadata": {},
   "outputs": [],
   "source": []
  }
 ],
 "metadata": {
  "kernelspec": {
   "display_name": "Python 3 (ipykernel)",
   "language": "python",
   "name": "python3"
  },
  "language_info": {
   "codemirror_mode": {
    "name": "ipython",
    "version": 3
   },
   "file_extension": ".py",
   "mimetype": "text/x-python",
   "name": "python",
   "nbconvert_exporter": "python",
   "pygments_lexer": "ipython3",
   "version": "3.12.9"
  }
 },
 "nbformat": 4,
 "nbformat_minor": 4
}
