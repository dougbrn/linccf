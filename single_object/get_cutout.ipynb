{
 "cells": [
  {
   "cell_type": "code",
   "execution_count": 7,
   "id": "4b1a67bf-4f67-468e-8cd7-8da526216172",
   "metadata": {
    "execution": {
     "iopub.execute_input": "2025-01-22T22:56:42.336837Z",
     "iopub.status.busy": "2025-01-22T22:56:42.336360Z",
     "iopub.status.idle": "2025-01-22T22:56:44.219341Z",
     "shell.execute_reply": "2025-01-22T22:56:44.218912Z",
     "shell.execute_reply.started": "2025-01-22T22:56:42.336822Z"
    }
   },
   "outputs": [],
   "source": [
    "# LSST stack imports\n",
    "# from lsst.analysis.ap import apdb\n",
    "from lsst.daf.butler import Butler\n",
    "\n",
    "repo = \"/repo/main\"\n",
    "collection = \"LSSTComCam/runs/DRP/DP1/w_2025_03/DM-48478\"\n",
    "instrument = \"LSSTComCam\"\n",
    "\n",
    "# afwDisplay.setDefaultBackend('firefly')\n",
    "# display1 = afwDisplay.Display(frame=1)\n",
    "# display1.getClient().get_firefly_url()\n",
    "\n",
    "butler = Butler(repo, collections=collection)"
   ]
  },
  {
   "cell_type": "code",
   "execution_count": 10,
   "id": "4403ae95-62f9-4ba9-9ece-d7aa78021581",
   "metadata": {
    "execution": {
     "iopub.execute_input": "2025-01-23T03:32:26.172794Z",
     "iopub.status.busy": "2025-01-23T03:32:26.172419Z",
     "iopub.status.idle": "2025-01-23T03:32:26.174771Z",
     "shell.execute_reply": "2025-01-23T03:32:26.174462Z",
     "shell.execute_reply.started": "2025-01-23T03:32:26.172780Z"
    }
   },
   "outputs": [],
   "source": [
    "visit_id = 2024110800302\n",
    "detector_id = 0\n",
    "ra, dec = 53.133445, -28.235972"
   ]
  },
  {
   "cell_type": "code",
   "execution_count": null,
   "id": "e88ef0fd",
   "metadata": {},
   "outputs": [],
   "source": [
    "from astropy.visualization import ZScaleInterval\n",
    "\n",
    "import lsst.geom as geom\n",
    "import matplotlib.pyplot as plt\n",
    "\n",
    "size = 100\n",
    "\n",
    "full_image = butler.get(\n",
    "    'calexp',\n",
    "    visit=visit_id,\n",
    "    detector=detector_id,\n",
    "    instrument=\"LSSTComCam\",\n",
    ")\n",
    "wcs = full_image.getWcs()\n",
    "xy = geom.PointI(wcs.skyToPixel(geom.SpherePoint(ra, dec, geom.degrees)))\n",
    "detector_box = full_image.getDetector().getBBox()\n",
    "\n",
    "cutout_size = geom.ExtentI(size, size)\n",
    "cutout_box = geom.BoxI(xy - cutout_size // 2, cutout_size)\n",
    "cutout_box = cutout_box.clippedTo(detector_box)\n",
    "\n",
    "cutout = butler.get(\n",
    "    'calexp',\n",
    "    visit=visit_id,\n",
    "    detector=detector_id,\n",
    "    instrument=\"LSSTComCam\",\n",
    "    parameters={\n",
    "        'bbox': cutout_box,\n",
    "    }\n",
    ")\n",
    "image_array = cutout.getImage().getArray()\n",
    "# cutout.getMask()\n",
    "# cutout.getVariance()\n",
    "interval = ZScaleInterval()\n",
    "vmin, vmax = interval.get_limits(image_array)\n",
    "\n",
    "plt.imshow(image_array, cmap='gray', vmin=vmin, vmax=vmax)\n",
    "# circle patch for source position\n",
    "circle = plt.Circle(xy - cutout_box.getCorners()[0], 5, color='red', fill=False)\n",
    "plt.gca().add_artist(circle)\n",
    "plt.colorbar()\n",
    "plt.show()"
   ]
  },
  {
   "cell_type": "code",
   "execution_count": null,
   "id": "a4ea06e5",
   "metadata": {},
   "outputs": [],
   "source": []
  }
 ],
 "metadata": {
  "kernelspec": {
   "display_name": "linccf",
   "language": "python",
   "name": "linccf"
  },
  "language_info": {
   "codemirror_mode": {
    "name": "ipython",
    "version": 3
   },
   "file_extension": ".py",
   "mimetype": "text/x-python",
   "name": "python",
   "nbconvert_exporter": "python",
   "pygments_lexer": "ipython3",
   "version": "3.11.9"
  }
 },
 "nbformat": 4,
 "nbformat_minor": 5
}
